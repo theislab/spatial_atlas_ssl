{
 "cells": [
  {
   "cell_type": "code",
   "execution_count": 1,
   "id": "502a45fd-a331-465d-87ee-2ae0ae93406f",
   "metadata": {
    "tags": []
   },
   "outputs": [
    {
     "name": "stderr",
     "output_type": "stream",
     "text": [
      "/home/cheng-wei_liao/miniconda3/envs/master_prak/lib/python3.11/site-packages/geopandas/_compat.py:124: UserWarning: The Shapely GEOS version (3.11.1-CAPI-1.17.1) is incompatible with the GEOS version PyGEOS was compiled with (3.10.4-CAPI-1.16.2). Conversions between both will be slow.\n",
      "  warnings.warn(\n",
      "/home/cheng-wei_liao/miniconda3/envs/master_prak/lib/python3.11/site-packages/spatialdata/__init__.py:9: UserWarning: Geopandas was set to use PyGEOS, changing to shapely 2.0 with:\n",
      "\n",
      "\tgeopandas.options.use_pygeos = True\n",
      "\n",
      "If you intended to use PyGEOS, set the option to False.\n",
      "  _check_geopandas_using_shapely()\n",
      "/home/cheng-wei_liao/miniconda3/envs/master_prak/lib/python3.11/site-packages/torch_geometric/typing.py:31: UserWarning: An issue occurred while importing 'torch-scatter'. Disabling its usage. Stacktrace: /home/cheng-wei_liao/miniconda3/envs/master_prak/lib/python3.11/site-packages/torch_scatter/_version_cpu.so: undefined symbol: _ZN5torch3jit17parseSchemaOrNameERKNSt7__cxx1112basic_stringIcSt11char_traitsIcESaIcEEE\n",
      "  warnings.warn(f\"An issue occurred while importing 'torch-scatter'. \"\n",
      "/home/cheng-wei_liao/miniconda3/envs/master_prak/lib/python3.11/site-packages/torch_geometric/typing.py:42: UserWarning: An issue occurred while importing 'torch-sparse'. Disabling its usage. Stacktrace: /home/cheng-wei_liao/miniconda3/envs/master_prak/lib/python3.11/site-packages/torch_sparse/_version_cpu.so: undefined symbol: _ZN5torch3jit17parseSchemaOrNameERKNSt7__cxx1112basic_stringIcSt11char_traitsIcESaIcEEE\n",
      "  warnings.warn(f\"An issue occurred while importing 'torch-sparse'. \"\n"
     ]
    }
   ],
   "source": [
    "from spatialSSL.Dataloader import FullImageDatasetConstructor\n",
    "from spatialSSL.Utils import split_dataset,visualize_cell_type_accuracies\n",
    "from spatialSSL.Training import train,train_classification,test_classification\n",
    "from spatialSSL.Models import GAT4,Transferlearn\n",
    "from spatialSSL.Training import train_epoch\n",
    "from spatialSSL.Testing import test\n",
    "from spatialSSL.Dataset import InMemoryGraphDataset\n",
    "import torch.nn as nn\n",
    "import numpy as np"
   ]
  },
  {
   "cell_type": "code",
   "execution_count": 2,
   "id": "3cf611f7-0b7e-4f3a-8a13-921e171043e3",
   "metadata": {
    "tags": []
   },
   "outputs": [],
   "source": [
    "# Fine tune\n",
    "import torch\n",
    "import zipfile\n",
    "\n",
    "# Define a function to load the data from the ZIP file\n",
    "def load_from_zip(zip_path, file_name):\n",
    "    with zipfile.ZipFile(zip_path, 'r') as zipf:\n",
    "        with zipf.open(file_name) as file:\n",
    "            return torch.load(file)\n",
    "\n",
    "# Load the pre_val_list for fine tuning\n",
    "pre_val_list = load_from_zip('./processed_data/pre_training_data_img6_r30_n1_random_01.zip', 'pre_val_list.pt')\n",
    "pre_train_list = load_from_zip('./processed_data/pre_training_data_img6_r30_n1_random_01.zip', 'pre_train_list.pt')"
   ]
  },
  {
   "cell_type": "code",
   "execution_count": 3,
   "id": "c279a0db-19c4-4a89-b876-cc733bf0b537",
   "metadata": {
    "tags": []
   },
   "outputs": [
    {
     "data": {
      "text/plain": [
       "[Data(\n",
       "   x=[26230, 550],\n",
       "   edge_index=[2, 234482],\n",
       "   edge_attr=[26230, 26230],\n",
       "   cell_mask_index=[2623],\n",
       "   cell_type=[26230],\n",
       "   image='1199650929',\n",
       "   num_nodes=26230,\n",
       "   encode_book={\n",
       "     Astro-Epen=0,\n",
       "     CB GABA=1,\n",
       "     CB Glut=2,\n",
       "     CNU GABA=3,\n",
       "     CNU-HYa GABA=4,\n",
       "     CNU-HYa Glut=5,\n",
       "     HY GABA=6,\n",
       "     HY Glut=7,\n",
       "     HY Gnrh1 Glut=8,\n",
       "     Immune=9,\n",
       "     LQ=10,\n",
       "     MB Dopa=11,\n",
       "     MB GABA=12,\n",
       "     MB Glut=13,\n",
       "     MB-HB Sero=14,\n",
       "     MOB-DG-IMN=15,\n",
       "     MY GABA=16,\n",
       "     MY Glut=17,\n",
       "     OEG=18,\n",
       "     Oligo=19,\n",
       "     P GABA=20,\n",
       "     P Glut=21,\n",
       "     TH Glut=22,\n",
       "     Vascular=23\n",
       "   }\n",
       " ),\n",
       " Data(\n",
       "   x=[29300, 550],\n",
       "   edge_index=[2, 259136],\n",
       "   edge_attr=[29300, 29300],\n",
       "   cell_mask_index=[2930],\n",
       "   cell_type=[29300],\n",
       "   image='1199650932',\n",
       "   num_nodes=29300,\n",
       "   encode_book={\n",
       "     Astro-Epen=0,\n",
       "     CB GABA=1,\n",
       "     CB Glut=2,\n",
       "     CNU GABA=3,\n",
       "     CNU-HYa GABA=4,\n",
       "     CNU-HYa Glut=5,\n",
       "     HY GABA=6,\n",
       "     HY Glut=7,\n",
       "     HY Gnrh1 Glut=8,\n",
       "     Immune=9,\n",
       "     LQ=10,\n",
       "     MB Dopa=11,\n",
       "     MB GABA=12,\n",
       "     MB Glut=13,\n",
       "     MB-HB Sero=14,\n",
       "     MOB-DG-IMN=15,\n",
       "     MY GABA=16,\n",
       "     MY Glut=17,\n",
       "     OEG=18,\n",
       "     Oligo=19,\n",
       "     P GABA=20,\n",
       "     P Glut=21,\n",
       "     TH Glut=22,\n",
       "     Vascular=23\n",
       "   }\n",
       " )]"
      ]
     },
     "execution_count": 3,
     "metadata": {},
     "output_type": "execute_result"
    }
   ],
   "source": [
    "pre_val_list"
   ]
  },
  {
   "cell_type": "code",
   "execution_count": 4,
   "id": "30a7db8e-4d0a-4aa1-84af-3e9137104394",
   "metadata": {
    "tags": []
   },
   "outputs": [
    {
     "data": {
      "text/plain": [
       "4"
      ]
     },
     "execution_count": 4,
     "metadata": {},
     "output_type": "execute_result"
    }
   ],
   "source": [
    "len(pre_train_list)"
   ]
  },
  {
   "cell_type": "code",
   "execution_count": 5,
   "id": "50541d4e-9b9f-47a2-9d6d-c77de4ffa052",
   "metadata": {
    "tags": []
   },
   "outputs": [],
   "source": [
    "from sklearn.model_selection import train_test_split\n",
    "\n",
    "###################### Now for testing\n",
    "# Split the pre_val_list into 80% for tune_train and 20% for temporary validation/test\n",
    "tune_train, temp_val_test = train_test_split(pre_train_list, test_size=0.20, random_state=42)\n",
    "\n",
    "# Split the temporary validation/test into 50% for tune_val and 50% for tune_test\n",
    "tune_val, tune_test = train_test_split(pre_val_list, test_size=0.50, random_state=42)\n",
    "\n",
    "# Now, tune_train contains 80% of pre_val_list, tune_val contains 10%, and tune_test contains 10%"
   ]
  },
  {
   "cell_type": "code",
   "execution_count": 6,
   "id": "0cf6d3d0-978b-4d44-b14b-e5b7ff3ed4e3",
   "metadata": {
    "tags": []
   },
   "outputs": [],
   "source": [
    "# Load into dataloader \n",
    "\n",
    "from torch_geometric.loader import DataLoader\n",
    "\n",
    "# Create DataLoader objects for pre-training and pre-validation\n",
    "tune_train_loader = DataLoader(tune_train, batch_size=1, shuffle=True)\n",
    "tune_val_loader = DataLoader(tune_val, batch_size=1, shuffle=False)\n",
    "tune_test_loader = DataLoader(tune_test, batch_size=1, shuffle=False)\n",
    "# Now you can use pre_train_loader and pre_val_loader in your training loop\n"
   ]
  },
  {
   "cell_type": "code",
   "execution_count": 7,
   "id": "493cc330-2523-4277-8d9d-098236814ade",
   "metadata": {
    "tags": []
   },
   "outputs": [],
   "source": [
    "# Load pre-trained models\n",
    "\n",
    "PRE_TRAINED_MODEL_PATH = \"./models/img6_r30_n1_random_01_GAT4_0.001_weight.pt\"\n",
    "\n",
    "\n",
    "# Create Identity class\n",
    "class Identity(nn.Module):\n",
    "    def __init__(self):\n",
    "        super(Identity,self).__init__()\n",
    "        \n",
    "    def forward(self,x):\n",
    "        return x\n",
    "\n",
    "\n",
    "\n"
   ]
  },
  {
   "cell_type": "code",
   "execution_count": 8,
   "id": "2de53c8c-df47-47a5-b4f7-1cc2417d51ce",
   "metadata": {
    "tags": []
   },
   "outputs": [],
   "source": [
    "# Load pre-trained model and add our layers\n",
    "\n",
    "\n",
    "in_channels  = 550\n",
    "hidden_channels_1 = 256\n",
    "hidden_channels_2 = 33\n",
    "out_channels= 550\n",
    "\n",
    "# Pretraining\n",
    "# Define the device\n",
    "device =  torch.device('cuda' if torch.cuda.is_available() else 'cpu') #\"cpu\"\n",
    "\n",
    "def freeze_except_last(model, num_unfrozen_layers=1):\n",
    "    # Convert model parameters into a list\n",
    "    params = list(model.parameters())\n",
    "\n",
    "    # Freeze all parameters\n",
    "    for param in params:\n",
    "        param.requires_grad = False\n",
    "\n",
    "    # Unfreeze the last 'num_unfrozen_layers' layers\n",
    "    for param in params[-num_unfrozen_layers:]:\n",
    "        param.requires_grad = True\n",
    "\n",
    "model = GAT4(in_channels, hidden_channels_1,hidden_channels_2, out_channels).to(device)\n",
    "\n",
    "model.load_state_dict(torch.load(PRE_TRAINED_MODEL_PATH))\n",
    "freeze_except_last(model, num_unfrozen_layers=1) # Unfreeze the last 2 layers\n",
    "\n",
    "# Training code\n",
    "optimizer = torch.optim.Adam(filter(lambda p: p.requires_grad, model.parameters()), lr=0.001)\n",
    "criterion = nn.MSELoss()\n",
    "\n"
   ]
  },
  {
   "cell_type": "code",
   "execution_count": 9,
   "id": "08c87d84-bcb6-4a9c-9b2b-5df49550226b",
   "metadata": {
    "tags": []
   },
   "outputs": [
    {
     "data": {
      "text/plain": [
       "Transferlearn(\n",
       "  (pre_trained_model): GAT4(\n",
       "    (conv1): GATConv(550, 256, heads=1)\n",
       "    (conv2): GATConv(256, 33, heads=1)\n",
       "    (conv3): GATConv(33, 256, heads=1)\n",
       "    (conv4): GATConv(256, 550, heads=1)\n",
       "    (dropout): Dropout(p=0.2, inplace=False)\n",
       "    (act): LeakyReLU(negative_slope=0.01)\n",
       "  )\n",
       "  (buffer): Linear(in_features=550, out_features=256, bias=True)\n",
       "  (classifier): Linear(in_features=256, out_features=33, bias=True)\n",
       "  (act): LeakyReLU(negative_slope=0.01)\n",
       ")"
      ]
     },
     "execution_count": 9,
     "metadata": {},
     "output_type": "execute_result"
    }
   ],
   "source": [
    "# transfer learning\n",
    "import torch\n",
    "\n",
    "num_classes = 33\n",
    "in_channels  = 550\n",
    "hidden_channels_1 = 256\n",
    "hidden_channels_2 = 33\n",
    "out_channels= 550\n",
    "\n",
    "freeze = True\n",
    "device =  torch.device('cuda' if torch.cuda.is_available() else 'cpu') #\"cpu\"\n",
    "pretrained_model = GAT4(in_channels, hidden_channels_1,hidden_channels_2, out_channels)\n",
    "\n",
    "if freeze:\n",
    "    for param in pretrained_model.parameters():\n",
    "        param.requires_grad = False\n",
    "\n",
    "model = Transferlearn(pretrained_model,out_channels,hidden_channels_1,num_classes).to(device)\n",
    "model\n",
    "\n",
    "\n",
    "\n",
    "\n",
    "\n",
    "\n"
   ]
  },
  {
   "cell_type": "code",
   "execution_count": 10,
   "id": "375c1e0b-2548-4903-af45-a9dd72ca25b0",
   "metadata": {
    "tags": []
   },
   "outputs": [
    {
     "name": "stdout",
     "output_type": "stream",
     "text": [
      "Epoch 1/10, train loss: 3.4073, train accuracy: 0.1601, train auprc: 0.0402, val loss: 3.1874, val accuracy: 0.3759, val auprc: 0.3759, Time: 1.0140s\n",
      "Epoch 2/10, train loss: 3.0726, train accuracy: 0.2679, train auprc: 0.0375, val loss: 2.7868, val accuracy: 0.3751, val auprc: 0.3751, Time: 0.4262s\n",
      "Epoch 3/10, train loss: 2.6707, train accuracy: 0.3114, train auprc: 0.0359, val loss: 2.3650, val accuracy: 0.3753, val auprc: 0.3753, Time: 0.4486s\n",
      "Epoch 4/10, train loss: 2.2822, train accuracy: 0.3331, train auprc: 0.0353, val loss: 2.0553, val accuracy: 0.3755, val auprc: 0.3755, Time: 0.8745s\n",
      "Epoch 5/10, train loss: 2.0194, train accuracy: 0.3469, train auprc: 0.0349, val loss: 1.8930, val accuracy: 0.3823, val auprc: 0.3823, Time: 0.4021s\n",
      "Epoch 6/10, train loss: 1.8843, train accuracy: 0.3575, train auprc: 0.0347, val loss: 1.8105, val accuracy: 0.3934, val auprc: 0.3934, Time: 0.4233s\n",
      "Epoch 7/10, train loss: 1.8094, train accuracy: 0.3673, train auprc: 0.0349, val loss: 1.7331, val accuracy: 0.4043, val auprc: 0.4043, Time: 0.4327s\n",
      "Epoch 8/10, train loss: 1.7526, train accuracy: 0.3764, train auprc: 0.0353, val loss: 1.6611, val accuracy: 0.4145, val auprc: 0.4145, Time: 0.4648s\n",
      "Epoch 9/10, train loss: 1.6977, train accuracy: 0.3852, train auprc: 0.0358, val loss: 1.5965, val accuracy: 0.4228, val auprc: 0.4228, Time: 0.5084s\n",
      "Epoch 10/10, train loss: 1.6524, train accuracy: 0.3920, train auprc: 0.0364, val loss: 1.5425, val accuracy: 0.4294, val auprc: 0.4294, Time: 0.5287s\n",
      "Best val loss: 1.5425, at epoch 10\n"
     ]
    }
   ],
   "source": [
    "\n",
    "criterion = nn.CrossEntropyLoss()\n",
    "optimizer = torch.optim.Adam(model.parameters(), lr=0.001)\n",
    "\n",
    "train_classification(model=model, train_loader=tune_train_loader, val_loader=tune_val_loader, num_epochs=10,criterion=criterion, num_classes=num_classes,optimizer=optimizer)"
   ]
  },
  {
   "cell_type": "code",
   "execution_count": 11,
   "id": "bc922327-7b9b-4860-8a9a-68333c257368",
   "metadata": {
    "tags": []
   },
   "outputs": [
    {
     "name": "stdout",
     "output_type": "stream",
     "text": [
      "Test loss: 1.5520, Test accuracy: 0.5239, Test auprc: 0.0591\n"
     ]
    },
    {
     "data": {
      "image/png": "[encoded data removed]",
      "text/plain": [
       "<Figure size 640x480 with 1 Axes>"
      ]
     },
     "metadata": {},
     "output_type": "display_data"
    }
   ],
   "source": [
    "from sklearn.metrics import accuracy_score\n",
    "cell_type_accuracies = test_classification(model, tune_test_loader, criterion, num_classes)\n",
    "visualize_cell_type_accuracies(cell_type_accuracies)"
   ]
  },
  {
   "cell_type": "code",
   "execution_count": 24,
   "id": "fed7d9a8-2dae-490f-88b2-71bf62d1a1f8",
   "metadata": {
    "tags": []
   },
   "outputs": [],
   "source": [
    "\n",
    "# Define loss function and optimizer\n",
    "#criterion = nn.MSELoss()\n",
    "#optimizer = optim.Adam(model.parameters(), lr=0.001)\n",
    "\n",
    "num_epochs = 300\n",
    "patience = 8"
   ]
  },
  {
   "cell_type": "code",
   "execution_count": 25,
   "id": "ac72db3c-e86b-4c8a-bb9d-9d3bf2c3eba2",
   "metadata": {
    "tags": []
   },
   "outputs": [
    {
     "name": "stdout",
     "output_type": "stream",
     "text": [
      "Epoch 1/300, train loss: 0.4793, train r2: 0.0945, train mse: 0.4787,  val loss: 0.5247, val r2: 0.0874, val mse: 0.5247, Time: 1.4150s\n",
      "Epoch 2/300, train loss: 0.4763, train r2: 0.0978, train mse: 0.4772,  val loss: 0.5240, val r2: 0.0889, val mse: 0.5244, Time: 0.8651s\n",
      "Epoch 3/300, train loss: 0.4738, train r2: 0.1032, train mse: 0.4758,  val loss: 0.5229, val r2: 0.0875, val mse: 0.5239, Time: 0.8251s\n",
      "Epoch 4/300, train loss: 0.4726, train r2: 0.1061, train mse: 0.4749,  val loss: 0.5224, val r2: 0.0897, val mse: 0.5235, Time: 0.8236s\n",
      "Epoch 5/300, train loss: 0.4718, train r2: 0.1087, train mse: 0.4741,  val loss: 0.5217, val r2: 0.0911, val mse: 0.5231, Time: 0.8551s\n",
      "Epoch 6/300, train loss: 0.4708, train r2: 0.1110, train mse: 0.4735,  val loss: 0.5210, val r2: 0.0924, val mse: 0.5228, Time: 0.8620s\n",
      "Epoch 7/300, train loss: 0.4704, train r2: 0.1129, train mse: 0.4729,  val loss: 0.5200, val r2: 0.0936, val mse: 0.5224, Time: 0.8434s\n",
      "Epoch 8/300, train loss: 0.4700, train r2: 0.1145, train mse: 0.4725,  val loss: 0.5199, val r2: 0.0947, val mse: 0.5221, Time: 2.0099s\n",
      "Epoch 9/300, train loss: 0.4691, train r2: 0.1159, train mse: 0.4721,  val loss: 0.5194, val r2: 0.0957, val mse: 0.5218, Time: 0.8468s\n",
      "Epoch 10/300, train loss: 0.4687, train r2: 0.1172, train mse: 0.4717,  val loss: 0.5192, val r2: 0.0966, val mse: 0.5215, Time: 0.8390s\n",
      "Epoch 11/300, train loss: 0.4683, train r2: 0.1184, train mse: 0.4713,  val loss: 0.5188, val r2: 0.0974, val mse: 0.5213, Time: 0.8743s\n",
      "Epoch 12/300, train loss: 0.4682, train r2: 0.1194, train mse: 0.4710,  val loss: 0.5188, val r2: 0.0981, val mse: 0.5211, Time: 0.8466s\n",
      "Epoch 13/300, train loss: 0.4680, train r2: 0.1203, train mse: 0.4707,  val loss: 0.5184, val r2: 0.0987, val mse: 0.5209, Time: 0.8409s\n",
      "Epoch 14/300, train loss: 0.4671, train r2: 0.1212, train mse: 0.4704,  val loss: 0.5182, val r2: 0.0993, val mse: 0.5207, Time: 0.8419s\n"
     ]
    },
    {
     "ename": "KeyboardInterrupt",
     "evalue": "",
     "output_type": "error",
     "traceback": [
      "\u001b[0;31m---------------------------------------------------------------------------\u001b[0m",
      "\u001b[0;31mKeyboardInterrupt\u001b[0m                         Traceback (most recent call last)",
      "Cell \u001b[0;32mIn[25], line 1\u001b[0m\n\u001b[0;32m----> 1\u001b[0m train(model\u001b[38;5;241m=\u001b[39mmodel, train_loader\u001b[38;5;241m=\u001b[39mtune_train_loader, val_loader\u001b[38;5;241m=\u001b[39mtune_val_loader, criterion\u001b[38;5;241m=\u001b[39mcriterion, num_epochs\u001b[38;5;241m=\u001b[39m num_epochs, patience \u001b[38;5;241m=\u001b[39m patience, optimizer\u001b[38;5;241m=\u001b[39m optimizer,weight_loss \u001b[38;5;241m=\u001b[39m \u001b[38;5;28;01mFalse\u001b[39;00m ,model_path \u001b[38;5;241m=\u001b[39m \u001b[38;5;124m'\u001b[39m\u001b[38;5;124m./models/img6_r30_n1_random_01_GAT4_0.001_tuned_r30_n1_random_01_freeze_1_GAT4_0.001.pt\u001b[39m\u001b[38;5;124m'\u001b[39m)\n",
      "File \u001b[0;32m~/work/test/spatial_atlas_ssl/spatialSSL/Training.py:127\u001b[0m, in \u001b[0;36mtrain\u001b[0;34m(model, train_loader, val_loader, criterion, num_epochs, patience, optimizer, model_path, gene_expression, weight_loss)\u001b[0m\n\u001b[1;32m    121\u001b[0m start_time \u001b[38;5;241m=\u001b[39m time\u001b[38;5;241m.\u001b[39mtime()\n\u001b[1;32m    123\u001b[0m train_loss, train_r2, train_mse \u001b[38;5;241m=\u001b[39m train_epoch(model, train_loader, optimizer, criterion, r2_metric_train,\n\u001b[1;32m    124\u001b[0m                                               mse_metric_train, gene_expression, training\u001b[38;5;241m=\u001b[39m\u001b[38;5;28;01mTrue\u001b[39;00m,\n\u001b[1;32m    125\u001b[0m                                               weight_loss\u001b[38;5;241m=\u001b[39mweight_loss)\n\u001b[0;32m--> 127\u001b[0m val_loss, val_r2, val_mse \u001b[38;5;241m=\u001b[39m train_epoch(model, val_loader, optimizer, criterion, r2_metric_val, mse_metric_val,\n\u001b[1;32m    128\u001b[0m                                         gene_expression, weight_loss\u001b[38;5;241m=\u001b[39mweight_loss, training\u001b[38;5;241m=\u001b[39m\u001b[38;5;28;01mFalse\u001b[39;00m)\n\u001b[1;32m    129\u001b[0m \u001b[38;5;66;03m# scheduler.step() # Decrease learning rate by scheduler\u001b[39;00m\n\u001b[1;32m    131\u001b[0m \u001b[38;5;28;01mif\u001b[39;00m val_loss \u001b[38;5;241m<\u001b[39m best_val_loss:\n",
      "File \u001b[0;32m~/work/test/spatial_atlas_ssl/spatialSSL/Training.py:35\u001b[0m, in \u001b[0;36mtrain_epoch\u001b[0;34m(model, loader, optimizer, criterion, r2_metric, mse_metric, gene_expression, training, weight_loss)\u001b[0m\n\u001b[1;32m     32\u001b[0m target \u001b[38;5;241m=\u001b[39m data\u001b[38;5;241m.\u001b[39mx\u001b[38;5;241m.\u001b[39mfloat()\u001b[38;5;241m.\u001b[39mto_dense()[cell_mask]\n\u001b[1;32m     33\u001b[0m \u001b[38;5;66;03m# print(data.x.float().to_dense().shape)\u001b[39;00m\n\u001b[0;32m---> 35\u001b[0m \u001b[38;5;28minput\u001b[39m \u001b[38;5;241m=\u001b[39m data\u001b[38;5;241m.\u001b[39mx\u001b[38;5;241m.\u001b[39mfloat()\u001b[38;5;241m.\u001b[39mto_dense() \u001b[38;5;241m*\u001b[39m (\u001b[38;5;241m~\u001b[39mcell_mask)\u001b[38;5;241m.\u001b[39mview(\u001b[38;5;241m-\u001b[39m\u001b[38;5;241m1\u001b[39m, \u001b[38;5;241m1\u001b[39m)\n\u001b[1;32m     36\u001b[0m \u001b[38;5;66;03m# print(input.shape)\u001b[39;00m\n\u001b[1;32m     38\u001b[0m outputs \u001b[38;5;241m=\u001b[39m model(\u001b[38;5;28minput\u001b[39m\u001b[38;5;241m.\u001b[39mto(device), data\u001b[38;5;241m.\u001b[39medge_index\u001b[38;5;241m.\u001b[39mlong()\u001b[38;5;241m.\u001b[39mto(device))\n",
      "\u001b[0;31mKeyboardInterrupt\u001b[0m: "
     ]
    }
   ],
   "source": [
    "train(model=model, train_loader=tune_train_loader, val_loader=tune_val_loader, criterion=criterion, num_epochs= num_epochs, patience = patience, optimizer= optimizer,weight_loss = False ,model_path = './models/img6_r30_n1_random_01_GAT4_0.001_tuned_r30_n1_random_01_freeze_1_GAT4_0.001.pt')\n"
   ]
  },
  {
   "cell_type": "code",
   "execution_count": null,
   "id": "a15ee92e-57bd-4dc5-a14e-5778a89b1d18",
   "metadata": {},
   "outputs": [],
   "source": [
    "pre_trained_model = model.load_state_dict(torch.load(PRE_TRAINED_MODEL_PATH))\n"
   ]
  }
 ],
 "metadata": {
  "kernelspec": {
   "display_name": "Python 3 (ipykernel)",
   "language": "python",
   "name": "python3"
  },
  "language_info": {
   "codemirror_mode": {
    "name": "ipython",
    "version": 3
   },
   "file_extension": ".py",
   "mimetype": "text/x-python",
   "name": "python",
   "nbconvert_exporter": "python",
   "pygments_lexer": "ipython3",
   "version": "3.11.4"
  }
 },
 "nbformat": 4,
 "nbformat_minor": 5
}
