{
 "cells": [
  {
   "cell_type": "code",
   "execution_count": 2,
   "id": "29583cb5-8e1e-4266-a443-458a871ba549",
   "metadata": {
    "tags": []
   },
   "outputs": [],
   "source": []
  },
  {
   "cell_type": "code",
   "execution_count": 16,
   "id": "d4cfd8a4-c8b4-46ed-bf36-1db68b89d133",
   "metadata": {
    "tags": []
   },
   "outputs": [],
   "source": [
    "# 0 dataset\n",
    "import os\n",
    "import scanpy as sc\n",
    "\n",
    "adata = sc.read(\"./data/subset_6img_atlas_brain.h5ad\")\n",
    "\n",
    "adata.X.data[:] = 0\n",
    "# specify the output directory and file\n",
    "output_dir = './data'\n",
    "os.makedirs(output_dir, exist_ok=True)\n",
    "output_file = os.path.join(output_dir, 'sub_6img_zero_adata.h5ad')\n",
    "\n",
    "# write the sub_adata into a .h5ad file\n",
    "adata.write(output_file)"
   ]
  },
  {
   "cell_type": "code",
   "execution_count": 12,
   "id": "1e6cf182-c9d8-435b-bfc6-661aa1bb877f",
   "metadata": {
    "tags": []
   },
   "outputs": [
    {
     "name": "stdout",
     "output_type": "stream",
     "text": [
      "[[0. 0. 0. ... 0. 0. 0.]\n",
      " [0. 0. 0. ... 0. 0. 0.]\n",
      " [0. 0. 0. ... 0. 0. 0.]\n",
      " ...\n",
      " [0. 0. 0. ... 0. 0. 0.]\n",
      " [0. 0. 0. ... 0. 0. 0.]\n",
      " [0. 0. 0. ... 0. 0. 0.]]\n"
     ]
    }
   ],
   "source": [
    "print(adata.X.toarray())"
   ]
  },
  {
   "cell_type": "code",
   "execution_count": 15,
   "id": "c3203243-8a00-4a53-a273-9a08a5d86171",
   "metadata": {
    "tags": []
   },
   "outputs": [
    {
     "data": {
      "text/plain": [
       "<240945x550 sparse matrix of type '<class 'numpy.float64'>'\n",
       "\twith 30911158 stored elements in Compressed Sparse Row format>"
      ]
     },
     "execution_count": 15,
     "metadata": {},
     "output_type": "execute_result"
    }
   ],
   "source": [
    "adata.X"
   ]
  },
  {
   "cell_type": "code",
   "execution_count": 24,
   "id": "05c1b8e3-c28b-4a8b-8e4a-e03cea89580d",
   "metadata": {
    "tags": []
   },
   "outputs": [],
   "source": [
    "# shuffle dataset row\n",
    "from scipy import sparse\n",
    "adata = sc.read(\"./data/subset_6img_atlas_brain.h5ad\")\n",
    "\n",
    "\n",
    "import numpy as np\n",
    "from scipy.sparse import csr_matrix\n",
    "\n",
    "# Assuming you have already loaded your sparse matrix into adata.X\n",
    "num_rows, num_cols = adata.X.shape\n",
    "\n",
    "# Convert the sparse matrix to a CSR format (Compressed Sparse Row format) for efficient row-wise operations\n",
    "adata_csr = adata.X.tocsr()\n",
    "\n",
    "# Shuffle each row separately\n",
    "for i in range(num_rows):\n",
    "    # Get the non-zero indices and values of the current row\n",
    "    row_indices, row_values = adata_csr[i].indices, adata_csr[i].data\n",
    "\n",
    "    # Shuffle the row values\n",
    "    np.random.shuffle(row_values)\n",
    "\n",
    "    # Update the current row with the shuffled values\n",
    "    adata_csr[i] = csr_matrix((row_values, (np.zeros_like(row_indices), row_indices)), shape=(1, num_cols))\n",
    "\n",
    "# Convert the shuffled CSR matrix back to the original sparse matrix format\n",
    "adata.X = adata_csr\n",
    "\n",
    "# Now, adata_shuffled contains the original matrix with each row shuffled independently.\n",
    "\n",
    "output_file = os.path.join(output_dir, 'sub_6img_row_wise_shuffle_adata.h5ad')\n",
    "adata.write(output_file)"
   ]
  },
  {
   "cell_type": "code",
   "execution_count": 26,
   "id": "314269af-b518-4564-8883-57a3846b5443",
   "metadata": {
    "tags": []
   },
   "outputs": [
    {
     "name": "stderr",
     "output_type": "stream",
     "text": [
      "Shuffling columns:   0%|          | 0/550 [00:00<?, ?it/s]/data/ouga/home/ag_gagneur/liaoc/.conda/envs/ml_genetic/lib/python3.11/site-packages/scipy/sparse/_index.py:143: SparseEfficiencyWarning: Changing the sparsity structure of a csc_matrix is expensive. lil_matrix is more efficient.\n",
      "  self._set_arrayXarray(i, j, x)\n",
      "Shuffling columns: 100%|██████████| 550/550 [1:08:28<00:00,  7.47s/it]\n"
     ]
    }
   ],
   "source": [
    "import numpy as np\n",
    "from scipy.sparse import csr_matrix, csc_matrix\n",
    "from tqdm import tqdm  # Import tqdm for the progress bar\n",
    "\n",
    "adata = sc.read(\"./data/subset_6img_atlas_brain.h5ad\")\n",
    "# Assuming adata.X is your CSR matrix\n",
    "csr_matrix = adata.X\n",
    "\n",
    "# Convert the CSR matrix to a CSC (Compressed Sparse Column) matrix\n",
    "csc_matrix = csc_matrix(csr_matrix)\n",
    "\n",
    "# Get the number of columns in the matrix\n",
    "num_columns = csc_matrix.shape[1]\n",
    "\n",
    "# Shuffle each column individually with a progress bar\n",
    "for i in tqdm(range(num_columns), desc=\"Shuffling columns\"):\n",
    "    col = csc_matrix[:, i].toarray().flatten()\n",
    "    np.random.shuffle(col)\n",
    "    csc_matrix[:, i] = col\n",
    "\n",
    "# Convert the CSC matrix back to CSR format and store it in adata.X\n",
    "adata.X = csc_matrix.tocsr()\n",
    "\n",
    "# Note: The resulting matrix 'adata.X' may no longer be sparse after shuffling columns.\n",
    "# If you need to maintain sparsity, consider alternative approaches or analyze if shuffling columns individually is necessary for your specific use case.\n",
    "\n",
    "output_file = os.path.join(output_dir, 'sub_6img_col_wise_shuffle_adata.h5ad')\n",
    "adata.write(output_file)\n"
   ]
  },
  {
   "cell_type": "code",
   "execution_count": null,
   "id": "51ca3cbf-6cd2-43f3-9864-0db007abca1c",
   "metadata": {},
   "outputs": [],
   "source": []
  },
  {
   "cell_type": "code",
   "execution_count": null,
   "id": "0e3d48de-4e6d-4b3c-8264-580f98c87ad3",
   "metadata": {},
   "outputs": [],
   "source": [
    "dataset_constructor.adata.obs.class_label.unique()#.cat.codes.values"
   ]
  },
  {
   "cell_type": "code",
   "execution_count": null,
   "id": "ea756f04-7ca3-4b22-8927-1a6fd49f7bbd",
   "metadata": {},
   "outputs": [],
   "source": [
    "train_loader, val_loader, test_loader = split_dataset(graph_list,split_percent=(0.6, 0.2, 0.2), batch_size=1)"
   ]
  },
  {
   "cell_type": "code",
   "execution_count": null,
   "id": "fb6694c6-8440-47b0-9121-0df9eb937806",
   "metadata": {},
   "outputs": [],
   "source": []
  },
  {
   "cell_type": "code",
   "execution_count": null,
   "id": "7644efd0-6f5f-42c4-b850-a7fb801c29a0",
   "metadata": {},
   "outputs": [],
   "source": []
  },
  {
   "cell_type": "code",
   "execution_count": null,
   "id": "0dbd8bae-47ed-4bd8-8f51-3485a0099802",
   "metadata": {},
   "outputs": [],
   "source": []
  },
  {
   "cell_type": "code",
   "execution_count": null,
   "id": "9d99b7af-a171-419f-b5c4-50ef7e7be87e",
   "metadata": {},
   "outputs": [],
   "source": []
  }
 ],
 "metadata": {
  "kernelspec": {
   "display_name": "Python [conda env:.conda-ml_genetic]",
   "language": "python",
   "name": "conda-env-.conda-ml_genetic-py"
  },
  "language_info": {
   "codemirror_mode": {
    "name": "ipython",
    "version": 3
   },
   "file_extension": ".py",
   "mimetype": "text/x-python",
   "name": "python",
   "nbconvert_exporter": "python",
   "pygments_lexer": "ipython3",
   "version": "3.11.4"
  }
 },
 "nbformat": 4,
 "nbformat_minor": 5
}
