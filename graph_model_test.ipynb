{
 "cells": [
  {
   "cell_type": "code",
   "execution_count": 1,
   "metadata": {
    "ExecuteTime": {
     "end_time": "2023-08-06T17:10:13.702486Z",
     "start_time": "2023-08-06T17:09:59.871153700Z"
    },
    "tags": []
   },
   "outputs": [
    {
     "name": "stderr",
     "output_type": "stream",
     "text": [
      "/home/cheng-wei_liao/miniconda3/envs/master_prak/lib/python3.11/site-packages/geopandas/_compat.py:124: UserWarning: The Shapely GEOS version (3.11.1-CAPI-1.17.1) is incompatible with the GEOS version PyGEOS was compiled with (3.10.4-CAPI-1.16.2). Conversions between both will be slow.\n",
      "  warnings.warn(\n",
      "/home/cheng-wei_liao/miniconda3/envs/master_prak/lib/python3.11/site-packages/spatialdata/__init__.py:9: UserWarning: Geopandas was set to use PyGEOS, changing to shapely 2.0 with:\n",
      "\n",
      "\tgeopandas.options.use_pygeos = True\n",
      "\n",
      "If you intended to use PyGEOS, set the option to False.\n",
      "  _check_geopandas_using_shapely()\n"
     ]
    }
   ],
   "source": [
    "from spatialSSL.Dataloader import FullImageDatasetConstructor\n",
    "from spatialSSL.Utils import split_dataset\n",
    "from spatialSSL.Training import train\n",
    "from spatialSSL.Training import train_epoch\n",
    "from spatialSSL.Testing import test\n",
    "from spatialSSL.Dataset import InMemoryGraphDataset\n",
    "import numpy as np"
   ]
  },
  {
   "cell_type": "code",
   "execution_count": 2,
   "metadata": {
    "ExecuteTime": {
     "end_time": "2023-08-06T17:10:13.717990300Z",
     "start_time": "2023-08-06T17:10:13.702486Z"
    },
    "tags": []
   },
   "outputs": [
    {
     "data": {
      "text/plain": [
       "'\\nimport os\\nimport scanpy as sc\\n\\nadata = sc.read(\"./data/atlas_brain_638850_CCF.h5ad\")\\n# subset the adata\\nselected_img = np.unique(adata.obs[\"section\"])[0:20]\\nsub_adata = adata[adata.obs[\"section\"].isin(selected_img)].copy()\\n\\n# specify the output directory and file\\noutput_dir = \\'./data\\'\\nos.makedirs(output_dir, exist_ok=True)\\noutput_file = os.path.join(output_dir, \\'sub_20img_adata.h5ad\\')\\n\\n# write the sub_adata into a .h5ad file\\nsub_adata.write(output_file)\\n'"
      ]
     },
     "execution_count": 2,
     "metadata": {},
     "output_type": "execute_result"
    }
   ],
   "source": [
    "'''\n",
    "import os\n",
    "import scanpy as sc\n",
    "\n",
    "adata = sc.read(\"./data/atlas_brain_638850_CCF.h5ad\")\n",
    "# subset the adata\n",
    "selected_img = np.unique(adata.obs[\"section\"])[0:20]\n",
    "sub_adata = adata[adata.obs[\"section\"].isin(selected_img)].copy()\n",
    "\n",
    "# specify the output directory and file\n",
    "output_dir = './data'\n",
    "os.makedirs(output_dir, exist_ok=True)\n",
    "output_file = os.path.join(output_dir, 'sub_20img_adata.h5ad')\n",
    "\n",
    "# write the sub_adata into a .h5ad file\n",
    "sub_adata.write(output_file)\n",
    "'''"
   ]
  },
  {
   "cell_type": "code",
   "execution_count": 2,
   "metadata": {
    "ExecuteTime": {
     "end_time": "2023-08-06T17:11:19.320867600Z",
     "start_time": "2023-08-06T17:11:19.257841200Z"
    },
    "collapsed": false,
    "jupyter": {
     "outputs_hidden": false
    },
    "tags": []
   },
   "outputs": [],
   "source": [
    "# Create an instance of Full_image_dataloader\n",
    "\n",
    " \n",
    "#file_path = \"./data/img_119670929.h5ad\"\n",
    "file_path = \"./data/subset_6img_atlas_brain.h5ad\"\n",
    "#file_path = \"./data/atlas_brain_638850_CCF.h5ad\"\n",
    "#file_path = \"./data/sub_20img_adata.h5ad\"\n",
    "\n",
    "data_constracter = FullImageDatasetConstructor(file_path=file_path,\n",
    "                                        image_col=\"section\",\n",
    "                                        label_col=\"class_label\",\n",
    "                                        include_label=False,\n",
    "                                        radius=30,\n",
    "                                        node_level = 1,\n",
    "                                        use_edge_weight = True,\n",
    "                                       #mask_method = \"niche\",\n",
    "                                       #    niche_to_mask = 100\n",
    "                                       #celltype_to_mask = \"LQ\"\n",
    "                                               )\n"
   ]
  },
  {
   "cell_type": "code",
   "execution_count": 3,
   "metadata": {
    "ExecuteTime": {
     "end_time": "2023-08-06T17:11:22.260777400Z",
     "start_time": "2023-08-06T17:11:19.513201500Z"
    },
    "tags": []
   },
   "outputs": [],
   "source": [
    "# Load the data\n",
    "data_constracter.load_data()"
   ]
  },
  {
   "cell_type": "code",
   "execution_count": 4,
   "metadata": {
    "ExecuteTime": {
     "end_time": "2023-08-06T17:11:45.084507500Z",
     "start_time": "2023-08-06T17:11:22.260777400Z"
    },
    "collapsed": false,
    "jupyter": {
     "outputs_hidden": false
    },
    "tags": []
   },
   "outputs": [
    {
     "name": "stderr",
     "output_type": "stream",
     "text": [
      "/home/cheng-wei_liao/work/test/spatial_atlas_ssl/spatialSSL/Dataloader.py:231: ImplicitModificationWarning: Trying to modify attribute `.obs` of view, initializing view as actual.\n",
      "  self.adata.obs['cell_type_encoded'] = encode_cell_type.transform(self.adata.obs[self.label_col].values)\n"
     ]
    },
    {
     "data": {
      "application/vnd.jupyter.widget-view+json": {
       "model_id": "897ca7debc2c4c6c8ccf6db9c4de027d",
       "version_major": 2,
       "version_minor": 0
      },
      "text/plain": [
       "Constructing Graphs:   0%|          | 0/6 [00:00<?, ?it/s]"
      ]
     },
     "metadata": {},
     "output_type": "display_data"
    }
   ],
   "source": [
    "# Construct the graph\n",
    "graph_list = data_constracter.construct_graph()"
   ]
  },
  {
   "cell_type": "code",
   "execution_count": 5,
   "metadata": {
    "ExecuteTime": {
     "end_time": "2023-08-06T17:11:45.114751900Z",
     "start_time": "2023-08-06T17:11:45.084507500Z"
    },
    "tags": []
   },
   "outputs": [
    {
     "data": {
      "text/plain": [
       "[Data(x=[26230, 550], edge_index=[2, 234482], edge_attr=[26230, 26230], y=[2623, 550], mask=[26230], cell_type=[26230], cell_type_masked=[2623], image='1199650929', num_nodes=26230),\n",
       " Data(x=[29300, 550], edge_index=[2, 259136], edge_attr=[29300, 29300], y=[2930, 550], mask=[29300], cell_type=[29300], cell_type_masked=[2930], image='1199650932', num_nodes=29300),\n",
       " Data(x=[36043, 550], edge_index=[2, 250394], edge_attr=[36043, 36043], y=[3604, 550], mask=[36043], cell_type=[36043], cell_type_masked=[3604], image='1199650935', num_nodes=36043),\n",
       " Data(x=[47461, 550], edge_index=[2, 410372], edge_attr=[47461, 47461], y=[4746, 550], mask=[47461], cell_type=[47461], cell_type_masked=[4746], image='1199650938', num_nodes=47461),\n",
       " Data(x=[51012, 550], edge_index=[2, 419170], edge_attr=[51012, 51012], y=[5101, 550], mask=[51012], cell_type=[51012], cell_type_masked=[5101], image='1199650941', num_nodes=51012),\n",
       " Data(x=[50899, 550], edge_index=[2, 408008], edge_attr=[50899, 50899], y=[5089, 550], mask=[50899], cell_type=[50899], cell_type_masked=[5089], image='1199650944', num_nodes=50899)]"
      ]
     },
     "execution_count": 5,
     "metadata": {},
     "output_type": "execute_result"
    }
   ],
   "source": [
    "graph_list"
   ]
  },
  {
   "cell_type": "code",
   "execution_count": 6,
   "metadata": {
    "ExecuteTime": {
     "end_time": "2023-08-06T17:11:45.190536100Z",
     "start_time": "2023-08-06T17:11:45.108742800Z"
    },
    "tags": []
   },
   "outputs": [
    {
     "data": {
      "text/plain": [
       "'\\n# Replace \\'data_constracter.adata.obs\\' with your actual DataFrame variable.\\nclass_label_counts = data_constracter.adata.obs[\"class_label\"].value_counts().reset_index()\\nclass_label_counts.columns = [\"class_label\", \"count\"]\\nclass_label_counts = class_label_counts.sort_values(by=\"count\", ascending=False)\\nplt.figure(figsize=(10, 6))  # Adjust the figure size as needed\\n\\n# Set Seaborn style\\nsns.set_style(\"whitegrid\")\\n\\nplt.figure(figsize=(10, 6))  # Adjust the figure size as needed\\n\\n# Plot the bars\\nplt.bar(class_label_counts[\"class_label\"], class_label_counts[\"count\"])\\n\\n# Add labels and title\\nplt.xlabel(\"Class Label\")\\nplt.ylabel(\"Count\")\\nplt.title(\"Class Label Counts\")\\n\\n# Rotate x-axis labels for better readability (optional)\\nplt.xticks(rotation=90, ha=\\'right\\')\\n\\n# Display the plot\\nplt.tight_layout()\\nplt.show()\\n'"
      ]
     },
     "execution_count": 6,
     "metadata": {},
     "output_type": "execute_result"
    }
   ],
   "source": [
    "'''\n",
    "# Replace 'data_constracter.adata.obs' with your actual DataFrame variable.\n",
    "class_label_counts = data_constracter.adata.obs[\"class_label\"].value_counts().reset_index()\n",
    "class_label_counts.columns = [\"class_label\", \"count\"]\n",
    "class_label_counts = class_label_counts.sort_values(by=\"count\", ascending=False)\n",
    "plt.figure(figsize=(10, 6))  # Adjust the figure size as needed\n",
    "\n",
    "# Set Seaborn style\n",
    "sns.set_style(\"whitegrid\")\n",
    "\n",
    "plt.figure(figsize=(10, 6))  # Adjust the figure size as needed\n",
    "\n",
    "# Plot the bars\n",
    "plt.bar(class_label_counts[\"class_label\"], class_label_counts[\"count\"])\n",
    "\n",
    "# Add labels and title\n",
    "plt.xlabel(\"Class Label\")\n",
    "plt.ylabel(\"Count\")\n",
    "plt.title(\"Class Label Counts\")\n",
    "\n",
    "# Rotate x-axis labels for better readability (optional)\n",
    "plt.xticks(rotation=90, ha='right')\n",
    "\n",
    "# Display the plot\n",
    "plt.tight_layout()\n",
    "plt.show()\n",
    "'''"
   ]
  },
  {
   "cell_type": "code",
   "execution_count": 7,
   "metadata": {
    "ExecuteTime": {
     "end_time": "2023-08-06T17:11:45.217952700Z",
     "start_time": "2023-08-06T17:11:45.121750900Z"
    },
    "tags": []
   },
   "outputs": [
    {
     "data": {
      "text/plain": [
       "'\\nimport pandas as pd\\nimport matplotlib.pyplot as plt\\nimport seaborn as sns\\n\\n# Assuming \\'data_constracter.adata.obs\\' is your DataFrame\\nclass_label_counts = data_constracter.adata.obs[\"class_label\"].value_counts().reset_index()\\nclass_label_counts.columns = [\"class_label\", \"count\"]\\nclass_label_counts = class_label_counts.sort_values(by=\"count\", ascending=False)\\n\\n# Set Seaborn style\\nsns.set_style(\"whitegrid\")\\n\\n# Create the bar plot using Seaborn with blue color\\nplt.figure(figsize=(10, 6))\\nsns.barplot(x=\"class_label\", y=\"count\", data=class_label_counts, color=\"blue\")\\n\\n# Add labels and title\\nplt.xlabel(\"Class Label\")\\nplt.ylabel(\"Count\")\\nplt.title(\"Class Label Counts\")\\n\\n# Rotate x-axis labels for better readability (optional)\\nplt.xticks(rotation=45, ha=\\'right\\')\\n\\n# Display the plot\\nplt.tight_layout()\\nplt.show()\\n'"
      ]
     },
     "execution_count": 7,
     "metadata": {},
     "output_type": "execute_result"
    }
   ],
   "source": [
    "'''\n",
    "import pandas as pd\n",
    "import matplotlib.pyplot as plt\n",
    "import seaborn as sns\n",
    "\n",
    "# Assuming 'data_constracter.adata.obs' is your DataFrame\n",
    "class_label_counts = data_constracter.adata.obs[\"class_label\"].value_counts().reset_index()\n",
    "class_label_counts.columns = [\"class_label\", \"count\"]\n",
    "class_label_counts = class_label_counts.sort_values(by=\"count\", ascending=False)\n",
    "\n",
    "# Set Seaborn style\n",
    "sns.set_style(\"whitegrid\")\n",
    "\n",
    "# Create the bar plot using Seaborn with blue color\n",
    "plt.figure(figsize=(10, 6))\n",
    "sns.barplot(x=\"class_label\", y=\"count\", data=class_label_counts, color=\"blue\")\n",
    "\n",
    "# Add labels and title\n",
    "plt.xlabel(\"Class Label\")\n",
    "plt.ylabel(\"Count\")\n",
    "plt.title(\"Class Label Counts\")\n",
    "\n",
    "# Rotate x-axis labels for better readability (optional)\n",
    "plt.xticks(rotation=45, ha='right')\n",
    "\n",
    "# Display the plot\n",
    "plt.tight_layout()\n",
    "plt.show()\n",
    "'''"
   ]
  },
  {
   "cell_type": "code",
   "execution_count": 8,
   "metadata": {
    "ExecuteTime": {
     "end_time": "2023-08-06T17:15:02.934474900Z",
     "start_time": "2023-08-06T17:15:02.886179Z"
    },
    "collapsed": false,
    "jupyter": {
     "outputs_hidden": false
    },
    "tags": []
   },
   "outputs": [],
   "source": [
    "train_loader, val_loader, test_loader = split_dataset(graph_list,split_percent=(0.6, 0.3, 0.1), batch_size=1)"
   ]
  },
  {
   "cell_type": "code",
   "execution_count": 9,
   "metadata": {
    "ExecuteTime": {
     "end_time": "2023-08-06T17:15:03.194637700Z",
     "start_time": "2023-08-06T17:15:03.157219900Z"
    },
    "collapsed": false,
    "jupyter": {
     "outputs_hidden": false
    },
    "pycharm": {
     "is_executing": true
    },
    "tags": []
   },
   "outputs": [
    {
     "name": "stdout",
     "output_type": "stream",
     "text": [
      "Train size: 3\n",
      "Validation size: 1\n",
      "Test size: 2\n"
     ]
    }
   ],
   "source": [
    "# Print out the size of each set to verify\n",
    "print(f\"Train size: {len(train_loader.dataset)}\")\n",
    "print(f\"Validation size: {len(val_loader.dataset)}\")\n",
    "print(f\"Test size: {len(test_loader.dataset)}\")"
   ]
  },
  {
   "cell_type": "code",
   "execution_count": 10,
   "metadata": {
    "ExecuteTime": {
     "end_time": "2023-08-06T17:15:09.887907300Z",
     "start_time": "2023-08-06T17:15:09.824982400Z"
    },
    "collapsed": false,
    "jupyter": {
     "outputs_hidden": false
    },
    "tags": []
   },
   "outputs": [
    {
     "name": "stdout",
     "output_type": "stream",
     "text": [
      "torch.Size([4746, 550])\n",
      "torch.Size([47461, 550])\n"
     ]
    }
   ],
   "source": [
    "for x in train_loader:\n",
    "    print(x.y.shape)\n",
    "    print(x.x.shape)\n",
    "    break"
   ]
  },
  {
   "cell_type": "code",
   "execution_count": 11,
   "metadata": {
    "ExecuteTime": {
     "end_time": "2023-08-06T17:15:10.453185100Z",
     "start_time": "2023-08-06T17:15:10.421432900Z"
    },
    "collapsed": false,
    "jupyter": {
     "outputs_hidden": false
    },
    "tags": []
   },
   "outputs": [],
   "source": [
    "# Assuming gene_expression is your target variable after masking\n",
    "#variance_after_masking = torch.var(x.y.to_dense().float())\n",
    "#print(\"Variance after masking:\", variance_after_masking.item())"
   ]
  },
  {
   "cell_type": "code",
   "execution_count": null,
   "metadata": {
    "ExecuteTime": {
     "end_time": "2023-08-06T17:15:10.974291600Z",
     "start_time": "2023-08-06T17:15:10.942578Z"
    },
    "tags": []
   },
   "outputs": [],
   "source": []
  },
  {
   "cell_type": "code",
   "execution_count": 25,
   "metadata": {
    "ExecuteTime": {
     "end_time": "2023-08-06T17:15:11.482702300Z",
     "start_time": "2023-08-06T17:15:11.451343200Z"
    },
    "tags": []
   },
   "outputs": [],
   "source": [
    "from torch import nn, optim, Tensor\n",
    "import torch\n",
    "from torch_geometric.nn import GCNConv,GATConv\n",
    "from torch.optim.lr_scheduler import StepLR\n",
    "from sklearn.metrics import r2_score\n",
    "from torch.nn import LeakyReLU, Dropout\n",
    "import time\n",
    "from torch.utils.checkpoint import checkpoint\n",
    "\n",
    "\n",
    "class GCN(nn.Module):\n",
    "    def __init__(self, in_channels, hidden_channels, out_channels, dropout_rate=0.5):\n",
    "        super().__init__()\n",
    "        self.conv1 = GCNConv(in_channels, hidden_channels)\n",
    "        self.conv2 = GCNConv(hidden_channels, hidden_channels)\n",
    "        self.conv3 = GCNConv(hidden_channels, out_channels)\n",
    "        self.conv4 = GCNConv(hidden_channels, out_channels)\n",
    "        self.dropout = Dropout(dropout_rate)\n",
    "        \n",
    "        self.act = nn.LeakyReLU()\n",
    "\n",
    "    def forward(self, x: Tensor, edge_index: Tensor) -> Tensor:\n",
    "        x = self.dropout(self.act(self.conv1(x, edge_index)))\n",
    "        x = self.dropout(self.act(self.conv2(x, edge_index)))\n",
    "        x = self.dropout(self.act(self.conv3(x, edge_index)))\n",
    "        x = self.act(self.conv4(x, edge_index))  # Typically, dropout is not applied to the final layer.\n",
    "        return x\n",
    "    \n",
    "class GCN_1(nn.Module):\n",
    "    def __init__(self, in_channels, hidden_channels, out_channels, dropout_rate=0.5):\n",
    "        super().__init__()\n",
    "        self.conv1 = GCNConv(in_channels, hidden_channels)\n",
    "\n",
    "        \n",
    "        self.act = nn.LeakyReLU()\n",
    "\n",
    "    def forward(self, x: Tensor, edge_index: Tensor) -> Tensor:\n",
    "        x = self.act(self.conv1(x, edge_index))  # Typically, dropout is not applied to the final layer.\n",
    "        return x\n",
    "    \n",
    "class GCN_2(nn.Module):\n",
    "    def __init__(self, in_channels, hidden_channels, out_channels, dropout_rate=0.5):\n",
    "        super().__init__()\n",
    "        self.conv1 = GCNConv(in_channels, hidden_channels)\n",
    "        self.conv2 = GCNConv(hidden_channels, hidden_channels)\n",
    "        self.conv3 = GCNConv(hidden_channels, hidden_channels)\n",
    "        self.dropout = Dropout(dropout_rate)\n",
    "        \n",
    "        self.act = nn.LeakyReLU()\n",
    "\n",
    "    def forward(self, x: Tensor, edge_index: Tensor) -> Tensor:\n",
    "        x = self.dropout(self.act(self.conv1(x, edge_index)))\n",
    "        x = checkpoint(self.conv2, x, edge_index)\n",
    "        x = self.act(self.conv3(x, edge_index))  # Typically, dropout is not applied to the final layer.\n",
    "        return x\n",
    "\n",
    "class GNN(nn.Module):\n",
    "    def __init__(self, in_channels, hidden_channels, out_channels, dropout_rate=0.5):\n",
    "        super().__init__()\n",
    "        self.conv1 = GCNConv(in_channels, hidden_channels)\n",
    "        self.conv2 = GCNConv(hidden_channels, hidden_channels)\n",
    "        self.conv3 = GCNConv(hidden_channels, out_channels)\n",
    "        self.conv4 = GCNConv(hidden_channels, out_channels)\n",
    "        self.dropout = Dropout(dropout_rate)\n",
    "        \n",
    "        self.act = nn.LeakyReLU()\n",
    "\n",
    "    def forward(self, x: Tensor, edge_index: Tensor) -> Tensor:\n",
    "        x = self.dropout(self.act(self.conv1(x, edge_index)))\n",
    "        x = self.dropout(self.act(self.conv2(x, edge_index)))\n",
    "        x = self.dropout(self.act(self.conv3(x, edge_index)))\n",
    "        x = self.act(self.conv4(x, edge_index))  # Typically, dropout is not applied to the final layer.\n",
    "        return x\n",
    "    \n",
    "class GAT(nn.Module):\n",
    "    def __init__(self, in_channels, hidden_channels, out_channels, dropout_rate=0.5):\n",
    "        super().__init__()\n",
    "        self.conv1 = GATConv(in_channels, hidden_channels)\n",
    "        self.conv2 = GATConv(hidden_channels, hidden_channels)\n",
    "        self.conv3 = GATConv(hidden_channels, out_channels)\n",
    "        self.conv4 = GATConv(hidden_channels, out_channels)\n",
    "        self.dropout = Dropout(dropout_rate)\n",
    "        self.act = nn.LeakyReLU()\n",
    "\n",
    "    def forward(self, x: Tensor, edge_index: Tensor) -> Tensor:\n",
    "        x = self.dropout(self.act(self.conv1(x, edge_index)))\n",
    "        x = self.dropout(self.act(self.conv2(x, edge_index)))\n",
    "        x = self.dropout(self.act(self.conv3(x, edge_index)))\n",
    "        x = self.act(self.conv4(x, edge_index))  # Typically, dropout is not applied to the final layer.\n",
    "        return x\n",
    "    \n",
    "class GAT_3(nn.Module):\n",
    "    def __init__(self, in_channels, hidden_channels, out_channels, dropout_rate=0.5):\n",
    "        super().__init__()\n",
    "        self.conv1 = GATConv(in_channels, hidden_channels)\n",
    "        self.conv2 = GATConv(hidden_channels, hidden_channels)\n",
    "        self.conv3 = GATConv(hidden_channels, out_channels)\n",
    "        self.dropout = Dropout(dropout_rate)\n",
    "        \n",
    "        self.act = nn.LeakyReLU()\n",
    "\n",
    "    def forward(self, x: Tensor, edge_index: Tensor) -> Tensor:\n",
    "        x = self.dropout(self.act(self.conv1(x, edge_index)))\n",
    "        x = self.dropout(self.act(self.conv2( x, edge_index)))\n",
    "        x = self.act(self.conv3(x, edge_index))  # Typically, dropout is not applied to the final layer.\n",
    "        return x\n",
    "    "
   ]
  },
  {
   "cell_type": "code",
   "execution_count": 22,
   "metadata": {
    "ExecuteTime": {
     "end_time": "2023-08-06T17:15:12.033538700Z",
     "start_time": "2023-08-06T17:15:11.990850500Z"
    },
    "collapsed": false,
    "jupyter": {
     "outputs_hidden": false
    },
    "tags": []
   },
   "outputs": [],
   "source": [
    "import torch\n",
    "from torch import nn, optim\n",
    "import time\n",
    "from torcheval.metrics import MeanSquaredError,R2Score\n",
    "\n",
    "\n",
    "device = torch.device('cuda' if torch.cuda.is_available() else 'cpu')\n",
    "\n",
    "def train_epoch(model, loader, optimizer, criterion,r2_metric, mse_metric, gene_expression=None, training=True):\n",
    "\n",
    "    \n",
    "    if training:\n",
    "        model.train()\n",
    "    else:\n",
    "        model.eval()\n",
    "\n",
    "    total_loss = 0\n",
    "\n",
    "    with torch.set_grad_enabled(training):\n",
    "        for data in loader:\n",
    "\n",
    "            if training:\n",
    "                optimizer.zero_grad()\n",
    "\n",
    "            if gene_expression is None:\n",
    "                #input =  torch.tensor(data.x, dtype=torch.float).to(device)\n",
    "                #input_masked = torch.tensor(data.y, dtype=torch.float).to(device)\n",
    "                \n",
    "                target = data.y.float().to_dense()\n",
    "                \n",
    "                outputs = model(data.x.float().to(device), data.edge_index.long().to(device))\n",
    "                loss = criterion(outputs[data.mask],target.to(device))\n",
    "                \n",
    "                # evaluate metrics\n",
    "\n",
    "                r2_metric.update(outputs[data.mask].cpu(),target.cpu())\n",
    "                mse_metric.update(outputs[data.mask].cpu(),target.cpu())\n",
    "\n",
    "            else:\n",
    "                input = torch.tensor(gene_expression[data.x].toarray(), dtype=torch.double).to(device)\n",
    "                input[data.mask] = 0\n",
    "                target = torch.tensor(gene_expression[data.y].toarray(), dtype=torch.double).to(device)\n",
    "                outputs = model(input.float(), data.edge_index.to(device).long())\n",
    "                loss = criterion(outputs[data.mask], target.float())\n",
    "\n",
    "            if training:\n",
    "                loss.backward()\n",
    "                optimizer.step()\n",
    "\n",
    "            total_loss += loss.item() * data.num_graphs\n",
    "\n",
    "    return total_loss / len(loader.dataset), r2_metric.compute(),mse_metric.compute()\n",
    "\n",
    "def train(model, train_loader, val_loader, criterion, num_epochs=100, patience=5, optimizer = None,model_path=None,\n",
    "          gene_expression=None, minibatch = False):\n",
    "\n",
    "    r2_metric_train = R2Score()\n",
    "    r2_metric_val = R2Score()\n",
    "    mse_metric_train = MeanSquaredError()\n",
    "    mse_metric_val = MeanSquaredError()\n",
    "    \n",
    "    model.to(device)\n",
    "    best_val_loss = float('inf')\n",
    "    best_epoch = 0\n",
    "    epochs_no_improve = 0\n",
    "\n",
    "    for epoch in range(num_epochs):\n",
    "        start_time = time.time()\n",
    "\n",
    "        train_loss, train_r2,train_mse = train_epoch(model, train_loader, optimizer, criterion,r2_metric_train, mse_metric_train, gene_expression, training=True)\n",
    "        val_loss, val_r2, val_mse = train_epoch(model, val_loader, optimizer,criterion ,r2_metric_val,mse_metric_val, gene_expression, training=False)\n",
    "        # scheduler.step() # Decrease learning rate by scheduler\n",
    "\n",
    "        if val_loss < best_val_loss:\n",
    "            best_val_loss = val_loss\n",
    "            best_epoch = epoch\n",
    "            epochs_no_improve = 0\n",
    "            if model_path is not None:\n",
    "                torch.save(model.state_dict(), model_path)\n",
    "        else:\n",
    "            epochs_no_improve += 1\n",
    "            if epochs_no_improve == patience:\n",
    "                print('Early stopping!')\n",
    "                break\n",
    "\n",
    "        print(\n",
    "            f\"Epoch {epoch + 1}/{num_epochs}, train loss: {train_loss:.4f}, train r2: {train_r2:.4f}, train mse: {train_mse:.4f},  val loss: {val_loss:.4f}, val r2: {val_r2:.4f}, val mse: {val_mse:.4f}, Time: {time.time() - start_time:.4f}s\")\n",
    "\n",
    "    print(f\"Best val loss: {best_val_loss:.4f}, at epoch {best_epoch + 1}\")"
   ]
  },
  {
   "cell_type": "code",
   "execution_count": 28,
   "metadata": {
    "ExecuteTime": {
     "end_time": "2023-08-06T17:17:13.393599900Z",
     "start_time": "2023-08-06T17:15:14.209447700Z"
    },
    "tags": []
   },
   "outputs": [
    {
     "name": "stdout",
     "output_type": "stream",
     "text": [
      "Epoch 1/150, train loss: 0.9325, train r2: -0.4095, train mse: 0.9505,  val loss: 0.8740, val r2: -0.2333, val mse: 0.8740, Time: 0.6845s\n",
      "Epoch 2/150, train loss: 0.7812, train r2: -0.3299, train mse: 0.8661,  val loss: 0.7607, val r2: -0.1746, val mse: 0.8173, Time: 0.6737s\n",
      "Epoch 3/150, train loss: 0.7038, train r2: -0.2661, train mse: 0.8148,  val loss: 0.7106, val r2: -0.1424, val mse: 0.7817, Time: 0.6619s\n",
      "Epoch 4/150, train loss: 0.6621, train r2: -0.2204, train mse: 0.7777,  val loss: 0.6805, val r2: -0.1210, val mse: 0.7564, Time: 0.7383s\n",
      "Epoch 5/150, train loss: 0.6352, train r2: -0.1889, train mse: 0.7504,  val loss: 0.6511, val r2: -0.1038, val mse: 0.7354, Time: 0.6671s\n",
      "Epoch 6/150, train loss: 0.6115, train r2: -0.1647, train mse: 0.7281,  val loss: 0.6265, val r2: -0.0892, val mse: 0.7172, Time: 0.6646s\n",
      "Epoch 7/150, train loss: 0.5910, train r2: -0.1450, train mse: 0.7091,  val loss: 0.6047, val r2: -0.0764, val mse: 0.7012, Time: 0.6609s\n",
      "Epoch 8/150, train loss: 0.5746, train r2: -0.1287, train mse: 0.6928,  val loss: 0.5883, val r2: -0.0651, val mse: 0.6871, Time: 0.6690s\n",
      "Epoch 9/150, train loss: 0.5603, train r2: -0.1148, train mse: 0.6787,  val loss: 0.5750, val r2: -0.0552, val mse: 0.6746, Time: 0.6655s\n",
      "Epoch 10/150, train loss: 0.5486, train r2: -0.1026, train mse: 0.6662,  val loss: 0.5636, val r2: -0.0462, val mse: 0.6635, Time: 0.6633s\n",
      "Epoch 11/150, train loss: 0.5386, train r2: -0.0918, train mse: 0.6550,  val loss: 0.5556, val r2: -0.0383, val mse: 0.6537, Time: 0.6573s\n",
      "Epoch 12/150, train loss: 0.5307, train r2: -0.0821, train mse: 0.6450,  val loss: 0.5490, val r2: -0.0312, val mse: 0.6450, Time: 0.6760s\n",
      "Epoch 13/150, train loss: 0.5241, train r2: -0.0733, train mse: 0.6360,  val loss: 0.5439, val r2: -0.0247, val mse: 0.6372, Time: 0.6585s\n",
      "Epoch 14/150, train loss: 0.5182, train r2: -0.0653, train mse: 0.6279,  val loss: 0.5384, val r2: -0.0188, val mse: 0.6301, Time: 0.6996s\n",
      "Epoch 15/150, train loss: 0.5135, train r2: -0.0581, train mse: 0.6205,  val loss: 0.5356, val r2: -0.0134, val mse: 0.6238, Time: 0.6690s\n",
      "Epoch 16/150, train loss: 0.5094, train r2: -0.0513, train mse: 0.6138,  val loss: 0.5320, val r2: -0.0084, val mse: 0.6181, Time: 0.6592s\n",
      "Epoch 17/150, train loss: 0.5061, train r2: -0.0452, train mse: 0.6077,  val loss: 0.5302, val r2: -0.0039, val mse: 0.6129, Time: 0.6645s\n",
      "Epoch 18/150, train loss: 0.5028, train r2: -0.0394, train mse: 0.6021,  val loss: 0.5268, val r2: 0.0003, val mse: 0.6081, Time: 0.6720s\n",
      "Epoch 19/150, train loss: 0.4994, train r2: -0.0341, train mse: 0.5970,  val loss: 0.5239, val r2: 0.0043, val mse: 0.6037, Time: 0.6603s\n",
      "Epoch 20/150, train loss: 0.4970, train r2: -0.0291, train mse: 0.5921,  val loss: 0.5206, val r2: 0.0081, val mse: 0.5996, Time: 0.7130s\n",
      "Epoch 21/150, train loss: 0.4944, train r2: -0.0244, train mse: 0.5877,  val loss: 0.5198, val r2: 0.0116, val mse: 0.5958, Time: 0.6659s\n",
      "Epoch 22/150, train loss: 0.4921, train r2: -0.0201, train mse: 0.5835,  val loss: 0.5178, val r2: 0.0149, val mse: 0.5922, Time: 0.7608s\n",
      "Epoch 23/150, train loss: 0.4901, train r2: -0.0159, train mse: 0.5796,  val loss: 0.5163, val r2: 0.0181, val mse: 0.5889, Time: 0.6794s\n",
      "Epoch 24/150, train loss: 0.4882, train r2: -0.0120, train mse: 0.5760,  val loss: 0.5149, val r2: 0.0210, val mse: 0.5858, Time: 0.6615s\n",
      "Epoch 25/150, train loss: 0.4862, train r2: -0.0083, train mse: 0.5726,  val loss: 0.5136, val r2: 0.0238, val mse: 0.5829, Time: 0.6593s\n",
      "Epoch 26/150, train loss: 0.4844, train r2: -0.0047, train mse: 0.5693,  val loss: 0.5135, val r2: 0.0265, val mse: 0.5803, Time: 0.6578s\n",
      "Epoch 27/150, train loss: 0.4825, train r2: -0.0014, train mse: 0.5662,  val loss: 0.5121, val r2: 0.0290, val mse: 0.5777, Time: 0.6659s\n",
      "Epoch 28/150, train loss: 0.4810, train r2: 0.0018, train mse: 0.5633,  val loss: 0.5120, val r2: 0.0313, val mse: 0.5754, Time: 0.7023s\n",
      "Epoch 29/150, train loss: 0.4800, train r2: 0.0049, train mse: 0.5606,  val loss: 0.5097, val r2: 0.0337, val mse: 0.5731, Time: 0.7476s\n",
      "Epoch 30/150, train loss: 0.4783, train r2: 0.0079, train mse: 0.5580,  val loss: 0.5104, val r2: 0.0358, val mse: 0.5710, Time: 0.6616s\n",
      "Epoch 31/150, train loss: 0.4772, train r2: 0.0107, train mse: 0.5555,  val loss: 0.5098, val r2: 0.0379, val mse: 0.5691, Time: 0.6804s\n",
      "Epoch 32/150, train loss: 0.4761, train r2: 0.0134, train mse: 0.5531,  val loss: 0.5081, val r2: 0.0399, val mse: 0.5672, Time: 0.6680s\n",
      "Epoch 33/150, train loss: 0.4744, train r2: 0.0160, train mse: 0.5509,  val loss: 0.5100, val r2: 0.0417, val mse: 0.5654, Time: 0.6709s\n",
      "Epoch 34/150, train loss: 0.4738, train r2: 0.0185, train mse: 0.5487,  val loss: 0.5080, val r2: 0.0436, val mse: 0.5637, Time: 0.6751s\n",
      "Epoch 35/150, train loss: 0.4724, train r2: 0.0209, train mse: 0.5466,  val loss: 0.5067, val r2: 0.0453, val mse: 0.5621, Time: 0.6683s\n",
      "Epoch 36/150, train loss: 0.4714, train r2: 0.0233, train mse: 0.5446,  val loss: 0.5080, val r2: 0.0470, val mse: 0.5606, Time: 0.6607s\n",
      "Epoch 37/150, train loss: 0.4704, train r2: 0.0255, train mse: 0.5427,  val loss: 0.5068, val r2: 0.0486, val mse: 0.5592, Time: 0.6644s\n",
      "Epoch 38/150, train loss: 0.4689, train r2: 0.0277, train mse: 0.5409,  val loss: 0.5050, val r2: 0.0501, val mse: 0.5577, Time: 0.6756s\n",
      "Epoch 39/150, train loss: 0.4680, train r2: 0.0298, train mse: 0.5391,  val loss: 0.5066, val r2: 0.0516, val mse: 0.5564, Time: 0.6798s\n",
      "Epoch 40/150, train loss: 0.4672, train r2: 0.0319, train mse: 0.5374,  val loss: 0.5063, val r2: 0.0530, val mse: 0.5552, Time: 0.6593s\n",
      "Epoch 41/150, train loss: 0.4663, train r2: 0.0338, train mse: 0.5358,  val loss: 0.5043, val r2: 0.0544, val mse: 0.5539, Time: 0.6747s\n",
      "Epoch 42/150, train loss: 0.4650, train r2: 0.0358, train mse: 0.5342,  val loss: 0.5045, val r2: 0.0557, val mse: 0.5527, Time: 0.6595s\n",
      "Epoch 43/150, train loss: 0.4641, train r2: 0.0376, train mse: 0.5326,  val loss: 0.5048, val r2: 0.0570, val mse: 0.5516, Time: 0.7620s\n",
      "Epoch 44/150, train loss: 0.4633, train r2: 0.0394, train mse: 0.5311,  val loss: 0.5051, val r2: 0.0582, val mse: 0.5506, Time: 0.6585s\n",
      "Epoch 45/150, train loss: 0.4629, train r2: 0.0412, train mse: 0.5297,  val loss: 0.5041, val r2: 0.0594, val mse: 0.5495, Time: 0.6928s\n",
      "Epoch 46/150, train loss: 0.4618, train r2: 0.0429, train mse: 0.5283,  val loss: 0.5028, val r2: 0.0606, val mse: 0.5485, Time: 0.6728s\n",
      "Epoch 47/150, train loss: 0.4608, train r2: 0.0446, train mse: 0.5269,  val loss: 0.5034, val r2: 0.0617, val mse: 0.5476, Time: 0.6694s\n",
      "Epoch 48/150, train loss: 0.4601, train r2: 0.0462, train mse: 0.5256,  val loss: 0.5030, val r2: 0.0628, val mse: 0.5466, Time: 0.6638s\n",
      "Epoch 49/150, train loss: 0.4594, train r2: 0.0478, train mse: 0.5243,  val loss: 0.5031, val r2: 0.0638, val mse: 0.5458, Time: 0.6652s\n",
      "Epoch 50/150, train loss: 0.4583, train r2: 0.0493, train mse: 0.5231,  val loss: 0.5021, val r2: 0.0648, val mse: 0.5449, Time: 0.6587s\n",
      "Epoch 51/150, train loss: 0.4578, train r2: 0.0508, train mse: 0.5219,  val loss: 0.5029, val r2: 0.0658, val mse: 0.5441, Time: 0.6680s\n",
      "Epoch 52/150, train loss: 0.4573, train r2: 0.0523, train mse: 0.5207,  val loss: 0.5047, val r2: 0.0667, val mse: 0.5433, Time: 0.6582s\n",
      "Epoch 53/150, train loss: 0.4562, train r2: 0.0537, train mse: 0.5196,  val loss: 0.5060, val r2: 0.0676, val mse: 0.5426, Time: 0.6816s\n",
      "Epoch 54/150, train loss: 0.4566, train r2: 0.0551, train mse: 0.5185,  val loss: 0.5025, val r2: 0.0684, val mse: 0.5419, Time: 0.6675s\n",
      "Epoch 55/150, train loss: 0.4556, train r2: 0.0565, train mse: 0.5174,  val loss: 0.5016, val r2: 0.0693, val mse: 0.5411, Time: 0.6808s\n",
      "Epoch 56/150, train loss: 0.4550, train r2: 0.0578, train mse: 0.5163,  val loss: 0.5014, val r2: 0.0701, val mse: 0.5404, Time: 0.6972s\n",
      "Epoch 57/150, train loss: 0.4531, train r2: 0.0591, train mse: 0.5153,  val loss: 0.5036, val r2: 0.0709, val mse: 0.5398, Time: 0.6696s\n",
      "Epoch 58/150, train loss: 0.4530, train r2: 0.0604, train mse: 0.5143,  val loss: 0.5058, val r2: 0.0717, val mse: 0.5392, Time: 0.6606s\n",
      "Epoch 59/150, train loss: 0.4528, train r2: 0.0616, train mse: 0.5133,  val loss: 0.5027, val r2: 0.0724, val mse: 0.5386, Time: 0.7253s\n",
      "Epoch 60/150, train loss: 0.4516, train r2: 0.0629, train mse: 0.5123,  val loss: 0.5021, val r2: 0.0731, val mse: 0.5380, Time: 0.6496s\n",
      "Epoch 61/150, train loss: 0.4518, train r2: 0.0641, train mse: 0.5114,  val loss: 0.5011, val r2: 0.0739, val mse: 0.5374, Time: 0.6954s\n",
      "Epoch 62/150, train loss: 0.4512, train r2: 0.0652, train mse: 0.5105,  val loss: 0.5004, val r2: 0.0746, val mse: 0.5368, Time: 0.6737s\n",
      "Epoch 63/150, train loss: 0.4504, train r2: 0.0664, train mse: 0.5096,  val loss: 0.5051, val r2: 0.0752, val mse: 0.5363, Time: 0.6897s\n",
      "Epoch 64/150, train loss: 0.4500, train r2: 0.0675, train mse: 0.5087,  val loss: 0.5047, val r2: 0.0758, val mse: 0.5358, Time: 0.6536s\n",
      "Epoch 65/150, train loss: 0.4491, train r2: 0.0686, train mse: 0.5078,  val loss: 0.5026, val r2: 0.0765, val mse: 0.5352, Time: 0.6504s\n",
      "Epoch 66/150, train loss: 0.4484, train r2: 0.0697, train mse: 0.5070,  val loss: 0.5019, val r2: 0.0771, val mse: 0.5347, Time: 0.6485s\n",
      "Epoch 67/150, train loss: 0.4478, train r2: 0.0708, train mse: 0.5062,  val loss: 0.5014, val r2: 0.0777, val mse: 0.5342, Time: 0.6579s\n",
      "Epoch 68/150, train loss: 0.4467, train r2: 0.0718, train mse: 0.5053,  val loss: 0.5037, val r2: 0.0783, val mse: 0.5338, Time: 0.6458s\n",
      "Epoch 69/150, train loss: 0.4465, train r2: 0.0729, train mse: 0.5045,  val loss: 0.5011, val r2: 0.0789, val mse: 0.5333, Time: 0.6563s\n",
      "Epoch 70/150, train loss: 0.4453, train r2: 0.0739, train mse: 0.5038,  val loss: 0.5003, val r2: 0.0795, val mse: 0.5329, Time: 0.6650s\n",
      "Epoch 71/150, train loss: 0.4453, train r2: 0.0749, train mse: 0.5030,  val loss: 0.5000, val r2: 0.0800, val mse: 0.5324, Time: 0.6790s\n",
      "Epoch 72/150, train loss: 0.4447, train r2: 0.0759, train mse: 0.5022,  val loss: 0.5022, val r2: 0.0806, val mse: 0.5320, Time: 0.6668s\n",
      "Epoch 73/150, train loss: 0.4440, train r2: 0.0768, train mse: 0.5015,  val loss: 0.5040, val r2: 0.0811, val mse: 0.5316, Time: 0.6669s\n",
      "Epoch 74/150, train loss: 0.4432, train r2: 0.0778, train mse: 0.5007,  val loss: 0.5029, val r2: 0.0816, val mse: 0.5312, Time: 0.6592s\n",
      "Epoch 75/150, train loss: 0.4427, train r2: 0.0787, train mse: 0.5000,  val loss: 0.5021, val r2: 0.0821, val mse: 0.5308, Time: 0.7505s\n",
      "Epoch 76/150, train loss: 0.4422, train r2: 0.0797, train mse: 0.4993,  val loss: 0.5037, val r2: 0.0825, val mse: 0.5305, Time: 0.6602s\n",
      "Epoch 77/150, train loss: 0.4414, train r2: 0.0806, train mse: 0.4986,  val loss: 0.5022, val r2: 0.0830, val mse: 0.5301, Time: 0.6532s\n",
      "Epoch 78/150, train loss: 0.4407, train r2: 0.0815, train mse: 0.4979,  val loss: 0.5028, val r2: 0.0834, val mse: 0.5297, Time: 0.6544s\n",
      "Early stopping!\n",
      "Best val loss: 0.5000, at epoch 71\n"
     ]
    }
   ],
   "source": [
    "# Pretraining\n",
    "# Define the device\n",
    "device = torch.device('cuda' if torch.cuda.is_available() else 'cpu')\n",
    "\n",
    "# Create the model\n",
    "model = GAT_3(550, 550, 550).to(device) # in_channels is set to 100 as an example. Please replace it with your actual feature size.\n",
    "\n",
    "# Define loss function and optimizer\n",
    "criterion = nn.MSELoss()\n",
    "optimizer = optim.Adam(model.parameters(), lr=0.0005)\n",
    "#scheduler = StepLR(optimizer, step_size=80, gamma=0.1) # learning rate scheduler\n",
    "\n",
    "num_epochs = 150\n",
    "patience = 8\n",
    "\n",
    "train(model=model, train_loader=train_loader, val_loader=val_loader, criterion=criterion, num_epochs= num_epochs, patience = patience, optimizer= optimizer,model_path = './models/GAT_3_6img_model.pt')"
   ]
  },
  {
   "cell_type": "code",
   "execution_count": 48,
   "metadata": {
    "tags": []
   },
   "outputs": [
    {
     "name": "stdout",
     "output_type": "stream",
     "text": [
      "tensor(1.0352, device='cuda:0')\n",
      "tensor(0.9649, device='cuda:0')\n"
     ]
    }
   ],
   "source": [
    "#Load model\n",
    "\n",
    "# Loading the Model\n",
    "# Define the device\n",
    "device = torch.device('cuda' if torch.cuda.is_available() else 'cpu')\n",
    "\n",
    "# Recreate the model structure (it should match the saved model)\n",
    "model = GCN_1(550, 550, 550).to(device)\n",
    "\n",
    "# Load the saved model weights\n",
    "model_path = './models/model.pt'\n",
    "model.load_state_dict(torch.load(model_path))\n",
    "model.eval() # Set the model in evaluation mode\n",
    "\n",
    "# Downstream Tasks\n",
    "# For example, let's predict on a test set\n",
    "\n",
    "# Loading test data\n",
    "# Replace this line with the appropriate code to load your test data\n",
    "test_loader\n",
    "\n",
    "# Evaluating the model on the test set\n",
    "\n",
    "with torch.no_grad():\n",
    "    for data in test_loader:\n",
    "\n",
    "        target = data.y.float().to_dense()\n",
    "\n",
    "        outputs = model(data.x.float().to(device), data.edge_index.long().to(device))\n",
    "        loss = criterion(outputs[data.mask],target.to(device))\n",
    "        \n",
    "        print(loss)\n",
    "\n",
    "\n",
    "\n",
    "\n"
   ]
  },
  {
   "cell_type": "code",
   "execution_count": 15,
   "metadata": {
    "tags": []
   },
   "outputs": [
    {
     "name": "stdout",
     "output_type": "stream",
     "text": [
      "DataBatch(x=[26230, 550], edge_index=[2, 412826], y=[2623, 550], mask=[26230], cell_type=[1], cell_type_masked=[1], image=[1], num_nodes=26230, batch=[26230], ptr=[2])\n",
      "DataBatch(x=[47461, 550], edge_index=[2, 709388], y=[4746, 550], mask=[47461], cell_type=[1], cell_type_masked=[1], image=[1], num_nodes=47461, batch=[47461], ptr=[2])\n"
     ]
    }
   ],
   "source": [
    "for x in test_loader:\n",
    "    print(x)"
   ]
  },
  {
   "cell_type": "code",
   "execution_count": 29,
   "metadata": {
    "tags": []
   },
   "outputs": [],
   "source": [
    "from tqdm.auto import tqdm\n",
    "def test(model, test_loader, criterion, device):\n",
    "    model.to(device)\n",
    "    model.eval()\n",
    "    \n",
    "    total_test_loss = 0\n",
    "    test_targets_list = []\n",
    "    test_outputs_list = []\n",
    "    test_celltypes_list = []\n",
    "\n",
    "    for data in tqdm(test_loader):\n",
    "        with torch.no_grad():\n",
    "\n",
    "            outputs = model(data.x.float().to(device), data.edge_index.to(device).long())\n",
    "            loss = criterion(outputs[data.mask], data.y.float())\n",
    "        total_test_loss += loss.item() * data.num_graphs\n",
    "        test_celltypes_list.append(data.cell_type_masked)\n",
    "        test_targets_list.append(expression_masked.float())\n",
    "        test_outputs_list.append(outputs[data.mask])\n",
    "\n",
    "    # Measure and print test loss and R2\n",
    "    test_loss = total_test_loss / len(test_loader.dataset)\n",
    "    test_r2 = r2_score(torch.cat(test_targets_list).cpu().detach().numpy(),\n",
    "                       torch.cat(test_outputs_list).cpu().detach().numpy())\n",
    "    print(f\"Test loss: {test_loss:.4f}, test r2: {test_r2:.4f}\")\n",
    "        # Return test loss and r2 for further use\n",
    "    return test_loss, test_r2,test_targets_list,test_outputs_list,test_celltypes_list"
   ]
  },
  {
   "cell_type": "code",
   "execution_count": 40,
   "metadata": {
    "tags": []
   },
   "outputs": [],
   "source": [
    "\n",
    "def test(model, test_loader, criterion, device):\n",
    "    model.to(device)\n",
    "    model.eval()\n",
    "    \n",
    "    total_test_loss = 0\n",
    "    test_targets_list = []\n",
    "    test_outputs_list = []\n",
    "    test_celltypes_list = []\n",
    "\n",
    "    for data in tqdm(test_loader):\n",
    "        with torch.no_grad():\n",
    "            \n",
    "            outputs = model(data.x.float().to(device), data.edge_index.to(device).long())\n",
    "            loss = criterion(outputs[data.mask], data.y.to_dense().to(device))\n",
    "        total_test_loss += loss.item() * data.num_graphs\n",
    "        test_celltypes_list.append(data.cell_type_masked)\n",
    "        test_targets_list.append(data.y.to_dense().float())\n",
    "        test_outputs_list.append(outputs[data.mask])\n",
    "\n",
    "    # Measure and print test loss and R2\n",
    "    test_loss = total_test_loss / len(test_loader.dataset)\n",
    "    test_r2 = r2_score(torch.cat(test_targets_list).cpu().detach().numpy(),\n",
    "                       torch.cat(test_outputs_list).cpu().detach().numpy())\n",
    "    print(f\"Test loss: {test_loss:.4f}, test r2: {test_r2:.4f}\")\n",
    "        # Return test loss and r2 for further use\n",
    "    return test_loss, test_r2,test_targets_list,test_outputs_list,test_celltypes_list"
   ]
  },
  {
   "cell_type": "code",
   "execution_count": 41,
   "metadata": {
    "tags": []
   },
   "outputs": [
    {
     "data": {
      "application/vnd.jupyter.widget-view+json": {
       "model_id": "4b7240653149480fb41473a773c89236",
       "version_major": 2,
       "version_minor": 0
      },
      "text/plain": [
       "  0%|          | 0/2 [00:00<?, ?it/s]"
      ]
     },
     "metadata": {},
     "output_type": "display_data"
    },
    {
     "name": "stdout",
     "output_type": "stream",
     "text": [
      "Test loss: 0.4612, test r2: 0.1135\n"
     ]
    }
   ],
   "source": [
    "test_loss, test_r2,test_targets_list,test_outputs_list,test_celltypes_list = test(model, test_loader, criterion, device)"
   ]
  },
  {
   "cell_type": "code",
   "execution_count": 42,
   "metadata": {
    "tags": []
   },
   "outputs": [
    {
     "data": {
      "text/plain": [
       "2"
      ]
     },
     "execution_count": 42,
     "metadata": {},
     "output_type": "execute_result"
    }
   ],
   "source": [
    "len(test_celltypes_list)"
   ]
  },
  {
   "cell_type": "code",
   "execution_count": null,
   "metadata": {
    "tags": []
   },
   "outputs": [],
   "source": []
  },
  {
   "cell_type": "code",
   "execution_count": 44,
   "metadata": {
    "tags": []
   },
   "outputs": [
    {
     "name": "stdout",
     "output_type": "stream",
     "text": [
      "The model has 909,150 parameters\n"
     ]
    }
   ],
   "source": [
    "def count_parameters(model):\n",
    "    return sum(p.numel() for p in model.parameters() if p.requires_grad)\n",
    "\n",
    "# usage\n",
    "model = GCN_2(550, 550, 550)  # Replace with your actual model\n",
    "print(f'The model has {count_parameters(model):,} parameters')\n"
   ]
  },
  {
   "cell_type": "code",
   "execution_count": 45,
   "metadata": {
    "tags": []
   },
   "outputs": [],
   "source": [
    "import itertools\n",
    "# Flatten the nested list into a single-dimensional list\n",
    "flattened_list = list(itertools.chain.from_iterable(test_celltypes_list))\n",
    "flattened_list = list(itertools.chain.from_iterable(flattened_list))"
   ]
  },
  {
   "cell_type": "code",
   "execution_count": 46,
   "metadata": {
    "tags": []
   },
   "outputs": [
    {
     "data": {
      "text/plain": [
       "2"
      ]
     },
     "execution_count": 46,
     "metadata": {},
     "output_type": "execute_result"
    }
   ],
   "source": [
    "len(test_targets_list)"
   ]
  },
  {
   "cell_type": "code",
   "execution_count": 47,
   "metadata": {
    "tags": []
   },
   "outputs": [
    {
     "data": {
      "text/plain": [
       "10190"
      ]
     },
     "execution_count": 47,
     "metadata": {},
     "output_type": "execute_result"
    }
   ],
   "source": [
    "len(torch.cat(test_targets_list).cpu().detach().numpy())"
   ]
  },
  {
   "cell_type": "code",
   "execution_count": 48,
   "metadata": {
    "tags": []
   },
   "outputs": [
    {
     "data": {
      "text/plain": [
       "10190"
      ]
     },
     "execution_count": 48,
     "metadata": {},
     "output_type": "execute_result"
    }
   ],
   "source": [
    "len(torch.cat(test_targets_list).cpu().detach().numpy())"
   ]
  },
  {
   "cell_type": "code",
   "execution_count": 49,
   "metadata": {
    "tags": []
   },
   "outputs": [
    {
     "name": "stdout",
     "output_type": "stream",
     "text": [
      "10190\n",
      "10190\n"
     ]
    }
   ],
   "source": [
    "print(len(flattened_list))\n",
    "print(len(r2_score(np.transpose(torch.cat(test_targets_list).cpu().detach().numpy()), np.transpose(torch.cat(test_outputs_list).cpu().detach().numpy()), multioutput='raw_values')))"
   ]
  },
  {
   "cell_type": "code",
   "execution_count": 85,
   "metadata": {
    "tags": []
   },
   "outputs": [
    {
     "data": {
      "text/plain": [
       "['MOB-DG-IMN', 'IT-ET Glut', 'MGE GABA', 'MGE GABA', 'Vascular']"
      ]
     },
     "execution_count": 85,
     "metadata": {},
     "output_type": "execute_result"
    }
   ],
   "source": [
    "flattened_list[0:5]"
   ]
  },
  {
   "cell_type": "code",
   "execution_count": 86,
   "metadata": {
    "tags": []
   },
   "outputs": [
    {
     "data": {
      "text/plain": [
       "Index(['Prkcq', 'Col5a1', 'Grik3', 'Igfbp2', 'Osr1'], dtype='object')"
      ]
     },
     "execution_count": 86,
     "metadata": {},
     "output_type": "execute_result"
    }
   ],
   "source": [
    "data_constracter.adata.var_names[0:5]"
   ]
  },
  {
   "cell_type": "code",
   "execution_count": 93,
   "metadata": {
    "tags": []
   },
   "outputs": [
    {
     "name": "stdout",
     "output_type": "stream",
     "text": [
      "550\n"
     ]
    },
    {
     "data": {
      "text/plain": [
       "array([[0.        , 0.        , 0.        , ..., 1.5191313 , 0.        ,\n",
       "        1.1785693 ],\n",
       "       [0.        , 0.5433028 , 1.3851362 , ..., 0.        , 0.        ,\n",
       "        0.        ],\n",
       "       [1.9734081 , 3.4064555 , 2.731592  , ..., 0.95091033, 0.        ,\n",
       "        0.        ],\n",
       "       ...,\n",
       "       [0.        , 0.        , 0.        , ..., 0.        , 0.        ,\n",
       "        0.        ],\n",
       "       [0.        , 0.        , 1.3851362 , ..., 0.        , 0.        ,\n",
       "        0.        ],\n",
       "       [0.        , 0.        , 0.        , ..., 0.        , 0.        ,\n",
       "        0.        ]], dtype=float32)"
      ]
     },
     "execution_count": 93,
     "metadata": {},
     "output_type": "execute_result"
    }
   ],
   "source": [
    "print(len(np.transpose(torch.cat(test_targets_list).cpu().detach().numpy())))\n",
    "np.transpose(torch.cat(test_targets_list).cpu().detach().numpy())"
   ]
  },
  {
   "cell_type": "code",
   "execution_count": 92,
   "metadata": {
    "tags": []
   },
   "outputs": [
    {
     "name": "stdout",
     "output_type": "stream",
     "text": [
      "102696\n"
     ]
    },
    {
     "data": {
      "text/plain": [
       "array([[0.        , 0.        , 1.9734081 , ..., 0.        , 0.        ,\n",
       "        0.        ],\n",
       "       [0.        , 0.5433028 , 3.4064555 , ..., 0.        , 0.        ,\n",
       "        0.        ],\n",
       "       [0.        , 1.3851362 , 2.731592  , ..., 0.        , 1.3851362 ,\n",
       "        0.        ],\n",
       "       ...,\n",
       "       [1.5191313 , 0.        , 0.95091033, ..., 0.        , 0.        ,\n",
       "        0.        ],\n",
       "       [0.        , 0.        , 0.        , ..., 0.        , 0.        ,\n",
       "        0.        ],\n",
       "       [1.1785693 , 0.        , 0.        , ..., 0.        , 0.        ,\n",
       "        0.        ]], dtype=float32)"
      ]
     },
     "execution_count": 92,
     "metadata": {},
     "output_type": "execute_result"
    }
   ],
   "source": [
    "print(len(torch.cat(test_targets_list).cpu().detach().numpy()))\n",
    "torch.cat(test_targets_list).cpu().detach().numpy()"
   ]
  },
  {
   "cell_type": "code",
   "execution_count": 50,
   "metadata": {
    "tags": []
   },
   "outputs": [],
   "source": [
    "import pandas as pd\n",
    "\n",
    "preds_test_per_cell = pd.DataFrame({'celltype': flattened_list, 'r2_score': r2_score(np.transpose(torch.cat(test_targets_list).cpu().detach().numpy()), np.transpose(torch.cat(test_outputs_list).cpu().detach().numpy()), multioutput='raw_values')})\n",
    "\n",
    "preds_test_per_gene = pd.DataFrame({'gene': data_constracter.adata.var_names, 'r2_score': r2_score(torch.cat(test_targets_list).cpu().detach().numpy(), torch.cat(test_outputs_list).cpu().detach().numpy(), multioutput='raw_values')})\n",
    "\n"
   ]
  },
  {
   "cell_type": "code",
   "execution_count": 51,
   "metadata": {
    "tags": []
   },
   "outputs": [
    {
     "data": {
      "text/html": [
       "<div>\n",
       "<style scoped>\n",
       "    .dataframe tbody tr th:only-of-type {\n",
       "        vertical-align: middle;\n",
       "    }\n",
       "\n",
       "    .dataframe tbody tr th {\n",
       "        vertical-align: top;\n",
       "    }\n",
       "\n",
       "    .dataframe thead th {\n",
       "        text-align: right;\n",
       "    }\n",
       "</style>\n",
       "<table border=\"1\" class=\"dataframe\">\n",
       "  <thead>\n",
       "    <tr style=\"text-align: right;\">\n",
       "      <th></th>\n",
       "      <th>celltype</th>\n",
       "      <th>r2_score</th>\n",
       "    </tr>\n",
       "  </thead>\n",
       "  <tbody>\n",
       "    <tr>\n",
       "      <th>0</th>\n",
       "      <td>1</td>\n",
       "      <td>0.755812</td>\n",
       "    </tr>\n",
       "    <tr>\n",
       "      <th>1</th>\n",
       "      <td>16</td>\n",
       "      <td>0.277310</td>\n",
       "    </tr>\n",
       "    <tr>\n",
       "      <th>2</th>\n",
       "      <td>0</td>\n",
       "      <td>0.489664</td>\n",
       "    </tr>\n",
       "    <tr>\n",
       "      <th>3</th>\n",
       "      <td>1</td>\n",
       "      <td>0.393608</td>\n",
       "    </tr>\n",
       "    <tr>\n",
       "      <th>4</th>\n",
       "      <td>0</td>\n",
       "      <td>0.411930</td>\n",
       "    </tr>\n",
       "  </tbody>\n",
       "</table>\n",
       "</div>"
      ],
      "text/plain": [
       "   celltype  r2_score\n",
       "0         1  0.755812\n",
       "1        16  0.277310\n",
       "2         0  0.489664\n",
       "3         1  0.393608\n",
       "4         0  0.411930"
      ]
     },
     "execution_count": 51,
     "metadata": {},
     "output_type": "execute_result"
    }
   ],
   "source": [
    "preds_test_per_cell[0:5]"
   ]
  },
  {
   "cell_type": "code",
   "execution_count": 52,
   "metadata": {
    "tags": []
   },
   "outputs": [
    {
     "data": {
      "text/html": [
       "<div>\n",
       "<style scoped>\n",
       "    .dataframe tbody tr th:only-of-type {\n",
       "        vertical-align: middle;\n",
       "    }\n",
       "\n",
       "    .dataframe tbody tr th {\n",
       "        vertical-align: top;\n",
       "    }\n",
       "\n",
       "    .dataframe thead th {\n",
       "        text-align: right;\n",
       "    }\n",
       "</style>\n",
       "<table border=\"1\" class=\"dataframe\">\n",
       "  <thead>\n",
       "    <tr style=\"text-align: right;\">\n",
       "      <th></th>\n",
       "      <th>gene</th>\n",
       "      <th>r2_score</th>\n",
       "    </tr>\n",
       "  </thead>\n",
       "  <tbody>\n",
       "    <tr>\n",
       "      <th>0</th>\n",
       "      <td>Prkcq</td>\n",
       "      <td>0.158854</td>\n",
       "    </tr>\n",
       "    <tr>\n",
       "      <th>1</th>\n",
       "      <td>Col5a1</td>\n",
       "      <td>0.207687</td>\n",
       "    </tr>\n",
       "    <tr>\n",
       "      <th>2</th>\n",
       "      <td>Grik3</td>\n",
       "      <td>0.288107</td>\n",
       "    </tr>\n",
       "    <tr>\n",
       "      <th>3</th>\n",
       "      <td>Igfbp2</td>\n",
       "      <td>0.355741</td>\n",
       "    </tr>\n",
       "    <tr>\n",
       "      <th>4</th>\n",
       "      <td>Osr1</td>\n",
       "      <td>0.230536</td>\n",
       "    </tr>\n",
       "  </tbody>\n",
       "</table>\n",
       "</div>"
      ],
      "text/plain": [
       "     gene  r2_score\n",
       "0   Prkcq  0.158854\n",
       "1  Col5a1  0.207687\n",
       "2   Grik3  0.288107\n",
       "3  Igfbp2  0.355741\n",
       "4    Osr1  0.230536"
      ]
     },
     "execution_count": 52,
     "metadata": {},
     "output_type": "execute_result"
    }
   ],
   "source": [
    "preds_test_per_gene[0:5]"
   ]
  },
  {
   "cell_type": "code",
   "execution_count": 53,
   "metadata": {
    "tags": []
   },
   "outputs": [],
   "source": [
    "# huge class inbalance problem, need to handel -> add weight?\n",
    "# add pooling"
   ]
  },
  {
   "cell_type": "code",
   "execution_count": 54,
   "metadata": {
    "tags": []
   },
   "outputs": [
    {
     "data": {
      "image/png": "[encoded data removed]",
      "text/plain": [
       "<Figure size 1000x600 with 1 Axes>"
      ]
     },
     "metadata": {},
     "output_type": "display_data"
    },
    {
     "name": "stdout",
     "output_type": "stream",
     "text": [
      "         gene  r2_score\n",
      "49      Pvalb  0.646933\n",
      "31       Gfap  0.610155\n",
      "10      Calb1  0.601062\n",
      "293   Ppp1r17  0.597634\n",
      "214   Slc17a7  0.553041\n",
      "..        ...       ...\n",
      "522  Blank-40 -0.085842\n",
      "294     Dmrt2 -0.086027\n",
      "119      Fli1 -0.091145\n",
      "308      Casr -0.099311\n",
      "138    Fibcd1 -0.173082\n",
      "\n",
      "[550 rows x 2 columns]\n"
     ]
    }
   ],
   "source": [
    "import matplotlib.pyplot as plt\n",
    "\n",
    "# Plotting the histogram\n",
    "plt.figure(figsize=(10,6))\n",
    "plt.hist(preds_test_per_gene['r2_score'], bins=20, alpha=0.8, color='skyblue', edgecolor='black')\n",
    "plt.title('R2 Score Distribution per Gene')\n",
    "plt.xlabel('R2 Score')\n",
    "plt.ylabel('Frequency')\n",
    "plt.show()\n",
    "\n",
    "# Sorting by r2_score\n",
    "preds_test_per_gene = preds_test_per_gene.sort_values(by='r2_score', ascending=False)\n",
    "\n",
    "# Display the sorted DataFrame\n",
    "print(preds_test_per_gene)\n"
   ]
  },
  {
   "cell_type": "code",
   "execution_count": 55,
   "metadata": {
    "tags": []
   },
   "outputs": [
    {
     "data": {
      "text/html": [
       "<div>\n",
       "<style scoped>\n",
       "    .dataframe tbody tr th:only-of-type {\n",
       "        vertical-align: middle;\n",
       "    }\n",
       "\n",
       "    .dataframe tbody tr th {\n",
       "        vertical-align: top;\n",
       "    }\n",
       "\n",
       "    .dataframe thead th {\n",
       "        text-align: right;\n",
       "    }\n",
       "</style>\n",
       "<table border=\"1\" class=\"dataframe\">\n",
       "  <thead>\n",
       "    <tr style=\"text-align: right;\">\n",
       "      <th></th>\n",
       "      <th>gene</th>\n",
       "      <th>r2_score</th>\n",
       "    </tr>\n",
       "  </thead>\n",
       "  <tbody>\n",
       "    <tr>\n",
       "      <th>49</th>\n",
       "      <td>Pvalb</td>\n",
       "      <td>0.646933</td>\n",
       "    </tr>\n",
       "    <tr>\n",
       "      <th>31</th>\n",
       "      <td>Gfap</td>\n",
       "      <td>0.610155</td>\n",
       "    </tr>\n",
       "    <tr>\n",
       "      <th>10</th>\n",
       "      <td>Calb1</td>\n",
       "      <td>0.601062</td>\n",
       "    </tr>\n",
       "    <tr>\n",
       "      <th>293</th>\n",
       "      <td>Ppp1r17</td>\n",
       "      <td>0.597634</td>\n",
       "    </tr>\n",
       "    <tr>\n",
       "      <th>214</th>\n",
       "      <td>Slc17a7</td>\n",
       "      <td>0.553041</td>\n",
       "    </tr>\n",
       "    <tr>\n",
       "      <th>...</th>\n",
       "      <td>...</td>\n",
       "      <td>...</td>\n",
       "    </tr>\n",
       "    <tr>\n",
       "      <th>522</th>\n",
       "      <td>Blank-40</td>\n",
       "      <td>-0.085842</td>\n",
       "    </tr>\n",
       "    <tr>\n",
       "      <th>294</th>\n",
       "      <td>Dmrt2</td>\n",
       "      <td>-0.086027</td>\n",
       "    </tr>\n",
       "    <tr>\n",
       "      <th>119</th>\n",
       "      <td>Fli1</td>\n",
       "      <td>-0.091145</td>\n",
       "    </tr>\n",
       "    <tr>\n",
       "      <th>308</th>\n",
       "      <td>Casr</td>\n",
       "      <td>-0.099311</td>\n",
       "    </tr>\n",
       "    <tr>\n",
       "      <th>138</th>\n",
       "      <td>Fibcd1</td>\n",
       "      <td>-0.173082</td>\n",
       "    </tr>\n",
       "  </tbody>\n",
       "</table>\n",
       "<p>550 rows × 2 columns</p>\n",
       "</div>"
      ],
      "text/plain": [
       "         gene  r2_score\n",
       "49      Pvalb  0.646933\n",
       "31       Gfap  0.610155\n",
       "10      Calb1  0.601062\n",
       "293   Ppp1r17  0.597634\n",
       "214   Slc17a7  0.553041\n",
       "..        ...       ...\n",
       "522  Blank-40 -0.085842\n",
       "294     Dmrt2 -0.086027\n",
       "119      Fli1 -0.091145\n",
       "308      Casr -0.099311\n",
       "138    Fibcd1 -0.173082\n",
       "\n",
       "[550 rows x 2 columns]"
      ]
     },
     "execution_count": 55,
     "metadata": {},
     "output_type": "execute_result"
    },
    {
     "data": {
      "image/png": "[encoded data removed]",
      "text/plain": [
       "<Figure size 640x480 with 1 Axes>"
      ]
     },
     "metadata": {},
     "output_type": "display_data"
    }
   ],
   "source": [
    "preds_test_per_gene\n",
    "\n",
    "# plot r2 score distribution per gene, histogram\n",
    "# density plot\n",
    "preds_test_per_gene.r2_score.plot.kde()\n",
    "#preds_test_per_gene.r2_score.plot.hist(bins=20, alpha=0.8)\n",
    "\n",
    "# plot r2 score distribution per celltype, histogram\n",
    "#preds_test_per_cell.r2_score.plot.hist(bins=10, alpha=0.8)\n",
    "\n",
    "# sort by r2 score\n",
    "preds_test_per_gene.sort_values(by='r2_score', ascending=False, inplace=True)\n",
    "preds_test_per_gene"
   ]
  },
  {
   "cell_type": "code",
   "execution_count": 28,
   "metadata": {
    "tags": []
   },
   "outputs": [
    {
     "data": {
      "text/html": [
       "<div>\n",
       "<style scoped>\n",
       "    .dataframe tbody tr th:only-of-type {\n",
       "        vertical-align: middle;\n",
       "    }\n",
       "\n",
       "    .dataframe tbody tr th {\n",
       "        vertical-align: top;\n",
       "    }\n",
       "\n",
       "    .dataframe thead th {\n",
       "        text-align: right;\n",
       "    }\n",
       "</style>\n",
       "<table border=\"1\" class=\"dataframe\">\n",
       "  <thead>\n",
       "    <tr style=\"text-align: right;\">\n",
       "      <th></th>\n",
       "      <th>celltype</th>\n",
       "      <th>r2_score</th>\n",
       "    </tr>\n",
       "  </thead>\n",
       "  <tbody>\n",
       "    <tr>\n",
       "      <th>0</th>\n",
       "      <td>MOB-DG-IMN</td>\n",
       "      <td>0.495735</td>\n",
       "    </tr>\n",
       "    <tr>\n",
       "      <th>1</th>\n",
       "      <td>IT-ET Glut</td>\n",
       "      <td>0.375281</td>\n",
       "    </tr>\n",
       "    <tr>\n",
       "      <th>2</th>\n",
       "      <td>MGE GABA</td>\n",
       "      <td>0.395603</td>\n",
       "    </tr>\n",
       "    <tr>\n",
       "      <th>3</th>\n",
       "      <td>MGE GABA</td>\n",
       "      <td>0.372851</td>\n",
       "    </tr>\n",
       "    <tr>\n",
       "      <th>4</th>\n",
       "      <td>Vascular</td>\n",
       "      <td>0.339388</td>\n",
       "    </tr>\n",
       "    <tr>\n",
       "      <th>...</th>\n",
       "      <td>...</td>\n",
       "      <td>...</td>\n",
       "    </tr>\n",
       "    <tr>\n",
       "      <th>102691</th>\n",
       "      <td>Oligo</td>\n",
       "      <td>0.613253</td>\n",
       "    </tr>\n",
       "    <tr>\n",
       "      <th>102692</th>\n",
       "      <td>IT-ET Glut</td>\n",
       "      <td>-0.135538</td>\n",
       "    </tr>\n",
       "    <tr>\n",
       "      <th>102693</th>\n",
       "      <td>Oligo</td>\n",
       "      <td>0.111933</td>\n",
       "    </tr>\n",
       "    <tr>\n",
       "      <th>102694</th>\n",
       "      <td>Oligo</td>\n",
       "      <td>0.115551</td>\n",
       "    </tr>\n",
       "    <tr>\n",
       "      <th>102695</th>\n",
       "      <td>IT-ET Glut</td>\n",
       "      <td>0.594217</td>\n",
       "    </tr>\n",
       "  </tbody>\n",
       "</table>\n",
       "<p>102696 rows × 2 columns</p>\n",
       "</div>"
      ],
      "text/plain": [
       "          celltype  r2_score\n",
       "0       MOB-DG-IMN  0.495735\n",
       "1       IT-ET Glut  0.375281\n",
       "2         MGE GABA  0.395603\n",
       "3         MGE GABA  0.372851\n",
       "4         Vascular  0.339388\n",
       "...            ...       ...\n",
       "102691       Oligo  0.613253\n",
       "102692  IT-ET Glut -0.135538\n",
       "102693       Oligo  0.111933\n",
       "102694       Oligo  0.115551\n",
       "102695  IT-ET Glut  0.594217\n",
       "\n",
       "[102696 rows x 2 columns]"
      ]
     },
     "execution_count": 28,
     "metadata": {},
     "output_type": "execute_result"
    }
   ],
   "source": [
    "preds_test_per_cell"
   ]
  },
  {
   "cell_type": "code",
   "execution_count": 54,
   "metadata": {
    "tags": []
   },
   "outputs": [
    {
     "ename": "AttributeError",
     "evalue": "'collections.OrderedDict' object has no attribute 'load_state_dict'",
     "output_type": "error",
     "traceback": [
      "\u001b[0;31m---------------------------------------------------------------------------\u001b[0m",
      "\u001b[0;31mAttributeError\u001b[0m                            Traceback (most recent call last)",
      "Cell \u001b[0;32mIn[54], line 14\u001b[0m\n\u001b[1;32m     11\u001b[0m state_dict \u001b[38;5;241m=\u001b[39m torch\u001b[38;5;241m.\u001b[39mload(model_path)\n\u001b[1;32m     13\u001b[0m \u001b[38;5;66;03m# Load the state dictionary into the model\u001b[39;00m\n\u001b[0;32m---> 14\u001b[0m \u001b[43mmodel\u001b[49m\u001b[38;5;241;43m.\u001b[39;49m\u001b[43mload_state_dict\u001b[49m(state_dict)\n\u001b[1;32m     16\u001b[0m \u001b[38;5;66;03m# If you saved the model on a GPU and want to use it on the CPU, use the following line:\u001b[39;00m\n\u001b[1;32m     17\u001b[0m \u001b[38;5;66;03m# state_dict = torch.load(model_path, map_location=torch.device('cpu'))\u001b[39;00m\n\u001b[1;32m     18\u001b[0m \u001b[38;5;66;03m# model.load_state_dict(state_dict)\u001b[39;00m\n\u001b[1;32m     19\u001b[0m \n\u001b[1;32m     20\u001b[0m \u001b[38;5;66;03m# Put the model in evaluation mode if it contains dropout, batch norm, etc.\u001b[39;00m\n\u001b[1;32m     21\u001b[0m model\u001b[38;5;241m.\u001b[39meval()\n",
      "\u001b[0;31mAttributeError\u001b[0m: 'collections.OrderedDict' object has no attribute 'load_state_dict'"
     ]
    }
   ],
   "source": [
    "import torch\n",
    "\n",
    "# Replace 'model.pt' with the actual file path of your model\n",
    "model_path = \"./models/model_fillomgGAT2.pt\"\n",
    "\n",
    "# Define your model architecture (make sure it matches the architecture used to save the model)\n",
    "# Example: If you have a class named 'MyModel', you would need to create an instance of it first.\n",
    "# model = MyModel()\n",
    "\n",
    "# Load the model from the file\n",
    "state_dict = torch.load(model_path)\n",
    "\n",
    "# Load the state dictionary into the model\n",
    "model.load_state_dict(state_dict)\n",
    "\n",
    "# If you saved the model on a GPU and want to use it on the CPU, use the following line:\n",
    "# state_dict = torch.load(model_path, map_location=torch.device('cpu'))\n",
    "# model.load_state_dict(state_dict)\n",
    "\n",
    "# Put the model in evaluation mode if it contains dropout, batch norm, etc.\n",
    "model.eval()"
   ]
  },
  {
   "cell_type": "code",
   "execution_count": 32,
   "metadata": {
    "tags": []
   },
   "outputs": [
    {
     "data": {
      "image/png": "[encoded data removed]",
      "text/plain": [
       "<Figure size 1800x800 with 1 Axes>"
      ]
     },
     "metadata": {},
     "output_type": "display_data"
    }
   ],
   "source": [
    "import seaborn as sns\n",
    "import matplotlib.pyplot as plt\n",
    "\n",
    "# set style\n",
    "sns.set_palette(\"colorblind\")\n",
    "sns.set_context(\"paper\", font_scale=1.5)\n",
    "\n",
    "# make plot larger\n",
    "plt.figure(figsize=(18,8))\n",
    "\n",
    "# rotate x-axis labels\n",
    "plt.xticks(rotation=90)\n",
    "\n",
    "# create plot of mean R2 score per celltype\n",
    "# order bars by mean R2 score\n",
    "\n",
    "# add avlue counts from adata.obs.class_label.value_counts()\n",
    "ax = sns.barplot(x=\"celltype\", y=\"r2_score\", data=preds_test_per_cell, order=preds_test_per_cell.groupby('celltype').mean().sort_values(by='r2_score', ascending=False).index)"
   ]
  },
  {
   "cell_type": "code",
   "execution_count": 56,
   "metadata": {
    "tags": []
   },
   "outputs": [
    {
     "data": {
      "image/png": "[encoded data removed]",
      "text/plain": [
       "<Figure size 1000x600 with 1 Axes>"
      ]
     },
     "metadata": {},
     "output_type": "display_data"
    }
   ],
   "source": [
    "import pandas as pd\n",
    "import matplotlib.pyplot as plt\n",
    "\n",
    "# Get the frequency of each celltype\n",
    "celltype_counts = preds_test_per_cell['celltype'].value_counts().sort_values(ascending=False)\n",
    "\n",
    "plt.figure(figsize=(10,6))\n",
    "plt.bar(celltype_counts.index, celltype_counts.values, alpha=0.8, color='skyblue', edgecolor='black')\n",
    "plt.xticks(rotation='vertical')\n",
    "plt.xticks(rotation=90)\n",
    "plt.title('Celltype Distribution')\n",
    "plt.xlabel('Celltype')\n",
    "plt.ylabel('Frequency')\n",
    "plt.show()\n"
   ]
  },
  {
   "cell_type": "code",
   "execution_count": 57,
   "metadata": {
    "tags": []
   },
   "outputs": [
    {
     "data": {
      "image/png": "[encoded data removed]",
      "text/plain": [
       "<Figure size 1000x600 with 1 Axes>"
      ]
     },
     "metadata": {},
     "output_type": "display_data"
    }
   ],
   "source": [
    "import seaborn as sns\n",
    "import matplotlib.pyplot as plt\n",
    "\n",
    "plt.figure(figsize=(10, 6))\n",
    "sns.violinplot(x=\"celltype\", y=\"r2_score\", data=preds_test_per_cell)\n",
    "# rotate x-axis labels\n",
    "plt.xticks(rotation=90)\n",
    "plt.title('R2 Score Distribution per Gene')\n",
    "plt.xlabel('R2 Score')\n",
    "plt.show()\n"
   ]
  },
  {
   "cell_type": "code",
   "execution_count": null,
   "metadata": {},
   "outputs": [],
   "source": []
  },
  {
   "cell_type": "code",
   "execution_count": 66,
   "metadata": {
    "tags": []
   },
   "outputs": [
    {
     "name": "stderr",
     "output_type": "stream",
     "text": [
      "Processing...\n"
     ]
    },
    {
     "ename": "AttributeError",
     "evalue": "'InMemoryGraphDataset' object has no attribute 'data_loader'",
     "output_type": "error",
     "traceback": [
      "\u001b[0;31m---------------------------------------------------------------------------\u001b[0m",
      "\u001b[0;31mAttributeError\u001b[0m                            Traceback (most recent call last)",
      "Cell \u001b[0;32mIn[66], line 3\u001b[0m\n\u001b[1;32m      1\u001b[0m file_path \u001b[38;5;241m=\u001b[39m \u001b[38;5;124m\"\u001b[39m\u001b[38;5;124m./data/subset_6img_atlas_brain.h5ad\u001b[39m\u001b[38;5;124m\"\u001b[39m\n\u001b[1;32m      2\u001b[0m root_path \u001b[38;5;241m=\u001b[39m \u001b[38;5;124m\"\u001b[39m\u001b[38;5;124m./data\u001b[39m\u001b[38;5;124m\"\u001b[39m\n\u001b[0;32m----> 3\u001b[0m dataset \u001b[38;5;241m=\u001b[39m \u001b[43mInMemoryGraphDataset\u001b[49m\u001b[43m(\u001b[49m\u001b[43mroot\u001b[49m\u001b[38;5;241;43m=\u001b[39;49m\u001b[43m \u001b[49m\u001b[43mroot_path\u001b[49m\u001b[43m,\u001b[49m\n\u001b[1;32m      4\u001b[0m \u001b[43m                               \u001b[49m\u001b[43mdata_names\u001b[49m\u001b[43m \u001b[49m\u001b[38;5;241;43m=\u001b[39;49m\u001b[43m \u001b[49m\u001b[38;5;124;43m\"\u001b[39;49m\u001b[38;5;124;43mdata_test\u001b[39;49m\u001b[38;5;124;43m\"\u001b[39;49m\u001b[43m,\u001b[49m\n\u001b[1;32m      5\u001b[0m \u001b[43m                               \u001b[49m\u001b[43mfile_path\u001b[49m\u001b[38;5;241;43m=\u001b[39;49m\u001b[43mfile_path\u001b[49m\u001b[43m,\u001b[49m\u001b[43m \u001b[49m\u001b[43mimage_col\u001b[49m\u001b[38;5;241;43m=\u001b[39;49m\u001b[38;5;124;43m\"\u001b[39;49m\u001b[38;5;124;43msection\u001b[39;49m\u001b[38;5;124;43m\"\u001b[39;49m\u001b[43m,\u001b[49m\u001b[43m \u001b[49m\u001b[43mlabel_col\u001b[49m\u001b[38;5;241;43m=\u001b[39;49m\u001b[38;5;124;43m\"\u001b[39;49m\u001b[38;5;124;43mclass_label\u001b[39;49m\u001b[38;5;124;43m\"\u001b[39;49m\u001b[43m,\u001b[49m\u001b[43m \u001b[49m\u001b[43minclude_label\u001b[49m\u001b[38;5;241;43m=\u001b[39;49m\u001b[38;5;28;43;01mFalse\u001b[39;49;00m\u001b[43m,\u001b[49m\u001b[43m \u001b[49m\u001b[43mradius\u001b[49m\u001b[38;5;241;43m=\u001b[39;49m\u001b[38;5;241;43m20\u001b[39;49m\u001b[43m,\u001b[49m\u001b[43mnode_level\u001b[49m\u001b[43m \u001b[49m\u001b[38;5;241;43m=\u001b[39;49m\u001b[43m \u001b[49m\u001b[38;5;241;43m1\u001b[39;49m\u001b[43m,\u001b[49m\u001b[43m \u001b[49m\u001b[43mbatch_size\u001b[49m\u001b[38;5;241;43m=\u001b[39;49m\u001b[38;5;241;43m1\u001b[39;49m\u001b[43m)\u001b[49m\n",
      "File \u001b[0;32m/data/nasif12/home_if12/liaoc/spatial_atlas_ssl/spatialSSL/Dataset.py:64\u001b[0m, in \u001b[0;36mInMemoryGraphDataset.__init__\u001b[0;34m(self, root, data_names, *args, **kwargs)\u001b[0m\n\u001b[1;32m     62\u001b[0m \u001b[38;5;66;03m#self.data_loader = FullImageConstracter(*args, **kwargs)\u001b[39;00m\n\u001b[1;32m     63\u001b[0m \u001b[38;5;28mself\u001b[39m\u001b[38;5;241m.\u001b[39mroot \u001b[38;5;241m=\u001b[39m root\n\u001b[0;32m---> 64\u001b[0m \u001b[38;5;28;43msuper\u001b[39;49m\u001b[43m(\u001b[49m\u001b[43mInMemoryDataset\u001b[49m\u001b[43m,\u001b[49m\u001b[43m \u001b[49m\u001b[38;5;28;43mself\u001b[39;49m\u001b[43m)\u001b[49m\u001b[38;5;241;43m.\u001b[39;49m\u001b[38;5;21;43m__init__\u001b[39;49m\u001b[43m(\u001b[49m\u001b[43mroot\u001b[49m\u001b[43m,\u001b[49m\u001b[43m \u001b[49m\u001b[43mtransform\u001b[49m\u001b[38;5;241;43m=\u001b[39;49m\u001b[38;5;28;43;01mNone\u001b[39;49;00m\u001b[43m,\u001b[49m\u001b[43m \u001b[49m\u001b[43mpre_transform\u001b[49m\u001b[38;5;241;43m=\u001b[39;49m\u001b[38;5;28;43;01mNone\u001b[39;49;00m\u001b[43m)\u001b[49m\n",
      "File \u001b[0;32m~/.conda/envs/ml_genetic/lib/python3.11/site-packages/torch_geometric/data/dataset.py:97\u001b[0m, in \u001b[0;36mDataset.__init__\u001b[0;34m(self, root, transform, pre_transform, pre_filter, log)\u001b[0m\n\u001b[1;32m     94\u001b[0m     \u001b[38;5;28mself\u001b[39m\u001b[38;5;241m.\u001b[39m_download()\n\u001b[1;32m     96\u001b[0m \u001b[38;5;28;01mif\u001b[39;00m \u001b[38;5;28mself\u001b[39m\u001b[38;5;241m.\u001b[39mhas_process:\n\u001b[0;32m---> 97\u001b[0m     \u001b[38;5;28;43mself\u001b[39;49m\u001b[38;5;241;43m.\u001b[39;49m\u001b[43m_process\u001b[49m\u001b[43m(\u001b[49m\u001b[43m)\u001b[49m\n",
      "File \u001b[0;32m~/.conda/envs/ml_genetic/lib/python3.11/site-packages/torch_geometric/data/dataset.py:230\u001b[0m, in \u001b[0;36mDataset._process\u001b[0;34m(self)\u001b[0m\n\u001b[1;32m    227\u001b[0m     \u001b[38;5;28mprint\u001b[39m(\u001b[38;5;124m'\u001b[39m\u001b[38;5;124mProcessing...\u001b[39m\u001b[38;5;124m'\u001b[39m, file\u001b[38;5;241m=\u001b[39msys\u001b[38;5;241m.\u001b[39mstderr)\n\u001b[1;32m    229\u001b[0m makedirs(\u001b[38;5;28mself\u001b[39m\u001b[38;5;241m.\u001b[39mprocessed_dir)\n\u001b[0;32m--> 230\u001b[0m \u001b[38;5;28;43mself\u001b[39;49m\u001b[38;5;241;43m.\u001b[39;49m\u001b[43mprocess\u001b[49m\u001b[43m(\u001b[49m\u001b[43m)\u001b[49m\n\u001b[1;32m    232\u001b[0m path \u001b[38;5;241m=\u001b[39m osp\u001b[38;5;241m.\u001b[39mjoin(\u001b[38;5;28mself\u001b[39m\u001b[38;5;241m.\u001b[39mprocessed_dir, \u001b[38;5;124m'\u001b[39m\u001b[38;5;124mpre_transform.pt\u001b[39m\u001b[38;5;124m'\u001b[39m)\n\u001b[1;32m    233\u001b[0m torch\u001b[38;5;241m.\u001b[39msave(_repr(\u001b[38;5;28mself\u001b[39m\u001b[38;5;241m.\u001b[39mpre_transform), path)\n",
      "File \u001b[0;32m/data/nasif12/home_if12/liaoc/spatial_atlas_ssl/spatialSSL/Dataset.py:79\u001b[0m, in \u001b[0;36mInMemoryGraphDataset.process\u001b[0;34m(self)\u001b[0m\n\u001b[1;32m     78\u001b[0m \u001b[38;5;28;01mdef\u001b[39;00m \u001b[38;5;21mprocess\u001b[39m(\u001b[38;5;28mself\u001b[39m):\n\u001b[0;32m---> 79\u001b[0m     \u001b[38;5;28;43mself\u001b[39;49m\u001b[38;5;241;43m.\u001b[39;49m\u001b[43mdata_loader\u001b[49m\u001b[38;5;241m.\u001b[39mload_data()\n\u001b[1;32m     80\u001b[0m     data_list \u001b[38;5;241m=\u001b[39m \u001b[38;5;28mself\u001b[39m\u001b[38;5;241m.\u001b[39mdata_loader\u001b[38;5;241m.\u001b[39mconstruct_graph()  \u001b[38;5;66;03m# Here you generate your data\u001b[39;00m\n\u001b[1;32m     81\u001b[0m     data, slices \u001b[38;5;241m=\u001b[39m \u001b[38;5;28mself\u001b[39m\u001b[38;5;241m.\u001b[39mcollate(data_list)\n",
      "File \u001b[0;32m~/.conda/envs/ml_genetic/lib/python3.11/site-packages/torch_geometric/data/in_memory_dataset.py:175\u001b[0m, in \u001b[0;36mInMemoryDataset.__getattr__\u001b[0;34m(self, key)\u001b[0m\n\u001b[1;32m    172\u001b[0m         data_list \u001b[38;5;241m=\u001b[39m [\u001b[38;5;28mself\u001b[39m\u001b[38;5;241m.\u001b[39mget(i) \u001b[38;5;28;01mfor\u001b[39;00m i \u001b[38;5;129;01min\u001b[39;00m \u001b[38;5;28mself\u001b[39m\u001b[38;5;241m.\u001b[39mindices()]\n\u001b[1;32m    173\u001b[0m         \u001b[38;5;28;01mreturn\u001b[39;00m Batch\u001b[38;5;241m.\u001b[39mfrom_data_list(data_list)[key]\n\u001b[0;32m--> 175\u001b[0m \u001b[38;5;28;01mraise\u001b[39;00m \u001b[38;5;167;01mAttributeError\u001b[39;00m(\u001b[38;5;124mf\u001b[39m\u001b[38;5;124m\"\u001b[39m\u001b[38;5;124m'\u001b[39m\u001b[38;5;132;01m{\u001b[39;00m\u001b[38;5;28mself\u001b[39m\u001b[38;5;241m.\u001b[39m\u001b[38;5;18m__class__\u001b[39m\u001b[38;5;241m.\u001b[39m\u001b[38;5;18m__name__\u001b[39m\u001b[38;5;132;01m}\u001b[39;00m\u001b[38;5;124m'\u001b[39m\u001b[38;5;124m object has no \u001b[39m\u001b[38;5;124m\"\u001b[39m\n\u001b[1;32m    176\u001b[0m                      \u001b[38;5;124mf\u001b[39m\u001b[38;5;124m\"\u001b[39m\u001b[38;5;124mattribute \u001b[39m\u001b[38;5;124m'\u001b[39m\u001b[38;5;132;01m{\u001b[39;00mkey\u001b[38;5;132;01m}\u001b[39;00m\u001b[38;5;124m'\u001b[39m\u001b[38;5;124m\"\u001b[39m)\n",
      "\u001b[0;31mAttributeError\u001b[0m: 'InMemoryGraphDataset' object has no attribute 'data_loader'"
     ]
    }
   ],
   "source": [
    "file_path = \"./data/subset_6img_atlas_brain.h5ad\"\n",
    "root_path = \"./data\"\n",
    "dataset = InMemoryGraphDataset(root= root_path,\n",
    "                               data_names = \"data_test\",\n",
    "                               file_path=file_path, image_col=\"section\", label_col=\"class_label\", include_label=False, radius=20,node_level = 1, batch_size=1)\n",
    "\n"
   ]
  },
  {
   "cell_type": "code",
   "execution_count": null,
   "metadata": {
    "tags": []
   },
   "outputs": [],
   "source": [
    "# Load your dataset\n",
    "import torch\n",
    "data = torch.load('./data/data_test.pt')"
   ]
  },
  {
   "cell_type": "code",
   "execution_count": null,
   "metadata": {},
   "outputs": [],
   "source": []
  }
 ],
 "metadata": {
  "kernelspec": {
   "display_name": "Python 3 (ipykernel)",
   "language": "python",
   "name": "python3"
  },
  "language_info": {
   "codemirror_mode": {
    "name": "ipython",
    "version": 3
   },
   "file_extension": ".py",
   "mimetype": "text/x-python",
   "name": "python",
   "nbconvert_exporter": "python",
   "pygments_lexer": "ipython3",
   "version": "3.11.4"
  }
 },
 "nbformat": 4,
 "nbformat_minor": 4
}
