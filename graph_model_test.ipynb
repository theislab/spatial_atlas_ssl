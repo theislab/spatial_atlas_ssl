{
 "cells": [
  {
   "cell_type": "code",
   "execution_count": 1,
   "metadata": {
    "tags": [],
    "ExecuteTime": {
     "end_time": "2023-08-14T06:32:18.311361900Z",
     "start_time": "2023-08-14T06:32:03.082704100Z"
    }
   },
   "outputs": [
    {
     "name": "stderr",
     "output_type": "stream",
     "text": [
      "C:\\Users\\lg\\anaconda3\\envs\\spatial_atlas_ssl\\lib\\site-packages\\geopandas\\_compat.py:124: UserWarning: The Shapely GEOS version (3.11.1-CAPI-1.17.1) is incompatible with the GEOS version PyGEOS was compiled with (3.10.4-CAPI-1.16.2). Conversions between both will be slow.\n",
      "  warnings.warn(\n",
      "C:\\Users\\lg\\anaconda3\\envs\\spatial_atlas_ssl\\lib\\site-packages\\spatialdata\\__init__.py:9: UserWarning: Geopandas was set to use PyGEOS, changing to shapely 2.0 with:\n",
      "\n",
      "\tgeopandas.options.use_pygeos = True\n",
      "\n",
      "If you intended to use PyGEOS, set the option to False.\n",
      "  _check_geopandas_using_shapely()\n",
      "C:\\Users\\lg\\anaconda3\\envs\\spatial_atlas_ssl\\lib\\site-packages\\torch_geometric\\typing.py:31: UserWarning: An issue occurred while importing 'torch-scatter'. Disabling its usage. Stacktrace: Could not find module 'C:\\Users\\lg\\anaconda3\\envs\\spatial_atlas_ssl\\Lib\\site-packages\\torch_scatter\\_scatter_cuda.pyd' (or one of its dependencies). Try using the full path with constructor syntax.\n",
      "  warnings.warn(f\"An issue occurred while importing 'torch-scatter'. \"\n",
      "C:\\Users\\lg\\anaconda3\\envs\\spatial_atlas_ssl\\lib\\site-packages\\torch_geometric\\typing.py:42: UserWarning: An issue occurred while importing 'torch-sparse'. Disabling its usage. Stacktrace: Could not find module 'C:\\Users\\lg\\anaconda3\\envs\\spatial_atlas_ssl\\Lib\\site-packages\\torch_sparse\\_convert_cuda.pyd' (or one of its dependencies). Try using the full path with constructor syntax.\n",
      "  warnings.warn(f\"An issue occurred while importing 'torch-sparse'. \"\n"
     ]
    }
   ],
   "source": [
    "from spatialSSL.Dataloader import FullImageDatasetConstructor\n",
    "from spatialSSL.Utils import split_dataset\n",
    "from spatialSSL.Training import train\n",
    "\n",
    "from spatialSSL.Training import train_epoch\n",
    "from spatialSSL.Testing import test\n",
    "from spatialSSL.Dataset import InMemoryGraphDataset\n",
    "import numpy as np"
   ]
  },
  {
   "cell_type": "code",
   "execution_count": 2,
   "metadata": {
    "tags": [],
    "ExecuteTime": {
     "end_time": "2023-08-14T06:32:18.327446800Z",
     "start_time": "2023-08-14T06:32:18.317201800Z"
    }
   },
   "outputs": [
    {
     "data": {
      "text/plain": "'\\nimport os\\nimport scanpy as sc\\n\\nadata = sc.read(\"./data/atlas_brain_638850_CCF.h5ad\")\\n# subset the adata\\nselected_img = np.unique(adata.obs[\"section\"])[0:20]\\nsub_adata = adata[adata.obs[\"section\"].isin(selected_img)].copy()\\n\\n# specify the output directory and file\\noutput_dir = \\'./data\\'\\nos.makedirs(output_dir, exist_ok=True)\\noutput_file = os.path.join(output_dir, \\'sub_20img_adata.h5ad\\')\\n\\n# write the sub_adata into a .h5ad file\\nsub_adata.write(output_file)\\n'"
     },
     "execution_count": 2,
     "metadata": {},
     "output_type": "execute_result"
    }
   ],
   "source": [
    "'''\n",
    "import os\n",
    "import scanpy as sc\n",
    "\n",
    "adata = sc.read(\"./data/atlas_brain_638850_CCF.h5ad\")\n",
    "# subset the adata\n",
    "selected_img = np.unique(adata.obs[\"section\"])[0:20]\n",
    "sub_adata = adata[adata.obs[\"section\"].isin(selected_img)].copy()\n",
    "\n",
    "# specify the output directory and file\n",
    "output_dir = './data'\n",
    "os.makedirs(output_dir, exist_ok=True)\n",
    "output_file = os.path.join(output_dir, 'sub_20img_adata.h5ad')\n",
    "\n",
    "# write the sub_adata into a .h5ad file\n",
    "sub_adata.write(output_file)\n",
    "'''"
   ]
  },
  {
   "cell_type": "code",
   "execution_count": 3,
   "metadata": {
    "collapsed": false,
    "tags": [],
    "ExecuteTime": {
     "end_time": "2023-08-14T06:32:18.394706Z",
     "start_time": "2023-08-14T06:32:18.327446800Z"
    }
   },
   "outputs": [],
   "source": [
    "# Create an instance of Full_image_dataloader\n",
    "\n",
    " \n",
    "#file_path = \"./data/img_119670929.h5ad\"\n",
    "file_path = \"./data/subset_6img_atlas_brain.h5ad\"\n",
    "#file_path = \"./data/atlas_brain_638850_CCF.h5ad\"\n",
    "#file_path = \"./data/sub_20img_adata.h5ad\"\n",
    "\n",
    "data_constracter = FullImageDatasetConstructor(file_path=file_path,\n",
    "                                        image_col=\"section\",\n",
    "                                        label_col=\"class_label\",\n",
    "                                        include_label=False,\n",
    "                                        radius=30,\n",
    "                                        node_level = 1,\n",
    "                                               \n",
    "                                       random_mask_percentage = 0.2,\n",
    "                                       #    niche_to_mask = 100\n",
    "                                       #celltype_to_mask = \"LQ\"\n",
    "                                               )\n"
   ]
  },
  {
   "cell_type": "code",
   "execution_count": 4,
   "metadata": {
    "tags": [],
    "ExecuteTime": {
     "end_time": "2023-08-14T06:32:19.976740700Z",
     "start_time": "2023-08-14T06:32:18.347436400Z"
    }
   },
   "outputs": [],
   "source": [
    "# Load the data\n",
    "data_constracter.load_data()"
   ]
  },
  {
   "cell_type": "code",
   "execution_count": 5,
   "outputs": [
    {
     "data": {
      "text/plain": "0.2"
     },
     "execution_count": 5,
     "metadata": {},
     "output_type": "execute_result"
    }
   ],
   "source": [
    "data_constracter.random_mask_percentage"
   ],
   "metadata": {
    "collapsed": false,
    "ExecuteTime": {
     "end_time": "2023-08-14T06:32:19.992835500Z",
     "start_time": "2023-08-14T06:32:19.976740700Z"
    }
   }
  },
  {
   "cell_type": "code",
   "execution_count": 6,
   "metadata": {
    "collapsed": false,
    "tags": [],
    "ExecuteTime": {
     "end_time": "2023-08-14T06:32:39.235463600Z",
     "start_time": "2023-08-14T06:32:19.992835500Z"
    }
   },
   "outputs": [
    {
     "name": "stderr",
     "output_type": "stream",
     "text": [
      "C:\\Users\\lg\\PycharmProjects\\spatial_atlas_ssl\\spatialSSL\\Dataloader.py:225: ImplicitModificationWarning: Trying to modify attribute `.obs` of view, initializing view as actual.\n",
      "  self.adata.obs['cell_type_encoded'] = encode_cell_type.transform(self.adata.obs[self.label_col].values)\n"
     ]
    },
    {
     "data": {
      "text/plain": "Constructing Graphs:   0%|          | 0/6 [00:00<?, ?it/s]",
      "application/vnd.jupyter.widget-view+json": {
       "version_major": 2,
       "version_minor": 0,
       "model_id": "929ef48e5df14a7ba92ae6fd2822ca16"
      }
     },
     "metadata": {},
     "output_type": "display_data"
    }
   ],
   "source": [
    "# Construct the graph\n",
    "graph_list = data_constracter.construct_graph()"
   ]
  },
  {
   "cell_type": "code",
   "execution_count": 8,
   "outputs": [
    {
     "data": {
      "text/plain": "Data(x=[26230, 550], edge_index=[2, 234482], edge_attr=[26230, 26230], cell_mask=[26230], cell_mask_index=[5246], cell_type=[26230], image='1199650929', num_nodes=26230)"
     },
     "execution_count": 8,
     "metadata": {},
     "output_type": "execute_result"
    }
   ],
   "source": [
    "graph_list[0]"
   ],
   "metadata": {
    "collapsed": false,
    "ExecuteTime": {
     "end_time": "2023-08-13T20:33:01.215382Z",
     "start_time": "2023-08-13T20:33:01.168822200Z"
    }
   }
  },
  {
   "cell_type": "code",
   "execution_count": 13,
   "outputs": [
    {
     "name": "stdout",
     "output_type": "stream",
     "text": [
      "tensor(indices=tensor([[0, 2]]),\n",
      "       values=tensor([1, 1]),\n",
      "       size=(5,), nnz=2, layout=torch.sparse_coo)\n"
     ]
    }
   ],
   "source": [
    "from scipy.sparse import csr_matrix\n",
    "import torch\n",
    "\n",
    "# Create a dense tensor\n",
    "tensor = torch.tensor([1, 2, 3, 4, 5])\n",
    "\n",
    "# Create a mask tensor with the same shape as the dense tensor\n",
    "mask_indices = torch.tensor([[0, 2]])  # Indices corresponding to the mask values\n",
    "mask_values = torch.tensor([1, 1])     # Values for the mask (they will be ignored)\n",
    "mask = torch.sparse_coo_tensor(mask_indices, mask_values, tensor.size())\n",
    "\n",
    "# Apply the sparse_mask function\n",
    "result = tensor.sparse_mask(mask.coalesce())\n",
    "\n",
    "# Convert the result to dense format if needed\n",
    "result_dense = result.to_dense()\n",
    "\n",
    "print(mask)  # Output will be a tensor with values [1, 0, 3, 0, 0]\n"
   ],
   "metadata": {
    "collapsed": false,
    "ExecuteTime": {
     "end_time": "2023-08-13T20:21:45.216020200Z",
     "start_time": "2023-08-13T20:21:45.153003Z"
    }
   }
  },
  {
   "cell_type": "code",
   "execution_count": 22,
   "outputs": [],
   "source": [
    "data = graph_list[0]\n",
    "data.cell_mask_index = torch.tensor(data.cell_mask_index)"
   ],
   "metadata": {
    "collapsed": false,
    "ExecuteTime": {
     "end_time": "2023-08-13T20:27:48.526394500Z",
     "start_time": "2023-08-13T20:27:48.495140400Z"
    }
   }
  },
  {
   "cell_type": "code",
   "execution_count": 24,
   "outputs": [
    {
     "data": {
      "text/plain": "tensor(indices=tensor([[ 9831,  6589,  9479,  ..., 19133, 22850, 16582]]),\n       values=tensor([1., 1., 1.,  ..., 1., 1., 1.]),\n       size=(26230,), nnz=2623, dtype=torch.float64, layout=torch.sparse_coo)"
     },
     "execution_count": 24,
     "metadata": {},
     "output_type": "execute_result"
    }
   ],
   "source": [
    "mask"
   ],
   "metadata": {
    "collapsed": false,
    "ExecuteTime": {
     "end_time": "2023-08-13T20:28:09.092120600Z",
     "start_time": "2023-08-13T20:28:09.029253400Z"
    }
   }
  },
  {
   "cell_type": "code",
   "execution_count": 23,
   "outputs": [
    {
     "ename": "RuntimeError",
     "evalue": "sparse_mask: operands have incompatible sizes; self has size [26230, 550] but mask has size [26230]",
     "output_type": "error",
     "traceback": [
      "\u001B[1;31m---------------------------------------------------------------------------\u001B[0m",
      "\u001B[1;31mRuntimeError\u001B[0m                              Traceback (most recent call last)",
      "Cell \u001B[1;32mIn[23], line 10\u001B[0m\n\u001B[0;32m      7\u001B[0m mask \u001B[38;5;241m=\u001B[39m torch\u001B[38;5;241m.\u001B[39msparse_coo_tensor(mask_indices, mask_values, (data\u001B[38;5;241m.\u001B[39mnum_nodes,))\n\u001B[0;32m      9\u001B[0m \u001B[38;5;66;03m# Applying the sparse_mask function\u001B[39;00m\n\u001B[1;32m---> 10\u001B[0m result \u001B[38;5;241m=\u001B[39m \u001B[43mx\u001B[49m\u001B[38;5;241;43m.\u001B[39;49m\u001B[43msparse_mask\u001B[49m\u001B[43m(\u001B[49m\u001B[43mmask\u001B[49m\u001B[38;5;241;43m.\u001B[39;49m\u001B[43mcoalesce\u001B[49m\u001B[43m(\u001B[49m\u001B[43m)\u001B[49m\u001B[43m)\u001B[49m\n\u001B[0;32m     12\u001B[0m \u001B[38;5;66;03m# The result is a sparse tensor with the masked values from x\u001B[39;00m\n\u001B[0;32m     13\u001B[0m \u001B[38;5;28mprint\u001B[39m(result)\n",
      "\u001B[1;31mRuntimeError\u001B[0m: sparse_mask: operands have incompatible sizes; self has size [26230, 550] but mask has size [26230]"
     ]
    }
   ],
   "source": [
    "# Extracting the x tensor\n",
    "x = data.x\n",
    "\n",
    "# Creating a mask tensor using cell_mask_index\n",
    "mask_indices = data.cell_mask_index.unsqueeze(0)\n",
    "mask_values = torch.ones(mask_indices.size(1), dtype=torch.float64) # Values for the mask (they will be ignored)\n",
    "mask = torch.sparse_coo_tensor(mask_indices, mask_values, (data.num_nodes,))\n",
    "\n",
    "# Applying the sparse_mask function\n",
    "result = x.sparse_mask(mask.coalesce())\n",
    "\n",
    "# The result is a sparse tensor with the masked values from x\n",
    "print(result)"
   ],
   "metadata": {
    "collapsed": false,
    "ExecuteTime": {
     "end_time": "2023-08-13T20:27:50.002181100Z",
     "start_time": "2023-08-13T20:27:49.953497Z"
    }
   }
  },
  {
   "cell_type": "code",
   "execution_count": 25,
   "metadata": {
    "tags": []
   },
   "outputs": [
    {
     "name": "stdout",
     "output_type": "stream",
     "text": [
      "Estimated memory usage: 2616 bytes\n",
      "Estimated memory usage: 0.00 GB\n"
     ]
    }
   ],
   "source": [
    "import sys\n",
    "from pympler import asizeof\n",
    "def get_size(obj, seen=None):\n",
    "    if seen is None:\n",
    "        seen = set()\n",
    "    obj_id = id(obj)\n",
    "    if obj_id in seen:\n",
    "        return 0\n",
    "    seen.add(obj_id)\n",
    "    size = sys.getsizeof(obj)\n",
    "    if isinstance(obj, dict):\n",
    "        size += sum(get_size(v, seen) for v in obj.values())\n",
    "        size += sum(get_size(k, seen) for k in obj.keys())\n",
    "    elif hasattr(obj, '__dict__'):\n",
    "        size += get_size(obj.__dict__, seen)\n",
    "    elif hasattr(obj, '__iter__') and not isinstance(obj, (str, bytes, bytearray)):\n",
    "        size += sum(get_size(i, seen) for i in obj)\n",
    "    return size\n",
    "\n",
    "total_memory_usage = asizeof.asizeof(graph_list[0])\n",
    "print(f\"Estimated memory usage: {total_memory_usage} bytes\")\n",
    "print(f\"Estimated memory usage: {total_memory_usage / (1024 ** 3):.2f} GB\")"
   ]
  },
  {
   "cell_type": "code",
   "execution_count": null,
   "metadata": {
    "tags": []
   },
   "outputs": [],
   "source": [
    "graph_list[0]"
   ]
  },
  {
   "cell_type": "code",
   "execution_count": 28,
   "metadata": {
    "tags": []
   },
   "outputs": [],
   "source": [
    "# Save the data list\n",
    "#torch.save(graph_list, './processed_data/atlas_brain_638850_CCF.pt')"
   ]
  },
  {
   "cell_type": "code",
   "execution_count": 7,
   "metadata": {
    "ExecuteTime": {
     "end_time": "2023-08-06T17:52:50.062531600Z",
     "start_time": "2023-08-06T17:52:50.046367Z"
    },
    "tags": []
   },
   "outputs": [],
   "source": [
    "import torch\n",
    "# Load the data list\n",
    "graph_list = torch.load('./processed_data/atlas_brain_638850_CCF.pt')"
   ]
  },
  {
   "cell_type": "code",
   "execution_count": 8,
   "metadata": {
    "tags": []
   },
   "outputs": [],
   "source": [
    "def convert_to_float32(data_list):\n",
    "    for data in data_list:\n",
    "        # Convert attributes to float32\n",
    "        data.x = data.x.to(dtype=torch.float32)\n",
    "        data.edge_attr = data.edge_attr.to(dtype=torch.float32)\n",
    "        data.y = data.y.to(dtype=torch.float32)\n",
    "        #data.mask = data.mask.to(dtype=torch.float32)\n",
    "        #data.cell_type = data.cell_type.to(dtype=torch.float32)\n",
    "        #data.cell_type_masked = data.cell_type_masked.to(dtype=torch.float32)\n",
    "        # Add any other attributes that need to be converted\n",
    "\n",
    "    return data_list"
   ]
  },
  {
   "cell_type": "code",
   "execution_count": 9,
   "metadata": {
    "tags": []
   },
   "outputs": [],
   "source": [
    "data_list = convert_to_float32(graph_list)"
   ]
  },
  {
   "cell_type": "code",
   "execution_count": 10,
   "metadata": {
    "tags": []
   },
   "outputs": [
    {
     "data": {
      "text/plain": [
       "tensor([False, False, False,  ...,  True, False, False])"
      ]
     },
     "execution_count": 10,
     "metadata": {},
     "output_type": "execute_result"
    }
   ],
   "source": [
    "data_list[0].mask"
   ]
  },
  {
   "cell_type": "code",
   "execution_count": 35,
   "metadata": {
    "tags": []
   },
   "outputs": [
    {
     "name": "stdout",
     "output_type": "stream",
     "text": [
      "Size of data_list in GB: 1396.4512515850365\n"
     ]
    }
   ],
   "source": [
    "import torch\n",
    "\n",
    "def get_size_in_gb(data_list):\n",
    "    total_size = 0\n",
    "    for data in data_list:\n",
    "        for attr in data.keys:\n",
    "            item = data[attr]\n",
    "            if torch.is_tensor(item):\n",
    "                total_size += item.element_size() * item.nelement()\n",
    "    return total_size / (1024 ** 3)  # Convert bytes to GB\n",
    "\n",
    "size_in_gb = get_size_in_gb(data_list)\n",
    "print(f\"Size of data_list in GB: {size_in_gb}\")\n"
   ]
  },
  {
   "cell_type": "code",
   "execution_count": 21,
   "metadata": {
    "tags": []
   },
   "outputs": [],
   "source": [
    "torch.save(data_list, './processed_data/atlas_brain_638850_CCF_f32.pt')"
   ]
  },
  {
   "cell_type": "code",
   "execution_count": null,
   "metadata": {},
   "outputs": [],
   "source": []
  },
  {
   "cell_type": "code",
   "execution_count": 7,
   "metadata": {
    "ExecuteTime": {
     "end_time": "2023-08-06T17:11:45.190536100Z",
     "start_time": "2023-08-06T17:11:45.108742800Z"
    },
    "tags": []
   },
   "outputs": [
    {
     "data": {
      "text/plain": [
       "'\\n# Replace \\'data_constracter.adata.obs\\' with your actual DataFrame variable.\\nclass_label_counts = data_constracter.adata.obs[\"class_label\"].value_counts().reset_index()\\nclass_label_counts.columns = [\"class_label\", \"count\"]\\nclass_label_counts = class_label_counts.sort_values(by=\"count\", ascending=False)\\nplt.figure(figsize=(10, 6))  # Adjust the figure size as needed\\n\\n# Set Seaborn style\\nsns.set_style(\"whitegrid\")\\n\\nplt.figure(figsize=(10, 6))  # Adjust the figure size as needed\\n\\n# Plot the bars\\nplt.bar(class_label_counts[\"class_label\"], class_label_counts[\"count\"])\\n\\n# Add labels and title\\nplt.xlabel(\"Class Label\")\\nplt.ylabel(\"Count\")\\nplt.title(\"Class Label Counts\")\\n\\n# Rotate x-axis labels for better readability (optional)\\nplt.xticks(rotation=90, ha=\\'right\\')\\n\\n# Display the plot\\nplt.tight_layout()\\nplt.show()\\n'"
      ]
     },
     "execution_count": 7,
     "metadata": {},
     "output_type": "execute_result"
    }
   ],
   "source": [
    "'''\n",
    "# Replace 'data_constracter.adata.obs' with your actual DataFrame variable.\n",
    "class_label_counts = data_constracter.adata.obs[\"class_label\"].value_counts().reset_index()\n",
    "class_label_counts.columns = [\"class_label\", \"count\"]\n",
    "class_label_counts = class_label_counts.sort_values(by=\"count\", ascending=False)\n",
    "plt.figure(figsize=(10, 6))  # Adjust the figure size as needed\n",
    "\n",
    "# Set Seaborn style\n",
    "sns.set_style(\"whitegrid\")\n",
    "\n",
    "plt.figure(figsize=(10, 6))  # Adjust the figure size as needed\n",
    "\n",
    "# Plot the bars\n",
    "plt.bar(class_label_counts[\"class_label\"], class_label_counts[\"count\"])\n",
    "\n",
    "# Add labels and title\n",
    "plt.xlabel(\"Class Label\")\n",
    "plt.ylabel(\"Count\")\n",
    "plt.title(\"Class Label Counts\")\n",
    "\n",
    "# Rotate x-axis labels for better readability (optional)\n",
    "plt.xticks(rotation=90, ha='right')\n",
    "\n",
    "# Display the plot\n",
    "plt.tight_layout()\n",
    "plt.show()\n",
    "'''"
   ]
  },
  {
   "cell_type": "code",
   "execution_count": 8,
   "metadata": {
    "ExecuteTime": {
     "end_time": "2023-08-06T17:11:45.217952700Z",
     "start_time": "2023-08-06T17:11:45.121750900Z"
    },
    "tags": []
   },
   "outputs": [
    {
     "data": {
      "text/plain": [
       "'\\nimport pandas as pd\\nimport matplotlib.pyplot as plt\\nimport seaborn as sns\\n\\n# Assuming \\'data_constracter.adata.obs\\' is your DataFrame\\nclass_label_counts = data_constracter.adata.obs[\"class_label\"].value_counts().reset_index()\\nclass_label_counts.columns = [\"class_label\", \"count\"]\\nclass_label_counts = class_label_counts.sort_values(by=\"count\", ascending=False)\\n\\n# Set Seaborn style\\nsns.set_style(\"whitegrid\")\\n\\n# Create the bar plot using Seaborn with blue color\\nplt.figure(figsize=(10, 6))\\nsns.barplot(x=\"class_label\", y=\"count\", data=class_label_counts, color=\"blue\")\\n\\n# Add labels and title\\nplt.xlabel(\"Class Label\")\\nplt.ylabel(\"Count\")\\nplt.title(\"Class Label Counts\")\\n\\n# Rotate x-axis labels for better readability (optional)\\nplt.xticks(rotation=45, ha=\\'right\\')\\n\\n# Display the plot\\nplt.tight_layout()\\nplt.show()\\n'"
      ]
     },
     "execution_count": 8,
     "metadata": {},
     "output_type": "execute_result"
    }
   ],
   "source": [
    "'''\n",
    "import pandas as pd\n",
    "import matplotlib.pyplot as plt\n",
    "import seaborn as sns\n",
    "\n",
    "# Assuming 'data_constracter.adata.obs' is your DataFrame\n",
    "class_label_counts = data_constracter.adata.obs[\"class_label\"].value_counts().reset_index()\n",
    "class_label_counts.columns = [\"class_label\", \"count\"]\n",
    "class_label_counts = class_label_counts.sort_values(by=\"count\", ascending=False)\n",
    "\n",
    "# Set Seaborn style\n",
    "sns.set_style(\"whitegrid\")\n",
    "\n",
    "# Create the bar plot using Seaborn with blue color\n",
    "plt.figure(figsize=(10, 6))\n",
    "sns.barplot(x=\"class_label\", y=\"count\", data=class_label_counts, color=\"blue\")\n",
    "\n",
    "# Add labels and title\n",
    "plt.xlabel(\"Class Label\")\n",
    "plt.ylabel(\"Count\")\n",
    "plt.title(\"Class Label Counts\")\n",
    "\n",
    "# Rotate x-axis labels for better readability (optional)\n",
    "plt.xticks(rotation=45, ha='right')\n",
    "\n",
    "# Display the plot\n",
    "plt.tight_layout()\n",
    "plt.show()\n",
    "'''"
   ]
  },
  {
   "cell_type": "code",
   "execution_count": 12,
   "metadata": {
    "tags": [],
    "ExecuteTime": {
     "end_time": "2023-08-14T06:13:45.053789100Z",
     "start_time": "2023-08-14T06:13:45.006349100Z"
    }
   },
   "outputs": [],
   "source": [
    "from torch.utils.data import random_split, Dataset\n",
    "from torch_geometric.loader import DataLoader\n",
    "from sklearn.model_selection import KFold\n",
    "import torch\n",
    "def split_dataset(dataset, split_percent=(0.8, 0.1, 0.1), batch_size=64, pre_train=False, k_folds=None):\n",
    "    if k_folds is not None:\n",
    "        # K-Fold Cross Validation\n",
    "        kf = KFold(n_splits=k_folds, shuffle=True)\n",
    "        loaders = []\n",
    "        for train_index, val_index in kf.split(dataset):\n",
    "            train_data = [dataset[i] for i in train_index]\n",
    "            val_data = [dataset[i] for i in val_index]\n",
    "            train_loader = DataLoader(train_data, batch_size=batch_size, shuffle=True)\n",
    "            val_loader = DataLoader(val_data, batch_size=batch_size, shuffle=False)\n",
    "            loaders.append((train_loader, val_loader))\n",
    "        return loaders\n",
    "    else:\n",
    "        if not pre_train:\n",
    "            # Calculate split sizes\n",
    "            total_len = len(dataset)\n",
    "            train_len = int(total_len * split_percent[0])\n",
    "            val_len = int(total_len * split_percent[1])\n",
    "            test_len = total_len - train_len - val_len\n",
    "            dataset = graphDataset(dataset)\n",
    "        # Split the dataset into train, validation, and test sets\n",
    "            train_data, val_data, test_data = random_split(dataset, [train_len, val_len, test_len])\n",
    "\n",
    "            # Create data loaders for each set\n",
    "            train_loader = DataLoader(train_data, batch_size=batch_size, shuffle=True)\n",
    "            val_loader = DataLoader(val_data, batch_size=batch_size, shuffle=False)\n",
    "            test_loader = DataLoader(test_data, batch_size=batch_size, shuffle=False)\n",
    "            return train_loader, val_loader, test_loader\n",
    "        if pre_train:\n",
    "                    # Calculate split sizes\n",
    "            total_len = len(dataset)\n",
    "            train_len = int(total_len * split_percent[0])\n",
    "            val_len = total_len - train_len\n",
    "            train_data, val_data = random_split(dataset, [train_len, val_len])\n",
    "            # Create data loaders for each set\n",
    "            train_loader = DataLoader(train_data, batch_size=batch_size, shuffle=True)\n",
    "            val_loader = DataLoader(val_data, batch_size=batch_size, shuffle=False)\n",
    "\n",
    "            return train_loader, val_loader\n",
    "\n",
    "class graphDataset(Dataset):\n",
    "    def __init__(self, graphs):\n",
    "        self.graphs = graphs\n",
    "\n",
    "    def __len__(self):\n",
    "        return len(self.graphs)\n",
    "\n",
    "    def __getitem__(self, idx):\n",
    "        return self.graphs[idx]\n"
   ]
  },
  {
   "cell_type": "code",
   "execution_count": 13,
   "metadata": {
    "tags": [],
    "ExecuteTime": {
     "end_time": "2023-08-14T06:13:46.448619500Z",
     "start_time": "2023-08-14T06:13:46.416870900Z"
    }
   },
   "outputs": [
    {
     "data": {
      "text/plain": "[Data(x=[26230, 550], edge_index=[2, 234482], edge_attr=[26230, 26230], cell_mask=[26230, 26230], cell_type=[26230], image='1199650929', num_nodes=26230),\n Data(x=[29300, 550], edge_index=[2, 259136], edge_attr=[29300, 29300], cell_mask=[29300, 29300], cell_type=[29300], image='1199650932', num_nodes=29300),\n Data(x=[36043, 550], edge_index=[2, 250394], edge_attr=[36043, 36043], cell_mask=[36043, 36043], cell_type=[36043], image='1199650935', num_nodes=36043),\n Data(x=[47461, 550], edge_index=[2, 410372], edge_attr=[47461, 47461], cell_mask=[47461, 47461], cell_type=[47461], image='1199650938', num_nodes=47461),\n Data(x=[51012, 550], edge_index=[2, 419170], edge_attr=[51012, 51012], cell_mask=[51012, 51012], cell_type=[51012], image='1199650941', num_nodes=51012),\n Data(x=[50899, 550], edge_index=[2, 408008], edge_attr=[50899, 50899], cell_mask=[50899, 50899], cell_type=[50899], image='1199650944', num_nodes=50899)]"
     },
     "execution_count": 13,
     "metadata": {},
     "output_type": "execute_result"
    }
   ],
   "source": [
    "graph_list"
   ]
  },
  {
   "cell_type": "code",
   "execution_count": 7,
   "metadata": {
    "collapsed": false,
    "tags": [],
    "ExecuteTime": {
     "end_time": "2023-08-14T06:32:39.253171800Z",
     "start_time": "2023-08-14T06:32:39.240126400Z"
    }
   },
   "outputs": [],
   "source": [
    "train_loader,val_loader = split_dataset(graph_list, batch_size=1,split_percent=(0.8, 0.2, 0),pre_train=True)"
   ]
  },
  {
   "cell_type": "code",
   "execution_count": 8,
   "metadata": {
    "tags": [],
    "ExecuteTime": {
     "end_time": "2023-08-14T06:32:39.329176700Z",
     "start_time": "2023-08-14T06:32:39.299037800Z"
    }
   },
   "outputs": [
    {
     "data": {
      "text/plain": "<torch_geometric.loader.dataloader.DataLoader at 0x14d21897d60>"
     },
     "execution_count": 8,
     "metadata": {},
     "output_type": "execute_result"
    }
   ],
   "source": [
    "train_loader"
   ]
  },
  {
   "cell_type": "code",
   "execution_count": 9,
   "metadata": {
    "collapsed": false,
    "pycharm": {
     "is_executing": true
    },
    "tags": [],
    "ExecuteTime": {
     "end_time": "2023-08-14T06:28:12.386158200Z",
     "start_time": "2023-08-14T06:28:12.346431800Z"
    }
   },
   "outputs": [
    {
     "name": "stdout",
     "output_type": "stream",
     "text": [
      "Train size: 4\n",
      "Validation size: 2\n"
     ]
    }
   ],
   "source": [
    "# Print out the size of each set to verify\n",
    "print(f\"Train size: {len(train_loader.dataset)}\")\n",
    "print(f\"Validation size: {len(val_loader.dataset)}\")\n",
    "#print(f\"Test size: {len(test_loader.dataset)}\")"
   ]
  },
  {
   "cell_type": "code",
   "execution_count": 17,
   "metadata": {
    "collapsed": false,
    "tags": [],
    "ExecuteTime": {
     "end_time": "2023-08-14T06:29:23.140719700Z",
     "start_time": "2023-08-14T06:29:23.079825700Z"
    }
   },
   "outputs": [
    {
     "name": "stdout",
     "output_type": "stream",
     "text": [
      "DataBatch(x=[51012, 550], edge_index=[2, 419170], edge_attr=[51012, 51012], cell_mask_index=[10202], cell_type=[51012], image=[1], num_nodes=51012, batch=[51012], ptr=[2])\n"
     ]
    }
   ],
   "source": [
    "for x in train_loader:\n",
    "    print(x)\n",
    "    break"
   ]
  },
  {
   "cell_type": "code",
   "execution_count": 19,
   "metadata": {
    "ExecuteTime": {
     "end_time": "2023-08-06T17:59:21.621682900Z",
     "start_time": "2023-08-06T17:59:21.590073100Z"
    },
    "collapsed": false,
    "tags": []
   },
   "outputs": [],
   "source": [
    "# Assuming gene_expression is your target variable after masking\n",
    "#variance_after_masking = torch.var(x.y.to_dense().float())\n",
    "#print(\"Variance after masking:\", variance_after_masking.item())"
   ]
  },
  {
   "cell_type": "code",
   "execution_count": null,
   "metadata": {
    "ExecuteTime": {
     "end_time": "2023-08-06T17:59:22.496822400Z",
     "start_time": "2023-08-06T17:59:22.465169Z"
    },
    "tags": []
   },
   "outputs": [],
   "source": []
  },
  {
   "cell_type": "code",
   "execution_count": 9,
   "metadata": {
    "tags": [],
    "ExecuteTime": {
     "end_time": "2023-08-14T06:32:39.470752300Z",
     "start_time": "2023-08-14T06:32:39.455128400Z"
    }
   },
   "outputs": [],
   "source": [
    "from torch import nn, optim, Tensor\n",
    "import torch\n",
    "from torch_geometric.nn import GCNConv,GATConv\n",
    "from torch.optim.lr_scheduler import StepLR\n",
    "from sklearn.metrics import r2_score\n",
    "from torch.nn import LeakyReLU, Dropout\n",
    "import time\n",
    "from torch.utils.checkpoint import checkpoint\n",
    "\n",
    "\n",
    "class GCN(nn.Module):\n",
    "    def __init__(self, in_channels, hidden_channels, out_channels, dropout_rate=0.5):\n",
    "        super().__init__()\n",
    "        self.conv1 = GCNConv(in_channels, hidden_channels)\n",
    "        self.conv2 = GCNConv(hidden_channels, hidden_channels)\n",
    "        self.conv3 = GCNConv(hidden_channels, out_channels)\n",
    "        self.conv4 = GCNConv(hidden_channels, out_channels)\n",
    "        self.dropout = Dropout(dropout_rate)\n",
    "        \n",
    "        self.act = nn.LeakyReLU()\n",
    "\n",
    "    def forward(self, x: Tensor, edge_index: Tensor) -> Tensor:\n",
    "        x = self.dropout(self.act(self.conv1(x, edge_index)))\n",
    "        x = self.dropout(self.act(self.conv2(x, edge_index)))\n",
    "        x = self.dropout(self.act(self.conv3(x, edge_index)))\n",
    "        x = self.act(self.conv4(x, edge_index))  # Typically, dropout is not applied to the final layer.\n",
    "        return x\n",
    "    \n",
    "class GCN_1(nn.Module):\n",
    "    def __init__(self, in_channels, hidden_channels, out_channels, dropout_rate=0.5):\n",
    "        super().__init__()\n",
    "        self.conv1 = GCNConv(in_channels, hidden_channels)\n",
    "\n",
    "        \n",
    "        self.act = nn.LeakyReLU()\n",
    "\n",
    "    def forward(self, x: Tensor, edge_index: Tensor) -> Tensor:\n",
    "        x = self.act(self.conv1(x, edge_index))  # Typically, dropout is not applied to the final layer.\n",
    "        return x\n",
    "    \n",
    "class GCN_2(nn.Module):\n",
    "    def __init__(self, in_channels, hidden_channels, out_channels, dropout_rate=0.5):\n",
    "        super().__init__()\n",
    "        self.conv1 = GCNConv(in_channels, hidden_channels)\n",
    "        self.conv2 = GCNConv(hidden_channels, hidden_channels)\n",
    "        self.conv3 = GCNConv(hidden_channels, hidden_channels)\n",
    "        self.dropout = Dropout(dropout_rate)\n",
    "        \n",
    "        self.act = nn.LeakyReLU()\n",
    "\n",
    "    def forward(self, x: Tensor, edge_index: Tensor) -> Tensor:\n",
    "        x = self.dropout(self.act(self.conv1(x, edge_index)))\n",
    "        x = checkpoint(self.conv2, x, edge_index)\n",
    "        x = self.act(self.conv3(x, edge_index))  # Typically, dropout is not applied to the final layer.\n",
    "        return x\n",
    "\n",
    "class GNN(nn.Module):\n",
    "    def __init__(self, in_channels, hidden_channels, out_channels, dropout_rate=0.5):\n",
    "        super().__init__()\n",
    "        self.conv1 = GCNConv(in_channels, hidden_channels)\n",
    "        self.conv2 = GCNConv(hidden_channels, hidden_channels)\n",
    "        self.conv3 = GCNConv(hidden_channels, out_channels)\n",
    "        self.conv4 = GCNConv(hidden_channels, out_channels)\n",
    "        self.dropout = Dropout(dropout_rate)\n",
    "        \n",
    "        self.act = nn.LeakyReLU()\n",
    "\n",
    "    def forward(self, x: Tensor, edge_index: Tensor) -> Tensor:\n",
    "        x = self.dropout(self.act(self.conv1(x, edge_index)))\n",
    "        x = self.dropout(self.act(self.conv2(x, edge_index)))\n",
    "        x = self.dropout(self.act(self.conv3(x, edge_index)))\n",
    "        x = self.act(self.conv4(x, edge_index))  # Typically, dropout is not applied to the final layer.\n",
    "        return x\n",
    "    \n",
    "class GAT(nn.Module):\n",
    "    def __init__(self, in_channels, hidden_channels, out_channels, dropout_rate=0.5):\n",
    "        super().__init__()\n",
    "        self.conv1 = GATConv(in_channels, hidden_channels)\n",
    "        self.conv2 = GATConv(hidden_channels, hidden_channels)\n",
    "        self.conv3 = GATConv(hidden_channels, out_channels)\n",
    "        self.conv4 = GATConv(hidden_channels, out_channels)\n",
    "        self.dropout = Dropout(dropout_rate)\n",
    "        self.act = nn.LeakyReLU()\n",
    "\n",
    "    def forward(self, x: Tensor, edge_index: Tensor) -> Tensor:\n",
    "        x = self.dropout(self.act(self.conv1(x, edge_index)))\n",
    "        x = self.dropout(self.act(self.conv2(x, edge_index)))\n",
    "        x = self.dropout(self.act(self.conv3(x, edge_index)))\n",
    "        x = self.act(self.conv4(x, edge_index))  # Typically, dropout is not applied to the final layer.\n",
    "        return x\n",
    "    \n",
    "class GAT_2(nn.Module):\n",
    "    def __init__(self, in_channels, hidden_channels, out_channels, dropout_rate=0.5):\n",
    "        super().__init__()\n",
    "        self.conv1 = GATConv(in_channels, hidden_channels)\n",
    "        self.conv2 = GATConv(hidden_channels, out_channels)\n",
    "        self.dropout = Dropout(dropout_rate)\n",
    "        self.act = nn.LeakyReLU()\n",
    "\n",
    "    def forward(self, x: Tensor, edge_index: Tensor) -> Tensor:\n",
    "        x = self.dropout(self.act(self.conv1(x, edge_index)))\n",
    "        x = self.act(self.conv2( x, edge_index)) # Using checkpointing on the final layer\n",
    "        return x\n",
    "    "
   ]
  },
  {
   "cell_type": "code",
   "execution_count": 18,
   "metadata": {
    "tags": [],
    "ExecuteTime": {
     "end_time": "2023-08-14T06:13:56.970444100Z",
     "start_time": "2023-08-14T06:13:56.922916100Z"
    }
   },
   "outputs": [
    {
     "data": {
      "text/plain": "device(type='cpu')"
     },
     "execution_count": 18,
     "metadata": {},
     "output_type": "execute_result"
    }
   ],
   "source": [
    "device = torch.device('cuda' if torch.cuda.is_available() else 'cpu')  #\"cpu\"\n",
    "device"
   ]
  },
  {
   "cell_type": "code",
   "execution_count": 10,
   "metadata": {
    "collapsed": false,
    "tags": [],
    "ExecuteTime": {
     "end_time": "2023-08-14T06:32:39.528606Z",
     "start_time": "2023-08-14T06:32:39.486472600Z"
    }
   },
   "outputs": [],
   "source": [
    "import torch\n",
    "from torch import nn, optim\n",
    "import time\n",
    "from torcheval.metrics import MeanSquaredError, R2Score\n",
    "\n",
    "device = torch.device('cuda' if torch.cuda.is_available() else 'cpu')  # \"cpu\"\n",
    "\n",
    "\n",
    "def train_epoch(model, loader, optimizer, criterion, r2_metric, mse_metric, gene_expression=None, training=True):\n",
    "    if training:\n",
    "        model.train()\n",
    "    else:\n",
    "        model.eval()\n",
    "\n",
    "    total_loss = 0\n",
    "\n",
    "    with torch.set_grad_enabled(training):\n",
    "        for data in loader:\n",
    "\n",
    "            if training:\n",
    "                optimizer.zero_grad()\n",
    "\n",
    "            if gene_expression is None:\n",
    "\n",
    "                cell_mask = torch.zeros(data.x.shape[0], dtype=torch.bool)\n",
    "                cell_mask[data.cell_mask_index] = True\n",
    "\n",
    "                target = data.x.float().to_dense()[cell_mask]\n",
    "                # print(data.x.float().to_dense().shape)\n",
    "\n",
    "                input = data.x.float().to_dense() * (~cell_mask).view(-1, 1)\n",
    "                # print(input.shape)\n",
    "\n",
    "                outputs = model(input.to(device), data.edge_index.long().to(device))\n",
    "                # print(outputs)\n",
    "                loss = criterion(outputs[cell_mask], target)\n",
    "                # loss = (outputs[data.mask] - target).coalesce().values().pow(2).mean()\n",
    "                # evaluate metrics\n",
    "\n",
    "                r2_metric.update(outputs[cell_mask].cpu(), target.cpu())\n",
    "                mse_metric.update(outputs[cell_mask].cpu(), target.cpu())\n",
    "\n",
    "            else:\n",
    "                input = torch.tensor(gene_expression[data.x].toarray(), dtype=torch.double).to(device)\n",
    "                input[data.mask] = 0\n",
    "                target = torch.tensor(gene_expression[data.y].toarray(), dtype=torch.double).to(device)\n",
    "                outputs = model(input.float(), data.edge_index.to(device).long())\n",
    "                loss = criterion(outputs[data.mask], target)\n",
    "\n",
    "            if training:\n",
    "                loss.backward()\n",
    "                optimizer.step()\n",
    "\n",
    "            total_loss += loss.item() * data.num_graphs\n",
    "\n",
    "    return total_loss / len(loader.dataset), r2_metric.compute(), mse_metric.compute()\n",
    "\n",
    "\n",
    "def train(model, train_loader, val_loader, criterion, num_epochs=100, patience=5, optimizer=None, model_path=None,\n",
    "          gene_expression=None):\n",
    "    r2_metric_train = R2Score()\n",
    "    r2_metric_val = R2Score()\n",
    "    mse_metric_train = MeanSquaredError()\n",
    "    mse_metric_val = MeanSquaredError()\n",
    "\n",
    "    # model.to(device)\n",
    "    best_val_loss = float('inf')\n",
    "    best_epoch = 0\n",
    "    epochs_no_improve = 0\n",
    "\n",
    "    for epoch in range(num_epochs):\n",
    "        start_time = time.time()\n",
    "\n",
    "        train_loss, train_r2, train_mse = train_epoch(model, train_loader, optimizer, criterion, r2_metric_train,\n",
    "                                                      mse_metric_train, gene_expression, training=True)\n",
    "        val_loss, val_r2, val_mse = train_epoch(model, val_loader, optimizer, criterion, r2_metric_val, mse_metric_val,\n",
    "                                                gene_expression, training=False)\n",
    "        # scheduler.step() # Decrease learning rate by scheduler\n",
    "\n",
    "        if val_loss < best_val_loss:\n",
    "            best_val_loss = val_loss\n",
    "            best_epoch = epoch\n",
    "            epochs_no_improve = 0\n",
    "            if model_path is not None:\n",
    "                torch.save(model.state_dict(), model_path)\n",
    "        else:\n",
    "            epochs_no_improve += 1\n",
    "            if epochs_no_improve == patience:\n",
    "                print('Early stopping!')\n",
    "                break\n",
    "\n",
    "        print(\n",
    "            f\"Epoch {epoch + 1}/{num_epochs}, train loss: {train_loss:.4f}, train r2: {train_r2:.4f}, train mse: {train_mse:.4f},  val loss: {val_loss:.4f}, val r2: {val_r2:.4f}, val mse: {val_mse:.4f}, Time: {time.time() - start_time:.4f}s\")\n",
    "\n",
    "    print(f\"Best val loss: {best_val_loss:.4f}, at epoch {best_epoch + 1}\")\n",
    "\n",
    "\n",
    "\n"
   ]
  },
  {
   "cell_type": "code",
   "execution_count": 10,
   "metadata": {
    "ExecuteTime": {
     "end_time": "2023-08-14T06:32:39.528606Z",
     "start_time": "2023-08-14T06:32:39.506947300Z"
    }
   },
   "outputs": [],
   "source": []
  },
  {
   "cell_type": "code",
   "execution_count": 11,
   "metadata": {
    "tags": [],
    "ExecuteTime": {
     "end_time": "2023-08-14T06:32:39.555512700Z",
     "start_time": "2023-08-14T06:32:39.523494700Z"
    }
   },
   "outputs": [
    {
     "data": {
      "text/plain": "device(type='cpu')"
     },
     "execution_count": 11,
     "metadata": {},
     "output_type": "execute_result"
    }
   ],
   "source": [
    "device =  torch.device('cuda' if torch.cuda.is_available() else 'cpu')\n",
    "device"
   ]
  },
  {
   "cell_type": "code",
   "execution_count": null,
   "metadata": {
    "tags": [],
    "is_executing": true,
    "ExecuteTime": {
     "start_time": "2023-08-14T06:32:39.547806900Z"
    }
   },
   "outputs": [
    {
     "name": "stdout",
     "output_type": "stream",
     "text": [
      "Epoch 1/10, train loss: 0.9903, train r2: -0.5093, train mse: 0.9926,  val loss: 0.7999, val r2: -0.1598, val mse: 0.7986, Time: 256.4618s\n"
     ]
    }
   ],
   "source": [
    "# Pretraining\n",
    "# Define the device\n",
    "device =  torch.device('cuda' if torch.cuda.is_available() else 'cpu') #\"cpu\"\n",
    "\n",
    "# Create the model\n",
    "model = GAT_2(550, 550, 550).to(device) # in_channels is set to 100 as an example. Please replace it with your actual feature size.\n",
    "\n",
    "# Define loss function and optimizer\n",
    "criterion = nn.MSELoss()\n",
    "optimizer = optim.Adam(model.parameters(), lr=0.001)\n",
    "#scheduler = StepLR(optimizer, step_size=80, gamma=0.1) # learning rate scheduler\n",
    "\n",
    "num_epochs = 10\n",
    "patience = 8\n",
    "\n",
    "train(model=model, train_loader=train_loader, val_loader=val_loader, criterion=criterion, num_epochs= num_epochs, patience = patience, optimizer= optimizer,model_path = './models/GAT_2_random20_all_model.pt')"
   ]
  },
  {
   "cell_type": "code",
   "execution_count": null,
   "metadata": {},
   "outputs": [],
   "source": [
    "from sklearn.model_selection import KFold\n",
    "\n",
    "# Split the dataset into k folds\n",
    "k_folds = 10\n",
    "loaders = split_dataset(dataset, k_folds=k_folds, batch_size=1) # Assuming dataset is your data\n",
    "\n",
    "# Store the results for each fold\n",
    "results = []\n",
    "\n",
    "# Iterate through each fold\n",
    "for fold, (train_loader, val_loader) in enumerate(loaders):\n",
    "    print(f\"Training Fold {fold + 1}/{k_folds}\")\n",
    "\n",
    "    # Create a new model for each fold\n",
    "    model = GAT_2(550, 550, 550).to(device)\n",
    "\n",
    "    # Define loss function and optimizer\n",
    "    criterion = nn.MSELoss()\n",
    "    optimizer = optim.Adam(model.parameters(), lr=0.001)\n",
    "\n",
    "    # Train and validate the model for this fold\n",
    "    train(model=model, train_loader=train_loader, val_loader=val_loader, criterion=criterion, num_epochs=num_epochs, patience=patience, optimizer=optimizer)\n",
    "\n",
    "    # Optionally, you can store the results for this fold\n",
    "    results.append((train_loss, val_loss)) # You'll need to modify the train function to return these values\n",
    "\n",
    "# Optionally, you can aggregate the results across all folds\n",
    "# For example, you could compute the mean validation loss across all folds\n",
    "mean_val_loss = sum(val_loss for _, val_loss in results) / k_folds\n",
    "print(f\"Mean Validation Loss: {mean_val_loss:.4f}\")\n"
   ]
  },
  {
   "cell_type": "code",
   "execution_count": 48,
   "metadata": {
    "tags": []
   },
   "outputs": [
    {
     "name": "stdout",
     "output_type": "stream",
     "text": [
      "tensor(1.0352, device='cuda:0')\n",
      "tensor(0.9649, device='cuda:0')\n"
     ]
    }
   ],
   "source": [
    "#Load model\n",
    "\n",
    "# Loading the Model\n",
    "# Define the device\n",
    "device = torch.device('cuda' if torch.cuda.is_available() else 'cpu')\n",
    "\n",
    "# Recreate the model structure (it should match the saved model)\n",
    "model = GCN_1(550, 550, 550).to(device)\n",
    "\n",
    "# Load the saved model weights\n",
    "model_path = './models/model.pt'\n",
    "model.load_state_dict(torch.load(model_path))\n",
    "model.eval() # Set the model in evaluation mode\n",
    "\n",
    "# Downstream Tasks\n",
    "# For example, let's predict on a test set\n",
    "\n",
    "# Loading test data\n",
    "# Replace this line with the appropriate code to load your test data\n",
    "test_loader\n",
    "\n",
    "# Evaluating the model on the test set\n",
    "\n",
    "with torch.no_grad():\n",
    "    for data in test_loader:\n",
    "\n",
    "        target = data.y.float().to_dense()\n",
    "\n",
    "        outputs = model(data.x.float().to(device), data.edge_index.long().to(device))\n",
    "        loss = criterion(outputs[data.mask],target.to(device))\n",
    "        \n",
    "        print(loss)\n",
    "\n",
    "\n",
    "\n",
    "\n"
   ]
  },
  {
   "cell_type": "code",
   "execution_count": 25,
   "metadata": {
    "tags": []
   },
   "outputs": [],
   "source": [
    "from tqdm.auto import tqdm\n",
    "def test(model, test_loader, criterion, device):\n",
    "    model.to(device)\n",
    "    model.eval()\n",
    "    \n",
    "    total_test_loss = 0\n",
    "    test_targets_list = []\n",
    "    test_outputs_list = []\n",
    "    test_celltypes_list = []\n",
    "\n",
    "    for data in tqdm(test_loader):\n",
    "        with torch.no_grad():\n",
    "\n",
    "            outputs = model(data.x.float().to(device), data.edge_index.to(device).long())\n",
    "            loss = criterion(outputs[data.mask], data.y.float())\n",
    "        total_test_loss += loss.item() * data.num_graphs\n",
    "        test_celltypes_list.append(data.cell_type_masked)\n",
    "        test_targets_list.append(expression_masked.float())\n",
    "        test_outputs_list.append(outputs[data.mask])\n",
    "\n",
    "    # Measure and print test loss and R2\n",
    "    test_loss = total_test_loss / len(test_loader.dataset)\n",
    "    test_r2 = r2_score(torch.cat(test_targets_list).cpu().detach().numpy(),\n",
    "                       torch.cat(test_outputs_list).cpu().detach().numpy())\n",
    "    print(f\"Test loss: {test_loss:.4f}, test r2: {test_r2:.4f}\")\n",
    "        # Return test loss and r2 for further use\n",
    "    return test_loss, test_r2,test_targets_list,test_outputs_list,test_celltypes_list"
   ]
  },
  {
   "cell_type": "code",
   "execution_count": 26,
   "metadata": {
    "tags": []
   },
   "outputs": [],
   "source": [
    "\n",
    "def test(model, test_loader, criterion, device):\n",
    "    model.to(device)\n",
    "    model.eval()\n",
    "    \n",
    "    total_test_loss = 0\n",
    "    test_targets_list = []\n",
    "    test_outputs_list = []\n",
    "    test_celltypes_list = []\n",
    "\n",
    "    for data in tqdm(test_loader):\n",
    "        with torch.no_grad():\n",
    "            \n",
    "            outputs = model(data.x.float().to(device), data.edge_index.to(device).long())\n",
    "            loss = criterion(outputs[data.mask], data.y.to_dense().to(device))\n",
    "        total_test_loss += loss.item() * data.num_graphs\n",
    "        test_celltypes_list.append(data.cell_type_masked)\n",
    "        test_targets_list.append(data.y.to_dense().float())\n",
    "        test_outputs_list.append(outputs[data.mask])\n",
    "\n",
    "    # Measure and print test loss and R2\n",
    "    test_loss = total_test_loss / len(test_loader.dataset)\n",
    "    test_r2 = r2_score(torch.cat(test_targets_list).cpu().detach().numpy(),\n",
    "                       torch.cat(test_outputs_list).cpu().detach().numpy())\n",
    "    print(f\"Test loss: {test_loss:.4f}, test r2: {test_r2:.4f}\")\n",
    "        # Return test loss and r2 for further use\n",
    "    return test_loss, test_r2,test_targets_list,test_outputs_list,test_celltypes_list"
   ]
  },
  {
   "cell_type": "code",
   "execution_count": 27,
   "metadata": {
    "tags": []
   },
   "outputs": [
    {
     "data": {
      "application/vnd.jupyter.widget-view+json": {
       "model_id": "c4190fdb52e0487788d6ac760161b70b",
       "version_major": 2,
       "version_minor": 0
      },
      "text/plain": [
       "  0%|          | 0/1 [00:00<?, ?it/s]"
      ]
     },
     "metadata": {},
     "output_type": "display_data"
    },
    {
     "name": "stdout",
     "output_type": "stream",
     "text": [
      "Test loss: 0.3829, test r2: 0.1627\n"
     ]
    }
   ],
   "source": [
    "test_loss, test_r2,test_targets_list,test_outputs_list,test_celltypes_list = test(model, test_loader, criterion, device)"
   ]
  },
  {
   "cell_type": "code",
   "execution_count": 28,
   "metadata": {
    "tags": []
   },
   "outputs": [
    {
     "data": {
      "text/plain": [
       "1"
      ]
     },
     "execution_count": 28,
     "metadata": {},
     "output_type": "execute_result"
    }
   ],
   "source": [
    "len(test_celltypes_list)"
   ]
  },
  {
   "cell_type": "code",
   "execution_count": null,
   "metadata": {
    "tags": []
   },
   "outputs": [],
   "source": []
  },
  {
   "cell_type": "code",
   "execution_count": 83,
   "metadata": {
    "tags": []
   },
   "outputs": [
    {
     "name": "stdout",
     "output_type": "stream",
     "text": [
      "The model has 909,150 parameters\n"
     ]
    }
   ],
   "source": [
    "def count_parameters(model):\n",
    "    return sum(p.numel() for p in model.parameters() if p.requires_grad)\n",
    "\n",
    "# usage\n",
    "model = GCN_2(550, 550, 550)  # Replace with your actual model\n",
    "print(f'The model has {count_parameters(model):,} parameters')\n"
   ]
  },
  {
   "cell_type": "code",
   "execution_count": 31,
   "metadata": {
    "tags": []
   },
   "outputs": [],
   "source": [
    "import itertools\n",
    "# Flatten the nested list into a single-dimensional list\n",
    "flattened_list = list(itertools.chain.from_iterable(test_celltypes_list))\n",
    "flattened_list = list(itertools.chain.from_iterable(flattened_list))"
   ]
  },
  {
   "cell_type": "code",
   "execution_count": 29,
   "metadata": {
    "tags": []
   },
   "outputs": [
    {
     "data": {
      "text/plain": [
       "1"
      ]
     },
     "execution_count": 29,
     "metadata": {},
     "output_type": "execute_result"
    }
   ],
   "source": [
    "len(test_targets_list)"
   ]
  },
  {
   "cell_type": "code",
   "execution_count": 86,
   "metadata": {
    "tags": []
   },
   "outputs": [
    {
     "data": {
      "text/plain": [
       "11720"
      ]
     },
     "execution_count": 86,
     "metadata": {},
     "output_type": "execute_result"
    }
   ],
   "source": [
    "len(torch.cat(test_targets_list).cpu().detach().numpy())"
   ]
  },
  {
   "cell_type": "code",
   "execution_count": 87,
   "metadata": {
    "tags": []
   },
   "outputs": [
    {
     "data": {
      "text/plain": [
       "11720"
      ]
     },
     "execution_count": 87,
     "metadata": {},
     "output_type": "execute_result"
    }
   ],
   "source": [
    "len(torch.cat(test_targets_list).cpu().detach().numpy())"
   ]
  },
  {
   "cell_type": "code",
   "execution_count": 88,
   "metadata": {
    "tags": []
   },
   "outputs": [
    {
     "name": "stdout",
     "output_type": "stream",
     "text": [
      "11720\n",
      "11720\n"
     ]
    }
   ],
   "source": [
    "print(len(flattened_list))\n",
    "print(len(r2_score(np.transpose(torch.cat(test_targets_list).cpu().detach().numpy()), np.transpose(torch.cat(test_outputs_list).cpu().detach().numpy()), multioutput='raw_values')))"
   ]
  },
  {
   "cell_type": "code",
   "execution_count": 89,
   "metadata": {
    "tags": []
   },
   "outputs": [
    {
     "data": {
      "text/plain": [
       "[2, 19, 19, 2, 0]"
      ]
     },
     "execution_count": 89,
     "metadata": {},
     "output_type": "execute_result"
    }
   ],
   "source": [
    "flattened_list[0:5]"
   ]
  },
  {
   "cell_type": "code",
   "execution_count": 90,
   "metadata": {
    "tags": []
   },
   "outputs": [
    {
     "data": {
      "text/plain": [
       "Index(['Prkcq', 'Col5a1', 'Grik3', 'Igfbp2', 'Osr1'], dtype='object')"
      ]
     },
     "execution_count": 90,
     "metadata": {},
     "output_type": "execute_result"
    }
   ],
   "source": [
    "data_constracter.adata.var_names[0:5]"
   ]
  },
  {
   "cell_type": "code",
   "execution_count": 91,
   "metadata": {
    "tags": []
   },
   "outputs": [
    {
     "name": "stdout",
     "output_type": "stream",
     "text": [
      "550\n"
     ]
    },
    {
     "data": {
      "text/plain": [
       "array([[0.       , 0.       , 0.       , ..., 0.       , 0.       ,\n",
       "        0.       ],\n",
       "       [4.6709228, 0.       , 0.       , ..., 0.       , 0.       ,\n",
       "        0.       ],\n",
       "       [0.       , 0.       , 1.0698248, ..., 0.       , 0.       ,\n",
       "        0.       ],\n",
       "       ...,\n",
       "       [0.       , 0.       , 0.       , ..., 0.       , 0.       ,\n",
       "        0.       ],\n",
       "       [0.       , 0.       , 0.       , ..., 0.       , 0.       ,\n",
       "        0.       ],\n",
       "       [0.       , 0.       , 0.       , ..., 0.       , 0.       ,\n",
       "        0.       ]], dtype=float32)"
      ]
     },
     "execution_count": 91,
     "metadata": {},
     "output_type": "execute_result"
    }
   ],
   "source": [
    "print(len(np.transpose(torch.cat(test_targets_list).cpu().detach().numpy())))\n",
    "np.transpose(torch.cat(test_targets_list).cpu().detach().numpy())"
   ]
  },
  {
   "cell_type": "code",
   "execution_count": 92,
   "metadata": {
    "tags": []
   },
   "outputs": [
    {
     "name": "stdout",
     "output_type": "stream",
     "text": [
      "11720\n"
     ]
    },
    {
     "data": {
      "text/plain": [
       "array([[0.       , 4.6709228, 0.       , ..., 0.       , 0.       ,\n",
       "        0.       ],\n",
       "       [0.       , 0.       , 0.       , ..., 0.       , 0.       ,\n",
       "        0.       ],\n",
       "       [0.       , 0.       , 1.0698248, ..., 0.       , 0.       ,\n",
       "        0.       ],\n",
       "       ...,\n",
       "       [0.       , 0.       , 0.       , ..., 0.       , 0.       ,\n",
       "        0.       ],\n",
       "       [0.       , 0.       , 0.       , ..., 0.       , 0.       ,\n",
       "        0.       ],\n",
       "       [0.       , 0.       , 0.       , ..., 0.       , 0.       ,\n",
       "        0.       ]], dtype=float32)"
      ]
     },
     "execution_count": 92,
     "metadata": {},
     "output_type": "execute_result"
    }
   ],
   "source": [
    "print(len(torch.cat(test_targets_list).cpu().detach().numpy()))\n",
    "torch.cat(test_targets_list).cpu().detach().numpy()"
   ]
  },
  {
   "cell_type": "code",
   "execution_count": 32,
   "metadata": {
    "tags": []
   },
   "outputs": [],
   "source": [
    "import pandas as pd\n",
    "\n",
    "preds_test_per_cell = pd.DataFrame({'celltype': flattened_list, 'r2_score': r2_score(np.transpose(torch.cat(test_targets_list).cpu().detach().numpy()), np.transpose(torch.cat(test_outputs_list).cpu().detach().numpy()), multioutput='raw_values')})\n",
    "\n",
    "preds_test_per_gene = pd.DataFrame({'gene': data_constracter.adata.var_names, 'r2_score': r2_score(torch.cat(test_targets_list).cpu().detach().numpy(), torch.cat(test_outputs_list).cpu().detach().numpy(), multioutput='raw_values')})\n",
    "\n"
   ]
  },
  {
   "cell_type": "code",
   "execution_count": 33,
   "metadata": {
    "tags": []
   },
   "outputs": [
    {
     "data": {
      "text/html": [
       "<div>\n",
       "<style scoped>\n",
       "    .dataframe tbody tr th:only-of-type {\n",
       "        vertical-align: middle;\n",
       "    }\n",
       "\n",
       "    .dataframe tbody tr th {\n",
       "        vertical-align: top;\n",
       "    }\n",
       "\n",
       "    .dataframe thead th {\n",
       "        text-align: right;\n",
       "    }\n",
       "</style>\n",
       "<table border=\"1\" class=\"dataframe\">\n",
       "  <thead>\n",
       "    <tr style=\"text-align: right;\">\n",
       "      <th></th>\n",
       "      <th>celltype</th>\n",
       "      <th>r2_score</th>\n",
       "    </tr>\n",
       "  </thead>\n",
       "  <tbody>\n",
       "    <tr>\n",
       "      <th>0</th>\n",
       "      <td>0</td>\n",
       "      <td>0.725736</td>\n",
       "    </tr>\n",
       "    <tr>\n",
       "      <th>1</th>\n",
       "      <td>32</td>\n",
       "      <td>0.429747</td>\n",
       "    </tr>\n",
       "    <tr>\n",
       "      <th>2</th>\n",
       "      <td>0</td>\n",
       "      <td>0.499048</td>\n",
       "    </tr>\n",
       "    <tr>\n",
       "      <th>3</th>\n",
       "      <td>11</td>\n",
       "      <td>0.669672</td>\n",
       "    </tr>\n",
       "    <tr>\n",
       "      <th>4</th>\n",
       "      <td>0</td>\n",
       "      <td>0.508246</td>\n",
       "    </tr>\n",
       "  </tbody>\n",
       "</table>\n",
       "</div>"
      ],
      "text/plain": [
       "   celltype  r2_score\n",
       "0         0  0.725736\n",
       "1        32  0.429747\n",
       "2         0  0.499048\n",
       "3        11  0.669672\n",
       "4         0  0.508246"
      ]
     },
     "execution_count": 33,
     "metadata": {},
     "output_type": "execute_result"
    }
   ],
   "source": [
    "preds_test_per_cell[0:5]"
   ]
  },
  {
   "cell_type": "code",
   "execution_count": 34,
   "metadata": {
    "tags": []
   },
   "outputs": [
    {
     "data": {
      "text/html": [
       "<div>\n",
       "<style scoped>\n",
       "    .dataframe tbody tr th:only-of-type {\n",
       "        vertical-align: middle;\n",
       "    }\n",
       "\n",
       "    .dataframe tbody tr th {\n",
       "        vertical-align: top;\n",
       "    }\n",
       "\n",
       "    .dataframe thead th {\n",
       "        text-align: right;\n",
       "    }\n",
       "</style>\n",
       "<table border=\"1\" class=\"dataframe\">\n",
       "  <thead>\n",
       "    <tr style=\"text-align: right;\">\n",
       "      <th></th>\n",
       "      <th>gene</th>\n",
       "      <th>r2_score</th>\n",
       "    </tr>\n",
       "  </thead>\n",
       "  <tbody>\n",
       "    <tr>\n",
       "      <th>0</th>\n",
       "      <td>Prkcq</td>\n",
       "      <td>0.099756</td>\n",
       "    </tr>\n",
       "    <tr>\n",
       "      <th>1</th>\n",
       "      <td>Col5a1</td>\n",
       "      <td>0.232568</td>\n",
       "    </tr>\n",
       "    <tr>\n",
       "      <th>2</th>\n",
       "      <td>Grik3</td>\n",
       "      <td>0.289075</td>\n",
       "    </tr>\n",
       "    <tr>\n",
       "      <th>3</th>\n",
       "      <td>Igfbp2</td>\n",
       "      <td>0.508025</td>\n",
       "    </tr>\n",
       "    <tr>\n",
       "      <th>4</th>\n",
       "      <td>Osr1</td>\n",
       "      <td>0.248125</td>\n",
       "    </tr>\n",
       "  </tbody>\n",
       "</table>\n",
       "</div>"
      ],
      "text/plain": [
       "     gene  r2_score\n",
       "0   Prkcq  0.099756\n",
       "1  Col5a1  0.232568\n",
       "2   Grik3  0.289075\n",
       "3  Igfbp2  0.508025\n",
       "4    Osr1  0.248125"
      ]
     },
     "execution_count": 34,
     "metadata": {},
     "output_type": "execute_result"
    }
   ],
   "source": [
    "preds_test_per_gene[0:5]"
   ]
  },
  {
   "cell_type": "code",
   "execution_count": 108,
   "metadata": {
    "tags": []
   },
   "outputs": [],
   "source": [
    "# huge class inbalance problem, need to handel -> add weight?\n",
    "# add pooling"
   ]
  },
  {
   "cell_type": "code",
   "execution_count": 35,
   "metadata": {
    "tags": []
   },
   "outputs": [
    {
     "data": {
      "image/png": "[encoded data removed]",
      "text/plain": [
       "<Figure size 1000x600 with 1 Axes>"
      ]
     },
     "metadata": {},
     "output_type": "display_data"
    },
    {
     "name": "stdout",
     "output_type": "stream",
     "text": [
      "        gene  r2_score\n",
      "214  Slc17a7  0.833875\n",
      "234     Aqp1  0.752764\n",
      "181    Clic6  0.736130\n",
      "31      Gfap  0.699421\n",
      "328       Kl  0.670935\n",
      "..       ...       ...\n",
      "386   Pou4f1 -0.095043\n",
      "213  Mab21l2 -0.112723\n",
      "200   Slc6a5 -0.122838\n",
      "129    Hoxb5 -0.143137\n",
      "410     Lhx8 -0.184446\n",
      "\n",
      "[550 rows x 2 columns]\n"
     ]
    }
   ],
   "source": [
    "import matplotlib.pyplot as plt\n",
    "\n",
    "# Plotting the histogram\n",
    "plt.figure(figsize=(10,6))\n",
    "plt.hist(preds_test_per_gene['r2_score'], bins=20, alpha=0.8, color='skyblue', edgecolor='black')\n",
    "plt.title('R2 Score Distribution per Gene')\n",
    "plt.xlabel('R2 Score')\n",
    "plt.ylabel('Frequency')\n",
    "plt.show()\n",
    "\n",
    "# Sorting by r2_score\n",
    "preds_test_per_gene = preds_test_per_gene.sort_values(by='r2_score', ascending=False)\n",
    "\n",
    "# Display the sorted DataFrame\n",
    "print(preds_test_per_gene)\n"
   ]
  },
  {
   "cell_type": "code",
   "execution_count": 36,
   "metadata": {
    "tags": []
   },
   "outputs": [
    {
     "data": {
      "text/html": [
       "<div>\n",
       "<style scoped>\n",
       "    .dataframe tbody tr th:only-of-type {\n",
       "        vertical-align: middle;\n",
       "    }\n",
       "\n",
       "    .dataframe tbody tr th {\n",
       "        vertical-align: top;\n",
       "    }\n",
       "\n",
       "    .dataframe thead th {\n",
       "        text-align: right;\n",
       "    }\n",
       "</style>\n",
       "<table border=\"1\" class=\"dataframe\">\n",
       "  <thead>\n",
       "    <tr style=\"text-align: right;\">\n",
       "      <th></th>\n",
       "      <th>gene</th>\n",
       "      <th>r2_score</th>\n",
       "    </tr>\n",
       "  </thead>\n",
       "  <tbody>\n",
       "    <tr>\n",
       "      <th>214</th>\n",
       "      <td>Slc17a7</td>\n",
       "      <td>0.833875</td>\n",
       "    </tr>\n",
       "    <tr>\n",
       "      <th>234</th>\n",
       "      <td>Aqp1</td>\n",
       "      <td>0.752764</td>\n",
       "    </tr>\n",
       "    <tr>\n",
       "      <th>181</th>\n",
       "      <td>Clic6</td>\n",
       "      <td>0.736130</td>\n",
       "    </tr>\n",
       "    <tr>\n",
       "      <th>31</th>\n",
       "      <td>Gfap</td>\n",
       "      <td>0.699421</td>\n",
       "    </tr>\n",
       "    <tr>\n",
       "      <th>328</th>\n",
       "      <td>Kl</td>\n",
       "      <td>0.670935</td>\n",
       "    </tr>\n",
       "    <tr>\n",
       "      <th>...</th>\n",
       "      <td>...</td>\n",
       "      <td>...</td>\n",
       "    </tr>\n",
       "    <tr>\n",
       "      <th>386</th>\n",
       "      <td>Pou4f1</td>\n",
       "      <td>-0.095043</td>\n",
       "    </tr>\n",
       "    <tr>\n",
       "      <th>213</th>\n",
       "      <td>Mab21l2</td>\n",
       "      <td>-0.112723</td>\n",
       "    </tr>\n",
       "    <tr>\n",
       "      <th>200</th>\n",
       "      <td>Slc6a5</td>\n",
       "      <td>-0.122838</td>\n",
       "    </tr>\n",
       "    <tr>\n",
       "      <th>129</th>\n",
       "      <td>Hoxb5</td>\n",
       "      <td>-0.143137</td>\n",
       "    </tr>\n",
       "    <tr>\n",
       "      <th>410</th>\n",
       "      <td>Lhx8</td>\n",
       "      <td>-0.184446</td>\n",
       "    </tr>\n",
       "  </tbody>\n",
       "</table>\n",
       "<p>550 rows × 2 columns</p>\n",
       "</div>"
      ],
      "text/plain": [
       "        gene  r2_score\n",
       "214  Slc17a7  0.833875\n",
       "234     Aqp1  0.752764\n",
       "181    Clic6  0.736130\n",
       "31      Gfap  0.699421\n",
       "328       Kl  0.670935\n",
       "..       ...       ...\n",
       "386   Pou4f1 -0.095043\n",
       "213  Mab21l2 -0.112723\n",
       "200   Slc6a5 -0.122838\n",
       "129    Hoxb5 -0.143137\n",
       "410     Lhx8 -0.184446\n",
       "\n",
       "[550 rows x 2 columns]"
      ]
     },
     "execution_count": 36,
     "metadata": {},
     "output_type": "execute_result"
    },
    {
     "data": {
      "image/png": "[encoded data removed]",
      "text/plain": [
       "<Figure size 640x480 with 1 Axes>"
      ]
     },
     "metadata": {},
     "output_type": "display_data"
    }
   ],
   "source": [
    "preds_test_per_gene\n",
    "\n",
    "# plot r2 score distribution per gene, histogram\n",
    "# density plot\n",
    "preds_test_per_gene.r2_score.plot.kde()\n",
    "#preds_test_per_gene.r2_score.plot.hist(bins=20, alpha=0.8)\n",
    "\n",
    "# plot r2 score distribution per celltype, histogram\n",
    "#preds_test_per_cell.r2_score.plot.hist(bins=10, alpha=0.8)\n",
    "\n",
    "# sort by r2 score\n",
    "preds_test_per_gene.sort_values(by='r2_score', ascending=False, inplace=True)\n",
    "preds_test_per_gene"
   ]
  },
  {
   "cell_type": "code",
   "execution_count": 39,
   "metadata": {
    "tags": []
   },
   "outputs": [
    {
     "data": {
      "text/html": [
       "<div>\n",
       "<style scoped>\n",
       "    .dataframe tbody tr th:only-of-type {\n",
       "        vertical-align: middle;\n",
       "    }\n",
       "\n",
       "    .dataframe tbody tr th {\n",
       "        vertical-align: top;\n",
       "    }\n",
       "\n",
       "    .dataframe thead th {\n",
       "        text-align: right;\n",
       "    }\n",
       "</style>\n",
       "<table border=\"1\" class=\"dataframe\">\n",
       "  <thead>\n",
       "    <tr style=\"text-align: right;\">\n",
       "      <th></th>\n",
       "      <th>gene</th>\n",
       "      <th>r2_score</th>\n",
       "    </tr>\n",
       "  </thead>\n",
       "  <tbody>\n",
       "    <tr>\n",
       "      <th>214</th>\n",
       "      <td>Slc17a7</td>\n",
       "      <td>0.833875</td>\n",
       "    </tr>\n",
       "    <tr>\n",
       "      <th>234</th>\n",
       "      <td>Aqp1</td>\n",
       "      <td>0.752764</td>\n",
       "    </tr>\n",
       "    <tr>\n",
       "      <th>181</th>\n",
       "      <td>Clic6</td>\n",
       "      <td>0.736130</td>\n",
       "    </tr>\n",
       "    <tr>\n",
       "      <th>31</th>\n",
       "      <td>Gfap</td>\n",
       "      <td>0.699421</td>\n",
       "    </tr>\n",
       "    <tr>\n",
       "      <th>328</th>\n",
       "      <td>Kl</td>\n",
       "      <td>0.670935</td>\n",
       "    </tr>\n",
       "    <tr>\n",
       "      <th>...</th>\n",
       "      <td>...</td>\n",
       "      <td>...</td>\n",
       "    </tr>\n",
       "    <tr>\n",
       "      <th>386</th>\n",
       "      <td>Pou4f1</td>\n",
       "      <td>-0.095043</td>\n",
       "    </tr>\n",
       "    <tr>\n",
       "      <th>213</th>\n",
       "      <td>Mab21l2</td>\n",
       "      <td>-0.112723</td>\n",
       "    </tr>\n",
       "    <tr>\n",
       "      <th>200</th>\n",
       "      <td>Slc6a5</td>\n",
       "      <td>-0.122838</td>\n",
       "    </tr>\n",
       "    <tr>\n",
       "      <th>129</th>\n",
       "      <td>Hoxb5</td>\n",
       "      <td>-0.143137</td>\n",
       "    </tr>\n",
       "    <tr>\n",
       "      <th>410</th>\n",
       "      <td>Lhx8</td>\n",
       "      <td>-0.184446</td>\n",
       "    </tr>\n",
       "  </tbody>\n",
       "</table>\n",
       "<p>550 rows × 2 columns</p>\n",
       "</div>"
      ],
      "text/plain": [
       "        gene  r2_score\n",
       "214  Slc17a7  0.833875\n",
       "234     Aqp1  0.752764\n",
       "181    Clic6  0.736130\n",
       "31      Gfap  0.699421\n",
       "328       Kl  0.670935\n",
       "..       ...       ...\n",
       "386   Pou4f1 -0.095043\n",
       "213  Mab21l2 -0.112723\n",
       "200   Slc6a5 -0.122838\n",
       "129    Hoxb5 -0.143137\n",
       "410     Lhx8 -0.184446\n",
       "\n",
       "[550 rows x 2 columns]"
      ]
     },
     "execution_count": 39,
     "metadata": {},
     "output_type": "execute_result"
    }
   ],
   "source": [
    "preds_test_per_gene"
   ]
  },
  {
   "cell_type": "code",
   "execution_count": 111,
   "metadata": {
    "tags": []
   },
   "outputs": [
    {
     "data": {
      "text/html": [
       "<div>\n",
       "<style scoped>\n",
       "    .dataframe tbody tr th:only-of-type {\n",
       "        vertical-align: middle;\n",
       "    }\n",
       "\n",
       "    .dataframe tbody tr th {\n",
       "        vertical-align: top;\n",
       "    }\n",
       "\n",
       "    .dataframe thead th {\n",
       "        text-align: right;\n",
       "    }\n",
       "</style>\n",
       "<table border=\"1\" class=\"dataframe\">\n",
       "  <thead>\n",
       "    <tr style=\"text-align: right;\">\n",
       "      <th></th>\n",
       "      <th>celltype</th>\n",
       "      <th>r2_score</th>\n",
       "    </tr>\n",
       "  </thead>\n",
       "  <tbody>\n",
       "    <tr>\n",
       "      <th>0</th>\n",
       "      <td>2</td>\n",
       "      <td>0.337519</td>\n",
       "    </tr>\n",
       "    <tr>\n",
       "      <th>1</th>\n",
       "      <td>19</td>\n",
       "      <td>0.429346</td>\n",
       "    </tr>\n",
       "    <tr>\n",
       "      <th>2</th>\n",
       "      <td>19</td>\n",
       "      <td>0.314214</td>\n",
       "    </tr>\n",
       "    <tr>\n",
       "      <th>3</th>\n",
       "      <td>2</td>\n",
       "      <td>0.395540</td>\n",
       "    </tr>\n",
       "    <tr>\n",
       "      <th>4</th>\n",
       "      <td>0</td>\n",
       "      <td>0.489159</td>\n",
       "    </tr>\n",
       "    <tr>\n",
       "      <th>...</th>\n",
       "      <td>...</td>\n",
       "      <td>...</td>\n",
       "    </tr>\n",
       "    <tr>\n",
       "      <th>11715</th>\n",
       "      <td>16</td>\n",
       "      <td>0.373429</td>\n",
       "    </tr>\n",
       "    <tr>\n",
       "      <th>11716</th>\n",
       "      <td>2</td>\n",
       "      <td>0.397199</td>\n",
       "    </tr>\n",
       "    <tr>\n",
       "      <th>11717</th>\n",
       "      <td>16</td>\n",
       "      <td>0.461380</td>\n",
       "    </tr>\n",
       "    <tr>\n",
       "      <th>11718</th>\n",
       "      <td>23</td>\n",
       "      <td>0.267912</td>\n",
       "    </tr>\n",
       "    <tr>\n",
       "      <th>11719</th>\n",
       "      <td>23</td>\n",
       "      <td>0.197130</td>\n",
       "    </tr>\n",
       "  </tbody>\n",
       "</table>\n",
       "<p>11720 rows × 2 columns</p>\n",
       "</div>"
      ],
      "text/plain": [
       "       celltype  r2_score\n",
       "0             2  0.337519\n",
       "1            19  0.429346\n",
       "2            19  0.314214\n",
       "3             2  0.395540\n",
       "4             0  0.489159\n",
       "...         ...       ...\n",
       "11715        16  0.373429\n",
       "11716         2  0.397199\n",
       "11717        16  0.461380\n",
       "11718        23  0.267912\n",
       "11719        23  0.197130\n",
       "\n",
       "[11720 rows x 2 columns]"
      ]
     },
     "execution_count": 111,
     "metadata": {},
     "output_type": "execute_result"
    }
   ],
   "source": [
    "preds_test_per_cell"
   ]
  },
  {
   "cell_type": "code",
   "execution_count": 42,
   "metadata": {
    "tags": []
   },
   "outputs": [
    {
     "data": {
      "text/html": [
       "<div>\n",
       "<style scoped>\n",
       "    .dataframe tbody tr th:only-of-type {\n",
       "        vertical-align: middle;\n",
       "    }\n",
       "\n",
       "    .dataframe tbody tr th {\n",
       "        vertical-align: top;\n",
       "    }\n",
       "\n",
       "    .dataframe thead th {\n",
       "        text-align: right;\n",
       "    }\n",
       "</style>\n",
       "<table border=\"1\" class=\"dataframe\">\n",
       "  <thead>\n",
       "    <tr style=\"text-align: right;\">\n",
       "      <th></th>\n",
       "      <th>gene</th>\n",
       "      <th>r2_score</th>\n",
       "    </tr>\n",
       "  </thead>\n",
       "  <tbody>\n",
       "    <tr>\n",
       "      <th>532</th>\n",
       "      <td>Blank-10</td>\n",
       "      <td>0.165592</td>\n",
       "    </tr>\n",
       "    <tr>\n",
       "      <th>524</th>\n",
       "      <td>Blank-42</td>\n",
       "      <td>0.065440</td>\n",
       "    </tr>\n",
       "    <tr>\n",
       "      <th>530</th>\n",
       "      <td>Blank-8</td>\n",
       "      <td>0.037748</td>\n",
       "    </tr>\n",
       "    <tr>\n",
       "      <th>528</th>\n",
       "      <td>Blank-50</td>\n",
       "      <td>0.036417</td>\n",
       "    </tr>\n",
       "    <tr>\n",
       "      <th>541</th>\n",
       "      <td>Blank-32</td>\n",
       "      <td>0.033135</td>\n",
       "    </tr>\n",
       "    <tr>\n",
       "      <th>548</th>\n",
       "      <td>Blank-23</td>\n",
       "      <td>0.004863</td>\n",
       "    </tr>\n",
       "    <tr>\n",
       "      <th>509</th>\n",
       "      <td>Blank-6</td>\n",
       "      <td>0.003013</td>\n",
       "    </tr>\n",
       "    <tr>\n",
       "      <th>521</th>\n",
       "      <td>Blank-39</td>\n",
       "      <td>-0.000325</td>\n",
       "    </tr>\n",
       "    <tr>\n",
       "      <th>500</th>\n",
       "      <td>Blank-36</td>\n",
       "      <td>-0.002621</td>\n",
       "    </tr>\n",
       "    <tr>\n",
       "      <th>531</th>\n",
       "      <td>Blank-9</td>\n",
       "      <td>-0.003341</td>\n",
       "    </tr>\n",
       "    <tr>\n",
       "      <th>506</th>\n",
       "      <td>Blank-1</td>\n",
       "      <td>-0.003902</td>\n",
       "    </tr>\n",
       "    <tr>\n",
       "      <th>504</th>\n",
       "      <td>Blank-12</td>\n",
       "      <td>-0.010106</td>\n",
       "    </tr>\n",
       "    <tr>\n",
       "      <th>517</th>\n",
       "      <td>Blank-30</td>\n",
       "      <td>-0.016065</td>\n",
       "    </tr>\n",
       "    <tr>\n",
       "      <th>540</th>\n",
       "      <td>Blank-16</td>\n",
       "      <td>-0.022533</td>\n",
       "    </tr>\n",
       "    <tr>\n",
       "      <th>522</th>\n",
       "      <td>Blank-40</td>\n",
       "      <td>-0.023518</td>\n",
       "    </tr>\n",
       "    <tr>\n",
       "      <th>525</th>\n",
       "      <td>Blank-44</td>\n",
       "      <td>-0.023708</td>\n",
       "    </tr>\n",
       "    <tr>\n",
       "      <th>545</th>\n",
       "      <td>Blank-33</td>\n",
       "      <td>-0.025436</td>\n",
       "    </tr>\n",
       "    <tr>\n",
       "      <th>546</th>\n",
       "      <td>Blank-34</td>\n",
       "      <td>-0.028364</td>\n",
       "    </tr>\n",
       "    <tr>\n",
       "      <th>508</th>\n",
       "      <td>Blank-5</td>\n",
       "      <td>-0.029118</td>\n",
       "    </tr>\n",
       "    <tr>\n",
       "      <th>533</th>\n",
       "      <td>Blank-13</td>\n",
       "      <td>-0.029557</td>\n",
       "    </tr>\n",
       "    <tr>\n",
       "      <th>544</th>\n",
       "      <td>Blank-28</td>\n",
       "      <td>-0.029903</td>\n",
       "    </tr>\n",
       "    <tr>\n",
       "      <th>513</th>\n",
       "      <td>Blank-24</td>\n",
       "      <td>-0.031630</td>\n",
       "    </tr>\n",
       "    <tr>\n",
       "      <th>542</th>\n",
       "      <td>Blank-18</td>\n",
       "      <td>-0.031743</td>\n",
       "    </tr>\n",
       "    <tr>\n",
       "      <th>511</th>\n",
       "      <td>Blank-14</td>\n",
       "      <td>-0.032087</td>\n",
       "    </tr>\n",
       "    <tr>\n",
       "      <th>501</th>\n",
       "      <td>Blank-49</td>\n",
       "      <td>-0.034801</td>\n",
       "    </tr>\n",
       "    <tr>\n",
       "      <th>505</th>\n",
       "      <td>Blank-20</td>\n",
       "      <td>-0.040202</td>\n",
       "    </tr>\n",
       "    <tr>\n",
       "      <th>537</th>\n",
       "      <td>Blank-22</td>\n",
       "      <td>-0.040804</td>\n",
       "    </tr>\n",
       "    <tr>\n",
       "      <th>503</th>\n",
       "      <td>Blank-25</td>\n",
       "      <td>-0.041007</td>\n",
       "    </tr>\n",
       "    <tr>\n",
       "      <th>527</th>\n",
       "      <td>Blank-47</td>\n",
       "      <td>-0.041054</td>\n",
       "    </tr>\n",
       "    <tr>\n",
       "      <th>514</th>\n",
       "      <td>Blank-26</td>\n",
       "      <td>-0.041091</td>\n",
       "    </tr>\n",
       "    <tr>\n",
       "      <th>535</th>\n",
       "      <td>Blank-17</td>\n",
       "      <td>-0.042145</td>\n",
       "    </tr>\n",
       "    <tr>\n",
       "      <th>534</th>\n",
       "      <td>Blank-15</td>\n",
       "      <td>-0.042290</td>\n",
       "    </tr>\n",
       "    <tr>\n",
       "      <th>547</th>\n",
       "      <td>Blank-45</td>\n",
       "      <td>-0.042829</td>\n",
       "    </tr>\n",
       "    <tr>\n",
       "      <th>510</th>\n",
       "      <td>Blank-7</td>\n",
       "      <td>-0.044546</td>\n",
       "    </tr>\n",
       "    <tr>\n",
       "      <th>549</th>\n",
       "      <td>Blank-48</td>\n",
       "      <td>-0.044979</td>\n",
       "    </tr>\n",
       "    <tr>\n",
       "      <th>539</th>\n",
       "      <td>Blank-11</td>\n",
       "      <td>-0.045627</td>\n",
       "    </tr>\n",
       "    <tr>\n",
       "      <th>529</th>\n",
       "      <td>Blank-2</td>\n",
       "      <td>-0.048704</td>\n",
       "    </tr>\n",
       "    <tr>\n",
       "      <th>520</th>\n",
       "      <td>Blank-37</td>\n",
       "      <td>-0.049936</td>\n",
       "    </tr>\n",
       "    <tr>\n",
       "      <th>519</th>\n",
       "      <td>Blank-35</td>\n",
       "      <td>-0.051183</td>\n",
       "    </tr>\n",
       "    <tr>\n",
       "      <th>515</th>\n",
       "      <td>Blank-27</td>\n",
       "      <td>-0.053541</td>\n",
       "    </tr>\n",
       "    <tr>\n",
       "      <th>518</th>\n",
       "      <td>Blank-31</td>\n",
       "      <td>-0.054867</td>\n",
       "    </tr>\n",
       "    <tr>\n",
       "      <th>543</th>\n",
       "      <td>Blank-4</td>\n",
       "      <td>-0.055345</td>\n",
       "    </tr>\n",
       "    <tr>\n",
       "      <th>502</th>\n",
       "      <td>Blank-43</td>\n",
       "      <td>-0.055671</td>\n",
       "    </tr>\n",
       "    <tr>\n",
       "      <th>523</th>\n",
       "      <td>Blank-41</td>\n",
       "      <td>-0.059564</td>\n",
       "    </tr>\n",
       "    <tr>\n",
       "      <th>538</th>\n",
       "      <td>Blank-38</td>\n",
       "      <td>-0.059728</td>\n",
       "    </tr>\n",
       "    <tr>\n",
       "      <th>507</th>\n",
       "      <td>Blank-3</td>\n",
       "      <td>-0.062599</td>\n",
       "    </tr>\n",
       "    <tr>\n",
       "      <th>526</th>\n",
       "      <td>Blank-46</td>\n",
       "      <td>-0.066316</td>\n",
       "    </tr>\n",
       "    <tr>\n",
       "      <th>516</th>\n",
       "      <td>Blank-29</td>\n",
       "      <td>-0.066434</td>\n",
       "    </tr>\n",
       "    <tr>\n",
       "      <th>512</th>\n",
       "      <td>Blank-21</td>\n",
       "      <td>-0.066468</td>\n",
       "    </tr>\n",
       "    <tr>\n",
       "      <th>536</th>\n",
       "      <td>Blank-19</td>\n",
       "      <td>-0.074530</td>\n",
       "    </tr>\n",
       "  </tbody>\n",
       "</table>\n",
       "</div>"
      ],
      "text/plain": [
       "         gene  r2_score\n",
       "532  Blank-10  0.165592\n",
       "524  Blank-42  0.065440\n",
       "530   Blank-8  0.037748\n",
       "528  Blank-50  0.036417\n",
       "541  Blank-32  0.033135\n",
       "548  Blank-23  0.004863\n",
       "509   Blank-6  0.003013\n",
       "521  Blank-39 -0.000325\n",
       "500  Blank-36 -0.002621\n",
       "531   Blank-9 -0.003341\n",
       "506   Blank-1 -0.003902\n",
       "504  Blank-12 -0.010106\n",
       "517  Blank-30 -0.016065\n",
       "540  Blank-16 -0.022533\n",
       "522  Blank-40 -0.023518\n",
       "525  Blank-44 -0.023708\n",
       "545  Blank-33 -0.025436\n",
       "546  Blank-34 -0.028364\n",
       "508   Blank-5 -0.029118\n",
       "533  Blank-13 -0.029557\n",
       "544  Blank-28 -0.029903\n",
       "513  Blank-24 -0.031630\n",
       "542  Blank-18 -0.031743\n",
       "511  Blank-14 -0.032087\n",
       "501  Blank-49 -0.034801\n",
       "505  Blank-20 -0.040202\n",
       "537  Blank-22 -0.040804\n",
       "503  Blank-25 -0.041007\n",
       "527  Blank-47 -0.041054\n",
       "514  Blank-26 -0.041091\n",
       "535  Blank-17 -0.042145\n",
       "534  Blank-15 -0.042290\n",
       "547  Blank-45 -0.042829\n",
       "510   Blank-7 -0.044546\n",
       "549  Blank-48 -0.044979\n",
       "539  Blank-11 -0.045627\n",
       "529   Blank-2 -0.048704\n",
       "520  Blank-37 -0.049936\n",
       "519  Blank-35 -0.051183\n",
       "515  Blank-27 -0.053541\n",
       "518  Blank-31 -0.054867\n",
       "543   Blank-4 -0.055345\n",
       "502  Blank-43 -0.055671\n",
       "523  Blank-41 -0.059564\n",
       "538  Blank-38 -0.059728\n",
       "507   Blank-3 -0.062599\n",
       "526  Blank-46 -0.066316\n",
       "516  Blank-29 -0.066434\n",
       "512  Blank-21 -0.066468\n",
       "536  Blank-19 -0.074530"
      ]
     },
     "execution_count": 42,
     "metadata": {},
     "output_type": "execute_result"
    }
   ],
   "source": [
    "filtered_rows = preds_test_per_gene[preds_test_per_gene['gene'].str.contains('Blank')]\n",
    "filtered_rows"
   ]
  },
  {
   "cell_type": "code",
   "execution_count": 100,
   "metadata": {
    "tags": []
   },
   "outputs": [
    {
     "ename": "FileNotFoundError",
     "evalue": "[Errno 2] No such file or directory: './models/model_fillomgGAT2.pt'",
     "output_type": "error",
     "traceback": [
      "\u001B[0;31m---------------------------------------------------------------------------\u001B[0m",
      "\u001B[0;31mFileNotFoundError\u001B[0m                         Traceback (most recent call last)",
      "Cell \u001B[0;32mIn[100], line 11\u001B[0m\n\u001B[1;32m      4\u001B[0m model_path \u001B[38;5;241m=\u001B[39m \u001B[38;5;124m\"\u001B[39m\u001B[38;5;124m./models/model_fillomgGAT2.pt\u001B[39m\u001B[38;5;124m\"\u001B[39m\n\u001B[1;32m      6\u001B[0m \u001B[38;5;66;03m# Define your model architecture (make sure it matches the architecture used to save the model)\u001B[39;00m\n\u001B[1;32m      7\u001B[0m \u001B[38;5;66;03m# Example: If you have a class named 'MyModel', you would need to create an instance of it first.\u001B[39;00m\n\u001B[1;32m      8\u001B[0m \u001B[38;5;66;03m# model = MyModel()\u001B[39;00m\n\u001B[1;32m      9\u001B[0m \n\u001B[1;32m     10\u001B[0m \u001B[38;5;66;03m# Load the model from the file\u001B[39;00m\n\u001B[0;32m---> 11\u001B[0m state_dict \u001B[38;5;241m=\u001B[39m torch\u001B[38;5;241m.\u001B[39mload(model_path)\n\u001B[1;32m     13\u001B[0m \u001B[38;5;66;03m# Load the state dictionary into the model\u001B[39;00m\n\u001B[1;32m     14\u001B[0m model\u001B[38;5;241m.\u001B[39mload_state_dict(state_dict)\n",
      "File \u001B[0;32m~/miniconda3/envs/master_prak/lib/python3.11/site-packages/torch/serialization.py:791\u001B[0m, in \u001B[0;36mload\u001B[0;34m(f, map_location, pickle_module, weights_only, **pickle_load_args)\u001B[0m\n\u001B[1;32m    788\u001B[0m \u001B[38;5;28;01mif\u001B[39;00m \u001B[38;5;124m'\u001B[39m\u001B[38;5;124mencoding\u001B[39m\u001B[38;5;124m'\u001B[39m \u001B[38;5;129;01mnot\u001B[39;00m \u001B[38;5;129;01min\u001B[39;00m pickle_load_args\u001B[38;5;241m.\u001B[39mkeys():\n\u001B[1;32m    789\u001B[0m     pickle_load_args[\u001B[38;5;124m'\u001B[39m\u001B[38;5;124mencoding\u001B[39m\u001B[38;5;124m'\u001B[39m] \u001B[38;5;241m=\u001B[39m \u001B[38;5;124m'\u001B[39m\u001B[38;5;124mutf-8\u001B[39m\u001B[38;5;124m'\u001B[39m\n\u001B[0;32m--> 791\u001B[0m \u001B[38;5;28;01mwith\u001B[39;00m _open_file_like(f, \u001B[38;5;124m'\u001B[39m\u001B[38;5;124mrb\u001B[39m\u001B[38;5;124m'\u001B[39m) \u001B[38;5;28;01mas\u001B[39;00m opened_file:\n\u001B[1;32m    792\u001B[0m     \u001B[38;5;28;01mif\u001B[39;00m _is_zipfile(opened_file):\n\u001B[1;32m    793\u001B[0m         \u001B[38;5;66;03m# The zipfile reader is going to advance the current file position.\u001B[39;00m\n\u001B[1;32m    794\u001B[0m         \u001B[38;5;66;03m# If we want to actually tail call to torch.jit.load, we need to\u001B[39;00m\n\u001B[1;32m    795\u001B[0m         \u001B[38;5;66;03m# reset back to the original position.\u001B[39;00m\n\u001B[1;32m    796\u001B[0m         orig_position \u001B[38;5;241m=\u001B[39m opened_file\u001B[38;5;241m.\u001B[39mtell()\n",
      "File \u001B[0;32m~/miniconda3/envs/master_prak/lib/python3.11/site-packages/torch/serialization.py:271\u001B[0m, in \u001B[0;36m_open_file_like\u001B[0;34m(name_or_buffer, mode)\u001B[0m\n\u001B[1;32m    269\u001B[0m \u001B[38;5;28;01mdef\u001B[39;00m \u001B[38;5;21m_open_file_like\u001B[39m(name_or_buffer, mode):\n\u001B[1;32m    270\u001B[0m     \u001B[38;5;28;01mif\u001B[39;00m _is_path(name_or_buffer):\n\u001B[0;32m--> 271\u001B[0m         \u001B[38;5;28;01mreturn\u001B[39;00m _open_file(name_or_buffer, mode)\n\u001B[1;32m    272\u001B[0m     \u001B[38;5;28;01melse\u001B[39;00m:\n\u001B[1;32m    273\u001B[0m         \u001B[38;5;28;01mif\u001B[39;00m \u001B[38;5;124m'\u001B[39m\u001B[38;5;124mw\u001B[39m\u001B[38;5;124m'\u001B[39m \u001B[38;5;129;01min\u001B[39;00m mode:\n",
      "File \u001B[0;32m~/miniconda3/envs/master_prak/lib/python3.11/site-packages/torch/serialization.py:252\u001B[0m, in \u001B[0;36m_open_file.__init__\u001B[0;34m(self, name, mode)\u001B[0m\n\u001B[1;32m    251\u001B[0m \u001B[38;5;28;01mdef\u001B[39;00m \u001B[38;5;21m__init__\u001B[39m(\u001B[38;5;28mself\u001B[39m, name, mode):\n\u001B[0;32m--> 252\u001B[0m     \u001B[38;5;28msuper\u001B[39m()\u001B[38;5;241m.\u001B[39m\u001B[38;5;21m__init__\u001B[39m(\u001B[38;5;28mopen\u001B[39m(name, mode))\n",
      "\u001B[0;31mFileNotFoundError\u001B[0m: [Errno 2] No such file or directory: './models/model_fillomgGAT2.pt'"
     ]
    }
   ],
   "source": [
    "import torch\n",
    "\n",
    "# Replace 'model.pt' with the actual file path of your model\n",
    "model_path = \"./models/model_fillomgGAT2.pt\"\n",
    "\n",
    "# Define your model architecture (make sure it matches the architecture used to save the model)\n",
    "# Example: If you have a class named 'MyModel', you would need to create an instance of it first.\n",
    "# model = MyModel()\n",
    "\n",
    "# Load the model from the file\n",
    "state_dict = torch.load(model_path)\n",
    "\n",
    "# Load the state dictionary into the model\n",
    "model.load_state_dict(state_dict)\n",
    "\n",
    "# If you saved the model on a GPU and want to use it on the CPU, use the following line:\n",
    "# state_dict = torch.load(model_path, map_location=torch.device('cpu'))\n",
    "# model.load_state_dict(state_dict)\n",
    "\n",
    "# Put the model in evaluation mode if it contains dropout, batch norm, etc.\n",
    "model.eval()"
   ]
  },
  {
   "cell_type": "code",
   "execution_count": 43,
   "metadata": {
    "tags": []
   },
   "outputs": [
    {
     "data": {
      "image/png": "[encoded data removed]",
      "text/plain": [
       "<Figure size 1800x800 with 1 Axes>"
      ]
     },
     "metadata": {},
     "output_type": "display_data"
    }
   ],
   "source": [
    "import seaborn as sns\n",
    "import matplotlib.pyplot as plt\n",
    "\n",
    "# set style\n",
    "sns.set_palette(\"colorblind\")\n",
    "sns.set_context(\"paper\", font_scale=1.5)\n",
    "\n",
    "# make plot larger\n",
    "plt.figure(figsize=(18,8))\n",
    "\n",
    "# rotate x-axis labels\n",
    "plt.xticks(rotation=90)\n",
    "\n",
    "# create plot of mean R2 score per celltype\n",
    "# order bars by mean R2 score\n",
    "\n",
    "# add avlue counts from adata.obs.class_label.value_counts()\n",
    "ax = sns.barplot(x=\"celltype\", y=\"r2_score\", data=preds_test_per_cell, order=preds_test_per_cell.groupby('celltype').mean().sort_values(by='r2_score', ascending=False).index)"
   ]
  },
  {
   "cell_type": "code",
   "execution_count": 44,
   "metadata": {
    "tags": []
   },
   "outputs": [
    {
     "data": {
      "image/png": "[encoded data removed]",
      "text/plain": [
       "<Figure size 1000x600 with 1 Axes>"
      ]
     },
     "metadata": {},
     "output_type": "display_data"
    }
   ],
   "source": [
    "import pandas as pd\n",
    "import matplotlib.pyplot as plt\n",
    "\n",
    "# Get the frequency of each celltype\n",
    "celltype_counts = preds_test_per_cell['celltype'].value_counts().sort_values(ascending=False)\n",
    "\n",
    "plt.figure(figsize=(10,6))\n",
    "plt.bar(celltype_counts.index, celltype_counts.values, alpha=0.8, color='skyblue', edgecolor='black')\n",
    "plt.xticks(rotation='vertical')\n",
    "plt.xticks(rotation=90)\n",
    "plt.title('Celltype Distribution')\n",
    "plt.xlabel('Celltype')\n",
    "plt.ylabel('Frequency')\n",
    "plt.show()\n"
   ]
  },
  {
   "cell_type": "code",
   "execution_count": 45,
   "metadata": {
    "tags": []
   },
   "outputs": [
    {
     "data": {
      "image/png": "[encoded data removed]",
      "text/plain": [
       "<Figure size 1000x600 with 1 Axes>"
      ]
     },
     "metadata": {},
     "output_type": "display_data"
    }
   ],
   "source": [
    "import seaborn as sns\n",
    "import matplotlib.pyplot as plt\n",
    "\n",
    "plt.figure(figsize=(10, 6))\n",
    "sns.violinplot(x=\"celltype\", y=\"r2_score\", data=preds_test_per_cell)\n",
    "# rotate x-axis labels\n",
    "plt.xticks(rotation=90)\n",
    "plt.title('R2 Score Distribution per Gene')\n",
    "plt.xlabel('R2 Score')\n",
    "plt.show()\n"
   ]
  },
  {
   "cell_type": "code",
   "execution_count": null,
   "metadata": {},
   "outputs": [],
   "source": []
  },
  {
   "cell_type": "code",
   "execution_count": 66,
   "metadata": {
    "tags": []
   },
   "outputs": [
    {
     "name": "stderr",
     "output_type": "stream",
     "text": [
      "Processing...\n"
     ]
    },
    {
     "ename": "AttributeError",
     "evalue": "'InMemoryGraphDataset' object has no attribute 'data_loader'",
     "output_type": "error",
     "traceback": [
      "\u001B[0;31m---------------------------------------------------------------------------\u001B[0m",
      "\u001B[0;31mAttributeError\u001B[0m                            Traceback (most recent call last)",
      "Cell \u001B[0;32mIn[66], line 3\u001B[0m\n\u001B[1;32m      1\u001B[0m file_path \u001B[38;5;241m=\u001B[39m \u001B[38;5;124m\"\u001B[39m\u001B[38;5;124m./data/subset_6img_atlas_brain.h5ad\u001B[39m\u001B[38;5;124m\"\u001B[39m\n\u001B[1;32m      2\u001B[0m root_path \u001B[38;5;241m=\u001B[39m \u001B[38;5;124m\"\u001B[39m\u001B[38;5;124m./data\u001B[39m\u001B[38;5;124m\"\u001B[39m\n\u001B[0;32m----> 3\u001B[0m dataset \u001B[38;5;241m=\u001B[39m \u001B[43mInMemoryGraphDataset\u001B[49m\u001B[43m(\u001B[49m\u001B[43mroot\u001B[49m\u001B[38;5;241;43m=\u001B[39;49m\u001B[43m \u001B[49m\u001B[43mroot_path\u001B[49m\u001B[43m,\u001B[49m\n\u001B[1;32m      4\u001B[0m \u001B[43m                               \u001B[49m\u001B[43mdata_names\u001B[49m\u001B[43m \u001B[49m\u001B[38;5;241;43m=\u001B[39;49m\u001B[43m \u001B[49m\u001B[38;5;124;43m\"\u001B[39;49m\u001B[38;5;124;43mdata_test\u001B[39;49m\u001B[38;5;124;43m\"\u001B[39;49m\u001B[43m,\u001B[49m\n\u001B[1;32m      5\u001B[0m \u001B[43m                               \u001B[49m\u001B[43mfile_path\u001B[49m\u001B[38;5;241;43m=\u001B[39;49m\u001B[43mfile_path\u001B[49m\u001B[43m,\u001B[49m\u001B[43m \u001B[49m\u001B[43mimage_col\u001B[49m\u001B[38;5;241;43m=\u001B[39;49m\u001B[38;5;124;43m\"\u001B[39;49m\u001B[38;5;124;43msection\u001B[39;49m\u001B[38;5;124;43m\"\u001B[39;49m\u001B[43m,\u001B[49m\u001B[43m \u001B[49m\u001B[43mlabel_col\u001B[49m\u001B[38;5;241;43m=\u001B[39;49m\u001B[38;5;124;43m\"\u001B[39;49m\u001B[38;5;124;43mclass_label\u001B[39;49m\u001B[38;5;124;43m\"\u001B[39;49m\u001B[43m,\u001B[49m\u001B[43m \u001B[49m\u001B[43minclude_label\u001B[49m\u001B[38;5;241;43m=\u001B[39;49m\u001B[38;5;28;43;01mFalse\u001B[39;49;00m\u001B[43m,\u001B[49m\u001B[43m \u001B[49m\u001B[43mradius\u001B[49m\u001B[38;5;241;43m=\u001B[39;49m\u001B[38;5;241;43m20\u001B[39;49m\u001B[43m,\u001B[49m\u001B[43mnode_level\u001B[49m\u001B[43m \u001B[49m\u001B[38;5;241;43m=\u001B[39;49m\u001B[43m \u001B[49m\u001B[38;5;241;43m1\u001B[39;49m\u001B[43m,\u001B[49m\u001B[43m \u001B[49m\u001B[43mbatch_size\u001B[49m\u001B[38;5;241;43m=\u001B[39;49m\u001B[38;5;241;43m1\u001B[39;49m\u001B[43m)\u001B[49m\n",
      "File \u001B[0;32m/data/nasif12/home_if12/liaoc/spatial_atlas_ssl/spatialSSL/Dataset.py:64\u001B[0m, in \u001B[0;36mInMemoryGraphDataset.__init__\u001B[0;34m(self, root, data_names, *args, **kwargs)\u001B[0m\n\u001B[1;32m     62\u001B[0m \u001B[38;5;66;03m#self.data_loader = FullImageConstracter(*args, **kwargs)\u001B[39;00m\n\u001B[1;32m     63\u001B[0m \u001B[38;5;28mself\u001B[39m\u001B[38;5;241m.\u001B[39mroot \u001B[38;5;241m=\u001B[39m root\n\u001B[0;32m---> 64\u001B[0m \u001B[38;5;28;43msuper\u001B[39;49m\u001B[43m(\u001B[49m\u001B[43mInMemoryDataset\u001B[49m\u001B[43m,\u001B[49m\u001B[43m \u001B[49m\u001B[38;5;28;43mself\u001B[39;49m\u001B[43m)\u001B[49m\u001B[38;5;241;43m.\u001B[39;49m\u001B[38;5;21;43m__init__\u001B[39;49m\u001B[43m(\u001B[49m\u001B[43mroot\u001B[49m\u001B[43m,\u001B[49m\u001B[43m \u001B[49m\u001B[43mtransform\u001B[49m\u001B[38;5;241;43m=\u001B[39;49m\u001B[38;5;28;43;01mNone\u001B[39;49;00m\u001B[43m,\u001B[49m\u001B[43m \u001B[49m\u001B[43mpre_transform\u001B[49m\u001B[38;5;241;43m=\u001B[39;49m\u001B[38;5;28;43;01mNone\u001B[39;49;00m\u001B[43m)\u001B[49m\n",
      "File \u001B[0;32m~/.conda/envs/ml_genetic/lib/python3.11/site-packages/torch_geometric/data/dataset.py:97\u001B[0m, in \u001B[0;36mDataset.__init__\u001B[0;34m(self, root, transform, pre_transform, pre_filter, log)\u001B[0m\n\u001B[1;32m     94\u001B[0m     \u001B[38;5;28mself\u001B[39m\u001B[38;5;241m.\u001B[39m_download()\n\u001B[1;32m     96\u001B[0m \u001B[38;5;28;01mif\u001B[39;00m \u001B[38;5;28mself\u001B[39m\u001B[38;5;241m.\u001B[39mhas_process:\n\u001B[0;32m---> 97\u001B[0m     \u001B[38;5;28;43mself\u001B[39;49m\u001B[38;5;241;43m.\u001B[39;49m\u001B[43m_process\u001B[49m\u001B[43m(\u001B[49m\u001B[43m)\u001B[49m\n",
      "File \u001B[0;32m~/.conda/envs/ml_genetic/lib/python3.11/site-packages/torch_geometric/data/dataset.py:230\u001B[0m, in \u001B[0;36mDataset._process\u001B[0;34m(self)\u001B[0m\n\u001B[1;32m    227\u001B[0m     \u001B[38;5;28mprint\u001B[39m(\u001B[38;5;124m'\u001B[39m\u001B[38;5;124mProcessing...\u001B[39m\u001B[38;5;124m'\u001B[39m, file\u001B[38;5;241m=\u001B[39msys\u001B[38;5;241m.\u001B[39mstderr)\n\u001B[1;32m    229\u001B[0m makedirs(\u001B[38;5;28mself\u001B[39m\u001B[38;5;241m.\u001B[39mprocessed_dir)\n\u001B[0;32m--> 230\u001B[0m \u001B[38;5;28;43mself\u001B[39;49m\u001B[38;5;241;43m.\u001B[39;49m\u001B[43mprocess\u001B[49m\u001B[43m(\u001B[49m\u001B[43m)\u001B[49m\n\u001B[1;32m    232\u001B[0m path \u001B[38;5;241m=\u001B[39m osp\u001B[38;5;241m.\u001B[39mjoin(\u001B[38;5;28mself\u001B[39m\u001B[38;5;241m.\u001B[39mprocessed_dir, \u001B[38;5;124m'\u001B[39m\u001B[38;5;124mpre_transform.pt\u001B[39m\u001B[38;5;124m'\u001B[39m)\n\u001B[1;32m    233\u001B[0m torch\u001B[38;5;241m.\u001B[39msave(_repr(\u001B[38;5;28mself\u001B[39m\u001B[38;5;241m.\u001B[39mpre_transform), path)\n",
      "File \u001B[0;32m/data/nasif12/home_if12/liaoc/spatial_atlas_ssl/spatialSSL/Dataset.py:79\u001B[0m, in \u001B[0;36mInMemoryGraphDataset.process\u001B[0;34m(self)\u001B[0m\n\u001B[1;32m     78\u001B[0m \u001B[38;5;28;01mdef\u001B[39;00m \u001B[38;5;21mprocess\u001B[39m(\u001B[38;5;28mself\u001B[39m):\n\u001B[0;32m---> 79\u001B[0m     \u001B[38;5;28;43mself\u001B[39;49m\u001B[38;5;241;43m.\u001B[39;49m\u001B[43mdata_loader\u001B[49m\u001B[38;5;241m.\u001B[39mload_data()\n\u001B[1;32m     80\u001B[0m     data_list \u001B[38;5;241m=\u001B[39m \u001B[38;5;28mself\u001B[39m\u001B[38;5;241m.\u001B[39mdata_loader\u001B[38;5;241m.\u001B[39mconstruct_graph()  \u001B[38;5;66;03m# Here you generate your data\u001B[39;00m\n\u001B[1;32m     81\u001B[0m     data, slices \u001B[38;5;241m=\u001B[39m \u001B[38;5;28mself\u001B[39m\u001B[38;5;241m.\u001B[39mcollate(data_list)\n",
      "File \u001B[0;32m~/.conda/envs/ml_genetic/lib/python3.11/site-packages/torch_geometric/data/in_memory_dataset.py:175\u001B[0m, in \u001B[0;36mInMemoryDataset.__getattr__\u001B[0;34m(self, key)\u001B[0m\n\u001B[1;32m    172\u001B[0m         data_list \u001B[38;5;241m=\u001B[39m [\u001B[38;5;28mself\u001B[39m\u001B[38;5;241m.\u001B[39mget(i) \u001B[38;5;28;01mfor\u001B[39;00m i \u001B[38;5;129;01min\u001B[39;00m \u001B[38;5;28mself\u001B[39m\u001B[38;5;241m.\u001B[39mindices()]\n\u001B[1;32m    173\u001B[0m         \u001B[38;5;28;01mreturn\u001B[39;00m Batch\u001B[38;5;241m.\u001B[39mfrom_data_list(data_list)[key]\n\u001B[0;32m--> 175\u001B[0m \u001B[38;5;28;01mraise\u001B[39;00m \u001B[38;5;167;01mAttributeError\u001B[39;00m(\u001B[38;5;124mf\u001B[39m\u001B[38;5;124m\"\u001B[39m\u001B[38;5;124m'\u001B[39m\u001B[38;5;132;01m{\u001B[39;00m\u001B[38;5;28mself\u001B[39m\u001B[38;5;241m.\u001B[39m\u001B[38;5;18m__class__\u001B[39m\u001B[38;5;241m.\u001B[39m\u001B[38;5;18m__name__\u001B[39m\u001B[38;5;132;01m}\u001B[39;00m\u001B[38;5;124m'\u001B[39m\u001B[38;5;124m object has no \u001B[39m\u001B[38;5;124m\"\u001B[39m\n\u001B[1;32m    176\u001B[0m                      \u001B[38;5;124mf\u001B[39m\u001B[38;5;124m\"\u001B[39m\u001B[38;5;124mattribute \u001B[39m\u001B[38;5;124m'\u001B[39m\u001B[38;5;132;01m{\u001B[39;00mkey\u001B[38;5;132;01m}\u001B[39;00m\u001B[38;5;124m'\u001B[39m\u001B[38;5;124m\"\u001B[39m)\n",
      "\u001B[0;31mAttributeError\u001B[0m: 'InMemoryGraphDataset' object has no attribute 'data_loader'"
     ]
    }
   ],
   "source": [
    "file_path = \"./data/subset_6img_atlas_brain.h5ad\"\n",
    "root_path = \"./data\"\n",
    "dataset = InMemoryGraphDataset(root= root_path,\n",
    "                               data_names = \"data_test\",\n",
    "                               file_path=file_path, image_col=\"section\", label_col=\"class_label\", include_label=False, radius=20,node_level = 1, batch_size=1)\n",
    "\n"
   ]
  },
  {
   "cell_type": "code",
   "execution_count": null,
   "metadata": {
    "tags": []
   },
   "outputs": [],
   "source": [
    "# Load your dataset\n",
    "import torch\n",
    "data = torch.load('./data/data_test.pt')"
   ]
  },
  {
   "cell_type": "code",
   "execution_count": null,
   "metadata": {},
   "outputs": [],
   "source": []
  }
 ],
 "metadata": {
  "kernelspec": {
   "display_name": "Python 3 (ipykernel)",
   "language": "python",
   "name": "python3"
  },
  "language_info": {
   "codemirror_mode": {
    "name": "ipython",
    "version": 3
   },
   "file_extension": ".py",
   "mimetype": "text/x-python",
   "name": "python",
   "nbconvert_exporter": "python",
   "pygments_lexer": "ipython3",
   "version": "3.11.4"
  }
 },
 "nbformat": 4,
 "nbformat_minor": 4
}
