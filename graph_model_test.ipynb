{
 "cells": [
  {
   "cell_type": "code",
   "execution_count": 1,
   "metadata": {
    "tags": []
   },
   "outputs": [
    {
     "name": "stderr",
     "output_type": "stream",
     "text": [
      "/data/ouga/home/ag_gagneur/liaoc/.conda/envs/ml_genetic/lib/python3.11/site-packages/geopandas/_compat.py:124: UserWarning: The Shapely GEOS version (3.11.1-CAPI-1.17.1) is incompatible with the GEOS version PyGEOS was compiled with (3.10.4-CAPI-1.16.2). Conversions between both will be slow.\n",
      "  warnings.warn(\n",
      "/data/ouga/home/ag_gagneur/liaoc/.conda/envs/ml_genetic/lib/python3.11/site-packages/spatialdata/__init__.py:9: UserWarning: Geopandas was set to use PyGEOS, changing to shapely 2.0 with:\n",
      "\n",
      "\tgeopandas.options.use_pygeos = True\n",
      "\n",
      "If you intended to use PyGEOS, set the option to False.\n",
      "  _check_geopandas_using_shapely()\n"
     ]
    }
   ],
   "source": [
    "from spatialSSL.Dataloader import FullImageDatasetConstructor\n",
    "from spatialSSL.Utils import split_dataset\n",
    "from spatialSSL.Training import train\n",
    "from spatialSSL.Training import train_epoch\n",
    "from spatialSSL.Testing import test\n",
    "from spatialSSL.Dataset import InMemoryGraphDataset\n",
    "import numpy as np"
   ]
  },
  {
   "cell_type": "code",
   "execution_count": 2,
   "metadata": {
    "tags": []
   },
   "outputs": [
    {
     "data": {
      "text/plain": [
       "'\\nimport os\\nimport scanpy as sc\\n\\nadata = sc.read(\"./data/atlas_brain_638850_CCF.h5ad\")\\n# subset the adata\\nselected_img = np.unique(adata.obs[\"section\"])[0:20]\\nsub_adata = adata[adata.obs[\"section\"].isin(selected_img)].copy()\\n\\n# specify the output directory and file\\noutput_dir = \\'./data\\'\\nos.makedirs(output_dir, exist_ok=True)\\noutput_file = os.path.join(output_dir, \\'sub_20img_adata.h5ad\\')\\n\\n# write the sub_adata into a .h5ad file\\nsub_adata.write(output_file)\\n'"
      ]
     },
     "execution_count": 2,
     "metadata": {},
     "output_type": "execute_result"
    }
   ],
   "source": [
    "'''\n",
    "import os\n",
    "import scanpy as sc\n",
    "\n",
    "adata = sc.read(\"./data/atlas_brain_638850_CCF.h5ad\")\n",
    "# subset the adata\n",
    "selected_img = np.unique(adata.obs[\"section\"])[0:20]\n",
    "sub_adata = adata[adata.obs[\"section\"].isin(selected_img)].copy()\n",
    "\n",
    "# specify the output directory and file\n",
    "output_dir = './data'\n",
    "os.makedirs(output_dir, exist_ok=True)\n",
    "output_file = os.path.join(output_dir, 'sub_20img_adata.h5ad')\n",
    "\n",
    "# write the sub_adata into a .h5ad file\n",
    "sub_adata.write(output_file)\n",
    "'''"
   ]
  },
  {
   "cell_type": "code",
   "execution_count": null,
   "metadata": {},
   "outputs": [],
   "source": []
  },
  {
   "cell_type": "code",
   "execution_count": 3,
   "metadata": {
    "collapsed": false,
    "jupyter": {
     "outputs_hidden": false
    },
    "tags": []
   },
   "outputs": [],
   "source": [
    "# Create an instance of Full_image_dataloader\n",
    "\n",
    " \n",
    "#file_path = \"./data/img_119670929.h5ad\"\n",
    "file_path = \"./data/subset_6img_atlas_brain.h5ad\"\n",
    "#file_path = \"./data/atlas_brain_638850_CCF.h5ad\"\n",
    "#file_path = \"./data/sub_20img_adata.h5ad\"\n",
    "\n",
    "data_constracter = FullImageDatasetConstructor(file_path=file_path,\n",
    "                                        image_col=\"section\",\n",
    "                                        label_col=\"class_label\",\n",
    "                                        include_label=False,\n",
    "                                        radius=40,\n",
    "                                        node_level = 1,\n",
    "                                       #mask_method = \"cell_type\",\n",
    "                                       celltype_to_mask = \"LQ\")\n"
   ]
  },
  {
   "cell_type": "code",
   "execution_count": 4,
   "metadata": {
    "tags": []
   },
   "outputs": [],
   "source": [
    "# Load the data\n",
    "data_constracter.load_data()"
   ]
  },
  {
   "cell_type": "code",
   "execution_count": 5,
   "metadata": {
    "collapsed": false,
    "jupyter": {
     "outputs_hidden": false
    },
    "tags": []
   },
   "outputs": [
    {
     "data": {
      "application/vnd.jupyter.widget-view+json": {
       "model_id": "b702583693104c8bbeed1af7c731572e",
       "version_major": 2,
       "version_minor": 0
      },
      "text/plain": [
       "Constructing Graphs:   0%|          | 0/6 [00:00<?, ?it/s]"
      ]
     },
     "metadata": {},
     "output_type": "display_data"
    }
   ],
   "source": [
    "# Construct the graph\n",
    "graph_list = data_constracter.construct_graph()"
   ]
  },
  {
   "cell_type": "code",
   "execution_count": 6,
   "metadata": {
    "tags": []
   },
   "outputs": [
    {
     "data": {
      "text/plain": [
       "6"
      ]
     },
     "execution_count": 6,
     "metadata": {},
     "output_type": "execute_result"
    }
   ],
   "source": [
    "len(graph_list)"
   ]
  },
  {
   "cell_type": "code",
   "execution_count": 7,
   "metadata": {
    "collapsed": false,
    "jupyter": {
     "outputs_hidden": false
    },
    "tags": []
   },
   "outputs": [],
   "source": [
    "train_loader, val_loader, test_loader = split_dataset(graph_list,split_percent=(0.6, 0.2, 0.2), batch_size=1)"
   ]
  },
  {
   "cell_type": "code",
   "execution_count": 8,
   "metadata": {
    "collapsed": false,
    "jupyter": {
     "outputs_hidden": false
    },
    "tags": []
   },
   "outputs": [
    {
     "name": "stdout",
     "output_type": "stream",
     "text": [
      "Train size: 4\n",
      "Validation size: 1\n",
      "Test size: 1\n"
     ]
    }
   ],
   "source": [
    "# Print out the size of each set to verify\n",
    "print(f\"Train size: {len(train_loader.dataset)}\")\n",
    "print(f\"Validation size: {len(val_loader.dataset)}\")\n",
    "print(f\"Test size: {len(test_loader.dataset)}\")"
   ]
  },
  {
   "cell_type": "code",
   "execution_count": 9,
   "metadata": {
    "tags": []
   },
   "outputs": [],
   "source": [
    "from torch import nn, optim, Tensor\n",
    "import torch\n",
    "from torch_geometric.nn import GCNConv,GATConv\n",
    "from torch.optim.lr_scheduler import StepLR\n",
    "from sklearn.metrics import r2_score\n",
    "from torch.nn import LeakyReLU, Dropout\n",
    "import time\n",
    "\n",
    "class GCN(nn.Module):\n",
    "    def __init__(self, in_channels, hidden_channels, out_channels, dropout_rate=0.5):\n",
    "        super().__init__()\n",
    "        self.conv1 = GCNConv(in_channels, hidden_channels)\n",
    "        self.conv2 = GCNConv(hidden_channels, hidden_channels)\n",
    "        self.conv3 = GCNConv(hidden_channels, out_channels)\n",
    "        self.conv4 = GCNConv(hidden_channels, out_channels)\n",
    "        self.dropout = Dropout(dropout_rate)\n",
    "        \n",
    "        self.act = nn.LeakyReLU()\n",
    "\n",
    "    def forward(self, x: Tensor, edge_index: Tensor) -> Tensor:\n",
    "        x = self.dropout(self.act(self.conv1(x, edge_index)))\n",
    "        x = self.dropout(self.act(self.conv2(x, edge_index)))\n",
    "        x = self.dropout(self.act(self.conv3(x, edge_index)))\n",
    "        x = self.act(self.conv4(x, edge_index))  # Typically, dropout is not applied to the final layer.\n",
    "        return x\n",
    "    \n",
    "\n",
    "class GCN_2(nn.Module):\n",
    "    def __init__(self, in_channels, hidden_channels, out_channels, dropout_rate=0.5):\n",
    "        super().__init__()\n",
    "        self.conv1 = GCNConv(in_channels, hidden_channels)\n",
    "        self.conv2 = GCNConv(hidden_channels, hidden_channels)\n",
    "        self.dropout = Dropout(dropout_rate)\n",
    "        \n",
    "        self.act = nn.LeakyReLU()\n",
    "\n",
    "    def forward(self, x: Tensor, edge_index: Tensor) -> Tensor:\n",
    "        x = self.dropout(self.act(self.conv1(x, edge_index)))\n",
    "        x = self.act(self.conv2(x, edge_index))  # Typically, dropout is not applied to the final layer.\n",
    "        return x\n",
    "\n",
    "class GNN(nn.Module):\n",
    "    def __init__(self, in_channels, hidden_channels, out_channels, dropout_rate=0.5):\n",
    "        super().__init__()\n",
    "        self.conv1 = GCNConv(in_channels, hidden_channels)\n",
    "        self.conv2 = GCNConv(hidden_channels, hidden_channels)\n",
    "        self.conv3 = GCNConv(hidden_channels, out_channels)\n",
    "        self.conv4 = GCNConv(hidden_channels, out_channels)\n",
    "        self.dropout = Dropout(dropout_rate)\n",
    "        \n",
    "        self.act = nn.LeakyReLU()\n",
    "\n",
    "    def forward(self, x: Tensor, edge_index: Tensor) -> Tensor:\n",
    "        x = self.dropout(self.act(self.conv1(x, edge_index)))\n",
    "        x = self.dropout(self.act(self.conv2(x, edge_index)))\n",
    "        x = self.dropout(self.act(self.conv3(x, edge_index)))\n",
    "        x = self.act(self.conv4(x, edge_index))  # Typically, dropout is not applied to the final layer.\n",
    "        return x\n",
    "    \n",
    "class GAT(nn.Module):\n",
    "    def __init__(self, in_channels, hidden_channels, out_channels, dropout_rate=0.5):\n",
    "        super().__init__()\n",
    "        self.conv1 = GATConv(in_channels, hidden_channels)\n",
    "        self.conv2 = GATConv(hidden_channels, hidden_channels)\n",
    "        self.conv3 = GATConv(hidden_channels, out_channels)\n",
    "        self.conv4 = GATConv(hidden_channels, out_channels)\n",
    "        self.dropout = Dropout(dropout_rate)\n",
    "        self.act = nn.LeakyReLU()\n",
    "\n",
    "    def forward(self, x: Tensor, edge_index: Tensor) -> Tensor:\n",
    "        x = self.dropout(self.act(self.conv1(x, edge_index)))\n",
    "        x = self.dropout(self.act(self.conv2(x, edge_index)))\n",
    "        x = self.dropout(self.act(self.conv3(x, edge_index)))\n",
    "        x = self.act(self.conv4(x, edge_index))  # Typically, dropout is not applied to the final layer.\n",
    "        return x\n",
    "    "
   ]
  },
  {
   "cell_type": "code",
   "execution_count": null,
   "metadata": {
    "tags": []
   },
   "outputs": [
    {
     "name": "stdout",
     "output_type": "stream",
     "text": [
      "Epoch 1/150, train loss: 0.9109, train r2: -455.2685, train mse: 0.8214,  val loss: 0.7333, val r2: -25475.7207, val mse: 0.6893, Time: 2.5769s\n",
      "Epoch 2/150, train loss: 0.7527, train r2: -290.1311, train mse: 0.7598,  val loss: 0.6433, val r2: -18415.1094, val mse: 0.6508, Time: 2.0752s\n",
      "Epoch 3/150, train loss: 0.6769, train r2: -156.3347, train mse: 0.7214,  val loss: 0.6045, val r2: -7013.7300, val mse: 0.6267, Time: 2.0591s\n",
      "Epoch 4/150, train loss: 0.6419, train r2: -84.9327, train mse: 0.6943,  val loss: 0.5761, val r2: -3598.6714, val mse: 0.6107, Time: 2.0568s\n",
      "Epoch 5/150, train loss: 0.6101, train r2: -69.1418, train mse: 0.6733,  val loss: 0.5502, val r2: -2602.5081, val mse: 0.5957, Time: 2.0776s\n",
      "Epoch 6/150, train loss: 0.5837, train r2: -54.2945, train mse: 0.6557,  val loss: 0.5305, val r2: -2006.9348, val mse: 0.5834, Time: 2.0437s\n",
      "Epoch 7/150, train loss: 0.5624, train r2: -40.2450, train mse: 0.6405,  val loss: 0.5153, val r2: -1353.0353, val mse: 0.5729, Time: 2.0437s\n",
      "Epoch 8/150, train loss: 0.5481, train r2: -28.0088, train mse: 0.6278,  val loss: 0.5070, val r2: -1092.3690, val mse: 0.5636, Time: 2.0444s\n",
      "Epoch 9/150, train loss: 0.5374, train r2: -22.2356, train mse: 0.6167,  val loss: 0.4975, val r2: -981.0726, val mse: 0.5559, Time: 2.0702s\n",
      "Epoch 10/150, train loss: 0.5283, train r2: -20.1481, train mse: 0.6071,  val loss: 0.4918, val r2: -901.3250, val mse: 0.5492, Time: 2.0693s\n",
      "Epoch 11/150, train loss: 0.5217, train r2: -19.4599, train mse: 0.5989,  val loss: 0.4869, val r2: -839.5853, val mse: 0.5431, Time: 2.0886s\n",
      "Epoch 12/150, train loss: 0.5165, train r2: -18.7632, train mse: 0.5915,  val loss: 0.4825, val r2: -711.5593, val mse: 0.5380, Time: 2.0229s\n",
      "Epoch 13/150, train loss: 0.5118, train r2: -18.0454, train mse: 0.5851,  val loss: 0.4787, val r2: -633.5085, val mse: 0.5333, Time: 2.0482s\n",
      "Epoch 14/150, train loss: 0.5082, train r2: -17.3120, train mse: 0.5793,  val loss: 0.4773, val r2: -601.2227, val mse: 0.5291, Time: 2.0917s\n",
      "Epoch 15/150, train loss: 0.5049, train r2: -16.8453, train mse: 0.5742,  val loss: 0.4743, val r2: -585.8688, val mse: 0.5253, Time: 2.0507s\n",
      "Epoch 16/150, train loss: 0.5022, train r2: -16.6418, train mse: 0.5695,  val loss: 0.4725, val r2: -570.7203, val mse: 0.5219, Time: 2.0684s\n",
      "Epoch 17/150, train loss: 0.4996, train r2: -16.5337, train mse: 0.5653,  val loss: 0.4705, val r2: -538.8994, val mse: 0.5188, Time: 2.0382s\n",
      "Epoch 18/150, train loss: 0.4973, train r2: -16.3455, train mse: 0.5614,  val loss: 0.4691, val r2: -502.8752, val mse: 0.5159, Time: 2.3677s\n",
      "Epoch 19/150, train loss: 0.4960, train r2: -16.1806, train mse: 0.5579,  val loss: 0.4677, val r2: -484.1916, val mse: 0.5135, Time: 2.0574s\n",
      "Epoch 20/150, train loss: 0.4934, train r2: -15.9323, train mse: 0.5546,  val loss: 0.4664, val r2: -467.8365, val mse: 0.5112, Time: 2.0965s\n",
      "Epoch 21/150, train loss: 0.4919, train r2: -15.8487, train mse: 0.5516,  val loss: 0.4647, val r2: -455.5054, val mse: 0.5090, Time: 2.0934s\n",
      "Epoch 22/150, train loss: 0.4902, train r2: -15.7549, train mse: 0.5488,  val loss: 0.4638, val r2: -444.8871, val mse: 0.5069, Time: 2.0316s\n",
      "Epoch 23/150, train loss: 0.4890, train r2: -15.6436, train mse: 0.5463,  val loss: 0.4626, val r2: -432.8328, val mse: 0.5051, Time: 2.0597s\n",
      "Epoch 24/150, train loss: 0.4875, train r2: -15.5838, train mse: 0.5438,  val loss: 0.4622, val r2: -398.9443, val mse: 0.5034, Time: 2.0437s\n",
      "Epoch 25/150, train loss: 0.4867, train r2: -15.5762, train mse: 0.5416,  val loss: 0.4604, val r2: -388.7329, val mse: 0.5017, Time: 2.0508s\n",
      "Epoch 26/150, train loss: 0.4856, train r2: -15.5600, train mse: 0.5395,  val loss: 0.4600, val r2: -375.1708, val mse: 0.5001, Time: 2.0481s\n",
      "Epoch 27/150, train loss: 0.4839, train r2: -15.5785, train mse: 0.5376,  val loss: 0.4590, val r2: -365.5870, val mse: 0.4986, Time: 2.0736s\n",
      "Epoch 28/150, train loss: 0.4823, train r2: -15.5324, train mse: 0.5357,  val loss: 0.4589, val r2: -355.5580, val mse: 0.4972, Time: 2.2684s\n",
      "Epoch 29/150, train loss: 0.4819, train r2: -15.5005, train mse: 0.5339,  val loss: 0.4580, val r2: -342.7881, val mse: 0.4959, Time: 2.0424s\n",
      "Epoch 30/150, train loss: 0.4808, train r2: -15.4818, train mse: 0.5323,  val loss: 0.4573, val r2: -329.9192, val mse: 0.4947, Time: 2.0585s\n",
      "Epoch 31/150, train loss: 0.4798, train r2: -15.4197, train mse: 0.5307,  val loss: 0.4564, val r2: -312.8064, val mse: 0.4935, Time: 2.0449s\n",
      "Epoch 32/150, train loss: 0.4786, train r2: -15.3691, train mse: 0.5292,  val loss: 0.4565, val r2: -303.9252, val mse: 0.4924, Time: 1.9898s\n",
      "Epoch 33/150, train loss: 0.4774, train r2: -15.3709, train mse: 0.5278,  val loss: 0.4557, val r2: -292.5979, val mse: 0.4914, Time: 2.0501s\n",
      "Epoch 34/150, train loss: 0.4769, train r2: -15.3586, train mse: 0.5264,  val loss: 0.4553, val r2: -284.5685, val mse: 0.4904, Time: 2.0357s\n",
      "Epoch 35/150, train loss: 0.4759, train r2: -15.3477, train mse: 0.5251,  val loss: 0.4551, val r2: -277.0948, val mse: 0.4895, Time: 2.0486s\n",
      "Epoch 36/150, train loss: 0.4750, train r2: -15.2586, train mse: 0.5239,  val loss: 0.4540, val r2: -267.8737, val mse: 0.4885, Time: 2.0696s\n",
      "Epoch 37/150, train loss: 0.4742, train r2: -15.1821, train mse: 0.5228,  val loss: 0.4535, val r2: -263.1443, val mse: 0.4876, Time: 2.0462s\n"
     ]
    }
   ],
   "source": [
    "\n",
    "# Define the device\n",
    "device = torch.device('cuda' if torch.cuda.is_available() else 'cpu')\n",
    "\n",
    "# Create the model\n",
    "model = GAT(550, 550, 550).to(device) # in_channels is set to 100 as an example. Please replace it with your actual feature size.\n",
    "\n",
    "# Define loss function and optimizer\n",
    "criterion = nn.MSELoss()\n",
    "optimizer = optim.Adam(model.parameters(), lr=0.0005)\n",
    "#scheduler = StepLR(optimizer, step_size=80, gamma=0.1) # learning rate scheduler\n",
    "\n",
    "num_epochs = 150\n",
    "patience = 8\n",
    "\n",
    "train(model=model, train_loader=train_loader, val_loader=val_loader, criterion=criterion, num_epochs= num_epochs, patience = patience, optimizer= optimizer,model_path = './models/model.pt')"
   ]
  },
  {
   "cell_type": "code",
   "execution_count": 1,
   "metadata": {
    "tags": []
   },
   "outputs": [
    {
     "ename": "NameError",
     "evalue": "name 'test_loader' is not defined",
     "output_type": "error",
     "traceback": [
      "\u001b[0;31m---------------------------------------------------------------------------\u001b[0m",
      "\u001b[0;31mNameError\u001b[0m                                 Traceback (most recent call last)",
      "Cell \u001b[0;32mIn[1], line 1\u001b[0m\n\u001b[0;32m----> 1\u001b[0m \u001b[38;5;28;01mfor\u001b[39;00m x \u001b[38;5;129;01min\u001b[39;00m \u001b[43mtest_loader\u001b[49m:\n\u001b[1;32m      2\u001b[0m     \u001b[38;5;28mprint\u001b[39m(x)\n",
      "\u001b[0;31mNameError\u001b[0m: name 'test_loader' is not defined"
     ]
    }
   ],
   "source": [
    "for x in test_loader:\n",
    "    print(x)"
   ]
  },
  {
   "cell_type": "code",
   "execution_count": null,
   "metadata": {
    "tags": []
   },
   "outputs": [],
   "source": [
    "from tqdm.auto import tqdm\n",
    "def test(model, test_loader, criterion, device):\n",
    "    model.to(device)\n",
    "    model.eval()\n",
    "    \n",
    "    total_test_loss = 0\n",
    "    test_targets_list = []\n",
    "    test_outputs_list = []\n",
    "    test_celltypes_list = []\n",
    "\n",
    "    for data in tqdm(test_loader):\n",
    "        with torch.no_grad():\n",
    "            expression = torch.tensor(data.x[0].toarray(), dtype=torch.double).to(device)\n",
    "            expression_masked = torch.tensor(data.y[0].toarray(), dtype=torch.double).to(device)\n",
    "            \n",
    "            outputs = model(expression.float(), data.edge_index.to(device).long())\n",
    "            loss = criterion(outputs[data.mask], expression_masked.float())\n",
    "        total_test_loss += loss.item() * data.num_graphs\n",
    "        test_celltypes_list.append(data.cell_type_masked)\n",
    "        test_targets_list.append(expression_masked.float())\n",
    "        test_outputs_list.append(outputs[data.mask])\n",
    "\n",
    "    # Measure and print test loss and R2\n",
    "    test_loss = total_test_loss / len(test_loader.dataset)\n",
    "    test_r2 = r2_score(torch.cat(test_targets_list).cpu().detach().numpy(),\n",
    "                       torch.cat(test_outputs_list).cpu().detach().numpy())\n",
    "    print(f\"Test loss: {test_loss:.4f}, test r2: {test_r2:.4f}\")\n",
    "        # Return test loss and r2 for further use\n",
    "    return test_loss, test_r2,test_targets_list,test_outputs_list,test_celltypes_list"
   ]
  },
  {
   "cell_type": "code",
   "execution_count": null,
   "metadata": {
    "tags": []
   },
   "outputs": [],
   "source": [
    "test_loss, test_r2,test_targets_list,test_outputs_list,test_celltypes_list = test(model, test_loader, criterion, device)"
   ]
  },
  {
   "cell_type": "code",
   "execution_count": null,
   "metadata": {
    "tags": []
   },
   "outputs": [],
   "source": [
    "len(test_celltypes_list)"
   ]
  },
  {
   "cell_type": "code",
   "execution_count": null,
   "metadata": {
    "tags": []
   },
   "outputs": [],
   "source": []
  },
  {
   "cell_type": "code",
   "execution_count": null,
   "metadata": {
    "tags": []
   },
   "outputs": [],
   "source": [
    "def count_parameters(model):\n",
    "    return sum(p.numel() for p in model.parameters() if p.requires_grad)\n",
    "\n",
    "# usage\n",
    "model = GAT(550, 550, 550)  # Replace with your actual model\n",
    "print(f'The model has {count_parameters(model):,} parameters')\n"
   ]
  },
  {
   "cell_type": "code",
   "execution_count": 32,
   "metadata": {
    "tags": []
   },
   "outputs": [],
   "source": [
    "import itertools\n",
    "# Flatten the nested list into a single-dimensional list\n",
    "flattened_list = list(itertools.chain.from_iterable(test_celltypes_list))\n",
    "flattened_list = list(itertools.chain.from_iterable(flattened_list))"
   ]
  },
  {
   "cell_type": "code",
   "execution_count": 33,
   "metadata": {
    "tags": []
   },
   "outputs": [
    {
     "data": {
      "text/plain": [
       "5089"
      ]
     },
     "execution_count": 33,
     "metadata": {},
     "output_type": "execute_result"
    }
   ],
   "source": [
    "len(flattened_list)"
   ]
  },
  {
   "cell_type": "code",
   "execution_count": 34,
   "metadata": {
    "tags": []
   },
   "outputs": [
    {
     "name": "stdout",
     "output_type": "stream",
     "text": [
      "5089\n",
      "5089\n"
     ]
    }
   ],
   "source": [
    "print(len(flattened_list))\n",
    "print(len(r2_score(np.transpose(torch.cat(test_targets_list).cpu().detach().numpy()), np.transpose(torch.cat(test_outputs_list).cpu().detach().numpy()), multioutput='raw_values')))"
   ]
  },
  {
   "cell_type": "code",
   "execution_count": 35,
   "metadata": {
    "tags": []
   },
   "outputs": [],
   "source": [
    "import pandas as pd\n",
    "\n",
    "preds_test_per_cell = pd.DataFrame({'celltype': flattened_list, 'r2_score': r2_score(np.transpose(torch.cat(test_targets_list).cpu().detach().numpy()), np.transpose(torch.cat(test_outputs_list).cpu().detach().numpy()), multioutput='raw_values')})\n",
    "\n",
    "preds_test_per_gene = pd.DataFrame({'gene': data_constracter.adata.var_names, 'r2_score': r2_score(torch.cat(test_targets_list).cpu().detach().numpy(), torch.cat(test_outputs_list).cpu().detach().numpy(), multioutput='raw_values')})\n",
    "\n"
   ]
  },
  {
   "cell_type": "code",
   "execution_count": 36,
   "metadata": {
    "tags": []
   },
   "outputs": [
    {
     "data": {
      "text/html": [
       "<div>\n",
       "<style scoped>\n",
       "    .dataframe tbody tr th:only-of-type {\n",
       "        vertical-align: middle;\n",
       "    }\n",
       "\n",
       "    .dataframe tbody tr th {\n",
       "        vertical-align: top;\n",
       "    }\n",
       "\n",
       "    .dataframe thead th {\n",
       "        text-align: right;\n",
       "    }\n",
       "</style>\n",
       "<table border=\"1\" class=\"dataframe\">\n",
       "  <thead>\n",
       "    <tr style=\"text-align: right;\">\n",
       "      <th></th>\n",
       "      <th>gene</th>\n",
       "      <th>r2_score</th>\n",
       "    </tr>\n",
       "  </thead>\n",
       "  <tbody>\n",
       "    <tr>\n",
       "      <th>0</th>\n",
       "      <td>Prkcq</td>\n",
       "      <td>0.115363</td>\n",
       "    </tr>\n",
       "    <tr>\n",
       "      <th>1</th>\n",
       "      <td>Col5a1</td>\n",
       "      <td>0.224994</td>\n",
       "    </tr>\n",
       "    <tr>\n",
       "      <th>2</th>\n",
       "      <td>Grik3</td>\n",
       "      <td>0.298982</td>\n",
       "    </tr>\n",
       "    <tr>\n",
       "      <th>3</th>\n",
       "      <td>Igfbp2</td>\n",
       "      <td>0.345284</td>\n",
       "    </tr>\n",
       "    <tr>\n",
       "      <th>4</th>\n",
       "      <td>Osr1</td>\n",
       "      <td>0.213770</td>\n",
       "    </tr>\n",
       "    <tr>\n",
       "      <th>...</th>\n",
       "      <td>...</td>\n",
       "      <td>...</td>\n",
       "    </tr>\n",
       "    <tr>\n",
       "      <th>545</th>\n",
       "      <td>Blank-33</td>\n",
       "      <td>-0.026712</td>\n",
       "    </tr>\n",
       "    <tr>\n",
       "      <th>546</th>\n",
       "      <td>Blank-34</td>\n",
       "      <td>-0.045123</td>\n",
       "    </tr>\n",
       "    <tr>\n",
       "      <th>547</th>\n",
       "      <td>Blank-45</td>\n",
       "      <td>-0.041810</td>\n",
       "    </tr>\n",
       "    <tr>\n",
       "      <th>548</th>\n",
       "      <td>Blank-23</td>\n",
       "      <td>-0.038276</td>\n",
       "    </tr>\n",
       "    <tr>\n",
       "      <th>549</th>\n",
       "      <td>Blank-48</td>\n",
       "      <td>-0.047514</td>\n",
       "    </tr>\n",
       "  </tbody>\n",
       "</table>\n",
       "<p>550 rows × 2 columns</p>\n",
       "</div>"
      ],
      "text/plain": [
       "         gene  r2_score\n",
       "0       Prkcq  0.115363\n",
       "1      Col5a1  0.224994\n",
       "2       Grik3  0.298982\n",
       "3      Igfbp2  0.345284\n",
       "4        Osr1  0.213770\n",
       "..        ...       ...\n",
       "545  Blank-33 -0.026712\n",
       "546  Blank-34 -0.045123\n",
       "547  Blank-45 -0.041810\n",
       "548  Blank-23 -0.038276\n",
       "549  Blank-48 -0.047514\n",
       "\n",
       "[550 rows x 2 columns]"
      ]
     },
     "execution_count": 36,
     "metadata": {},
     "output_type": "execute_result"
    }
   ],
   "source": [
    "preds_test_per_gene"
   ]
  },
  {
   "cell_type": "code",
   "execution_count": 37,
   "metadata": {
    "tags": []
   },
   "outputs": [],
   "source": [
    "# huge class inbalance problem, need to handel -> add weight?\n",
    "# add pooling"
   ]
  },
  {
   "cell_type": "code",
   "execution_count": 38,
   "metadata": {
    "tags": []
   },
   "outputs": [
    {
     "data": {
      "image/png": "[encoded data removed]",
      "text/plain": [
       "<Figure size 1000x600 with 1 Axes>"
      ]
     },
     "metadata": {},
     "output_type": "display_data"
    },
    {
     "name": "stdout",
     "output_type": "stream",
     "text": [
      "        gene  r2_score\n",
      "49     Pvalb  0.643409\n",
      "31      Gfap  0.589351\n",
      "293  Ppp1r17  0.576248\n",
      "10     Calb1  0.558126\n",
      "208     Zic1  0.514993\n",
      "..       ...       ...\n",
      "192    Kcnj5 -0.108109\n",
      "399     Ttc6 -0.110443\n",
      "410     Lhx8 -0.122343\n",
      "100    Gpr39 -0.146031\n",
      "119     Fli1 -0.354190\n",
      "\n",
      "[550 rows x 2 columns]\n"
     ]
    }
   ],
   "source": [
    "import matplotlib.pyplot as plt\n",
    "\n",
    "# Plotting the histogram\n",
    "plt.figure(figsize=(10,6))\n",
    "plt.hist(preds_test_per_gene['r2_score'], bins=20, alpha=0.8, color='skyblue', edgecolor='black')\n",
    "plt.title('R2 Score Distribution per Gene')\n",
    "plt.xlabel('R2 Score')\n",
    "plt.ylabel('Frequency')\n",
    "plt.show()\n",
    "\n",
    "# Sorting by r2_score\n",
    "preds_test_per_gene = preds_test_per_gene.sort_values(by='r2_score', ascending=False)\n",
    "\n",
    "# Display the sorted DataFrame\n",
    "print(preds_test_per_gene)\n"
   ]
  },
  {
   "cell_type": "code",
   "execution_count": 39,
   "metadata": {
    "tags": []
   },
   "outputs": [
    {
     "data": {
      "text/html": [
       "<div>\n",
       "<style scoped>\n",
       "    .dataframe tbody tr th:only-of-type {\n",
       "        vertical-align: middle;\n",
       "    }\n",
       "\n",
       "    .dataframe tbody tr th {\n",
       "        vertical-align: top;\n",
       "    }\n",
       "\n",
       "    .dataframe thead th {\n",
       "        text-align: right;\n",
       "    }\n",
       "</style>\n",
       "<table border=\"1\" class=\"dataframe\">\n",
       "  <thead>\n",
       "    <tr style=\"text-align: right;\">\n",
       "      <th></th>\n",
       "      <th>gene</th>\n",
       "      <th>r2_score</th>\n",
       "    </tr>\n",
       "  </thead>\n",
       "  <tbody>\n",
       "    <tr>\n",
       "      <th>49</th>\n",
       "      <td>Pvalb</td>\n",
       "      <td>0.643409</td>\n",
       "    </tr>\n",
       "    <tr>\n",
       "      <th>31</th>\n",
       "      <td>Gfap</td>\n",
       "      <td>0.589351</td>\n",
       "    </tr>\n",
       "    <tr>\n",
       "      <th>293</th>\n",
       "      <td>Ppp1r17</td>\n",
       "      <td>0.576248</td>\n",
       "    </tr>\n",
       "    <tr>\n",
       "      <th>10</th>\n",
       "      <td>Calb1</td>\n",
       "      <td>0.558126</td>\n",
       "    </tr>\n",
       "    <tr>\n",
       "      <th>208</th>\n",
       "      <td>Zic1</td>\n",
       "      <td>0.514993</td>\n",
       "    </tr>\n",
       "    <tr>\n",
       "      <th>...</th>\n",
       "      <td>...</td>\n",
       "      <td>...</td>\n",
       "    </tr>\n",
       "    <tr>\n",
       "      <th>192</th>\n",
       "      <td>Kcnj5</td>\n",
       "      <td>-0.108109</td>\n",
       "    </tr>\n",
       "    <tr>\n",
       "      <th>399</th>\n",
       "      <td>Ttc6</td>\n",
       "      <td>-0.110443</td>\n",
       "    </tr>\n",
       "    <tr>\n",
       "      <th>410</th>\n",
       "      <td>Lhx8</td>\n",
       "      <td>-0.122343</td>\n",
       "    </tr>\n",
       "    <tr>\n",
       "      <th>100</th>\n",
       "      <td>Gpr39</td>\n",
       "      <td>-0.146031</td>\n",
       "    </tr>\n",
       "    <tr>\n",
       "      <th>119</th>\n",
       "      <td>Fli1</td>\n",
       "      <td>-0.354190</td>\n",
       "    </tr>\n",
       "  </tbody>\n",
       "</table>\n",
       "<p>550 rows × 2 columns</p>\n",
       "</div>"
      ],
      "text/plain": [
       "        gene  r2_score\n",
       "49     Pvalb  0.643409\n",
       "31      Gfap  0.589351\n",
       "293  Ppp1r17  0.576248\n",
       "10     Calb1  0.558126\n",
       "208     Zic1  0.514993\n",
       "..       ...       ...\n",
       "192    Kcnj5 -0.108109\n",
       "399     Ttc6 -0.110443\n",
       "410     Lhx8 -0.122343\n",
       "100    Gpr39 -0.146031\n",
       "119     Fli1 -0.354190\n",
       "\n",
       "[550 rows x 2 columns]"
      ]
     },
     "execution_count": 39,
     "metadata": {},
     "output_type": "execute_result"
    },
    {
     "data": {
      "image/png": "[encoded data removed]",
      "text/plain": [
       "<Figure size 640x480 with 1 Axes>"
      ]
     },
     "metadata": {},
     "output_type": "display_data"
    }
   ],
   "source": [
    "preds_test_per_gene\n",
    "\n",
    "# plot r2 score distribution per gene, histogram\n",
    "# density plot\n",
    "preds_test_per_gene.r2_score.plot.kde()\n",
    "#preds_test_per_gene.r2_score.plot.hist(bins=20, alpha=0.8)\n",
    "\n",
    "# plot r2 score distribution per celltype, histogram\n",
    "#preds_test_per_cell.r2_score.plot.hist(bins=10, alpha=0.8)\n",
    "\n",
    "# sort by r2 score\n",
    "preds_test_per_gene.sort_values(by='r2_score', ascending=False, inplace=True)\n",
    "preds_test_per_gene"
   ]
  },
  {
   "cell_type": "code",
   "execution_count": 40,
   "metadata": {
    "tags": []
   },
   "outputs": [
    {
     "data": {
      "image/png": "[encoded data removed]",
      "text/plain": [
       "<Figure size 1800x800 with 1 Axes>"
      ]
     },
     "metadata": {},
     "output_type": "display_data"
    }
   ],
   "source": [
    "import seaborn as sns\n",
    "import matplotlib.pyplot as plt\n",
    "\n",
    "# set style\n",
    "sns.set_palette(\"colorblind\")\n",
    "sns.set_context(\"paper\", font_scale=1.5)\n",
    "\n",
    "# make plot larger\n",
    "plt.figure(figsize=(18,8))\n",
    "\n",
    "# rotate x-axis labels\n",
    "plt.xticks(rotation=45)\n",
    "\n",
    "# create plot of mean R2 score per celltype\n",
    "# order bars by mean R2 score\n",
    "\n",
    "# add avlue counts from adata.obs.class_label.value_counts()\n",
    "ax = sns.barplot(x=\"celltype\", y=\"r2_score\", data=preds_test_per_cell, order=preds_test_per_cell.groupby('celltype').mean().sort_values(by='r2_score', ascending=False).index)"
   ]
  },
  {
   "cell_type": "code",
   "execution_count": 41,
   "metadata": {
    "tags": []
   },
   "outputs": [
    {
     "data": {
      "image/png": "[encoded data removed]",
      "text/plain": [
       "<Figure size 1000x600 with 1 Axes>"
      ]
     },
     "metadata": {},
     "output_type": "display_data"
    }
   ],
   "source": [
    "import pandas as pd\n",
    "import matplotlib.pyplot as plt\n",
    "\n",
    "# Get the frequency of each celltype\n",
    "celltype_counts = preds_test_per_cell['celltype'].value_counts().sort_values(ascending=False)\n",
    "\n",
    "plt.figure(figsize=(10,6))\n",
    "plt.bar(celltype_counts.index, celltype_counts.values, alpha=0.8, color='skyblue', edgecolor='black')\n",
    "plt.xticks(rotation='vertical')\n",
    "plt.xticks(rotation=90)\n",
    "plt.title('Celltype Distribution')\n",
    "plt.xlabel('Celltype')\n",
    "plt.ylabel('Frequency')\n",
    "plt.show()\n"
   ]
  },
  {
   "cell_type": "code",
   "execution_count": null,
   "metadata": {},
   "outputs": [],
   "source": [
    "import seaborn as sns\n",
    "import matplotlib.pyplot as plt\n",
    "\n",
    "plt.figure(figsize=(10, 6))\n",
    "sns.violinplot(x=\"celltype\", y=\"r2_score\", data=preds_test_per_cell)\n",
    "# rotate x-axis labels\n",
    "plt.xticks(rotation=90)\n",
    "plt.title('R2 Score Distribution per Gene')\n",
    "plt.xlabel('R2 Score')\n",
    "plt.show()\n"
   ]
  },
  {
   "cell_type": "code",
   "execution_count": null,
   "metadata": {},
   "outputs": [],
   "source": []
  },
  {
   "cell_type": "code",
   "execution_count": null,
   "metadata": {
    "tags": []
   },
   "outputs": [],
   "source": [
    "file_path = \"./data/subset_6img_atlas_brain.h5ad\"\n",
    "root_path = \"./data\"\n",
    "dataset = InMemoryGraphDataset(root= root_path,\n",
    "                               data_names = \"data_test\",\n",
    "                               file_path=file_path, image_col=\"section\", label_col=\"class_label\", include_label=False, radius=20,node_level = 1, batch_size=1)\n",
    "\n"
   ]
  },
  {
   "cell_type": "code",
   "execution_count": null,
   "metadata": {
    "tags": []
   },
   "outputs": [],
   "source": [
    "# Load your dataset\n",
    "import torch\n",
    "data = torch.load('./data/data_test.pt')"
   ]
  }
 ],
 "metadata": {
  "kernelspec": {
   "display_name": "Python [conda env:.conda-ml_genetic]",
   "language": "python",
   "name": "conda-env-.conda-ml_genetic-py"
  },
  "language_info": {
   "codemirror_mode": {
    "name": "ipython",
    "version": 3
   },
   "file_extension": ".py",
   "mimetype": "text/x-python",
   "name": "python",
   "nbconvert_exporter": "python",
   "pygments_lexer": "ipython3",
   "version": "3.11.4"
  }
 },
 "nbformat": 4,
 "nbformat_minor": 4
}
