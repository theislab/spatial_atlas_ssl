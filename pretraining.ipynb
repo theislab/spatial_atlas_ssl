{
 "cells": [
  {
   "cell_type": "code",
   "execution_count": 1,
   "id": "cbca5746-6306-4485-a7ff-b0291d67c3dd",
   "metadata": {
    "ExecuteTime": {
     "end_time": "2023-08-21T18:39:27.745891600Z",
     "start_time": "2023-08-21T17:25:29.850309200Z"
    },
    "tags": []
   },
   "outputs": [
    {
     "name": "stderr",
     "output_type": "stream",
     "text": [
      "/home/cheng-wei_liao/miniconda3/envs/master_prak/lib/python3.11/site-packages/geopandas/_compat.py:124: UserWarning: The Shapely GEOS version (3.11.1-CAPI-1.17.1) is incompatible with the GEOS version PyGEOS was compiled with (3.10.4-CAPI-1.16.2). Conversions between both will be slow.\n",
      "  warnings.warn(\n",
      "/home/cheng-wei_liao/miniconda3/envs/master_prak/lib/python3.11/site-packages/spatialdata/__init__.py:9: UserWarning: Geopandas was set to use PyGEOS, changing to shapely 2.0 with:\n",
      "\n",
      "\tgeopandas.options.use_pygeos = True\n",
      "\n",
      "If you intended to use PyGEOS, set the option to False.\n",
      "  _check_geopandas_using_shapely()\n",
      "/home/cheng-wei_liao/miniconda3/envs/master_prak/lib/python3.11/site-packages/torch_geometric/typing.py:31: UserWarning: An issue occurred while importing 'torch-scatter'. Disabling its usage. Stacktrace: /home/cheng-wei_liao/miniconda3/envs/master_prak/lib/python3.11/site-packages/torch_scatter/_version_cpu.so: undefined symbol: _ZN5torch3jit17parseSchemaOrNameERKNSt7__cxx1112basic_stringIcSt11char_traitsIcESaIcEEE\n",
      "  warnings.warn(f\"An issue occurred while importing 'torch-scatter'. \"\n",
      "/home/cheng-wei_liao/miniconda3/envs/master_prak/lib/python3.11/site-packages/torch_geometric/typing.py:42: UserWarning: An issue occurred while importing 'torch-sparse'. Disabling its usage. Stacktrace: /home/cheng-wei_liao/miniconda3/envs/master_prak/lib/python3.11/site-packages/torch_sparse/_version_cpu.so: undefined symbol: _ZN5torch3jit17parseSchemaOrNameERKNSt7__cxx1112basic_stringIcSt11char_traitsIcESaIcEEE\n",
      "  warnings.warn(f\"An issue occurred while importing 'torch-sparse'. \"\n"
     ]
    }
   ],
   "source": [
    "from spatialSSL.Dataloader import FullImageDatasetConstructor\n",
    "from spatialSSL.Utils import split_dataset\n",
    "from spatialSSL.Training import train, train_classification\n",
    "from spatialSSL.Models import *\n",
    "from spatialSSL.Training import train_epoch\n",
    "from spatialSSL.Testing import test\n",
    "from spatialSSL.Dataset import InMemoryGraphDataset\n",
    "import numpy as np"
   ]
  },
  {
   "cell_type": "code",
   "execution_count": 2,
   "id": "49e4acec-2b34-45a3-8571-648888229da5",
   "metadata": {
    "ExecuteTime": {
     "end_time": "2023-08-21T18:39:27.766583300Z",
     "start_time": "2023-08-21T17:25:42.151490400Z"
    },
    "tags": []
   },
   "outputs": [],
   "source": [
    "import torch\n",
    "import zipfile\n",
    "\n",
    "# Define a function to load the data from the ZIP file\n",
    "def load_from_zip(zip_path, file_name):\n",
    "    with zipfile.ZipFile(zip_path, 'r') as zipf:\n",
    "        with zipf.open(file_name) as file:\n",
    "            return torch.load(file)\n",
    "\n",
    "# Load the pre_train_list and pre_val_list from the ZIP file\n",
    "pre_train_list = load_from_zip('./processed_data/pre_training_data_img6_r30_n1_random_01.zip', 'pre_train_list.pt')\n",
    "pre_val_list = load_from_zip('./processed_data/pre_training_data_img6_r30_n1_random_01.zip', 'pre_val_list.pt')\n",
    "\n",
    "# Now pre_train_list and pre_val_list contain the loaded data\n"
   ]
  },
  {
   "cell_type": "code",
   "execution_count": 3,
   "id": "bed3e102-6c41-4608-bb4f-464df8fce20c",
   "metadata": {
    "ExecuteTime": {
     "end_time": "2023-08-21T18:39:27.767577900Z",
     "start_time": "2023-08-21T17:25:46.567479900Z"
    },
    "tags": []
   },
   "outputs": [],
   "source": [
    "from torch_geometric.loader import DataLoader\n",
    "\n",
    "# Create DataLoader objects for pre-training and pre-validation\n",
    "pre_train_loader = DataLoader(pre_train_list, batch_size=1, shuffle=True)\n",
    "pre_val_loader = DataLoader(pre_val_list, batch_size=1, shuffle=False)\n",
    "\n",
    "# Now you can use pre_train_loader and pre_val_loader in your training loop\n"
   ]
  },
  {
   "cell_type": "code",
   "execution_count": 4,
   "id": "000f91b5-404f-40dd-b507-fe6edf5a4948",
   "metadata": {
    "tags": []
   },
   "outputs": [
    {
     "ename": "NameError",
     "evalue": "name 'device' is not defined",
     "output_type": "error",
     "traceback": [
      "\u001b[0;31m---------------------------------------------------------------------------\u001b[0m",
      "\u001b[0;31mNameError\u001b[0m                                 Traceback (most recent call last)",
      "Cell \u001b[0;32mIn[4], line 1\u001b[0m\n\u001b[0;32m----> 1\u001b[0m device\n",
      "\u001b[0;31mNameError\u001b[0m: name 'device' is not defined"
     ]
    }
   ],
   "source": [
    "device"
   ]
  },
  {
   "cell_type": "code",
   "execution_count": null,
   "id": "eb127030-25fe-42b8-ab2c-fe855d643eab",
   "metadata": {
    "tags": []
   },
   "outputs": [],
   "source": [
    "# Run pretraining\n",
    "\n",
    "in_channels  = 550\n",
    "hidden_channels_1 = 256\n",
    "hidden_channels_2 = 33\n",
    "out_channels= 550\n",
    "\n",
    "# Pretraining\n",
    "# Define the device\n",
    "device =  torch.device('cuda' if torch.cuda.is_available() else 'cpu') #\"cpu\"\n",
    "\n",
    "# Create the model\n",
    "model = GAT4(in_channels, hidden_channels_1,hidden_channels_2, out_channels).to(device) # in_channels is set to 100 as an example. Please replace it with your actual feature size.\n",
    "\n",
    "# Define loss function and optimizer\n",
    "criterion = nn.MSELoss()\n",
    "optimizer = optim.Adam(model.parameters(), lr=0.001)\n",
    "\n",
    "num_epochs = 300\n",
    "patience = 8\n",
    "\n",
    "train(model=model, train_loader=pre_train_loader, val_loader=pre_val_loader, criterion=criterion, num_epochs= num_epochs, patience = patience, optimizer= optimizer,weight_loss = False, model_path=\"./models/img6_r30_n1_random_01_GAT4_0.001.pt'\")"
   ]
  },
  {
   "cell_type": "code",
   "execution_count": 1,
   "id": "1697c3da-517e-413f-9907-20d4a05c10df",
   "metadata": {
    "tags": []
   },
   "outputs": [
    {
     "ename": "NameError",
     "evalue": "name 'model' is not defined",
     "output_type": "error",
     "traceback": [
      "\u001b[0;31m---------------------------------------------------------------------------\u001b[0m",
      "\u001b[0;31mNameError\u001b[0m                                 Traceback (most recent call last)",
      "Cell \u001b[0;32mIn[1], line 1\u001b[0m\n\u001b[0;32m----> 1\u001b[0m model\n",
      "\u001b[0;31mNameError\u001b[0m: name 'model' is not defined"
     ]
    }
   ],
   "source": [
    "model"
   ]
  },
  {
   "cell_type": "code",
   "execution_count": 5,
   "id": "16111d3abc5bf71e",
   "metadata": {
    "ExecuteTime": {
     "end_time": "2023-08-21T18:39:57.559513400Z",
     "start_time": "2023-08-21T17:25:46.616482900Z"
    },
    "collapsed": false,
    "jupyter": {
     "outputs_hidden": false
    },
    "tags": []
   },
   "outputs": [
    {
     "name": "stdout",
     "output_type": "stream",
     "text": [
      "Epoch 1/100, train loss: 2.2422, train accuracy: 0.3258, train auprc: 0.0468, val loss: 1.2544, val accuracy: 0.5647, val auprc: 0.5647, Time: 2.0494s\n",
      "Epoch 2/100, train loss: 1.2812, train accuracy: 0.4463, train auprc: 0.0624, val loss: 1.0718, val accuracy: 0.6041, val auprc: 0.6041, Time: 1.4357s\n",
      "Epoch 3/100, train loss: 1.1654, train accuracy: 0.4936, train auprc: 0.0731, val loss: 1.1113, val accuracy: 0.6096, val auprc: 0.6096, Time: 1.4271s\n",
      "Epoch 4/100, train loss: 1.0951, train accuracy: 0.5211, train auprc: 0.0789, val loss: 0.9783, val accuracy: 0.6185, val auprc: 0.6185, Time: 1.8316s\n",
      "Epoch 5/100, train loss: 1.0324, train accuracy: 0.5408, train auprc: 0.0827, val loss: 0.9935, val accuracy: 0.6223, val auprc: 0.6223, Time: 1.3749s\n",
      "Epoch 6/100, train loss: 1.0041, train accuracy: 0.5546, train auprc: 0.0848, val loss: 0.9245, val accuracy: 0.6287, val auprc: 0.6287, Time: 1.4058s\n",
      "Epoch 7/100, train loss: 0.9576, train accuracy: 0.5661, train auprc: 0.0864, val loss: 0.9309, val accuracy: 0.6311, val auprc: 0.6311, Time: 1.4840s\n",
      "Epoch 8/100, train loss: 0.9248, train accuracy: 0.5760, train auprc: 0.0879, val loss: 0.8883, val accuracy: 0.6348, val auprc: 0.6348, Time: 1.4936s\n",
      "Epoch 9/100, train loss: 0.9025, train accuracy: 0.5839, train auprc: 0.0897, val loss: 0.8830, val accuracy: 0.6380, val auprc: 0.6380, Time: 1.5070s\n",
      "Epoch 10/100, train loss: 0.8811, train accuracy: 0.5912, train auprc: 0.0916, val loss: 0.8592, val accuracy: 0.6407, val auprc: 0.6407, Time: 1.6099s\n",
      "Epoch 11/100, train loss: 0.8615, train accuracy: 0.5975, train auprc: 0.0935, val loss: 0.8568, val accuracy: 0.6428, val auprc: 0.6428, Time: 1.5918s\n",
      "Epoch 12/100, train loss: 0.8434, train accuracy: 0.6030, train auprc: 0.0949, val loss: 0.8333, val accuracy: 0.6451, val auprc: 0.6451, Time: 1.7492s\n",
      "Epoch 13/100, train loss: 0.8216, train accuracy: 0.6081, train auprc: 0.0966, val loss: 0.8264, val accuracy: 0.6471, val auprc: 0.6471, Time: 1.7079s\n",
      "Epoch 14/100, train loss: 0.8065, train accuracy: 0.6129, train auprc: 0.0984, val loss: 0.8182, val accuracy: 0.6487, val auprc: 0.6487, Time: 1.9783s\n",
      "Epoch 15/100, train loss: 0.7879, train accuracy: 0.6172, train auprc: 0.1003, val loss: 0.8233, val accuracy: 0.6497, val auprc: 0.6497, Time: 1.9333s\n",
      "Epoch 16/100, train loss: 0.7684, train accuracy: 0.6214, train auprc: 0.1019, val loss: 0.8009, val accuracy: 0.6515, val auprc: 0.6515, Time: 1.8889s\n",
      "Epoch 17/100, train loss: 0.7490, train accuracy: 0.6254, train auprc: 0.1039, val loss: 0.7931, val accuracy: 0.6530, val auprc: 0.6530, Time: 1.9979s\n",
      "Epoch 18/100, train loss: 0.7315, train accuracy: 0.6293, train auprc: 0.1061, val loss: 0.7754, val accuracy: 0.6547, val auprc: 0.6547, Time: 1.9610s\n",
      "Epoch 19/100, train loss: 0.7090, train accuracy: 0.6333, train auprc: 0.1082, val loss: 0.7811, val accuracy: 0.6560, val auprc: 0.6560, Time: 2.1699s\n",
      "Epoch 20/100, train loss: 0.6903, train accuracy: 0.6373, train auprc: 0.1103, val loss: 0.7687, val accuracy: 0.6576, val auprc: 0.6576, Time: 2.1057s\n",
      "Epoch 21/100, train loss: 0.6787, train accuracy: 0.6410, train auprc: 0.1123, val loss: 0.7640, val accuracy: 0.6590, val auprc: 0.6590, Time: 2.1356s\n",
      "Epoch 22/100, train loss: 0.6576, train accuracy: 0.6449, train auprc: 0.1147, val loss: 0.7641, val accuracy: 0.6604, val auprc: 0.6604, Time: 2.2007s\n",
      "Epoch 23/100, train loss: 0.6453, train accuracy: 0.6487, train auprc: 0.1177, val loss: 0.7627, val accuracy: 0.6617, val auprc: 0.6617, Time: 2.2694s\n",
      "Epoch 24/100, train loss: 0.6258, train accuracy: 0.6525, train auprc: 0.1206, val loss: 0.7610, val accuracy: 0.6630, val auprc: 0.6630, Time: 2.4214s\n",
      "Epoch 25/100, train loss: 0.6125, train accuracy: 0.6562, train auprc: 0.1233, val loss: 0.7604, val accuracy: 0.6641, val auprc: 0.6641, Time: 2.3825s\n",
      "Epoch 26/100, train loss: 0.5963, train accuracy: 0.6598, train auprc: 0.1261, val loss: 0.7663, val accuracy: 0.6650, val auprc: 0.6650, Time: 2.5217s\n",
      "Epoch 27/100, train loss: 0.5870, train accuracy: 0.6633, train auprc: 0.1294, val loss: 0.7812, val accuracy: 0.6659, val auprc: 0.6659, Time: 2.4985s\n",
      "Epoch 28/100, train loss: 0.5759, train accuracy: 0.6668, train auprc: 0.1319, val loss: 0.7769, val accuracy: 0.6667, val auprc: 0.6667, Time: 2.6159s\n",
      "Epoch 29/100, train loss: 0.5626, train accuracy: 0.6702, train auprc: 0.1348, val loss: 0.7816, val accuracy: 0.6673, val auprc: 0.6673, Time: 2.3560s\n",
      "Early stopping!\n",
      "Best val loss: 0.7604, at epoch 25\n"
     ]
    }
   ],
   "source": [
    "from torch.nn import BCEWithLogitsLoss, CrossEntropyLoss\n",
    "\n",
    "# Run pretraining\n",
    "\n",
    "in_channels  = 550\n",
    "hidden_channels = 256\n",
    "num_classes= 33\n",
    "\n",
    "# Pretraining\n",
    "# Define the device\n",
    "device =  torch.device('cuda' if torch.cuda.is_available() else 'cpu') #\"cpu\"\n",
    "\n",
    "model = GATClassification(in_channels, hidden_channels, num_classes).to(device)\n",
    "criterion = CrossEntropyLoss()\n",
    "optimizer = torch.optim.Adam(model.parameters(), lr=0.001)\n",
    "\n",
    "train_classification(model, pre_train_loader, pre_val_loader, criterion, num_classes=num_classes,optimizer=optimizer)"
   ]
  },
  {
   "cell_type": "code",
   "execution_count": null,
   "id": "5389a18e5f1acc8",
   "metadata": {
    "collapsed": false,
    "jupyter": {
     "outputs_hidden": false
    }
   },
   "outputs": [],
   "source": []
  }
 ],
 "metadata": {
  "kernelspec": {
   "display_name": "Python 3 (ipykernel)",
   "language": "python",
   "name": "python3"
  },
  "language_info": {
   "codemirror_mode": {
    "name": "ipython",
    "version": 3
   },
   "file_extension": ".py",
   "mimetype": "text/x-python",
   "name": "python",
   "nbconvert_exporter": "python",
   "pygments_lexer": "ipython3",
   "version": "3.11.4"
  }
 },
 "nbformat": 4,
 "nbformat_minor": 5
}
