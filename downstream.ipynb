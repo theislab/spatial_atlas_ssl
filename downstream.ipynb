{
 "cells": [
  {
   "cell_type": "code",
   "execution_count": 3,
   "id": "8c45ca33-ed80-4274-b090-01996bb4fab0",
   "metadata": {
    "tags": []
   },
   "outputs": [],
   "source": [
    "import matplotlib.pyplot as plt\n",
    "import torch\n",
    "from spatialSSL.Dataloader import FullImageDatasetConstructor\n",
    "from spatialSSL.Utils import split_dataset\n",
    "from spatialSSL.Training import train\n",
    "from spatialSSL.Training import train_epoch\n",
    "from spatialSSL.Testing import test\n",
    "from spatialSSL.Dataset import InMemoryGraphDataset\n",
    "from torch import nn, optim, Tensor\n",
    "import torch\n",
    "from torch_geometric.nn import GCNConv,GATConv\n",
    "from torch.optim.lr_scheduler import StepLR\n",
    "from sklearn.metrics import r2_score\n",
    "from torch.nn import LeakyReLU, Dropout\n",
    "import time\n",
    "from torch.utils.checkpoint import checkpoint\n",
    "import numpy as np"
   ]
  },
  {
   "cell_type": "code",
   "execution_count": 4,
   "id": "c9723130-6410-4bc7-9355-92f00fc17899",
   "metadata": {
    "tags": []
   },
   "outputs": [],
   "source": [
    "import torch.nn.functional as F"
   ]
  },
  {
   "cell_type": "code",
   "execution_count": 5,
   "id": "0c1de8d1-37aa-4e36-a03f-d55cdadc2cda",
   "metadata": {
    "tags": []
   },
   "outputs": [],
   "source": [
    "class PretrainedGAT_2(nn.Module):\n",
    "    def __init__(self, in_channels, hidden_channels, out_channels, dropout_rate=0.5):\n",
    "        super().__init__()\n",
    "        self.conv1 = GATConv(in_channels, hidden_channels)\n",
    "        self.conv2 = GATConv(hidden_channels, out_channels)\n",
    "        self.dropout = Dropout(dropout_rate)\n",
    "        self.act = nn.LeakyReLU()\n",
    "\n",
    "    def forward(self, x: Tensor, edge_index: Tensor) -> Tensor:\n",
    "        x = self.dropout(self.act(self.conv1(x, edge_index)))\n",
    "        x = self.act(self.conv2( x, edge_index)) # Using checkpointing on the final layer\n",
    "        return x\n",
    "    \n",
    "\n",
    "class CellTypeClassificationModel(nn.Module):\n",
    "    def __init__(self, pre_trained_model, num_cell_types):\n",
    "        super(CellTypeClassificationModel, self).__init__()\n",
    "        # Copy the pre-trained model's architecture and weights\n",
    "        self.conv1 = pre_trained_model.conv1\n",
    "        self.dropout = pre_trained_model.dropout\n",
    "        self.act = pre_trained_model.act\n",
    "\n",
    "        # Replace the last GAT layer with a new one for classification\n",
    "        in_channels = pre_trained_model.conv2.in_channels\n",
    "        self.conv2 = GATConv(in_channels, num_cell_types)\n",
    "\n",
    "    def forward(self, x: Tensor, edge_index: Tensor) -> Tensor:\n",
    "        x = self.dropout(self.act(self.conv1(x, edge_index)))\n",
    "        x = self.act(self.conv2(x, edge_index))\n",
    "        return x\n"
   ]
  },
  {
   "cell_type": "code",
   "execution_count": 6,
   "id": "496183d5-205b-47bc-a2f2-ac47042529e9",
   "metadata": {
    "tags": []
   },
   "outputs": [
    {
     "name": "stderr",
     "output_type": "stream",
     "text": [
      "/home/cheng-wei_liao/work/test/spatial_atlas_ssl/spatialSSL/Dataloader.py:232: ImplicitModificationWarning: Trying to modify attribute `.obs` of view, initializing view as actual.\n",
      "  self.adata.obs['cell_type_encoded'] = encode_cell_type.transform(self.adata.obs[self.label_col].values)\n"
     ]
    },
    {
     "data": {
      "application/vnd.jupyter.widget-view+json": {
       "model_id": "1d4d1e712a3b4aacb0c224a46c023451",
       "version_major": 2,
       "version_minor": 0
      },
      "text/plain": [
       "Constructing Graphs:   0%|          | 0/6 [00:00<?, ?it/s]"
      ]
     },
     "metadata": {},
     "output_type": "display_data"
    },
    {
     "name": "stdout",
     "output_type": "stream",
     "text": [
      "240945\n"
     ]
    }
   ],
   "source": [
    "file_path = \"./data/subset_6img_atlas_brain.h5ad\"\n",
    "\n",
    "# Create the dataloader\n",
    "dataset_constructor = FullImageDatasetConstructor(file_path=file_path, image_col=\"section\",\n",
    "                                                                     label_col=\"class_label\", include_label=False,\n",
    "                                                                     radius=30, node_level=1,downstream = True)\n",
    "\n",
    "# Load the data\n",
    "dataset_constructor.load_data()\n",
    "\n",
    "# Construct the graph\n",
    "dataset = dataset_constructor.construct_graph()\n",
    "\n",
    "\n",
    "total_cells = len(dataset_constructor.adata)\n",
    "print(total_cells)"
   ]
  },
  {
   "cell_type": "code",
   "execution_count": 5,
   "id": "1584afc2-d47c-4c8d-acb4-009b160e6eae",
   "metadata": {
    "tags": []
   },
   "outputs": [
    {
     "data": {
      "text/plain": [
       "PretrainedGAT_2(\n",
       "  (conv1): GATConv(550, 550, heads=1)\n",
       "  (conv2): GATConv(550, 550, heads=1)\n",
       "  (dropout): Dropout(p=0.5, inplace=False)\n",
       "  (act): LeakyReLU(negative_slope=0.01)\n",
       ")"
      ]
     },
     "execution_count": 5,
     "metadata": {},
     "output_type": "execute_result"
    }
   ],
   "source": [
    "device = torch.device('cuda' if torch.cuda.is_available() else 'cpu')\n",
    "\n",
    "model_path = \"./models/GAT_2_random20_all_model.pt\"\n",
    "\n",
    "# Load the pretrained model without the linear layer\n",
    "pretrained_model = PretrainedGAT_2(550, 550, 550).to(device)\n",
    "#pretrained_model.load_state_dict(torch.load(model_path))\n",
    "pretrained_model.eval()"
   ]
  },
  {
   "cell_type": "code",
   "execution_count": 6,
   "id": "2c2c8888-be6f-4f9c-a2af-58b2e4326212",
   "metadata": {
    "tags": []
   },
   "outputs": [
    {
     "data": {
      "text/plain": [
       "CellTypeClassificationModel(\n",
       "  (conv1): GATConv(550, 550, heads=1)\n",
       "  (dropout): Dropout(p=0.5, inplace=False)\n",
       "  (act): LeakyReLU(negative_slope=0.01)\n",
       "  (conv2): GATConv(550, 24, heads=1)\n",
       ")"
      ]
     },
     "execution_count": 6,
     "metadata": {},
     "output_type": "execute_result"
    }
   ],
   "source": [
    "# Now create the fine-tuned model for cell type classification\n",
    "num_cell_types = 24 # Number of cell types you want to classify\n",
    "cell_type_model = CellTypeClassificationModel(pretrained_model, num_cell_types)\n",
    "#cell_type_model.conv1.load_state_dict(pretrained_model.conv1.state_dict())\n",
    "cell_type_model"
   ]
  },
  {
   "cell_type": "code",
   "execution_count": 7,
   "id": "8d5e3c2b-4eb6-4b47-9aaa-4198e1607a9d",
   "metadata": {
    "tags": []
   },
   "outputs": [],
   "source": [
    "# Copy the weights from the pretrained model to the new model with the linear layer\n",
    "#model = GAT_2(550, 550, 550, 24).to(device)\n",
    "#model.conv1.load_state_dict(pretrained_model.conv1.state_dict())\n",
    "#model.conv2.load_state_dict(pretrained_model.conv2.state_dict())\n",
    "#model.conv3.load_state_dict(pretrained_model.conv3.state_dict())"
   ]
  },
  {
   "cell_type": "code",
   "execution_count": 8,
   "id": "4c6fbeb3-1e4e-4dd8-8d0e-e9ccc4e796eb",
   "metadata": {
    "tags": []
   },
   "outputs": [],
   "source": [
    "train_loader, val_loader, test_loader = split_dataset(dataset,split_percent=(0.8, 0.2, 0.2), batch_size=1)"
   ]
  },
  {
   "cell_type": "code",
   "execution_count": 9,
   "id": "dcb9026d-b979-4cb2-83e1-e63a8a3d71e6",
   "metadata": {
    "tags": []
   },
   "outputs": [
    {
     "name": "stdout",
     "output_type": "stream",
     "text": [
      "Train size: 9\n",
      "Validation size: 2\n",
      "Test size: 1\n"
     ]
    }
   ],
   "source": [
    "# Print out the size of each set to verify\n",
    "print(f\"Train size: {len(train_loader.dataset)}\")\n",
    "print(f\"Validation size: {len(val_loader.dataset)}\")\n",
    "print(f\"Test size: {len(test_loader.dataset)}\")"
   ]
  },
  {
   "cell_type": "code",
   "execution_count": 30,
   "id": "2507c6e8-f069-43d5-ba69-0175fa4e2ef8",
   "metadata": {
    "tags": []
   },
   "outputs": [
    {
     "name": "stdout",
     "output_type": "stream",
     "text": [
      "DataBatch(x=[51012, 550], edge_index=[2, 419170], y=[5101, 550], mask=[51012], cell_type=[51012], cell_type_masked=[5101], image=[1], num_nodes=51012, batch=[51012], ptr=[2])\n",
      "DataBatch(x=[29300, 550], edge_index=[2, 259136], y=[2930, 550], mask=[29300], cell_type=[29300], cell_type_masked=[2930], image=[1], num_nodes=29300, batch=[29300], ptr=[2])\n",
      "DataBatch(x=[29300, 550], edge_index=[2, 259136], y=[2930, 550], mask=[29300], cell_type=[29300], cell_type_masked=[2930], image=[1], num_nodes=29300, batch=[29300], ptr=[2])\n",
      "DataBatch(x=[47461, 550], edge_index=[2, 410372], y=[4746, 550], mask=[47461], cell_type=[47461], cell_type_masked=[4746], image=[1], num_nodes=47461, batch=[47461], ptr=[2])\n",
      "DataBatch(x=[47461, 550], edge_index=[2, 410372], y=[4746, 550], mask=[47461], cell_type=[47461], cell_type_masked=[4746], image=[1], num_nodes=47461, batch=[47461], ptr=[2])\n",
      "DataBatch(x=[36043, 550], edge_index=[2, 250394], y=[3604, 550], mask=[36043], cell_type=[36043], cell_type_masked=[3604], image=[1], num_nodes=36043, batch=[36043], ptr=[2])\n",
      "DataBatch(x=[50899, 550], edge_index=[2, 408008], y=[5089, 550], mask=[50899], cell_type=[50899], cell_type_masked=[5089], image=[1], num_nodes=50899, batch=[50899], ptr=[2])\n",
      "DataBatch(x=[51012, 550], edge_index=[2, 419170], y=[5101, 550], mask=[51012], cell_type=[51012], cell_type_masked=[5101], image=[1], num_nodes=51012, batch=[51012], ptr=[2])\n",
      "DataBatch(x=[36043, 550], edge_index=[2, 250394], y=[3604, 550], mask=[36043], cell_type=[36043], cell_type_masked=[3604], image=[1], num_nodes=36043, batch=[36043], ptr=[2])\n"
     ]
    }
   ],
   "source": [
    "for x in train_loader:\n",
    "    print(x)\n"
   ]
  },
  {
   "cell_type": "code",
   "execution_count": 10,
   "id": "d339f2ce-e851-49d8-9cdf-4f835971bc1f",
   "metadata": {
    "tags": []
   },
   "outputs": [],
   "source": [
    "# Define loss function and optimizer\n",
    "criterion = nn.CrossEntropyLoss()\n",
    "optimizer = optim.Adam(cell_type_model.parameters(), lr=0.001)\n",
    "#scheduler = StepLR(optimizer, step_size=80, gamma=0.1) # learning rate scheduler\n"
   ]
  },
  {
   "cell_type": "code",
   "execution_count": 11,
   "id": "3cc11733-005d-41dc-a53c-a233799d321b",
   "metadata": {
    "tags": []
   },
   "outputs": [],
   "source": [
    "# use gene expression and adjcent gene expression to predict the cell types"
   ]
  },
  {
   "cell_type": "code",
   "execution_count": 12,
   "id": "eb7d12fd-bb4b-4aff-9289-9b8e72f2304c",
   "metadata": {
    "tags": []
   },
   "outputs": [
    {
     "data": {
      "text/plain": [
       "<torch_geometric.loader.dataloader.DataLoader at 0x7f7ab43bae90>"
      ]
     },
     "execution_count": 12,
     "metadata": {},
     "output_type": "execute_result"
    }
   ],
   "source": [
    "train_loader"
   ]
  },
  {
   "cell_type": "code",
   "execution_count": null,
   "id": "da2008f4-e384-425b-8151-b5a7fd2e15ce",
   "metadata": {
    "tags": []
   },
   "outputs": [
    {
     "data": {
      "application/vnd.jupyter.widget-view+json": {
       "model_id": "4eeefa3f332b4466b0a070f0e42d7086",
       "version_major": 2,
       "version_minor": 0
      },
      "text/plain": [
       "  0%|          | 0/100 [00:00<?, ?it/s]"
      ]
     },
     "metadata": {},
     "output_type": "display_data"
    },
    {
     "data": {
      "application/vnd.jupyter.widget-view+json": {
       "model_id": "9d2307ecc94e4695b7dc392fc7fa0e2e",
       "version_major": 2,
       "version_minor": 0
      },
      "text/plain": [
       "  0%|          | 0/9 [00:00<?, ?it/s]"
      ]
     },
     "metadata": {},
     "output_type": "display_data"
    },
    {
     "name": "stdout",
     "output_type": "stream",
     "text": [
      "Epoch 1, Loss: 2.793\n",
      "Multiclass Accuracy: tensor(0.1470)\n",
      "Multiclass AUPRC: tensor(0.0415)\n"
     ]
    },
    {
     "data": {
      "application/vnd.jupyter.widget-view+json": {
       "model_id": "554dfd6987d144d08a3e6937a6d11ff3",
       "version_major": 2,
       "version_minor": 0
      },
      "text/plain": [
       "  0%|          | 0/9 [00:00<?, ?it/s]"
      ]
     },
     "metadata": {},
     "output_type": "display_data"
    },
    {
     "name": "stdout",
     "output_type": "stream",
     "text": [
      "Epoch 2, Loss: 2.155\n",
      "Multiclass Accuracy: tensor(0.1616)\n",
      "Multiclass AUPRC: tensor(0.0418)\n"
     ]
    },
    {
     "data": {
      "application/vnd.jupyter.widget-view+json": {
       "model_id": "6702ed8eddbd4851b1f70c177a03b571",
       "version_major": 2,
       "version_minor": 0
      },
      "text/plain": [
       "  0%|          | 0/9 [00:00<?, ?it/s]"
      ]
     },
     "metadata": {},
     "output_type": "display_data"
    },
    {
     "name": "stdout",
     "output_type": "stream",
     "text": [
      "Epoch 3, Loss: 2.109\n",
      "Multiclass Accuracy: tensor(0.1660)\n",
      "Multiclass AUPRC: tensor(0.0418)\n"
     ]
    },
    {
     "data": {
      "application/vnd.jupyter.widget-view+json": {
       "model_id": "32e9638f6dec4f599b70f5a95f1d318c",
       "version_major": 2,
       "version_minor": 0
      },
      "text/plain": [
       "  0%|          | 0/9 [00:00<?, ?it/s]"
      ]
     },
     "metadata": {},
     "output_type": "display_data"
    },
    {
     "name": "stdout",
     "output_type": "stream",
     "text": [
      "Epoch 4, Loss: 2.091\n",
      "Multiclass Accuracy: tensor(0.1688)\n",
      "Multiclass AUPRC: tensor(0.0418)\n"
     ]
    },
    {
     "data": {
      "application/vnd.jupyter.widget-view+json": {
       "model_id": "4f0815662f1c49748378289615588543",
       "version_major": 2,
       "version_minor": 0
      },
      "text/plain": [
       "  0%|          | 0/9 [00:00<?, ?it/s]"
      ]
     },
     "metadata": {},
     "output_type": "display_data"
    },
    {
     "name": "stdout",
     "output_type": "stream",
     "text": [
      "Epoch 5, Loss: 2.076\n",
      "Multiclass Accuracy: tensor(0.1730)\n",
      "Multiclass AUPRC: tensor(0.0420)\n"
     ]
    },
    {
     "data": {
      "application/vnd.jupyter.widget-view+json": {
       "model_id": "dfc3843bbc02416ca4730d82592f0178",
       "version_major": 2,
       "version_minor": 0
      },
      "text/plain": [
       "  0%|          | 0/9 [00:00<?, ?it/s]"
      ]
     },
     "metadata": {},
     "output_type": "display_data"
    },
    {
     "name": "stdout",
     "output_type": "stream",
     "text": [
      "Epoch 6, Loss: 2.087\n",
      "Multiclass Accuracy: tensor(0.1749)\n",
      "Multiclass AUPRC: tensor(0.0420)\n"
     ]
    },
    {
     "data": {
      "application/vnd.jupyter.widget-view+json": {
       "model_id": "435fb3352cb2488f814824029f06cae8",
       "version_major": 2,
       "version_minor": 0
      },
      "text/plain": [
       "  0%|          | 0/9 [00:00<?, ?it/s]"
      ]
     },
     "metadata": {},
     "output_type": "display_data"
    },
    {
     "name": "stdout",
     "output_type": "stream",
     "text": [
      "Epoch 7, Loss: 2.067\n",
      "Multiclass Accuracy: tensor(0.1765)\n",
      "Multiclass AUPRC: tensor(0.0420)\n"
     ]
    },
    {
     "data": {
      "application/vnd.jupyter.widget-view+json": {
       "model_id": "d8bc33e1a9224546b73bddfa33138578",
       "version_major": 2,
       "version_minor": 0
      },
      "text/plain": [
       "  0%|          | 0/9 [00:00<?, ?it/s]"
      ]
     },
     "metadata": {},
     "output_type": "display_data"
    },
    {
     "name": "stdout",
     "output_type": "stream",
     "text": [
      "Epoch 8, Loss: 2.061\n",
      "Multiclass Accuracy: tensor(0.1776)\n",
      "Multiclass AUPRC: tensor(0.0420)\n"
     ]
    },
    {
     "data": {
      "application/vnd.jupyter.widget-view+json": {
       "model_id": "0170659d1d1c4a56b67f54d387663b39",
       "version_major": 2,
       "version_minor": 0
      },
      "text/plain": [
       "  0%|          | 0/9 [00:00<?, ?it/s]"
      ]
     },
     "metadata": {},
     "output_type": "display_data"
    },
    {
     "name": "stdout",
     "output_type": "stream",
     "text": [
      "Epoch 9, Loss: 2.062\n",
      "Multiclass Accuracy: tensor(0.1788)\n",
      "Multiclass AUPRC: tensor(0.0421)\n"
     ]
    },
    {
     "data": {
      "application/vnd.jupyter.widget-view+json": {
       "model_id": "d5057995ada040c49063b59445c89491",
       "version_major": 2,
       "version_minor": 0
      },
      "text/plain": [
       "  0%|          | 0/9 [00:00<?, ?it/s]"
      ]
     },
     "metadata": {},
     "output_type": "display_data"
    },
    {
     "name": "stdout",
     "output_type": "stream",
     "text": [
      "Epoch 10, Loss: 2.059\n",
      "Multiclass Accuracy: tensor(0.1799)\n",
      "Multiclass AUPRC: tensor(0.0423)\n"
     ]
    },
    {
     "data": {
      "application/vnd.jupyter.widget-view+json": {
       "model_id": "cfe4c4503ea44c33a7aee6c8023da1a0",
       "version_major": 2,
       "version_minor": 0
      },
      "text/plain": [
       "  0%|          | 0/9 [00:00<?, ?it/s]"
      ]
     },
     "metadata": {},
     "output_type": "display_data"
    }
   ],
   "source": [
    "from tqdm.auto import tqdm\n",
    "from torch import optim\n",
    "from torcheval.metrics import MulticlassAccuracy, MulticlassAUPRC, MulticlassConfusionMatrix\n",
    "\n",
    "# use masked gene expression and adjacent gene expression to predict the cell types\n",
    "device = torch.device(\"cuda:0\" if torch.cuda.is_available() else \"cpu\")\n",
    "cell_type_model.to(device)\n",
    "# Train the model\n",
    "epochs = 100\n",
    "\n",
    "multiclass_accuracy = MulticlassAccuracy()\n",
    "multiclass_auprc = MulticlassAUPRC(num_classes = 24)\n",
    "multiclass_confusion_matrix = MulticlassConfusionMatrix(num_classes = 24)\n",
    "\n",
    "for epoch in tqdm(range(epochs)):\n",
    "\n",
    "    cell_type_model.train()\n",
    "    all_accuracy = []\n",
    "    \n",
    "    running_loss = 0.0\n",
    "    for data in tqdm(train_loader):\n",
    "        \n",
    "        inputs = data.x.float().to(device)\n",
    "        labels = data.cell_type_masked.long().to(device)\n",
    "\n",
    "        # Zero the parameter gradients\n",
    "        optimizer.zero_grad()\n",
    "        \n",
    "        # Forward + backward + optimize\n",
    "        outputs = cell_type_model(inputs, data.edge_index.to(device))\n",
    "        #print(outputs.shape)\n",
    "        loss = criterion(outputs[data.mask], labels)\n",
    "        #print(outputs[data.mask].shape)\n",
    "        loss.backward()\n",
    "        optimizer.step()\n",
    "\n",
    "        # Compute additional metrics\n",
    "        predicted = outputs[data.mask].cpu()\n",
    "        multiclass_accuracy.update(predicted, labels.cpu())\n",
    "        multiclass_auprc.update(predicted, labels.cpu())\n",
    "        multiclass_confusion_matrix.update(predicted, labels.cpu())\n",
    "\n",
    "        # Print statistics\n",
    "        #accuracy = (predicted == labels.cpu()).sum().item() / len(labels)\n",
    "        #all_accuracy.append(accuracy)\n",
    "        running_loss += loss.item()\n",
    "\n",
    "    print(f'Epoch {epoch + 1}, Loss: {running_loss / len(train_loader):.3f}')\n",
    "    print('Multiclass Accuracy:', multiclass_accuracy.compute())\n",
    "    print('Multiclass AUPRC:', multiclass_auprc.compute())\n",
    "    #print('Multiclass Confusion Matrix:', multiclass_confusion_matrix.compute())\n",
    "\n",
    "    # Reset metrics after each epoch if needed\n",
    "    #multiclass_accuracy.reset()\n",
    "    #multiclass_auprc.reset()\n",
    "    #multiclass_confusion_matrix.reset()\n",
    "\n",
    "print('Training finished!')\n"
   ]
  },
  {
   "cell_type": "code",
   "execution_count": null,
   "id": "e88ea720-766a-4775-90d0-bf696a9507dd",
   "metadata": {
    "tags": []
   },
   "outputs": [
    {
     "data": {
      "application/vnd.jupyter.widget-view+json": {
       "model_id": "eec669588c814d8ea683963c618251b7",
       "version_major": 2,
       "version_minor": 0
      },
      "text/plain": [
       "  0%|          | 0/100 [00:00<?, ?it/s]"
      ]
     },
     "metadata": {},
     "output_type": "display_data"
    },
    {
     "data": {
      "application/vnd.jupyter.widget-view+json": {
       "model_id": "81b3b6571cc742b1844c681c97dcef76",
       "version_major": 2,
       "version_minor": 0
      },
      "text/plain": [
       "  0%|          | 0/9 [00:00<?, ?it/s]"
      ]
     },
     "metadata": {},
     "output_type": "display_data"
    },
    {
     "name": "stdout",
     "output_type": "stream",
     "text": [
      "Epoch 1, Loss: 2.057\n",
      "Multiclass Accuracy: tensor(0.1688)\n",
      "Multiclass AUPRC: tensor(0.0421)\n"
     ]
    },
    {
     "data": {
      "application/vnd.jupyter.widget-view+json": {
       "model_id": "f55aff6514a74a1ebde5ee155bde8978",
       "version_major": 2,
       "version_minor": 0
      },
      "text/plain": [
       "  0%|          | 0/9 [00:00<?, ?it/s]"
      ]
     },
     "metadata": {},
     "output_type": "display_data"
    },
    {
     "name": "stdout",
     "output_type": "stream",
     "text": [
      "Epoch 2, Loss: 2.035\n",
      "Multiclass Accuracy: tensor(0.1790)\n",
      "Multiclass AUPRC: tensor(0.0423)\n"
     ]
    },
    {
     "data": {
      "application/vnd.jupyter.widget-view+json": {
       "model_id": "1254ad355aa44618ac674314ec45bd4e",
       "version_major": 2,
       "version_minor": 0
      },
      "text/plain": [
       "  0%|          | 0/9 [00:00<?, ?it/s]"
      ]
     },
     "metadata": {},
     "output_type": "display_data"
    },
    {
     "name": "stdout",
     "output_type": "stream",
     "text": [
      "Epoch 3, Loss: 2.037\n",
      "Multiclass Accuracy: tensor(0.1802)\n",
      "Multiclass AUPRC: tensor(0.0423)\n"
     ]
    },
    {
     "data": {
      "application/vnd.jupyter.widget-view+json": {
       "model_id": "44d22c037943404a8effa034ef31224e",
       "version_major": 2,
       "version_minor": 0
      },
      "text/plain": [
       "  0%|          | 0/9 [00:00<?, ?it/s]"
      ]
     },
     "metadata": {},
     "output_type": "display_data"
    },
    {
     "name": "stdout",
     "output_type": "stream",
     "text": [
      "Epoch 4, Loss: 2.028\n",
      "Multiclass Accuracy: tensor(0.1831)\n",
      "Multiclass AUPRC: tensor(0.0424)\n"
     ]
    },
    {
     "data": {
      "application/vnd.jupyter.widget-view+json": {
       "model_id": "2c15eaa838a546b7b6d29fb9d3d75e07",
       "version_major": 2,
       "version_minor": 0
      },
      "text/plain": [
       "  0%|          | 0/9 [00:00<?, ?it/s]"
      ]
     },
     "metadata": {},
     "output_type": "display_data"
    },
    {
     "name": "stdout",
     "output_type": "stream",
     "text": [
      "Epoch 5, Loss: 2.028\n",
      "Multiclass Accuracy: tensor(0.1832)\n",
      "Multiclass AUPRC: tensor(0.0424)\n"
     ]
    },
    {
     "data": {
      "application/vnd.jupyter.widget-view+json": {
       "model_id": "15806972cb1e4c399c0da6e2b7a03668",
       "version_major": 2,
       "version_minor": 0
      },
      "text/plain": [
       "  0%|          | 0/9 [00:00<?, ?it/s]"
      ]
     },
     "metadata": {},
     "output_type": "display_data"
    },
    {
     "name": "stdout",
     "output_type": "stream",
     "text": [
      "Epoch 6, Loss: 2.021\n",
      "Multiclass Accuracy: tensor(0.1852)\n",
      "Multiclass AUPRC: tensor(0.0425)\n"
     ]
    },
    {
     "data": {
      "application/vnd.jupyter.widget-view+json": {
       "model_id": "19428667a83d412ebdac6001d6b1a6fe",
       "version_major": 2,
       "version_minor": 0
      },
      "text/plain": [
       "  0%|          | 0/9 [00:00<?, ?it/s]"
      ]
     },
     "metadata": {},
     "output_type": "display_data"
    },
    {
     "name": "stdout",
     "output_type": "stream",
     "text": [
      "Epoch 7, Loss: 2.023\n",
      "Multiclass Accuracy: tensor(0.1866)\n",
      "Multiclass AUPRC: tensor(0.0426)\n"
     ]
    },
    {
     "data": {
      "application/vnd.jupyter.widget-view+json": {
       "model_id": "ff4f87542d2b4b38b1f4a3c315f13862",
       "version_major": 2,
       "version_minor": 0
      },
      "text/plain": [
       "  0%|          | 0/9 [00:00<?, ?it/s]"
      ]
     },
     "metadata": {},
     "output_type": "display_data"
    },
    {
     "name": "stdout",
     "output_type": "stream",
     "text": [
      "Epoch 8, Loss: 2.014\n",
      "Multiclass Accuracy: tensor(0.1881)\n",
      "Multiclass AUPRC: tensor(0.0426)\n"
     ]
    },
    {
     "data": {
      "application/vnd.jupyter.widget-view+json": {
       "model_id": "a6dbea7834e6468f908919436a063715",
       "version_major": 2,
       "version_minor": 0
      },
      "text/plain": [
       "  0%|          | 0/9 [00:00<?, ?it/s]"
      ]
     },
     "metadata": {},
     "output_type": "display_data"
    },
    {
     "name": "stdout",
     "output_type": "stream",
     "text": [
      "Epoch 9, Loss: 2.009\n",
      "Multiclass Accuracy: tensor(0.1892)\n",
      "Multiclass AUPRC: tensor(0.0427)\n"
     ]
    },
    {
     "data": {
      "application/vnd.jupyter.widget-view+json": {
       "model_id": "766dce02339b4c84acb0bf72dad97434",
       "version_major": 2,
       "version_minor": 0
      },
      "text/plain": [
       "  0%|          | 0/9 [00:00<?, ?it/s]"
      ]
     },
     "metadata": {},
     "output_type": "display_data"
    },
    {
     "name": "stdout",
     "output_type": "stream",
     "text": [
      "Epoch 10, Loss: 2.001\n",
      "Multiclass Accuracy: tensor(0.1908)\n",
      "Multiclass AUPRC: tensor(0.0427)\n"
     ]
    },
    {
     "data": {
      "application/vnd.jupyter.widget-view+json": {
       "model_id": "59f6f4a42f724bf1b879f955863011a6",
       "version_major": 2,
       "version_minor": 0
      },
      "text/plain": [
       "  0%|          | 0/9 [00:00<?, ?it/s]"
      ]
     },
     "metadata": {},
     "output_type": "display_data"
    },
    {
     "name": "stdout",
     "output_type": "stream",
     "text": [
      "Epoch 11, Loss: 2.004\n",
      "Multiclass Accuracy: tensor(0.1914)\n",
      "Multiclass AUPRC: tensor(0.0428)\n"
     ]
    },
    {
     "data": {
      "application/vnd.jupyter.widget-view+json": {
       "model_id": "d7f77c4885b240f0953ee5463998e168",
       "version_major": 2,
       "version_minor": 0
      },
      "text/plain": [
       "  0%|          | 0/9 [00:00<?, ?it/s]"
      ]
     },
     "metadata": {},
     "output_type": "display_data"
    },
    {
     "name": "stdout",
     "output_type": "stream",
     "text": [
      "Epoch 12, Loss: 1.992\n",
      "Multiclass Accuracy: tensor(0.1927)\n",
      "Multiclass AUPRC: tensor(0.0429)\n"
     ]
    },
    {
     "data": {
      "application/vnd.jupyter.widget-view+json": {
       "model_id": "c8a3b3ad494545868c1af2882d3cbb0d",
       "version_major": 2,
       "version_minor": 0
      },
      "text/plain": [
       "  0%|          | 0/9 [00:00<?, ?it/s]"
      ]
     },
     "metadata": {},
     "output_type": "display_data"
    },
    {
     "name": "stdout",
     "output_type": "stream",
     "text": [
      "Epoch 13, Loss: 1.988\n",
      "Multiclass Accuracy: tensor(0.1940)\n",
      "Multiclass AUPRC: tensor(0.0430)\n"
     ]
    },
    {
     "data": {
      "application/vnd.jupyter.widget-view+json": {
       "model_id": "f8cca232da1f4f319788abf768b460f7",
       "version_major": 2,
       "version_minor": 0
      },
      "text/plain": [
       "  0%|          | 0/9 [00:00<?, ?it/s]"
      ]
     },
     "metadata": {},
     "output_type": "display_data"
    },
    {
     "name": "stdout",
     "output_type": "stream",
     "text": [
      "Epoch 14, Loss: 1.972\n",
      "Multiclass Accuracy: tensor(0.1961)\n",
      "Multiclass AUPRC: tensor(0.0431)\n"
     ]
    },
    {
     "data": {
      "application/vnd.jupyter.widget-view+json": {
       "model_id": "de5466405b954e969931a46f16ba54eb",
       "version_major": 2,
       "version_minor": 0
      },
      "text/plain": [
       "  0%|          | 0/9 [00:00<?, ?it/s]"
      ]
     },
     "metadata": {},
     "output_type": "display_data"
    },
    {
     "name": "stdout",
     "output_type": "stream",
     "text": [
      "Epoch 15, Loss: 1.967\n",
      "Multiclass Accuracy: tensor(0.1980)\n",
      "Multiclass AUPRC: tensor(0.0432)\n"
     ]
    },
    {
     "data": {
      "application/vnd.jupyter.widget-view+json": {
       "model_id": "e8b34777499d4bbcbe1347b513541f14",
       "version_major": 2,
       "version_minor": 0
      },
      "text/plain": [
       "  0%|          | 0/9 [00:00<?, ?it/s]"
      ]
     },
     "metadata": {},
     "output_type": "display_data"
    },
    {
     "name": "stdout",
     "output_type": "stream",
     "text": [
      "Epoch 16, Loss: 1.964\n",
      "Multiclass Accuracy: tensor(0.1995)\n",
      "Multiclass AUPRC: tensor(0.0434)\n"
     ]
    },
    {
     "data": {
      "application/vnd.jupyter.widget-view+json": {
       "model_id": "be2fe2b8b7e14e6da604d8702f72258a",
       "version_major": 2,
       "version_minor": 0
      },
      "text/plain": [
       "  0%|          | 0/9 [00:00<?, ?it/s]"
      ]
     },
     "metadata": {},
     "output_type": "display_data"
    },
    {
     "name": "stdout",
     "output_type": "stream",
     "text": [
      "Epoch 17, Loss: 1.952\n",
      "Multiclass Accuracy: tensor(0.2014)\n",
      "Multiclass AUPRC: tensor(0.0435)\n"
     ]
    },
    {
     "data": {
      "application/vnd.jupyter.widget-view+json": {
       "model_id": "dc65b163cc134e1d860f1c91397115dc",
       "version_major": 2,
       "version_minor": 0
      },
      "text/plain": [
       "  0%|          | 0/9 [00:00<?, ?it/s]"
      ]
     },
     "metadata": {},
     "output_type": "display_data"
    },
    {
     "name": "stdout",
     "output_type": "stream",
     "text": [
      "Epoch 18, Loss: 1.945\n",
      "Multiclass Accuracy: tensor(0.2034)\n",
      "Multiclass AUPRC: tensor(0.0437)\n"
     ]
    },
    {
     "data": {
      "application/vnd.jupyter.widget-view+json": {
       "model_id": "44d5f175b52149e5ad2b2f3ea662b1bc",
       "version_major": 2,
       "version_minor": 0
      },
      "text/plain": [
       "  0%|          | 0/9 [00:00<?, ?it/s]"
      ]
     },
     "metadata": {},
     "output_type": "display_data"
    },
    {
     "name": "stdout",
     "output_type": "stream",
     "text": [
      "Epoch 19, Loss: 1.930\n",
      "Multiclass Accuracy: tensor(0.2055)\n",
      "Multiclass AUPRC: tensor(0.0439)\n"
     ]
    },
    {
     "data": {
      "application/vnd.jupyter.widget-view+json": {
       "model_id": "c4b9dc222df04035a3ff4f09926aabf7",
       "version_major": 2,
       "version_minor": 0
      },
      "text/plain": [
       "  0%|          | 0/9 [00:00<?, ?it/s]"
      ]
     },
     "metadata": {},
     "output_type": "display_data"
    },
    {
     "name": "stdout",
     "output_type": "stream",
     "text": [
      "Epoch 20, Loss: 1.922\n",
      "Multiclass Accuracy: tensor(0.2078)\n",
      "Multiclass AUPRC: tensor(0.0440)\n"
     ]
    },
    {
     "data": {
      "application/vnd.jupyter.widget-view+json": {
       "model_id": "918751bdb2694eaeb9ed1265a20bf88b",
       "version_major": 2,
       "version_minor": 0
      },
      "text/plain": [
       "  0%|          | 0/9 [00:00<?, ?it/s]"
      ]
     },
     "metadata": {},
     "output_type": "display_data"
    },
    {
     "name": "stdout",
     "output_type": "stream",
     "text": [
      "Epoch 21, Loss: 1.902\n",
      "Multiclass Accuracy: tensor(0.2104)\n",
      "Multiclass AUPRC: tensor(0.0443)\n"
     ]
    },
    {
     "data": {
      "application/vnd.jupyter.widget-view+json": {
       "model_id": "da57823ebee84ce59c9ce9bb9e39ac8b",
       "version_major": 2,
       "version_minor": 0
      },
      "text/plain": [
       "  0%|          | 0/9 [00:00<?, ?it/s]"
      ]
     },
     "metadata": {},
     "output_type": "display_data"
    },
    {
     "name": "stdout",
     "output_type": "stream",
     "text": [
      "Epoch 22, Loss: 1.893\n",
      "Multiclass Accuracy: tensor(0.2129)\n",
      "Multiclass AUPRC: tensor(0.0445)\n"
     ]
    },
    {
     "data": {
      "application/vnd.jupyter.widget-view+json": {
       "model_id": "6f50896b5a95433cb5aa38e8dc1dae7f",
       "version_major": 2,
       "version_minor": 0
      },
      "text/plain": [
       "  0%|          | 0/9 [00:00<?, ?it/s]"
      ]
     },
     "metadata": {},
     "output_type": "display_data"
    },
    {
     "name": "stdout",
     "output_type": "stream",
     "text": [
      "Epoch 23, Loss: 1.871\n",
      "Multiclass Accuracy: tensor(0.2156)\n",
      "Multiclass AUPRC: tensor(0.0448)\n"
     ]
    },
    {
     "data": {
      "application/vnd.jupyter.widget-view+json": {
       "model_id": "17cae1c46af1428eb862da666b3118a6",
       "version_major": 2,
       "version_minor": 0
      },
      "text/plain": [
       "  0%|          | 0/9 [00:00<?, ?it/s]"
      ]
     },
     "metadata": {},
     "output_type": "display_data"
    },
    {
     "name": "stdout",
     "output_type": "stream",
     "text": [
      "Epoch 24, Loss: 1.855\n",
      "Multiclass Accuracy: tensor(0.2184)\n",
      "Multiclass AUPRC: tensor(0.0451)\n"
     ]
    },
    {
     "data": {
      "application/vnd.jupyter.widget-view+json": {
       "model_id": "23588e30895f4f9695efb6b599b00118",
       "version_major": 2,
       "version_minor": 0
      },
      "text/plain": [
       "  0%|          | 0/9 [00:00<?, ?it/s]"
      ]
     },
     "metadata": {},
     "output_type": "display_data"
    },
    {
     "name": "stdout",
     "output_type": "stream",
     "text": [
      "Epoch 25, Loss: 1.849\n",
      "Multiclass Accuracy: tensor(0.2213)\n",
      "Multiclass AUPRC: tensor(0.0454)\n"
     ]
    },
    {
     "data": {
      "application/vnd.jupyter.widget-view+json": {
       "model_id": "9be027c767b94d5397c17fdf83deed1e",
       "version_major": 2,
       "version_minor": 0
      },
      "text/plain": [
       "  0%|          | 0/9 [00:00<?, ?it/s]"
      ]
     },
     "metadata": {},
     "output_type": "display_data"
    },
    {
     "name": "stdout",
     "output_type": "stream",
     "text": [
      "Epoch 26, Loss: 1.825\n",
      "Multiclass Accuracy: tensor(0.2242)\n",
      "Multiclass AUPRC: tensor(0.0457)\n"
     ]
    },
    {
     "data": {
      "application/vnd.jupyter.widget-view+json": {
       "model_id": "6703dafc06a04af9b0d358876082ca21",
       "version_major": 2,
       "version_minor": 0
      },
      "text/plain": [
       "  0%|          | 0/9 [00:00<?, ?it/s]"
      ]
     },
     "metadata": {},
     "output_type": "display_data"
    },
    {
     "name": "stdout",
     "output_type": "stream",
     "text": [
      "Epoch 27, Loss: 1.808\n",
      "Multiclass Accuracy: tensor(0.2272)\n",
      "Multiclass AUPRC: tensor(0.0461)\n"
     ]
    },
    {
     "data": {
      "application/vnd.jupyter.widget-view+json": {
       "model_id": "5dceadbe81ec437f9370e3dc370c1b51",
       "version_major": 2,
       "version_minor": 0
      },
      "text/plain": [
       "  0%|          | 0/9 [00:00<?, ?it/s]"
      ]
     },
     "metadata": {},
     "output_type": "display_data"
    },
    {
     "name": "stdout",
     "output_type": "stream",
     "text": [
      "Epoch 28, Loss: 1.798\n",
      "Multiclass Accuracy: tensor(0.2301)\n",
      "Multiclass AUPRC: tensor(0.0465)\n"
     ]
    },
    {
     "data": {
      "application/vnd.jupyter.widget-view+json": {
       "model_id": "bb94837a77a6445f88198089fc7bc1e2",
       "version_major": 2,
       "version_minor": 0
      },
      "text/plain": [
       "  0%|          | 0/9 [00:00<?, ?it/s]"
      ]
     },
     "metadata": {},
     "output_type": "display_data"
    },
    {
     "name": "stdout",
     "output_type": "stream",
     "text": [
      "Epoch 29, Loss: 1.787\n",
      "Multiclass Accuracy: tensor(0.2330)\n",
      "Multiclass AUPRC: tensor(0.0469)\n"
     ]
    },
    {
     "data": {
      "application/vnd.jupyter.widget-view+json": {
       "model_id": "82d8eb7c40494cca99c1ecde1c0c3bf5",
       "version_major": 2,
       "version_minor": 0
      },
      "text/plain": [
       "  0%|          | 0/9 [00:00<?, ?it/s]"
      ]
     },
     "metadata": {},
     "output_type": "display_data"
    },
    {
     "name": "stdout",
     "output_type": "stream",
     "text": [
      "Epoch 30, Loss: 1.768\n",
      "Multiclass Accuracy: tensor(0.2362)\n",
      "Multiclass AUPRC: tensor(0.0473)\n"
     ]
    },
    {
     "data": {
      "application/vnd.jupyter.widget-view+json": {
       "model_id": "160faad796c94741b58084ffd5c1ba76",
       "version_major": 2,
       "version_minor": 0
      },
      "text/plain": [
       "  0%|          | 0/9 [00:00<?, ?it/s]"
      ]
     },
     "metadata": {},
     "output_type": "display_data"
    },
    {
     "name": "stdout",
     "output_type": "stream",
     "text": [
      "Epoch 31, Loss: 1.746\n",
      "Multiclass Accuracy: tensor(0.2393)\n",
      "Multiclass AUPRC: tensor(0.0477)\n"
     ]
    },
    {
     "data": {
      "application/vnd.jupyter.widget-view+json": {
       "model_id": "e059103e3b0b446f9fd8dfe81dad98fe",
       "version_major": 2,
       "version_minor": 0
      },
      "text/plain": [
       "  0%|          | 0/9 [00:00<?, ?it/s]"
      ]
     },
     "metadata": {},
     "output_type": "display_data"
    },
    {
     "name": "stdout",
     "output_type": "stream",
     "text": [
      "Epoch 32, Loss: 1.732\n",
      "Multiclass Accuracy: tensor(0.2425)\n",
      "Multiclass AUPRC: tensor(0.0482)\n"
     ]
    },
    {
     "data": {
      "application/vnd.jupyter.widget-view+json": {
       "model_id": "6234d61273b84520857191ec276d46e6",
       "version_major": 2,
       "version_minor": 0
      },
      "text/plain": [
       "  0%|          | 0/9 [00:00<?, ?it/s]"
      ]
     },
     "metadata": {},
     "output_type": "display_data"
    },
    {
     "name": "stdout",
     "output_type": "stream",
     "text": [
      "Epoch 33, Loss: 1.715\n",
      "Multiclass Accuracy: tensor(0.2456)\n",
      "Multiclass AUPRC: tensor(0.0487)\n"
     ]
    },
    {
     "data": {
      "application/vnd.jupyter.widget-view+json": {
       "model_id": "0603dbe2c5784c0ba5a006f041f77d94",
       "version_major": 2,
       "version_minor": 0
      },
      "text/plain": [
       "  0%|          | 0/9 [00:00<?, ?it/s]"
      ]
     },
     "metadata": {},
     "output_type": "display_data"
    },
    {
     "name": "stdout",
     "output_type": "stream",
     "text": [
      "Epoch 34, Loss: 1.687\n",
      "Multiclass Accuracy: tensor(0.2490)\n",
      "Multiclass AUPRC: tensor(0.0492)\n"
     ]
    },
    {
     "data": {
      "application/vnd.jupyter.widget-view+json": {
       "model_id": "f3f49d7b045042ffb245b559b95393e2",
       "version_major": 2,
       "version_minor": 0
      },
      "text/plain": [
       "  0%|          | 0/9 [00:00<?, ?it/s]"
      ]
     },
     "metadata": {},
     "output_type": "display_data"
    },
    {
     "name": "stdout",
     "output_type": "stream",
     "text": [
      "Epoch 35, Loss: 1.660\n",
      "Multiclass Accuracy: tensor(0.2524)\n",
      "Multiclass AUPRC: tensor(0.0498)\n"
     ]
    },
    {
     "data": {
      "application/vnd.jupyter.widget-view+json": {
       "model_id": "7491c3758c0849c29f7b6ee147a2160c",
       "version_major": 2,
       "version_minor": 0
      },
      "text/plain": [
       "  0%|          | 0/9 [00:00<?, ?it/s]"
      ]
     },
     "metadata": {},
     "output_type": "display_data"
    },
    {
     "name": "stdout",
     "output_type": "stream",
     "text": [
      "Epoch 36, Loss: 1.636\n",
      "Multiclass Accuracy: tensor(0.2561)\n",
      "Multiclass AUPRC: tensor(0.0504)\n"
     ]
    },
    {
     "data": {
      "application/vnd.jupyter.widget-view+json": {
       "model_id": "6e488dc867cc401bbe18ed893e082913",
       "version_major": 2,
       "version_minor": 0
      },
      "text/plain": [
       "  0%|          | 0/9 [00:00<?, ?it/s]"
      ]
     },
     "metadata": {},
     "output_type": "display_data"
    },
    {
     "name": "stdout",
     "output_type": "stream",
     "text": [
      "Epoch 37, Loss: 1.622\n",
      "Multiclass Accuracy: tensor(0.2596)\n",
      "Multiclass AUPRC: tensor(0.0511)\n"
     ]
    },
    {
     "data": {
      "application/vnd.jupyter.widget-view+json": {
       "model_id": "5f4e2292480940fa8fb953029baece54",
       "version_major": 2,
       "version_minor": 0
      },
      "text/plain": [
       "  0%|          | 0/9 [00:00<?, ?it/s]"
      ]
     },
     "metadata": {},
     "output_type": "display_data"
    },
    {
     "name": "stdout",
     "output_type": "stream",
     "text": [
      "Epoch 38, Loss: 1.593\n",
      "Multiclass Accuracy: tensor(0.2633)\n",
      "Multiclass AUPRC: tensor(0.0518)\n"
     ]
    },
    {
     "data": {
      "application/vnd.jupyter.widget-view+json": {
       "model_id": "22aa1c67013f4a26b60630eb28a651a8",
       "version_major": 2,
       "version_minor": 0
      },
      "text/plain": [
       "  0%|          | 0/9 [00:00<?, ?it/s]"
      ]
     },
     "metadata": {},
     "output_type": "display_data"
    }
   ],
   "source": [
    "from tqdm.auto import tqdm\n",
    "from torch import optim\n",
    "from torcheval.metrics import MulticlassAccuracy, MulticlassAUPRC, MulticlassConfusionMatrix\n",
    "\n",
    "# use masked gene expression and adjacent gene expression to predict the cell types\n",
    "device = torch.device(\"cuda:0\" if torch.cuda.is_available() else \"cpu\")\n",
    "cell_type_model.to(device)\n",
    "# Train the model\n",
    "epochs = 100\n",
    "\n",
    "multiclass_accuracy = MulticlassAccuracy()\n",
    "multiclass_auprc = MulticlassAUPRC(num_classes = 24)\n",
    "multiclass_confusion_matrix = MulticlassConfusionMatrix(num_classes = 24)\n",
    "\n",
    "for epoch in tqdm(range(epochs)):\n",
    "\n",
    "    cell_type_model.train()\n",
    "    all_accuracy = []\n",
    "    \n",
    "    running_loss = 0.0\n",
    "    for data in tqdm(train_loader):\n",
    "        \n",
    "        inputs = data.x.float().to(device)\n",
    "        labels = data.cell_type_masked.long().to(device)\n",
    "\n",
    "        # Zero the parameter gradients\n",
    "        optimizer.zero_grad()\n",
    "        \n",
    "        # Forward + backward + optimize\n",
    "        outputs = cell_type_model(inputs, data.edge_index.to(device))\n",
    "        #print(outputs.shape)\n",
    "        loss = criterion(outputs[data.mask], labels)\n",
    "        #print(outputs[data.mask].shape)\n",
    "        loss.backward()\n",
    "        optimizer.step()\n",
    "\n",
    "        # Compute additional metrics\n",
    "        predicted = outputs[data.mask].cpu()\n",
    "        multiclass_accuracy.update(predicted, labels.cpu())\n",
    "        multiclass_auprc.update(predicted, labels.cpu())\n",
    "        multiclass_confusion_matrix.update(predicted, labels.cpu())\n",
    "\n",
    "        # Print statistics\n",
    "        #accuracy = (predicted == labels.cpu()).sum().item() / len(labels)\n",
    "        #all_accuracy.append(accuracy)\n",
    "        running_loss += loss.item()\n",
    "\n",
    "    print(f'Epoch {epoch + 1}, Loss: {running_loss / len(train_loader):.3f}')\n",
    "    print('Multiclass Accuracy:', multiclass_accuracy.compute())\n",
    "    print('Multiclass AUPRC:', multiclass_auprc.compute())\n",
    "    #print('Multiclass Confusion Matrix:', multiclass_confusion_matrix.compute())\n",
    "\n",
    "    # Reset metrics after each epoch if needed\n",
    "    #multiclass_accuracy.reset()\n",
    "    #multiclass_auprc.reset()\n",
    "    #multiclass_confusion_matrix.reset()\n",
    "\n",
    "print('Training finished!')\n"
   ]
  },
  {
   "cell_type": "code",
   "execution_count": 98,
   "id": "fe90d975-22a9-4495-ab7e-88e8e27edba1",
   "metadata": {
    "tags": []
   },
   "outputs": [
    {
     "name": "stdout",
     "output_type": "stream",
     "text": [
      "True\n"
     ]
    }
   ],
   "source": [
    "def all_elements_same(temp):\n",
    "    if not temp:\n",
    "        return True  # An empty list is considered to have all elements the same\n",
    "    first_element = temp[0]\n",
    "    return all(element == first_element for element in temp)\n",
    "\n",
    "\n",
    "result = all_elements_same(temp)\n",
    "print(result)  # Output: True"
   ]
  },
  {
   "cell_type": "code",
   "execution_count": null,
   "id": "cde820ef-872e-4dc1-967c-7799920c3eb5",
   "metadata": {},
   "outputs": [],
   "source": [
    "from tqdm.auto import tqdm\n",
    "from torch import optim\n",
    "import torch\n",
    "\n",
    "device = torch.device(\"cuda:0\" if torch.cuda.is_available() else \"cpu\")\n",
    "model.to(device)\n",
    "# Train the model\n",
    "epochs = 10\n",
    "for epoch in tqdm(range(epochs)):\n",
    "\n",
    "    model.train()\n",
    "    all_accuracy = []\n",
    "\n",
    "    running_loss = 0.0\n",
    "    for data in tqdm(train_loader, leave=False):\n",
    "        img = data.image[0]\n",
    "        sub_adata = dataset_constructor.adata[dataset_constructor.adata.obs[\"section\"] == img]\n",
    "        inputs = torch.tensor(sub_adata.X.toarray(), dtype=torch.float).to(device)\n",
    "        # Convert the cell_type_masked to a flat list of labels\n",
    "        labels = torch.tensor([label_mapping[value] for value in data.cell_type_masked[0]], dtype=torch.long).to(device) # Make sure to use long data type\n",
    "\n",
    "        # Zero the parameter gradients\n",
    "        optimizer.zero_grad()\n",
    "        \n",
    "        # Forward + backward + optimize\n",
    "        outputs = model(inputs, data.edge_index.to(device))\n",
    "\n",
    "        loss = criterion(outputs[data.mask].float(), labels) # Removed the one-hot encoding part\n",
    "\n",
    "        loss.backward()\n",
    "        optimizer.step()\n",
    "\n",
    "        # Print statistics\n",
    "        accuracy = (outputs.argmax(dim=1) == labels).sum().item() / len(labels)\n",
    "        all_accuracy.append(accuracy)\n",
    "        running_loss += loss.item()\n",
    "\n",
    "    print(f'Epoch {epoch + 1}, Loss: {running_loss / len(train_loader):.3f}, accuracy: {sum(all_accuracy) / len(all_accuracy):.3f}')\n",
    "\n",
    "print('Training finished!')\n"
   ]
  },
  {
   "cell_type": "code",
   "execution_count": null,
   "id": "5a9d55fc-782f-4e5a-a410-104001fd68bc",
   "metadata": {},
   "outputs": [],
   "source": []
  },
  {
   "cell_type": "code",
   "execution_count": null,
   "id": "81c41924-a549-4702-85de-96ab3020b352",
   "metadata": {},
   "outputs": [],
   "source": []
  },
  {
   "cell_type": "code",
   "execution_count": null,
   "id": "2ebcead8-0fed-4239-b10d-f3448aa63ade",
   "metadata": {},
   "outputs": [],
   "source": []
  },
  {
   "cell_type": "code",
   "execution_count": null,
   "id": "47f97501-d334-4524-ad2b-3f09b36667e8",
   "metadata": {},
   "outputs": [],
   "source": []
  }
 ],
 "metadata": {
  "kernelspec": {
   "display_name": "Python 3 (ipykernel)",
   "language": "python",
   "name": "python3"
  },
  "language_info": {
   "codemirror_mode": {
    "name": "ipython",
    "version": 3
   },
   "file_extension": ".py",
   "mimetype": "text/x-python",
   "name": "python",
   "nbconvert_exporter": "python",
   "pygments_lexer": "ipython3",
   "version": "3.11.4"
  }
 },
 "nbformat": 4,
 "nbformat_minor": 5
}
