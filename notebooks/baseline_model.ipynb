{
 "cells": [
  {
   "cell_type": "code",
   "execution_count": 51,
   "metadata": {
    "collapsed": true,
    "ExecuteTime": {
     "end_time": "2023-07-24T12:19:04.896777Z",
     "start_time": "2023-07-24T12:19:04.892701Z"
    }
   },
   "outputs": [],
   "source": [
    "import time\n",
    "import numpy as np\n",
    "import scanpy as sc\n",
    "import squidpy as sq\n",
    "import torch\n",
    "import torch.nn as nn\n",
    "import torch.optim as optim\n",
    "from sklearn.metrics import r2_score\n",
    "from torch.utils.data import Dataset, random_split, DataLoader\n",
    "from tqdm.auto import tqdm"
   ]
  },
  {
   "cell_type": "code",
   "execution_count": 52,
   "outputs": [],
   "source": [
    "# function to get k lowest values from each row of a sparse matrix\n",
    "def get_k_lowest_values(matrix, k):\n",
    "    n_rows = matrix.shape[0]\n",
    "    k_lowest_indices = np.empty((n_rows, k), dtype=int)\n",
    "    for i in range(n_rows):\n",
    "        start = matrix.indptr[i]\n",
    "        end = matrix.indptr[i + 1]\n",
    "        row_data = matrix.data[start:end]\n",
    "        row_indices = matrix.indices[start:end]\n",
    "        k_smallest_indices = np.argpartition(row_data, k)[:k]\n",
    "        k_lowest_indices[i] = row_indices[k_smallest_indices]\n",
    "    return k_lowest_indices"
   ],
   "metadata": {
    "collapsed": false,
    "ExecuteTime": {
     "end_time": "2023-07-24T12:19:05.234461Z",
     "start_time": "2023-07-24T12:19:05.226492Z"
    }
   }
  },
  {
   "cell_type": "code",
   "execution_count": 53,
   "outputs": [],
   "source": [
    "adata = sc.read(\"../example_files/img_1199670929.h5ad\")"
   ],
   "metadata": {
    "collapsed": false,
    "ExecuteTime": {
     "end_time": "2023-07-24T12:19:06.070490Z",
     "start_time": "2023-07-24T12:19:05.486047Z"
    }
   }
  },
  {
   "cell_type": "code",
   "execution_count": 54,
   "outputs": [],
   "source": [
    "# now we have the adata object of just a single image\n",
    "sq.gr.spatial_neighbors(adata=adata, radius=1000, key_added=\"adjacency_matrix\", coord_type=\"generic\")"
   ],
   "metadata": {
    "collapsed": false,
    "ExecuteTime": {
     "end_time": "2023-07-24T12:20:21.822280Z",
     "start_time": "2023-07-24T12:19:06.075475Z"
    }
   }
  },
  {
   "cell_type": "code",
   "execution_count": 78,
   "outputs": [],
   "source": [
    "# we get the 5 closest cells to each cell\n",
    "number_of_cells_used = 10#\n",
    "closest_matrix = get_k_lowest_values(adata.obsp['adjacency_matrix_distances'], number_of_cells_used)"
   ],
   "metadata": {
    "collapsed": false,
    "ExecuteTime": {
     "end_time": "2023-07-24T12:33:13.769643Z",
     "start_time": "2023-07-24T12:33:12.148011Z"
    }
   }
  },
  {
   "cell_type": "code",
   "execution_count": 79,
   "outputs": [
    {
     "data": {
      "text/plain": "  0%|          | 0/26230 [00:00<?, ?it/s]",
      "application/vnd.jupyter.widget-view+json": {
       "version_major": 2,
       "version_minor": 0,
       "model_id": "b75379ae29db4c29ac214cad6fbac201"
      }
     },
     "metadata": {},
     "output_type": "display_data"
    }
   ],
   "source": [
    "# we construct dataset using closest 5 cells\n",
    "\n",
    "X = []\n",
    "y = []\n",
    "\n",
    "for i, cell in tqdm(enumerate(adata.X), total=len(adata)):\n",
    "    y.append(cell.toarray())\n",
    "    five_closest_cells = np.array([adata.X[index].toarray() for index in closest_matrix[i]])\n",
    "    X.append(five_closest_cells.flatten())\n",
    "\n",
    "X = np.array(X)\n",
    "y = np.concatenate(y)"
   ],
   "metadata": {
    "collapsed": false,
    "ExecuteTime": {
     "end_time": "2023-07-24T12:33:43.844883Z",
     "start_time": "2023-07-24T12:33:13.774456Z"
    }
   }
  },
  {
   "cell_type": "code",
   "execution_count": 80,
   "outputs": [
    {
     "name": "stdout",
     "output_type": "stream",
     "text": [
      "(26230, 5500) (26230, 550)\n"
     ]
    },
    {
     "data": {
      "text/plain": "array([0.        , 0.        , 0.        , ..., 0.        , 0.77972685,\n       0.        ])"
     },
     "metadata": {},
     "output_type": "display_data"
    },
    {
     "data": {
      "text/plain": "array([0.        , 0.        , 0.        , 2.27356674, 0.        ,\n       0.        , 0.        , 0.        , 1.54477479, 0.        ,\n       0.        , 0.        , 1.54477479, 0.        , 1.54477479,\n       0.        , 1.54477479, 0.        , 0.        , 0.        ,\n       0.        , 0.        , 0.        , 0.        , 5.36699669,\n       1.54477479, 1.54477479, 2.27356674, 4.03039626, 1.54477479,\n       0.        , 1.54477479, 2.75547635, 0.        , 0.        ,\n       0.        , 1.54477479, 0.        , 1.54477479, 0.        ,\n       0.        , 0.        , 0.        , 0.        , 3.85030902,\n       1.54477479, 0.        , 1.54477479, 1.54477479, 0.        ,\n       1.54477479, 2.27356674, 0.        , 4.03039626, 0.        ,\n       3.11608871, 0.        , 1.54477479, 0.        , 2.27356674,\n       0.        , 0.        , 0.        , 0.        , 1.54477479,\n       2.27356674, 0.        , 0.        , 1.54477479, 0.        ,\n       2.27356674, 2.27356674, 0.        , 0.        , 1.54477479,\n       0.        , 1.54477479, 0.        , 1.54477479, 0.        ,\n       5.61293129, 2.27356674, 3.64449213, 0.        , 0.        ,\n       1.54477479, 0.        , 1.54477479, 0.        , 0.        ,\n       0.        , 0.        , 0.        , 2.75547635, 0.        ,\n       0.        , 0.        , 0.        , 0.        , 0.        ,\n       0.        , 0.        , 0.        , 3.11608871, 0.        ,\n       0.        , 0.        , 2.27356674, 0.        , 0.        ,\n       1.54477479, 2.27356674, 0.        , 0.        , 0.        ,\n       0.        , 0.        , 0.        , 0.        , 1.54477479,\n       0.        , 0.        , 0.        , 0.        , 0.        ,\n       0.        , 0.        , 0.        , 3.11608871, 0.        ,\n       1.54477479, 0.        , 0.        , 2.75547635, 1.54477479,\n       0.        , 0.        , 0.        , 0.        , 2.27356674,\n       1.54477479, 1.54477479, 0.        , 0.        , 0.        ,\n       0.        , 0.        , 0.        , 0.        , 0.        ,\n       0.        , 1.54477479, 0.        , 3.40434812, 3.64449213,\n       1.54477479, 0.        , 0.        , 1.54477479, 0.        ,\n       3.11608871, 0.        , 3.85030902, 0.        , 0.        ,\n       0.        , 0.        , 0.        , 0.        , 1.54477479,\n       0.        , 0.        , 0.        , 0.        , 0.        ,\n       0.        , 0.        , 0.        , 4.03039626, 0.        ,\n       0.        , 0.        , 0.        , 2.27356674, 0.        ,\n       2.27356674, 0.        , 0.        , 0.        , 1.54477479,\n       0.        , 0.        , 0.        , 1.54477479, 2.27356674,\n       0.        , 0.        , 1.54477479, 1.54477479, 0.        ,\n       1.54477479, 0.        , 2.75547635, 0.        , 2.27356674,\n       0.        , 0.        , 0.        , 0.        , 0.        ,\n       1.54477479, 0.        , 0.        , 0.        , 0.        ,\n       0.        , 0.        , 2.27356674, 0.        , 1.54477479,\n       0.        , 0.        , 0.        , 2.27356674, 3.40434812,\n       2.27356674, 0.        , 0.        , 0.        , 0.        ,\n       0.        , 0.        , 3.85030902, 0.        , 0.        ,\n       0.        , 0.        , 0.        , 1.54477479, 0.        ,\n       0.        , 1.54477479, 0.        , 1.54477479, 0.        ,\n       0.        , 0.        , 1.54477479, 0.        , 0.        ,\n       1.54477479, 0.        , 2.27356674, 0.        , 0.        ,\n       0.        , 0.        , 0.        , 0.        , 0.        ,\n       0.        , 0.        , 0.        , 0.        , 0.        ,\n       0.        , 0.        , 0.        , 0.        , 0.        ,\n       0.        , 0.        , 2.75547635, 4.46554598, 1.54477479,\n       2.75547635, 0.        , 0.        , 0.        , 1.54477479,\n       2.75547635, 0.        , 0.        , 0.        , 0.        ,\n       0.        , 0.        , 1.54477479, 0.        , 0.        ,\n       0.        , 0.        , 0.        , 0.        , 0.        ,\n       0.        , 3.11608871, 0.        , 0.        , 0.        ,\n       2.27356674, 0.        , 1.54477479, 0.        , 0.        ,\n       0.        , 0.        , 0.        , 1.54477479, 0.        ,\n       0.        , 0.        , 0.        , 0.        , 0.        ,\n       0.        , 0.        , 0.        , 3.85030902, 1.54477479,\n       4.89548576, 1.54477479, 0.        , 0.        , 0.        ,\n       0.        , 0.        , 1.54477479, 0.        , 0.        ,\n       0.        , 3.11608871, 0.        , 3.40434812, 0.        ,\n       0.        , 0.        , 1.54477479, 2.75547635, 0.        ,\n       0.        , 0.        , 0.        , 0.        , 0.        ,\n       4.03039626, 3.40434812, 0.        , 0.        , 0.        ,\n       0.        , 0.        , 0.        , 0.        , 0.        ,\n       0.        , 0.        , 0.        , 0.        , 2.75547635,\n       0.        , 1.54477479, 1.54477479, 2.75547635, 1.54477479,\n       0.        , 3.85030902, 1.54477479, 0.        , 0.        ,\n       0.        , 0.        , 2.27356674, 0.        , 0.        ,\n       0.        , 0.        , 0.        , 0.        , 0.        ,\n       0.        , 1.54477479, 2.27356674, 0.        , 0.        ,\n       1.54477479, 0.        , 0.        , 0.        , 0.        ,\n       4.79940819, 0.        , 0.        , 0.        , 1.54477479,\n       0.        , 2.27356674, 0.        , 0.        , 0.        ,\n       0.        , 0.        , 0.        , 0.        , 0.        ,\n       0.        , 0.        , 0.        , 0.        , 0.        ,\n       0.        , 0.        , 0.        , 0.        , 0.        ,\n       0.        , 0.        , 3.40434812, 0.        , 0.        ,\n       0.        , 0.        , 0.        , 0.        , 0.        ,\n       1.54477479, 0.        , 0.        , 0.        , 0.        ,\n       0.        , 0.        , 0.        , 0.        , 0.        ,\n       0.        , 0.        , 0.        , 0.        , 0.        ,\n       0.        , 0.        , 0.        , 0.        , 0.        ,\n       0.        , 0.        , 0.        , 0.        , 0.        ,\n       4.79940819, 5.77326809, 0.        , 0.        , 0.        ,\n       0.        , 0.        , 0.        , 0.        , 1.54477479,\n       0.        , 0.        , 0.        , 0.        , 0.        ,\n       0.        , 0.        , 0.        , 0.        , 0.        ,\n       0.        , 0.        , 0.        , 0.        , 0.        ,\n       0.        , 0.        , 0.        , 0.        , 0.        ,\n       0.        , 0.        , 0.        , 0.        , 0.        ,\n       0.        , 0.        , 0.        , 0.        , 0.        ,\n       0.        , 0.        , 0.        , 0.        , 0.        ,\n       0.        , 0.        , 0.        , 0.        , 0.        ,\n       0.        , 0.        , 0.        , 0.        , 0.        ,\n       0.        , 0.        , 0.        , 0.        , 1.54477479,\n       1.54477479, 0.        , 1.54477479, 0.        , 0.        ,\n       0.        , 0.        , 0.        , 0.        , 0.        ,\n       0.        , 0.        , 0.        , 0.        , 1.54477479,\n       0.        , 0.        , 0.        , 0.        , 0.        ,\n       0.        , 1.54477479, 0.        , 0.        , 0.        ,\n       0.        , 0.        , 0.        , 0.        , 0.        ,\n       1.54477479, 0.        , 0.        , 0.        , 0.        ,\n       0.        , 0.        , 0.        , 0.        , 0.        ])"
     },
     "metadata": {},
     "output_type": "display_data"
    }
   ],
   "source": [
    "#X = np.concatenate(X)\n",
    "print(X.shape, y.shape)\n",
    "\n",
    "#display(X[0])\n",
    "#display(y[0])"
   ],
   "metadata": {
    "collapsed": false,
    "ExecuteTime": {
     "end_time": "2023-07-24T12:33:47.795373Z",
     "start_time": "2023-07-24T12:33:47.778089Z"
    }
   }
  },
  {
   "cell_type": "code",
   "execution_count": 88,
   "outputs": [],
   "source": [
    "# we use 80% of the data for training and 10% for validation and 10% for testing\n",
    "# Create a custom dataset\n",
    "class MyDataset(Dataset):\n",
    "    def __init__(self, X, y):\n",
    "        self.X = X\n",
    "        self.y = y\n",
    "\n",
    "    def __len__(self):\n",
    "        return len(self.y)\n",
    "\n",
    "    def __getitem__(self, idx):\n",
    "        return self.X[idx], self.y[idx]\n",
    "\n",
    "# Create the dataset and split it into training, validation, and testing sets\n",
    "X = torch.from_numpy(X).float()\n",
    "y = torch.from_numpy(y).float()\n",
    "dataset = MyDataset(X, y)\n",
    "train_size = int(0.8 * len(dataset))\n",
    "val_size = int(0.1 * len(dataset))\n",
    "test_size = len(dataset) - train_size - val_size\n",
    "train_set, val_set, test_set = random_split(dataset, [train_size, val_size, test_size])"
   ],
   "metadata": {
    "collapsed": false,
    "ExecuteTime": {
     "end_time": "2023-07-24T12:35:53.172425Z",
     "start_time": "2023-07-24T12:35:52.604091Z"
    }
   }
  },
  {
   "cell_type": "code",
   "execution_count": 89,
   "outputs": [],
   "source": [
    "# Create data loaders\n",
    "train_loader = DataLoader(train_set, batch_size=64, shuffle=True)\n",
    "val_loader = DataLoader(val_set, batch_size=64, shuffle=False)\n",
    "test_loader = DataLoader(test_set, batch_size=64, shuffle=False)"
   ],
   "metadata": {
    "collapsed": false,
    "ExecuteTime": {
     "end_time": "2023-07-24T12:35:53.204351Z",
     "start_time": "2023-07-24T12:35:53.176331Z"
    }
   }
  },
  {
   "cell_type": "code",
   "execution_count": 91,
   "outputs": [],
   "source": [
    "input_dim = number_of_cells_used * 550\n",
    "\n",
    "class LinearModel(nn.Module):\n",
    "    def __init__(self, input_dim, output_dim):\n",
    "        super(LinearModel, self).__init__()\n",
    "        self.model = nn.Sequential(\n",
    "            nn.Linear(input_dim, 5*550),\n",
    "            nn.ReLU(),\n",
    "            nn.Linear(5*550, 3*550),\n",
    "            nn.ReLU(),\n",
    "            nn.Linear(3*550, output_dim)\n",
    "        )\n",
    "\n",
    "\n",
    "    def forward(self, x):\n",
    "        return self.model(x)"
   ],
   "metadata": {
    "collapsed": false,
    "ExecuteTime": {
     "end_time": "2023-07-24T12:36:13.023707Z",
     "start_time": "2023-07-24T12:36:13.020037Z"
    }
   }
  },
  {
   "cell_type": "code",
   "execution_count": 92,
   "outputs": [
    {
     "name": "stdout",
     "output_type": "stream",
     "text": [
      "Epoch 1/100, Time: 0.82/81.91m Train Loss: 0.6106, Train R2: -0.0065, Val Loss: 0.5107, Val R2: 0.0826, ↓\n",
      "Epoch 2/100, Time: 1.68/82.97m Train Loss: 0.4982, Train R2: 0.0997, Val Loss: 0.4946, Val R2: 0.1050, ↓\n",
      "Epoch 3/100, Time: 2.36/76.75m Train Loss: 0.4864, Train R2: 0.1189, Val Loss: 0.4893, Val R2: 0.1150, ↓\n",
      "Epoch 4/100, Time: 3.17/76.57m Train Loss: 0.4796, Train R2: 0.1298, Val Loss: 0.4868, Val R2: 0.1189, ↓\n",
      "Epoch 5/100, Time: 3.95/75.53m Train Loss: 0.4745, Train R2: 0.1378, Val Loss: 0.4847, Val R2: 0.1212, ↓\n",
      "Epoch 6/100, Time: 4.77/75.16m Train Loss: 0.4697, Train R2: 0.1450, Val Loss: 0.4835, Val R2: 0.1240, ↓\n",
      "Epoch 7/100, Time: 5.81/77.65m Train Loss: 0.4648, Train R2: 0.1520, Val Loss: 0.4823, Val R2: 0.1257, ↓\n",
      "Epoch 8/100, Time: 6.80/78.65m Train Loss: 0.4602, Train R2: 0.1586, Val Loss: 0.4816, Val R2: 0.1271, ↓\n",
      "Epoch 9/100, Time: 7.84/79.72m Train Loss: 0.4554, Train R2: 0.1652, Val Loss: 0.4808, Val R2: 0.1287, ↓\n",
      "Epoch 10/100, Time: 8.79/79.58m Train Loss: 0.4503, Train R2: 0.1722, Val Loss: 0.4809, Val R2: 0.1284, ↑\n",
      "Epoch 11/100, Time: 9.88/80.43m Train Loss: 0.4449, Train R2: 0.1792, Val Loss: 0.4819, Val R2: 0.1274, ↑\n",
      "Epoch 12/100, Time: 11.10/81.94m Train Loss: 0.4392, Train R2: 0.1866, Val Loss: 0.4826, Val R2: 0.1267, ↑\n",
      "Epoch 13/100, Time: 12.03/81.12m Train Loss: 0.4333, Train R2: 0.1939, Val Loss: 0.4832, Val R2: 0.1265, ↑\n",
      "Epoch 14/100, Time: 12.86/79.59m Train Loss: 0.4269, Train R2: 0.2016, Val Loss: 0.4848, Val R2: 0.1255, ↑\n",
      "Early stopping after epoch 14\n",
      "Training finished! Best validation loss: 0.4808 at epoch: 9\n"
     ]
    }
   ],
   "source": [
    "# Set device for training, macbook\n",
    "device = torch.device('cuda' if torch.cuda.is_available() else 'cpu')\n",
    "\n",
    "# Create an instance of the model and move it to the device\n",
    "\n",
    "output_dim = 550\n",
    "\n",
    "# Create the model\n",
    "model = LinearModel(input_dim, output_dim).to(device)\n",
    "\n",
    "# Define loss function and optimizer\n",
    "criterion = nn.MSELoss()\n",
    "optimizer = optim.Adam(model.parameters(), lr=0.00001)\n",
    "\n",
    "# Training loop\n",
    "num_epochs = 100\n",
    "\n",
    "# store losses\n",
    "train_losses = []\n",
    "val_losses = []\n",
    "\n",
    "# store r2 scores\n",
    "train_r2_scores = []\n",
    "val_r2_scores = []\n",
    "\n",
    "best_val_loss = float('inf') # Set initial best validation loss to infinity\n",
    "patience = 5                # Number of epochs to wait for improvement in validation loss\n",
    "epochs_no_improve = 0        # Number of epochs with no improvement in validation loss\n",
    "best_epoch = 0               # Epoch at which we get the best validation loss\n",
    "\n",
    "# epoch training times\n",
    "epoch_times = []\n",
    "start_time = time.time()\n",
    "\n",
    "for epoch in range(num_epochs):\n",
    "\n",
    "    # store epoch start time\n",
    "    epoch_start_time = time.time()\n",
    "\n",
    "    model.train()  # Set the model to training mode\n",
    "    total_loss = 0\n",
    "    targets_list = []\n",
    "    outputs_list = []\n",
    "\n",
    "    for inputs, targets in train_loader:\n",
    "        inputs, targets = inputs.to(device), targets.to(device)\n",
    "\n",
    "        # Forward pass\n",
    "        outputs = model(inputs)\n",
    "\n",
    "        # Compute the loss\n",
    "        loss = criterion(outputs, targets)\n",
    "\n",
    "        # Backward pass and optimization\n",
    "        optimizer.zero_grad()\n",
    "        loss.backward()\n",
    "        optimizer.step()\n",
    "\n",
    "        total_loss += loss.item()\n",
    "        targets_list.append(targets.cpu().numpy())\n",
    "        outputs_list.append(outputs.cpu().detach().numpy())\n",
    "\n",
    "    # Compute and store the average training loss for this epoch\n",
    "    avg_train_loss = total_loss / len(train_loader)\n",
    "    train_losses.append(avg_train_loss)\n",
    "\n",
    "    # Calculate R2 score for the training set\n",
    "    train_targets_all = np.concatenate(targets_list)\n",
    "    train_outputs_all = np.concatenate(outputs_list)\n",
    "    train_r2 = r2_score(train_targets_all, train_outputs_all)\n",
    "    train_r2_scores.append(train_r2)\n",
    "\n",
    "    # Validation loop\n",
    "    model.eval()  # Set the model to evaluation mode\n",
    "    total_val_loss = 0\n",
    "    val_targets_list = []\n",
    "    val_outputs_list = []\n",
    "\n",
    "    with torch.no_grad():\n",
    "        for inputs, targets in val_loader:\n",
    "            inputs, targets = inputs.to(device), targets.to(device)\n",
    "\n",
    "            # Forward pass\n",
    "            outputs = model(inputs)\n",
    "\n",
    "            # Compute the validation loss\n",
    "            val_loss = criterion(outputs, targets)\n",
    "            total_val_loss += val_loss.item()\n",
    "\n",
    "            val_targets_list.append(targets.cpu().numpy())\n",
    "            val_outputs_list.append(outputs.cpu().detach().numpy())\n",
    "\n",
    "        # Compute and store the average validation loss for this epoch\n",
    "        avg_val_loss = total_val_loss / len(val_loader)\n",
    "        val_losses.append(avg_val_loss)\n",
    "\n",
    "        # Calculate R2 score for the validation set\n",
    "        val_targets_all = np.concatenate(val_targets_list)\n",
    "        val_outputs_all = np.concatenate(val_outputs_list)\n",
    "        val_r2 = r2_score(val_targets_all, val_outputs_all)\n",
    "        val_r2_scores.append(val_r2)\n",
    "\n",
    "        # record\n",
    "        epoch_times.append(time.time() - epoch_start_time)\n",
    "\n",
    "        # predict when training will be finished when early stopping is not triggered based on epoch times and remaining epochs\n",
    "        remaining_epoch = num_epochs - epoch\n",
    "        remaining_time = (np.mean(epoch_times) * remaining_epoch)/60\n",
    "\n",
    "        # Print training and validation results for this epoch\n",
    "        print(f\"Epoch {epoch + 1}/{num_epochs}, Time: {(time.time() - start_time)/60:.2f}/{remaining_time:.2f}m Train Loss: {avg_train_loss:.4f}, Train R2: {train_r2:.4f}, Val Loss: {avg_val_loss:.4f}, Val R2: {val_r2:.4f}, {'↓' if avg_val_loss < best_val_loss else '↑'}\")\n",
    "\n",
    "\n",
    "\n",
    "\n",
    "    # early stopping with patience\n",
    "    if avg_val_loss < best_val_loss:\n",
    "        best_val_loss = avg_val_loss\n",
    "        torch.save(model.state_dict(), \"../models/best_model.pt\")\n",
    "        best_epoch = epoch + 1\n",
    "        epochs_no_improve = 0\n",
    "    else:\n",
    "        epochs_no_improve += 1\n",
    "        if epochs_no_improve == patience:\n",
    "            print(f\"Early stopping after epoch {epoch + 1}\")\n",
    "            break\n",
    "\n",
    "print(f\"Training finished! Best validation loss: {best_val_loss:.4f} at epoch: {best_epoch}\")"
   ],
   "metadata": {
    "collapsed": false,
    "ExecuteTime": {
     "end_time": "2023-07-24T12:49:05.072153Z",
     "start_time": "2023-07-24T12:36:13.611002Z"
    }
   }
  },
  {
   "cell_type": "code",
   "execution_count": 76,
   "outputs": [
    {
     "name": "stdout",
     "output_type": "stream",
     "text": [
      "Test Loss: 0.4687, Test R2: 0.1351\n"
     ]
    }
   ],
   "source": [
    "# evaluate performance on test loader\n",
    "model.load_state_dict(torch.load(\"../models/best_model.pt\"))\n",
    "model.eval()\n",
    "test_targets_list = []\n",
    "test_outputs_list = []\n",
    "\n",
    "# loop over test loader and save r2 and loss\n",
    "with torch.no_grad():\n",
    "    for inputs, targets in test_loader:\n",
    "        inputs, targets = inputs.to(device), targets.to(device)\n",
    "\n",
    "        # Forward pass\n",
    "        outputs = model(inputs)\n",
    "\n",
    "        test_targets_list.append(targets.cpu().numpy())\n",
    "        test_outputs_list.append(outputs.cpu().detach().numpy())\n",
    "\n",
    "test_targets_all = np.concatenate(test_targets_list)\n",
    "test_outputs_all = np.concatenate(test_outputs_list)\n",
    "test_r2 = r2_score(test_targets_all, test_outputs_all)\n",
    "test_loss = criterion(torch.from_numpy(test_outputs_all), torch.from_numpy(test_targets_all)).item()\n",
    "print(f\"Test Loss: {test_loss:.4f}, Test R2: {test_r2:.4f}\")"
   ],
   "metadata": {
    "collapsed": false,
    "ExecuteTime": {
     "end_time": "2023-07-24T12:32:19.172512Z",
     "start_time": "2023-07-24T12:32:19.016973Z"
    }
   }
  },
  {
   "cell_type": "code",
   "execution_count": 77,
   "outputs": [
    {
     "data": {
      "text/plain": "<Figure size 1000x500 with 1 Axes>",
      "image/png": "[encoded data removed]"
     },
     "metadata": {},
     "output_type": "display_data"
    }
   ],
   "source": [
    "# plot train and validation loss using seaborn, mark best epoch with veritcal line\n",
    "import seaborn as sns\n",
    "import matplotlib.pyplot as plt\n",
    "sns.set_theme(style=\"darkgrid\")\n",
    "plt.figure(figsize=(10, 5))\n",
    "plt.plot(train_losses, label=\"Train Loss\")\n",
    "plt.plot(val_losses, label=\"Validation Loss\")\n",
    "plt.axvline(best_epoch, color=\"red\", label=f\"Best Epoch: {best_epoch}\")\n",
    "plt.xlabel(\"Epoch\")\n",
    "plt.ylabel(\"Loss\")\n",
    "plt.legend()\n",
    "plt.show()"
   ],
   "metadata": {
    "collapsed": false,
    "ExecuteTime": {
     "end_time": "2023-07-24T12:32:24.164923Z",
     "start_time": "2023-07-24T12:32:23.920861Z"
    }
   }
  },
  {
   "cell_type": "code",
   "execution_count": 93,
   "outputs": [
    {
     "name": "stdout",
     "output_type": "stream",
     "text": [
      "Baseline Loss: 0.6876, Baseline R2: 0.0000\n"
     ]
    }
   ],
   "source": [
    "# baseline model\n",
    "# we use the mean of the training set as the prediction for all test samples\n",
    "# we use the mean of the training set as the prediction for all test samples\n",
    "mean = np.mean(train_set.dataset.y.numpy(), axis=0)\n",
    "baseline_predictions = np.tile(mean, (len(test_set.dataset), 1))\n",
    "baseline_r2 = r2_score(test_set.dataset.y.numpy(), baseline_predictions)\n",
    "baseline_loss = criterion(torch.from_numpy(baseline_predictions), torch.from_numpy(test_set.dataset.y.numpy())).item()\n",
    "print(f\"Baseline Loss: {baseline_loss:.4f}, Baseline R2: {baseline_r2:.4f}\")"
   ],
   "metadata": {
    "collapsed": false,
    "ExecuteTime": {
     "end_time": "2023-07-24T16:35:33.321855Z",
     "start_time": "2023-07-24T16:35:32.853876Z"
    }
   }
  },
  {
   "cell_type": "code",
   "execution_count": null,
   "outputs": [],
   "source": [
    "# stats\n",
    "# using 5 closest cells: 0.11 R2 on test set\n",
    "# using 1 closest cells: 0.14 R2 on test set\n",
    "# using 2 closest cells: 0.135 R2 on test set\n",
    "# using 10 closest cells: x.xx R2 on test set"
   ],
   "metadata": {
    "collapsed": false
   }
  }
 ],
 "metadata": {
  "kernelspec": {
   "display_name": "Python 3",
   "language": "python",
   "name": "python3"
  },
  "language_info": {
   "codemirror_mode": {
    "name": "ipython",
    "version": 2
   },
   "file_extension": ".py",
   "mimetype": "text/x-python",
   "name": "python",
   "nbconvert_exporter": "python",
   "pygments_lexer": "ipython2",
   "version": "2.7.6"
  }
 },
 "nbformat": 4,
 "nbformat_minor": 0
}
