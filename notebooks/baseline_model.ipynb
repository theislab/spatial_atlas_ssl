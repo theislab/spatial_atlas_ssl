{
 "cells": [
  {
   "cell_type": "code",
   "execution_count": 42,
   "metadata": {
    "collapsed": true,
    "ExecuteTime": {
     "end_time": "2023-07-24T11:57:49.389625Z",
     "start_time": "2023-07-24T11:57:49.383991Z"
    }
   },
   "outputs": [],
   "source": [
    "import time\n",
    "import numpy as np\n",
    "import scanpy as sc\n",
    "import squidpy as sq\n",
    "import torch\n",
    "import torch.nn as nn\n",
    "import torch.optim as optim\n",
    "from sklearn.metrics import r2_score\n",
    "from torch.utils.data import Dataset, random_split, DataLoader\n",
    "from tqdm.auto import tqdm"
   ]
  },
  {
   "cell_type": "code",
   "execution_count": null,
   "outputs": [],
   "source": [
    "# function to get k lowest values from each row of a sparse matrix\n",
    "def get_k_lowest_values(matrix, k):\n",
    "    n_rows = matrix.shape[0]\n",
    "    k_lowest_indices = np.empty((n_rows, k), dtype=int)\n",
    "    for i in range(n_rows):\n",
    "        start = matrix.indptr[i]\n",
    "        end = matrix.indptr[i + 1]\n",
    "        row_data = matrix.data[start:end]\n",
    "        row_indices = matrix.indices[start:end]\n",
    "        k_smallest_indices = np.argpartition(row_data, k)[:k]\n",
    "        k_lowest_indices[i] = row_indices[k_smallest_indices]\n",
    "    return k_lowest_indices"
   ],
   "metadata": {
    "collapsed": false
   }
  },
  {
   "cell_type": "code",
   "execution_count": 2,
   "outputs": [],
   "source": [
    "adata = sc.read(\"../example_files/img_1199670929.h5ad\")"
   ],
   "metadata": {
    "collapsed": false,
    "ExecuteTime": {
     "end_time": "2023-07-24T11:26:42.046540Z",
     "start_time": "2023-07-24T11:26:41.575309Z"
    }
   }
  },
  {
   "cell_type": "code",
   "execution_count": 3,
   "outputs": [],
   "source": [
    "# now we have the adata object of just a single image\n",
    "sq.gr.spatial_neighbors(adata=adata, radius=1000, key_added=\"adjacency_matrix\", coord_type=\"generic\")"
   ],
   "metadata": {
    "collapsed": false,
    "ExecuteTime": {
     "end_time": "2023-07-24T11:28:02.177308Z",
     "start_time": "2023-07-24T11:26:42.047489Z"
    }
   }
  },
  {
   "cell_type": "code",
   "execution_count": 4,
   "outputs": [],
   "source": [
    "# we get the 5 closest cells to each cell\n",
    "number_of_cells_used = 5\n",
    "closest_matrix = get_k_lowest_values(adata.obsp['adjacency_matrix_distances'], number_of_cells_used)"
   ],
   "metadata": {
    "collapsed": false,
    "ExecuteTime": {
     "end_time": "2023-07-24T11:28:04.430846Z",
     "start_time": "2023-07-24T11:28:02.180126Z"
    }
   }
  },
  {
   "cell_type": "code",
   "execution_count": 21,
   "outputs": [
    {
     "data": {
      "text/plain": "  0%|          | 0/26230 [00:00<?, ?it/s]",
      "application/vnd.jupyter.widget-view+json": {
       "version_major": 2,
       "version_minor": 0,
       "model_id": "cecddb05b418490297278a3eb99fb3b3"
      }
     },
     "metadata": {},
     "output_type": "display_data"
    }
   ],
   "source": [
    "# we construct dataset using closest 5 cells\n",
    "\n",
    "X = []\n",
    "y = []\n",
    "\n",
    "for i, cell in tqdm(enumerate(adata.X), total=len(adata)):\n",
    "    y.append(cell.toarray())\n",
    "    five_closest_cells = np.array([adata.X[index].toarray() for index in closest_matrix[i]])\n",
    "    X.append(five_closest_cells.flatten())\n",
    "\n",
    "X = np.array(X)\n",
    "y = np.concatenate(y)"
   ],
   "metadata": {
    "collapsed": false,
    "ExecuteTime": {
     "end_time": "2023-07-24T11:33:46.565717Z",
     "start_time": "2023-07-24T11:33:28.349158Z"
    }
   }
  },
  {
   "cell_type": "code",
   "execution_count": 22,
   "outputs": [
    {
     "name": "stdout",
     "output_type": "stream",
     "text": [
      "(26230, 550) (26230, 2750)\n"
     ]
    }
   ],
   "source": [
    "#X = np.concatenate(X)\n",
    "print(y.shape, X.shape)"
   ],
   "metadata": {
    "collapsed": false,
    "ExecuteTime": {
     "end_time": "2023-07-24T11:33:46.571853Z",
     "start_time": "2023-07-24T11:33:46.568833Z"
    }
   }
  },
  {
   "cell_type": "code",
   "execution_count": 23,
   "outputs": [],
   "source": [
    "# we use 80% of the data for training and 10% for validation and 10% for testing\n",
    "# Create a custom dataset\n",
    "class MyDataset(Dataset):\n",
    "    def __init__(self, X, y):\n",
    "        self.X = X\n",
    "        self.y = y\n",
    "\n",
    "    def __len__(self):\n",
    "        return len(self.y)\n",
    "\n",
    "    def __getitem__(self, idx):\n",
    "        return self.X[idx], self.y[idx]\n",
    "\n",
    "# Create the dataset and split it into training, validation, and testing sets\n",
    "X = torch.from_numpy(X).float()\n",
    "y = torch.from_numpy(y).float()\n",
    "dataset = MyDataset(X, y)\n",
    "train_size = int(0.8 * len(dataset))\n",
    "val_size = int(0.1 * len(dataset))\n",
    "test_size = len(dataset) - train_size - val_size\n",
    "train_set, val_set, test_set = random_split(dataset, [train_size, val_size, test_size])"
   ],
   "metadata": {
    "collapsed": false,
    "ExecuteTime": {
     "end_time": "2023-07-24T11:33:46.775690Z",
     "start_time": "2023-07-24T11:33:46.577530Z"
    }
   }
  },
  {
   "cell_type": "code",
   "execution_count": 24,
   "outputs": [],
   "source": [
    "# Create data loaders\n",
    "train_loader = DataLoader(train_set, batch_size=64, shuffle=True)\n",
    "val_loader = DataLoader(val_set, batch_size=64, shuffle=False)\n",
    "test_loader = DataLoader(test_set, batch_size=64, shuffle=False)"
   ],
   "metadata": {
    "collapsed": false,
    "ExecuteTime": {
     "end_time": "2023-07-24T11:33:46.814770Z",
     "start_time": "2023-07-24T11:33:46.781120Z"
    }
   }
  },
  {
   "cell_type": "code",
   "execution_count": 25,
   "outputs": [],
   "source": [
    "class LinearModel(nn.Module):\n",
    "    def __init__(self, input_dim, output_dim):\n",
    "        super(LinearModel, self).__init__()\n",
    "        self.model = nn.Sequential(\n",
    "            nn.Linear(number_of_cells_used*550, 3*550),\n",
    "            nn.ReLU(),\n",
    "            nn.Linear(3*550, output_dim)\n",
    "        )\n",
    "\n",
    "\n",
    "    def forward(self, x):\n",
    "        return self.model(x)"
   ],
   "metadata": {
    "collapsed": false,
    "ExecuteTime": {
     "end_time": "2023-07-24T11:33:46.823148Z",
     "start_time": "2023-07-24T11:33:46.819188Z"
    }
   }
  },
  {
   "cell_type": "code",
   "execution_count": 48,
   "outputs": [
    {
     "name": "stdout",
     "output_type": "stream",
     "text": [
      "Epoch 1/100, Time: 0.21/20.78m Train Loss: 0.5283, Train R2: 0.0215, Val Loss: 0.4852, Val R2: 0.0827, ↓\n",
      "Epoch 2/100, Time: 0.41/20.45m Train Loss: 0.4774, Train R2: 0.1116, Val Loss: 0.4767, Val R2: 0.1069, ↓\n",
      "Epoch 3/100, Time: 0.61/20.01m Train Loss: 0.4623, Train R2: 0.1418, Val Loss: 0.4739, Val R2: 0.1152, ↓\n",
      "Epoch 4/100, Time: 0.81/19.70m Train Loss: 0.4494, Train R2: 0.1652, Val Loss: 0.4745, Val R2: 0.1195, ↑\n",
      "Epoch 5/100, Time: 1.02/19.48m Train Loss: 0.4366, Train R2: 0.1860, Val Loss: 0.4760, Val R2: 0.1196, ↑\n",
      "Epoch 6/100, Time: 1.22/19.24m Train Loss: 0.4227, Train R2: 0.2072, Val Loss: 0.4796, Val R2: 0.1174, ↑\n",
      "Epoch 7/100, Time: 1.42/19.05m Train Loss: 0.4081, Train R2: 0.2279, Val Loss: 0.4812, Val R2: 0.1162, ↑\n",
      "Epoch 8/100, Time: 1.62/18.82m Train Loss: 0.3920, Train R2: 0.2495, Val Loss: 0.4846, Val R2: 0.1145, ↑\n",
      "Epoch 9/100, Time: 1.82/18.61m Train Loss: 0.3760, Train R2: 0.2702, Val Loss: 0.4914, Val R2: 0.1072, ↑\n",
      "Epoch 10/100, Time: 2.03/18.46m Train Loss: 0.3597, Train R2: 0.2904, Val Loss: 0.4937, Val R2: 0.1050, ↑\n",
      "Epoch 11/100, Time: 2.25/18.43m Train Loss: 0.3444, Train R2: 0.3088, Val Loss: 0.4984, Val R2: 0.1008, ↑\n",
      "Epoch 12/100, Time: 2.46/18.20m Train Loss: 0.3307, Train R2: 0.3249, Val Loss: 0.5021, Val R2: 0.0976, ↑\n",
      "Epoch 13/100, Time: 2.67/18.06m Train Loss: 0.3178, Train R2: 0.3398, Val Loss: 0.5071, Val R2: 0.0927, ↑\n",
      "Early stopping after epoch 13\n",
      "Training finished! Best validation loss: 0.4739 at epoch: 3\n"
     ]
    }
   ],
   "source": [
    "# Set device for training, macbook\n",
    "device = torch.device('cuda' if torch.cuda.is_available() else 'cpu')\n",
    "\n",
    "# Create an instance of the model and move it to the device\n",
    "input_dim = 5 * 550\n",
    "output_dim = 550\n",
    "\n",
    "# Create the model\n",
    "model = LinearModel(input_dim, output_dim).to(device)\n",
    "\n",
    "# Define loss function and optimizer\n",
    "criterion = nn.MSELoss()\n",
    "optimizer = optim.Adam(model.parameters(), lr=0.0001)\n",
    "\n",
    "# Training loop\n",
    "num_epochs = 100\n",
    "\n",
    "# store losses\n",
    "train_losses = []\n",
    "val_losses = []\n",
    "\n",
    "# store r2 scores\n",
    "train_r2_scores = []\n",
    "val_r2_scores = []\n",
    "\n",
    "best_val_loss = float('inf') # Set initial best validation loss to infinity\n",
    "patience = 10                # Number of epochs to wait for improvement in validation loss\n",
    "epochs_no_improve = 0        # Number of epochs with no improvement in validation loss\n",
    "best_epoch = 0               # Epoch at which we get the best validation loss\n",
    "\n",
    "# epoch training times\n",
    "epoch_times = []\n",
    "start_time = time.time()\n",
    "\n",
    "for epoch in range(num_epochs):\n",
    "\n",
    "    # store epoch start time\n",
    "    epoch_start_time = time.time()\n",
    "\n",
    "    model.train()  # Set the model to training mode\n",
    "    total_loss = 0\n",
    "    targets_list = []\n",
    "    outputs_list = []\n",
    "\n",
    "    for inputs, targets in train_loader:\n",
    "        inputs, targets = inputs.to(device), targets.to(device)\n",
    "\n",
    "        # Forward pass\n",
    "        outputs = model(inputs)\n",
    "\n",
    "        # Compute the loss\n",
    "        loss = criterion(outputs, targets)\n",
    "\n",
    "        # Backward pass and optimization\n",
    "        optimizer.zero_grad()\n",
    "        loss.backward()\n",
    "        optimizer.step()\n",
    "\n",
    "        total_loss += loss.item()\n",
    "        targets_list.append(targets.cpu().numpy())\n",
    "        outputs_list.append(outputs.cpu().detach().numpy())\n",
    "\n",
    "    # Compute and store the average training loss for this epoch\n",
    "    avg_train_loss = total_loss / len(train_loader)\n",
    "    train_losses.append(avg_train_loss)\n",
    "\n",
    "    # Calculate R2 score for the training set\n",
    "    train_targets_all = np.concatenate(targets_list)\n",
    "    train_outputs_all = np.concatenate(outputs_list)\n",
    "    train_r2 = r2_score(train_targets_all, train_outputs_all)\n",
    "    train_r2_scores.append(train_r2)\n",
    "\n",
    "    # Validation loop\n",
    "    model.eval()  # Set the model to evaluation mode\n",
    "    total_val_loss = 0\n",
    "    val_targets_list = []\n",
    "    val_outputs_list = []\n",
    "\n",
    "    with torch.no_grad():\n",
    "        for inputs, targets in val_loader:\n",
    "            inputs, targets = inputs.to(device), targets.to(device)\n",
    "\n",
    "            # Forward pass\n",
    "            outputs = model(inputs)\n",
    "\n",
    "            # Compute the validation loss\n",
    "            val_loss = criterion(outputs, targets)\n",
    "            total_val_loss += val_loss.item()\n",
    "\n",
    "            val_targets_list.append(targets.cpu().numpy())\n",
    "            val_outputs_list.append(outputs.cpu().detach().numpy())\n",
    "\n",
    "        # Compute and store the average validation loss for this epoch\n",
    "        avg_val_loss = total_val_loss / len(val_loader)\n",
    "        val_losses.append(avg_val_loss)\n",
    "\n",
    "        # Calculate R2 score for the validation set\n",
    "        val_targets_all = np.concatenate(val_targets_list)\n",
    "        val_outputs_all = np.concatenate(val_outputs_list)\n",
    "        val_r2 = r2_score(val_targets_all, val_outputs_all)\n",
    "        val_r2_scores.append(val_r2)\n",
    "\n",
    "        # record\n",
    "        epoch_times.append(time.time() - epoch_start_time)\n",
    "\n",
    "        # predict when training will be finished when early stopping is not triggered based on epoch times and remaining epochs\n",
    "        remaining_epoch = num_epochs - epoch\n",
    "        remaining_time = (np.mean(epoch_times) * remaining_epoch)/60\n",
    "\n",
    "        # Print training and validation results for this epoch\n",
    "        print(f\"Epoch {epoch + 1}/{num_epochs}, Time: {(time.time() - start_time)/60:.2f}/{remaining_time:.2f}m Train Loss: {avg_train_loss:.4f}, Train R2: {train_r2:.4f}, Val Loss: {avg_val_loss:.4f}, Val R2: {val_r2:.4f}, {'↓' if avg_val_loss < best_val_loss else '↑'}\")\n",
    "\n",
    "\n",
    "\n",
    "\n",
    "    # early stopping with patience\n",
    "    if avg_val_loss < best_val_loss:\n",
    "        best_val_loss = avg_val_loss\n",
    "        torch.save(model.state_dict(), \"../models/best_model.pt\")\n",
    "        best_epoch = epoch + 1\n",
    "        epochs_no_improve = 0\n",
    "    else:\n",
    "        epochs_no_improve += 1\n",
    "        if epochs_no_improve == patience:\n",
    "            print(f\"Early stopping after epoch {epoch + 1}\")\n",
    "            break\n",
    "\n",
    "print(f\"Training finished! Best validation loss: {best_val_loss:.4f} at epoch: {best_epoch}\")"
   ],
   "metadata": {
    "collapsed": false,
    "ExecuteTime": {
     "end_time": "2023-07-24T12:18:12.257697Z",
     "start_time": "2023-07-24T12:15:32.059859Z"
    }
   }
  },
  {
   "cell_type": "code",
   "execution_count": 44,
   "outputs": [
    {
     "name": "stdout",
     "output_type": "stream",
     "text": [
      "Test Loss: 0.4773, Test R2: 0.1045\n"
     ]
    }
   ],
   "source": [
    "# evaluate performance on test loader\n",
    "model.load_state_dict(torch.load(\"../models/best_model.pt\"))\n",
    "model.eval()\n",
    "test_targets_list = []\n",
    "test_outputs_list = []\n",
    "\n",
    "# loop over test loader and save r2 and loss\n",
    "with torch.no_grad():\n",
    "    for inputs, targets in test_loader:\n",
    "        inputs, targets = inputs.to(device), targets.to(device)\n",
    "\n",
    "        # Forward pass\n",
    "        outputs = model(inputs)\n",
    "\n",
    "        test_targets_list.append(targets.cpu().numpy())\n",
    "        test_outputs_list.append(outputs.cpu().detach().numpy())\n",
    "\n",
    "test_targets_all = np.concatenate(test_targets_list)\n",
    "test_outputs_all = np.concatenate(test_outputs_list)\n",
    "test_r2 = r2_score(test_targets_all, test_outputs_all)\n",
    "test_loss = criterion(torch.from_numpy(test_outputs_all), torch.from_numpy(test_targets_all)).item()\n",
    "print(f\"Test Loss: {test_loss:.4f}, Test R2: {test_r2:.4f}\")"
   ],
   "metadata": {
    "collapsed": false,
    "ExecuteTime": {
     "end_time": "2023-07-24T12:09:59.869565Z",
     "start_time": "2023-07-24T12:09:59.298359Z"
    }
   }
  },
  {
   "cell_type": "code",
   "execution_count": 45,
   "outputs": [
    {
     "data": {
      "text/plain": "<Figure size 1000x500 with 1 Axes>",
      "image/png": "[encoded data removed]"
     },
     "metadata": {},
     "output_type": "display_data"
    }
   ],
   "source": [
    "# plot train and validation loss using seaborn, mark best epoch with veritcal line\n",
    "import seaborn as sns\n",
    "import matplotlib.pyplot as plt\n",
    "sns.set_theme(style=\"darkgrid\")\n",
    "plt.figure(figsize=(10, 5))\n",
    "plt.plot(train_losses, label=\"Train Loss\")\n",
    "plt.plot(val_losses, label=\"Validation Loss\")\n",
    "plt.axvline(best_epoch, color=\"red\", label=f\"Best Epoch: {best_epoch}\")\n",
    "plt.xlabel(\"Epoch\")\n",
    "plt.ylabel(\"Loss\")\n",
    "plt.legend()\n",
    "plt.show()"
   ],
   "metadata": {
    "collapsed": false,
    "ExecuteTime": {
     "end_time": "2023-07-24T12:10:02.258931Z",
     "start_time": "2023-07-24T12:10:01.594218Z"
    }
   }
  },
  {
   "cell_type": "code",
   "execution_count": 34,
   "outputs": [
    {
     "name": "stdout",
     "output_type": "stream",
     "text": [
      "↑↓\n"
     ]
    }
   ],
   "source": [
    "print(\"↑↓\")"
   ],
   "metadata": {
    "collapsed": false,
    "ExecuteTime": {
     "end_time": "2023-07-24T11:50:09.356581Z",
     "start_time": "2023-07-24T11:50:09.349351Z"
    }
   }
  },
  {
   "cell_type": "code",
   "execution_count": null,
   "outputs": [],
   "source": [],
   "metadata": {
    "collapsed": false
   }
  }
 ],
 "metadata": {
  "kernelspec": {
   "display_name": "Python 3",
   "language": "python",
   "name": "python3"
  },
  "language_info": {
   "codemirror_mode": {
    "name": "ipython",
    "version": 2
   },
   "file_extension": ".py",
   "mimetype": "text/x-python",
   "name": "python",
   "nbconvert_exporter": "python",
   "pygments_lexer": "ipython2",
   "version": "2.7.6"
  }
 },
 "nbformat": 4,
 "nbformat_minor": 0
}
