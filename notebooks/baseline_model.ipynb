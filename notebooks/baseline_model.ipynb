{
 "cells": [
  {
   "cell_type": "code",
   "execution_count": 46,
   "metadata": {
    "collapsed": true,
    "ExecuteTime": {
     "end_time": "2023-07-24T11:21:40.847207Z",
     "start_time": "2023-07-24T11:21:40.836387Z"
    }
   },
   "outputs": [],
   "source": [
    "import numpy as np\n",
    "import scanpy as sc\n",
    "import squidpy as sq\n",
    "from tqdm.auto import tqdm\n",
    "from torch.utils.data import Dataset, random_split, DataLoader\n",
    "import torch.nn as nn"
   ]
  },
  {
   "cell_type": "code",
   "execution_count": 27,
   "outputs": [],
   "source": [
    "adata = sc.read(\"../example_files/img_1199670929.h5ad\")"
   ],
   "metadata": {
    "collapsed": false,
    "ExecuteTime": {
     "end_time": "2023-07-24T10:17:29.181184Z",
     "start_time": "2023-07-24T10:17:28.527267Z"
    }
   }
  },
  {
   "cell_type": "code",
   "execution_count": 28,
   "outputs": [],
   "source": [
    "# now we have the adata object of just a single image\n",
    "sq.gr.spatial_neighbors(adata=adata, radius=1000, key_added=\"adjacency_matrix\", coord_type=\"generic\")"
   ],
   "metadata": {
    "collapsed": false,
    "ExecuteTime": {
     "end_time": "2023-07-24T10:18:55.343502Z",
     "start_time": "2023-07-24T10:17:29.667040Z"
    }
   }
  },
  {
   "cell_type": "code",
   "execution_count": 29,
   "outputs": [],
   "source": [
    "# function to get k lowest values from each row of a sparse matrix\n",
    "def get_k_lowest_values(matrix, k):\n",
    "    n_rows = matrix.shape[0]\n",
    "    k_lowest_indices = np.empty((n_rows, k), dtype=int)\n",
    "    for i in range(n_rows):\n",
    "        start = matrix.indptr[i]\n",
    "        end = matrix.indptr[i + 1]\n",
    "        row_data = matrix.data[start:end]\n",
    "        row_indices = matrix.indices[start:end]\n",
    "        k_smallest_indices = np.argpartition(row_data, k)[:k]\n",
    "        k_lowest_indices[i] = row_indices[k_smallest_indices]\n",
    "    return k_lowest_indices\n",
    "\n",
    "closest_matrix = get_k_lowest_values(adata.obsp['adjacency_matrix_distances'], 5)"
   ],
   "metadata": {
    "collapsed": false,
    "ExecuteTime": {
     "end_time": "2023-07-24T10:18:57.257075Z",
     "start_time": "2023-07-24T10:18:55.400399Z"
    }
   }
  },
  {
   "cell_type": "code",
   "execution_count": 30,
   "outputs": [
    {
     "data": {
      "text/plain": "  0%|          | 0/26230 [00:00<?, ?it/s]",
      "application/vnd.jupyter.widget-view+json": {
       "version_major": 2,
       "version_minor": 0,
       "model_id": "2085f7fcafa946c9b20d1488eafa14cb"
      }
     },
     "metadata": {},
     "output_type": "display_data"
    }
   ],
   "source": [
    "# we construct dataset using closest 5 cells\n",
    "\n",
    "X = []\n",
    "y = []\n",
    "\n",
    "for i, cell in tqdm(enumerate(adata.X), total=len(adata)):\n",
    "    y.append(cell.toarray())\n",
    "    five_closest_cells = np.array([adata.X[index].toarray() for index in closest_matrix[i]])\n",
    "    X.append(five_closest_cells.flatten())\n",
    "\n",
    "X = np.array(X)\n",
    "y = np.concatenate(y)"
   ],
   "metadata": {
    "collapsed": false,
    "ExecuteTime": {
     "end_time": "2023-07-24T10:19:15.760158Z",
     "start_time": "2023-07-24T10:18:57.308348Z"
    }
   }
  },
  {
   "cell_type": "code",
   "execution_count": 32,
   "outputs": [
    {
     "name": "stdout",
     "output_type": "stream",
     "text": [
      "(26230, 550) (26230, 2750)\n",
      "(26230, 550) (26230, 2750)\n"
     ]
    }
   ],
   "source": [
    "#X = np.concatenate(X)\n",
    "print(y.shape, X.shape)"
   ],
   "metadata": {
    "collapsed": false,
    "ExecuteTime": {
     "end_time": "2023-07-24T10:19:15.776846Z",
     "start_time": "2023-07-24T10:19:15.765320Z"
    }
   }
  },
  {
   "cell_type": "code",
   "execution_count": 33,
   "outputs": [],
   "source": [
    "# we use 80% of the data for training and 10% for validation and 10% for testing\n",
    "# Create a custom dataset\n",
    "class MyDataset(Dataset):\n",
    "    def __init__(self, X, y):\n",
    "        self.X = X\n",
    "        self.y = X\n",
    "\n",
    "    def __len__(self):\n",
    "        return len(self.y)\n",
    "\n",
    "    def __getitem__(self, idx):\n",
    "        return self.X[idx], self.y[idx]\n",
    "\n",
    "# Create the dataset and split it into training, validation, and testing sets\n",
    "dataset = MyDataset(X, y)\n",
    "train_size = int(0.8 * len(dataset))\n",
    "val_size = int(0.1 * len(dataset))\n",
    "test_size = len(dataset) - train_size - val_size\n",
    "train_set, val_set, test_set = random_split(dataset, [train_size, val_size, test_size])"
   ],
   "metadata": {
    "collapsed": false,
    "ExecuteTime": {
     "end_time": "2023-07-24T10:19:15.938004Z",
     "start_time": "2023-07-24T10:19:15.784815Z"
    }
   }
  },
  {
   "cell_type": "code",
   "execution_count": 34,
   "outputs": [],
   "source": [
    "# Create data loaders\n",
    "train_loader = DataLoader(train_set, batch_size=64, shuffle=True)\n",
    "val_loader = DataLoader(val_set, batch_size=64, shuffle=False)\n",
    "test_loader = DataLoader(test_set, batch_size=64, shuffle=False)"
   ],
   "metadata": {
    "collapsed": false,
    "ExecuteTime": {
     "end_time": "2023-07-24T10:19:15.954584Z",
     "start_time": "2023-07-24T10:19:15.944464Z"
    }
   }
  },
  {
   "cell_type": "code",
   "execution_count": 43,
   "outputs": [],
   "source": [
    "class LinearModel(nn.Module):\n",
    "    def __init__(self, input_dim, output_dim):\n",
    "        super(LinearModel, self).__init__()\n",
    "        self.linear = nn.Linear(input_dim, output_dim)\n",
    "\n",
    "    def forward(self, x):\n",
    "        return self.linear(x)"
   ],
   "metadata": {
    "collapsed": false,
    "ExecuteTime": {
     "end_time": "2023-07-24T11:15:15.293831Z",
     "start_time": "2023-07-24T11:15:15.289336Z"
    }
   }
  },
  {
   "cell_type": "code",
   "execution_count": 44,
   "outputs": [
    {
     "name": "stdout",
     "output_type": "stream",
     "text": [
      "Epoch 1/100, Train Loss: 0.5307, Train R2: 0.0107, Val Loss: 0.4962, Val R2: 0.0788\n",
      "Epoch 2/100, Train Loss: 0.4782, Train R2: 0.1058, Val Loss: 0.4874, Val R2: 0.1019\n",
      "Epoch 3/100, Train Loss: 0.4635, Train R2: 0.1364, Val Loss: 0.4846, Val R2: 0.1118\n",
      "Epoch 4/100, Train Loss: 0.4517, Train R2: 0.1586, Val Loss: 0.4829, Val R2: 0.1189\n",
      "Epoch 5/100, Train Loss: 0.4404, Train R2: 0.1779, Val Loss: 0.4825, Val R2: 0.1229\n",
      "Epoch 6/100, Train Loss: 0.4283, Train R2: 0.1968, Val Loss: 0.4861, Val R2: 0.1205\n",
      "Epoch 7/100, Train Loss: 0.4156, Train R2: 0.2153, Val Loss: 0.4876, Val R2: 0.1212\n",
      "Epoch 8/100, Train Loss: 0.4018, Train R2: 0.2345, Val Loss: 0.4909, Val R2: 0.1192\n",
      "Epoch 9/100, Train Loss: 0.3868, Train R2: 0.2542, Val Loss: 0.4943, Val R2: 0.1162\n",
      "Epoch 10/100, Train Loss: 0.3718, Train R2: 0.2730, Val Loss: 0.5002, Val R2: 0.1098\n",
      "Epoch 11/100, Train Loss: 0.3577, Train R2: 0.2901, Val Loss: 0.5009, Val R2: 0.1098\n",
      "Epoch 12/100, Train Loss: 0.3437, Train R2: 0.3068, Val Loss: 0.5053, Val R2: 0.1070\n",
      "Epoch 13/100, Train Loss: 0.3313, Train R2: 0.3210, Val Loss: 0.5093, Val R2: 0.1032\n",
      "Epoch 14/100, Train Loss: 0.3202, Train R2: 0.3337, Val Loss: 0.5135, Val R2: 0.0995\n",
      "Epoch 15/100, Train Loss: 0.3100, Train R2: 0.3454, Val Loss: 0.5155, Val R2: 0.0976\n",
      "Early stopping at epoch 15\n"
     ]
    }
   ],
   "source": [],
   "metadata": {
    "collapsed": false,
    "ExecuteTime": {
     "end_time": "2023-07-24T11:19:33.433817Z",
     "start_time": "2023-07-24T11:15:15.488525Z"
    }
   }
  },
  {
   "cell_type": "code",
   "execution_count": 45,
   "outputs": [
    {
     "name": "stdout",
     "output_type": "stream",
     "text": [
      "Test Loss: 0.4739, Test R2: 0.1200\n"
     ]
    }
   ],
   "source": [],
   "metadata": {
    "collapsed": false,
    "ExecuteTime": {
     "end_time": "2023-07-24T11:19:33.853922Z",
     "start_time": "2023-07-24T11:19:33.447838Z"
    }
   }
  }
 ],
 "metadata": {
  "kernelspec": {
   "display_name": "Python 3",
   "language": "python",
   "name": "python3"
  },
  "language_info": {
   "codemirror_mode": {
    "name": "ipython",
    "version": 2
   },
   "file_extension": ".py",
   "mimetype": "text/x-python",
   "name": "python",
   "nbconvert_exporter": "python",
   "pygments_lexer": "ipython2",
   "version": "2.7.6"
  }
 },
 "nbformat": 4,
 "nbformat_minor": 0
}
