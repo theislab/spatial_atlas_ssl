{
 "cells": [
  {
   "cell_type": "code",
   "execution_count": 23,
   "metadata": {
    "tags": [],
    "ExecuteTime": {
     "end_time": "2023-07-28T11:21:05.596153Z",
     "start_time": "2023-07-28T11:21:05.540660Z"
    }
   },
   "outputs": [],
   "source": [
    "import networkx as nx\n",
    "import numpy as np\n",
    "import scanpy as sc\n",
    "import squidpy as sq\n",
    "from sklearn.metrics import r2_score\n",
    "from torch_geometric.nn import GCNConv, Sequential\n",
    "from torch_geometric.data import Data   # Create data containers\n",
    "from torch_geometric.utils import from_networkx\n",
    "\n",
    "import torch\n",
    "from torch.utils.data import Dataset\n",
    "from torch_geometric.data import Data\n",
    "from torch_geometric.utils import subgraph\n",
    "from torch_geometric.loader import DataLoader\n",
    "from torch_geometric.utils.convert import from_scipy_sparse_matrix\n",
    "from tqdm.auto import tqdm\n",
    "\n",
    "from torch_geometric.data import Dataset\n",
    "import torch_geometric.transforms as T"
   ]
  },
  {
   "cell_type": "code",
   "execution_count": 24,
   "metadata": {
    "collapsed": false,
    "jupyter": {
     "outputs_hidden": false
    },
    "tags": [],
    "ExecuteTime": {
     "end_time": "2023-07-28T11:21:07.517493Z",
     "start_time": "2023-07-28T11:21:05.914685Z"
    }
   },
   "outputs": [],
   "source": [
    "adata = sc.read(\"../example_files/img_1199670929.h5ad\")"
   ]
  },
  {
   "cell_type": "code",
   "execution_count": 25,
   "outputs": [],
   "source": [
    "class CustomDataset(Dataset):\n",
    "    def __init__(self, data):\n",
    "        super(CustomDataset, self).__init__()\n",
    "        self.data = data\n",
    "\n",
    "    def len(self):\n",
    "        # Return the number of nodes in the dataset.\n",
    "        return self.data.x.shape[0]\n",
    "\n",
    "    def get(self, idx):\n",
    "        # Get the data object at index idx.\n",
    "\n",
    "        # calculate the subgraph\n",
    "        subset, edge_index, mapping, edge_mask =  k_hop_subgraph(node_idx=[idx], edge_index=self.data.edge_index, num_hops=1, relabel_nodes=True)\n",
    "\n",
    "        # subset features\n",
    "        subgraph_data = self.data.x[subset]\n",
    "\n",
    "        # calculate new index of center node\n",
    "        new_index = torch.nonzero(subset == idx).squeeze()\n",
    "\n",
    "        # set center node feature to 0\n",
    "        subgraph_data[new_index] = 0\n",
    "\n",
    "        # create mask for the center node, to calculate the loss only on the center node\n",
    "        mask = torch.ones(subgraph_data.shape[0], dtype=torch.bool)\n",
    "        mask[new_index] = False\n",
    "\n",
    "        return Data(x=subgraph_data, edge_index=edge_index, y=self.data.x[idx].view(1, 550), mask=mask)"
   ],
   "metadata": {
    "collapsed": false,
    "ExecuteTime": {
     "end_time": "2023-07-28T11:21:07.532255Z",
     "start_time": "2023-07-28T11:21:07.527974Z"
    }
   }
  },
  {
   "cell_type": "code",
   "execution_count": 26,
   "metadata": {
    "tags": [],
    "ExecuteTime": {
     "end_time": "2023-07-28T11:21:07.571839Z",
     "start_time": "2023-07-28T11:21:07.546170Z"
    }
   },
   "outputs": [
    {
     "data": {
      "text/plain": "''"
     },
     "execution_count": 26,
     "metadata": {},
     "output_type": "execute_result"
    }
   ],
   "source": [
    "''#adata.obs.class_id_label"
   ]
  },
  {
   "cell_type": "code",
   "execution_count": 27,
   "metadata": {
    "collapsed": false,
    "jupyter": {
     "outputs_hidden": false
    },
    "tags": [],
    "ExecuteTime": {
     "end_time": "2023-07-28T11:21:11.779814Z",
     "start_time": "2023-07-28T11:21:07.919483Z"
    }
   },
   "outputs": [
    {
     "name": "stdout",
     "output_type": "stream",
     "text": [
      "mean node degree: 3.9\n"
     ]
    }
   ],
   "source": [
    "sq.gr.spatial_neighbors(adata=adata, radius=20, key_added=\"adjacency_matrix\", coord_type=\"generic\")\n",
    "edge_index, edge_weight = from_scipy_sparse_matrix(adata.obsp[\"adjacency_matrix_connectivities\"])\n",
    "x = torch.tensor(adata.X.toarray(), dtype=torch.double)\n",
    "data = Data(x=x, edge_index=edge_index)\n",
    "print(f\"mean node degree: {edge_index.shape[1]/len(adata):.1f}\")"
   ]
  },
  {
   "cell_type": "code",
   "execution_count": 17,
   "outputs": [
    {
     "data": {
      "text/plain": "26230"
     },
     "execution_count": 17,
     "metadata": {},
     "output_type": "execute_result"
    }
   ],
   "source": [
    "data.num_nodes"
   ],
   "metadata": {
    "collapsed": false,
    "ExecuteTime": {
     "end_time": "2023-07-28T11:20:51.712058Z",
     "start_time": "2023-07-28T11:20:51.665768Z"
    }
   }
  },
  {
   "cell_type": "code",
   "execution_count": 18,
   "outputs": [],
   "source": [
    "transform = T.Compose([T.RootedEgoNets(1)])"
   ],
   "metadata": {
    "collapsed": false,
    "ExecuteTime": {
     "end_time": "2023-07-28T11:20:51.859584Z",
     "start_time": "2023-07-28T11:20:51.707295Z"
    }
   }
  },
  {
   "cell_type": "code",
   "execution_count": 28,
   "metadata": {
    "collapsed": false,
    "jupyter": {
     "outputs_hidden": false
    },
    "tags": [],
    "ExecuteTime": {
     "end_time": "2023-07-28T11:21:14.241241Z",
     "start_time": "2023-07-28T11:21:14.205842Z"
    }
   },
   "outputs": [],
   "source": [
    "\n",
    "#data.x.shape[0]\n",
    "dataset = CustomDataset(data=data)\n",
    "loader = DataLoader(dataset, batch_size=32, shuffle=True)\n",
    "#data\n",
    "#edge_index\n"
   ]
  },
  {
   "cell_type": "code",
   "execution_count": 20,
   "outputs": [
    {
     "name": "stdout",
     "output_type": "stream",
     "text": [
      "DataBatch(x=[142, 550], edge_index=[2, 512], y=[32, 550], center_node_idx=[32], mask=[142], batch=[142], ptr=[33])\n"
     ]
    }
   ],
   "source": [
    "from torch_geometric.utils import k_hop_subgraph\n",
    "\n",
    "for datasa in loader:\n",
    "    print(datasa)\n",
    "    break\n",
    "\n",
    "\n",
    "#k_hop_subgraph(node_idx=[14097], edge_index=data#.edge_index, num_hops=1)#, 1, data.x.shape[0], relabel_nodes=True)\n",
    "\n",
    "#RootedSubgraphDataBatch"
   ],
   "metadata": {
    "collapsed": false,
    "ExecuteTime": {
     "end_time": "2023-07-28T11:20:51.996578Z",
     "start_time": "2023-07-28T11:20:51.769601Z"
    }
   }
  },
  {
   "cell_type": "code",
   "execution_count": 21,
   "outputs": [],
   "source": [
    "#loader = DataLoader([data], batch_size=32, shuffle=True, transform=transform)"
   ],
   "metadata": {
    "collapsed": false,
    "ExecuteTime": {
     "end_time": "2023-07-28T11:20:51.996986Z",
     "start_time": "2023-07-28T11:20:51.918171Z"
    }
   }
  },
  {
   "cell_type": "code",
   "execution_count": 21,
   "metadata": {
    "collapsed": false,
    "jupyter": {
     "outputs_hidden": false
    },
    "tags": [],
    "ExecuteTime": {
     "end_time": "2023-07-28T11:20:51.997141Z",
     "start_time": "2023-07-28T11:20:51.931913Z"
    }
   },
   "outputs": [],
   "source": []
  },
  {
   "cell_type": "code",
   "execution_count": 7,
   "metadata": {
    "ExecuteTime": {
     "end_time": "2023-07-25T09:05:32.105376Z",
     "start_time": "2023-07-25T09:05:32.051276Z"
    },
    "collapsed": false,
    "jupyter": {
     "outputs_hidden": false
    },
    "tags": []
   },
   "outputs": [],
   "source": [
    "# we want to create small subgraph using each node as the center"
   ]
  },
  {
   "cell_type": "code",
   "execution_count": 8,
   "metadata": {
    "ExecuteTime": {
     "end_time": "2023-07-25T09:17:54.336465Z",
     "start_time": "2023-07-25T09:17:53.662441Z"
    },
    "collapsed": false,
    "jupyter": {
     "outputs_hidden": false
    },
    "tags": []
   },
   "outputs": [],
   "source": [
    "# Create a large graph\n",
    "G = nx.Graph()\n",
    "\n",
    "# Add nodes with features to the graph\n",
    "for i, features in enumerate(adata.X.toarray()):\n",
    "    G.add_node(i, features=features)\n",
    "\n",
    "# Add edges to the graph\n",
    "G.add_edges_from(edge_index.t().tolist())"
   ]
  },
  {
   "cell_type": "code",
   "execution_count": 9,
   "metadata": {
    "ExecuteTime": {
     "end_time": "2023-07-25T09:18:00.640450Z",
     "start_time": "2023-07-25T09:17:54.863962Z"
    },
    "collapsed": false,
    "jupyter": {
     "outputs_hidden": false
    },
    "tags": []
   },
   "outputs": [
    {
     "name": "stderr",
     "output_type": "stream",
     "text": [
      "100%|██████████| 26230/26230 [00:04<00:00, 6029.69it/s] \n"
     ]
    }
   ],
   "source": [
    "# create subgraphs from each node of G using networkx\n",
    "subgraphs = []\n",
    "for node in tqdm(G.nodes()):\n",
    "    subgraphs.append(nx.ego_graph(G, node, radius = 1))"
   ]
  },
  {
   "cell_type": "code",
   "execution_count": 43,
   "metadata": {
    "ExecuteTime": {
     "end_time": "2023-07-25T09:18:00.692710Z",
     "start_time": "2023-07-25T09:18:00.657722Z"
    },
    "collapsed": false,
    "jupyter": {
     "outputs_hidden": false
    }
   },
   "outputs": [
    {
     "data": {
      "text/plain": [
       "4.924590163934426"
      ]
     },
     "execution_count": 43,
     "metadata": {},
     "output_type": "execute_result"
    }
   ],
   "source": [
    "# mean number of nodes per subgraph\n",
    "np.mean([graph.number_of_nodes() for graph in subgraphs])"
   ]
  },
  {
   "cell_type": "code",
   "execution_count": 44,
   "metadata": {
    "ExecuteTime": {
     "end_time": "2023-07-25T09:18:00.693056Z",
     "start_time": "2023-07-25T09:18:00.665083Z"
    },
    "collapsed": false,
    "jupyter": {
     "outputs_hidden": false
    }
   },
   "outputs": [],
   "source": [
    "#torch.tensor(list(subgraphs[0].edges)).t()"
   ]
  },
  {
   "cell_type": "code",
   "execution_count": 22,
   "metadata": {
    "collapsed": false,
    "jupyter": {
     "outputs_hidden": false
    },
    "tags": [],
    "ExecuteTime": {
     "end_time": "2023-07-28T11:20:56.020846Z",
     "start_time": "2023-07-28T11:20:55.940919Z"
    }
   },
   "outputs": [
    {
     "ename": "NameError",
     "evalue": "name 'subgraphs' is not defined",
     "output_type": "error",
     "traceback": [
      "\u001B[0;31m---------------------------------------------------------------------------\u001B[0m",
      "\u001B[0;31mNameError\u001B[0m                                 Traceback (most recent call last)",
      "Cell \u001B[0;32mIn[22], line 5\u001B[0m\n\u001B[1;32m      1\u001B[0m \u001B[38;5;66;03m# create pytorch geometric dataset from subgraphs\u001B[39;00m\n\u001B[1;32m      2\u001B[0m \u001B[38;5;66;03m#datasss = [Data(x=torch.tensor(graph.nodes(data=\"features\"), dtype=torch.double), edge_index=torch.tensor(list(graph.edges)).t()) for graph in tqdm(subgraphs)]\u001B[39;00m\n\u001B[1;32m      3\u001B[0m \n\u001B[1;32m      4\u001B[0m \u001B[38;5;66;03m#list(subgraphs[0].features)\u001B[39;00m\n\u001B[0;32m----> 5\u001B[0m daata \u001B[38;5;241m=\u001B[39m [from_networkx(graph, group_node_attrs\u001B[38;5;241m=\u001B[39m[\u001B[38;5;124m'\u001B[39m\u001B[38;5;124mfeatures\u001B[39m\u001B[38;5;124m'\u001B[39m]) \u001B[38;5;28;01mfor\u001B[39;00m graph \u001B[38;5;129;01min\u001B[39;00m tqdm(\u001B[43msubgraphs\u001B[49m)]\n\u001B[1;32m      6\u001B[0m loader \u001B[38;5;241m=\u001B[39m DataLoader(daata, batch_size\u001B[38;5;241m=\u001B[39m\u001B[38;5;241m32\u001B[39m, shuffle\u001B[38;5;241m=\u001B[39m\u001B[38;5;28;01mTrue\u001B[39;00m)\n\u001B[1;32m      7\u001B[0m \u001B[38;5;66;03m#for daat in daata:\u001B[39;00m\n\u001B[1;32m      8\u001B[0m \u001B[38;5;66;03m#loader = DataLoader([from_networkx(graph, group_node_attrs=['features'], dtype=torch.double) for graph in tqdm(subgraphs)], batch_size=32, shuffle=True)\u001B[39;00m\n\u001B[1;32m      9\u001B[0m \n\u001B[1;32m     10\u001B[0m \n\u001B[1;32m     11\u001B[0m \u001B[38;5;66;03m#loader = DataLoader([Data(x=x, edge_index=torch.tensor(list(subgraphs[0].edges)).t()) for graph in subgraphs], batch_size=32)\u001B[39;00m\n",
      "\u001B[0;31mNameError\u001B[0m: name 'subgraphs' is not defined"
     ]
    }
   ],
   "source": [
    "# create pytorch geometric dataset from subgraphs\n",
    "#datasss = [Data(x=torch.tensor(graph.nodes(data=\"features\"), dtype=torch.double), edge_index=torch.tensor(list(graph.edges)).t()) for graph in tqdm(subgraphs)]\n",
    "\n",
    "#list(subgraphs[0].features)\n",
    "#daata = [from_networkx(graph, group_node_attrs=['features']) for graph in tqdm(subgraphs)]\n",
    "#loader = DataLoader(daata, batch_size=32, shuffle=True)\n",
    "#for daat in daata:\n",
    "#loader = DataLoader([from_networkx(graph, group_node_attrs=['features'], dtype=torch.double) for graph in tqdm(subgraphs)], batch_size=32, shuffle=True)\n",
    "\n",
    "\n",
    "#loader = DataLoader([Data(x=x, edge_index=torch.tensor(list(subgraphs[0].edges)).t()) for graph in subgraphs], batch_size=32)"
   ]
  },
  {
   "cell_type": "code",
   "execution_count": 15,
   "outputs": [
    {
     "data": {
      "text/plain": "tensor([[     0,      1,      2,  ..., 129171, 129171, 129171],\n        [     1,      0,      3,  ..., 129168, 129169, 129170]])"
     },
     "execution_count": 15,
     "metadata": {},
     "output_type": "execute_result"
    }
   ],
   "source": [
    "loader.dataset[0].sub_edge_index"
   ],
   "metadata": {
    "collapsed": false,
    "ExecuteTime": {
     "end_time": "2023-07-27T18:02:13.270967Z",
     "start_time": "2023-07-27T18:01:50.899867Z"
    }
   }
  },
  {
   "cell_type": "code",
   "execution_count": 29,
   "metadata": {
    "tags": [],
    "ExecuteTime": {
     "end_time": "2023-07-28T11:21:27.058366Z",
     "start_time": "2023-07-28T11:21:26.994088Z"
    }
   },
   "outputs": [],
   "source": [
    "from torch.utils.data import random_split\n",
    "\n",
    "# Split the data into training, validation, and test sets\n",
    "train_size = int(0.8 * len(loader.dataset))  # 80% of the data for training\n",
    "val_size = int(0.1 * len(loader.dataset))  # 10% of the data for validation\n",
    "test_size = len(loader.dataset) - train_size - val_size  # The rest for testing\n",
    "\n",
    "train_data, val_data, test_data = random_split(loader.dataset, [train_size, val_size, test_size])\n",
    "\n",
    "# Create data loaders for each set\n",
    "train_loader = DataLoader(train_data, batch_size=32, shuffle=True)\n",
    "val_loader = DataLoader(val_data, batch_size=32, shuffle=False)\n",
    "test_loader = DataLoader(test_data, batch_size=32, shuffle=False)\n"
   ]
  },
  {
   "cell_type": "code",
   "execution_count": 12,
   "metadata": {
    "collapsed": false,
    "jupyter": {
     "outputs_hidden": false
    },
    "tags": [],
    "ExecuteTime": {
     "end_time": "2023-07-28T09:39:39.456005Z",
     "start_time": "2023-07-28T09:39:39.372053Z"
    }
   },
   "outputs": [
    {
     "name": "stdout",
     "output_type": "stream",
     "text": [
      "DataBatch(x=[158, 550], edge_index=[2, 568], y=[32, 550], center_node_idx=[32], batch=[158], ptr=[33])\n"
     ]
    }
   ],
   "source": [
    "for data in loader:\n",
    "    print(data)\n",
    "    break\n"
   ]
  },
  {
   "cell_type": "code",
   "execution_count": 126,
   "metadata": {
    "collapsed": false,
    "jupyter": {
     "outputs_hidden": false
    },
    "tags": [],
    "ExecuteTime": {
     "end_time": "2023-07-28T09:20:15.625421Z",
     "start_time": "2023-07-28T09:20:15.612755Z"
    }
   },
   "outputs": [],
   "source": [
    "import torch\n",
    "from torch_geometric.nn import GCN, summary\n",
    "\n",
    "#model = GCN(-1, 64, num_layers=2, out_channels=550)\n",
    "#x = torch.randn(100, 128)\n",
    "#edge_index = torch.randint(100, size=(2, 20))\n",
    "\n",
    "#print(summary(model, data.x, data.edge_index))"
   ]
  },
  {
   "cell_type": "code",
   "execution_count": 30,
   "metadata": {
    "collapsed": false,
    "jupyter": {
     "outputs_hidden": false
    },
    "tags": [],
    "ExecuteTime": {
     "end_time": "2023-07-28T11:21:29.130891Z",
     "start_time": "2023-07-28T11:21:29.061611Z"
    }
   },
   "outputs": [],
   "source": [
    "\n",
    "from torch import nn, optim, Tensor\n",
    "from torch_geometric.nn import conv\n",
    "\n",
    "\n",
    "# Define the Graph Convolutional Network (GCN) model\n",
    "class GCNClassifier(torch.nn.Module):\n",
    "    def __init__(self, hidden_dim, hidden_dim1, output_dim):\n",
    "        super(GCNClassifier, self).__init__()\n",
    "        self.model = nn.Sequential(\n",
    "            conv.SAGEConv(-1, hidden_dim),\n",
    "            nn.ReLU(),\n",
    "            conv.GCNConv(hidden_dim, hidden_dim1),\n",
    "            nn.ReLU(),\n",
    "            nn.Linear(hidden_dim1, output_dim),\n",
    "        )\n",
    "\n",
    "    def forward(self, x: Tensor, edge_index: Tensor) -> Tensor:\n",
    "        return self.model(x, edge_index)\n",
    "\n",
    "class GCN(torch.nn.Module):\n",
    "    def __init__(self, in_channels, hidden_channels, out_channels):\n",
    "        super().__init__()\n",
    "        self.conv1 = GCNConv(in_channels, hidden_channels)\n",
    "        self.conv2 = GCNConv(hidden_channels, out_channels)\n",
    "        self.linear = nn.Linear(out_channels, 550)\n",
    "\n",
    "\n",
    "    def forward(self, x: Tensor, edge_index: Tensor) -> Tensor:\n",
    "        # x: Node feature matrix of shape [num_nodes, in_channels]\n",
    "        # edge_index: Graph connectivity matrix of shape [2, num_edges]\n",
    "        x = self.conv1(x, edge_index).relu()\n",
    "        #print(x.shape)\n",
    "        x = self.conv2(x, edge_index)\n",
    "        #print(x.shape)\n",
    "        x = self.linear(x)\n",
    "        #print(x.shape)\n",
    "        return x"
   ]
  },
  {
   "cell_type": "code",
   "execution_count": null,
   "metadata": {
    "tags": [],
    "is_executing": true,
    "ExecuteTime": {
     "start_time": "2023-07-28T11:21:29.897675Z"
    }
   },
   "outputs": [
    {
     "name": "stdout",
     "output_type": "stream",
     "text": [
      "Epoch 1/50 , train loss: 0.5119, train r2: 0.0879 ,  val loss: 0.6200, val r2: 0.0229\n",
      "Epoch 2/50 , train loss: 0.4861, train r2: 0.1081 ,  val loss: 0.6264, val r2: 0.0202\n"
     ]
    }
   ],
   "source": [
    "import random\n",
    "# Set device for training, macbook\n",
    "device = torch.device('cuda' if torch.cuda.is_available() else 'cpu')\n",
    "\n",
    "# Create an instance of the model and move it to the device\n",
    "\n",
    "output_dim = 550\n",
    "\n",
    "# Create the model\n",
    "model = GCN(-1, 64, output_dim).to(device)\n",
    "\n",
    "#GCNClassifier(hidden_dim=100, hidden_dim1=100, output_dim=550).to(device)\n",
    "\n",
    "# Define loss function and optimizer\n",
    "criterion = nn.MSELoss()\n",
    "optimizer = optim.Adam(model.parameters(), lr=0.001)\n",
    "\n",
    "# Training loop\n",
    "num_epochs = 50\n",
    "\n",
    "# store losses\n",
    "train_losses = []\n",
    "val_losses = []\n",
    "\n",
    "# store r2 scores\n",
    "train_r2_scores = []\n",
    "val_r2_scores = []\n",
    "\n",
    "best_val_loss = float('inf') # Set initial best validation loss to infinity\n",
    "patience = 5                # Number of epochs to wait for improvement in validation loss\n",
    "epochs_no_improve = 0        # Number of epochs with no improvement in validation loss\n",
    "best_epoch = 0               # Epoch at which we get the best validation loss\n",
    "\n",
    "# epoch training times\n",
    "epoch_times = []\n",
    "#start_time = time.time()\n",
    "\n",
    "for epoch in range(num_epochs):\n",
    "    \n",
    "    # Training phase\n",
    "    model.train()\n",
    "    total_train_loss = 0\n",
    "    train_targets_list = []\n",
    "    train_outputs_list = []\n",
    "    model.train()  # Set the model to training mode\n",
    "    total_loss = 0\n",
    "    targets_list = []\n",
    "    outputs_list = []\n",
    "\n",
    "    for data in loader:\n",
    "        data = data.to(device)\n",
    "        #num_nodes = data.x.shape[0]\n",
    "        #num_nodes_to_mask = int(0.2 * num_nodes)\n",
    "        #nodes_to_mask = random.sample(range(num_nodes), num_nodes_to_mask)\n",
    "        #mask = torch.zeros(num_nodes, dtype=torch.bool)\n",
    "        #mask[nodes_to_mask] = True\n",
    "        #masked_node_features = data.x.float() * mask.unsqueeze(-1).float().to(device)\n",
    "        #outputs = model(masked_node_features, data.edge_index.long())\n",
    "        #loss = criterion(outputs, data.y.float())\n",
    "\n",
    "\n",
    "\n",
    "        outputs = model(data.x.float(), data.edge_index.long())\n",
    "        loss = criterion(outputs[~data.mask], data.y.float())\n",
    "\n",
    "        # Backward and optimize\n",
    "        optimizer.zero_grad()\n",
    "        loss.backward()\n",
    "        optimizer.step()\n",
    "\n",
    "        # Measure train loss and r2 score\n",
    "        total_loss += loss.item() * data.num_graphs\n",
    "        targets_list.append(data.x.float())\n",
    "        outputs_list.append(outputs)\n",
    "\n",
    "    #measure and print r2 and train loss\n",
    "    train_loss = total_loss / len(loader.dataset)\n",
    "    train_losses.append(train_loss)\n",
    "    train_r2 = r2_score(torch.cat(targets_list).cpu().detach().numpy(), torch.cat(outputs_list).cpu().detach().numpy())\n",
    "    train_r2_scores.append(train_r2)\n",
    "\n",
    "        # Validation phase\n",
    "    model.eval()  # Set the model to evaluation mode\n",
    "    total_val_loss = 0\n",
    "    val_targets_list = []\n",
    "    val_outputs_list = []\n",
    "\n",
    "    for data in val_loader:\n",
    "        data = data.to(device)\n",
    "        num_nodes = data.x.shape[0]\n",
    "        num_nodes_to_mask = int(0.2 * num_nodes)\n",
    "        nodes_to_mask = random.sample(range(num_nodes), num_nodes_to_mask)\n",
    "        mask = torch.zeros(num_nodes, dtype=torch.bool)\n",
    "        mask[nodes_to_mask] = True\n",
    "        masked_node_features = data.x.float() * mask.unsqueeze(-1).float().to(device)\n",
    "        \n",
    "        with torch.no_grad():\n",
    "            outputs = model(masked_node_features, data.edge_index.long())\n",
    "            loss = criterion(outputs, data.x.float())\n",
    "        total_val_loss += loss.item() * data.num_graphs\n",
    "        val_targets_list.append(data.x.float())\n",
    "        val_outputs_list.append(outputs)\n",
    "\n",
    "    # Measure and print validation loss and R2\n",
    "    val_loss = total_val_loss / len(val_loader.dataset)\n",
    "    val_losses.append(val_loss)\n",
    "    val_r2 = r2_score(torch.cat(val_targets_list).cpu().detach().numpy(), torch.cat(val_outputs_list).cpu().detach().numpy())\n",
    "    val_r2_scores.append(val_r2)\n",
    "    print(f\"Epoch {epoch+1}/{num_epochs} , train loss: {train_loss:.4f}, train r2: {train_r2:.4f} ,  val loss: {val_loss:.4f}, val r2: {val_r2:.4f}\")"
   ]
  },
  {
   "cell_type": "code",
   "execution_count": 80,
   "metadata": {
    "collapsed": false,
    "jupyter": {
     "outputs_hidden": false
    },
    "tags": [],
    "ExecuteTime": {
     "end_time": "2023-07-27T18:24:33.992983Z",
     "start_time": "2023-07-27T18:24:33.845258Z"
    }
   },
   "outputs": [
    {
     "ename": "RuntimeError",
     "evalue": "index 15607 is out of bounds for dimension 0 with size 145",
     "output_type": "error",
     "traceback": [
      "\u001B[0;31m---------------------------------------------------------------------------\u001B[0m",
      "\u001B[0;31mRuntimeError\u001B[0m                              Traceback (most recent call last)",
      "Cell \u001B[0;32mIn[80], line 10\u001B[0m\n\u001B[1;32m      8\u001B[0m data \u001B[38;5;241m=\u001B[39m data\u001B[38;5;241m.\u001B[39mto(device)\n\u001B[1;32m      9\u001B[0m \u001B[38;5;28;01mwith\u001B[39;00m torch\u001B[38;5;241m.\u001B[39mno_grad():\n\u001B[0;32m---> 10\u001B[0m     outputs \u001B[38;5;241m=\u001B[39m \u001B[43mmodel\u001B[49m\u001B[43m(\u001B[49m\u001B[43mdata\u001B[49m\u001B[38;5;241;43m.\u001B[39;49m\u001B[43mx\u001B[49m\u001B[38;5;241;43m.\u001B[39;49m\u001B[43mfloat\u001B[49m\u001B[43m(\u001B[49m\u001B[43m)\u001B[49m\u001B[43m,\u001B[49m\u001B[43m \u001B[49m\u001B[43mdata\u001B[49m\u001B[38;5;241;43m.\u001B[39;49m\u001B[43medge_index\u001B[49m\u001B[38;5;241;43m.\u001B[39;49m\u001B[43mlong\u001B[49m\u001B[43m(\u001B[49m\u001B[43m)\u001B[49m\u001B[43m)\u001B[49m\n\u001B[1;32m     11\u001B[0m     loss \u001B[38;5;241m=\u001B[39m criterion(outputs, data\u001B[38;5;241m.\u001B[39mx\u001B[38;5;241m.\u001B[39mfloat())\n\u001B[1;32m     12\u001B[0m total_test_loss \u001B[38;5;241m+\u001B[39m\u001B[38;5;241m=\u001B[39m loss\u001B[38;5;241m.\u001B[39mitem() \u001B[38;5;241m*\u001B[39m data\u001B[38;5;241m.\u001B[39mnum_graphs\n",
      "File \u001B[0;32m~/opt/miniconda3/envs/spatial_atlas_ssl_env/lib/python3.8/site-packages/torch/nn/modules/module.py:1501\u001B[0m, in \u001B[0;36mModule._call_impl\u001B[0;34m(self, *args, **kwargs)\u001B[0m\n\u001B[1;32m   1496\u001B[0m \u001B[38;5;66;03m# If we don't have any hooks, we want to skip the rest of the logic in\u001B[39;00m\n\u001B[1;32m   1497\u001B[0m \u001B[38;5;66;03m# this function, and just call forward.\u001B[39;00m\n\u001B[1;32m   1498\u001B[0m \u001B[38;5;28;01mif\u001B[39;00m \u001B[38;5;129;01mnot\u001B[39;00m (\u001B[38;5;28mself\u001B[39m\u001B[38;5;241m.\u001B[39m_backward_hooks \u001B[38;5;129;01mor\u001B[39;00m \u001B[38;5;28mself\u001B[39m\u001B[38;5;241m.\u001B[39m_backward_pre_hooks \u001B[38;5;129;01mor\u001B[39;00m \u001B[38;5;28mself\u001B[39m\u001B[38;5;241m.\u001B[39m_forward_hooks \u001B[38;5;129;01mor\u001B[39;00m \u001B[38;5;28mself\u001B[39m\u001B[38;5;241m.\u001B[39m_forward_pre_hooks\n\u001B[1;32m   1499\u001B[0m         \u001B[38;5;129;01mor\u001B[39;00m _global_backward_pre_hooks \u001B[38;5;129;01mor\u001B[39;00m _global_backward_hooks\n\u001B[1;32m   1500\u001B[0m         \u001B[38;5;129;01mor\u001B[39;00m _global_forward_hooks \u001B[38;5;129;01mor\u001B[39;00m _global_forward_pre_hooks):\n\u001B[0;32m-> 1501\u001B[0m     \u001B[38;5;28;01mreturn\u001B[39;00m \u001B[43mforward_call\u001B[49m\u001B[43m(\u001B[49m\u001B[38;5;241;43m*\u001B[39;49m\u001B[43margs\u001B[49m\u001B[43m,\u001B[49m\u001B[43m \u001B[49m\u001B[38;5;241;43m*\u001B[39;49m\u001B[38;5;241;43m*\u001B[39;49m\u001B[43mkwargs\u001B[49m\u001B[43m)\u001B[49m\n\u001B[1;32m   1502\u001B[0m \u001B[38;5;66;03m# Do not call functions when jit is used\u001B[39;00m\n\u001B[1;32m   1503\u001B[0m full_backward_hooks, non_full_backward_hooks \u001B[38;5;241m=\u001B[39m [], []\n",
      "Cell \u001B[0;32mIn[78], line 31\u001B[0m, in \u001B[0;36mGCN.forward\u001B[0;34m(self, x, edge_index)\u001B[0m\n\u001B[1;32m     28\u001B[0m \u001B[38;5;28;01mdef\u001B[39;00m \u001B[38;5;21mforward\u001B[39m(\u001B[38;5;28mself\u001B[39m, x: Tensor, edge_index: Tensor) \u001B[38;5;241m-\u001B[39m\u001B[38;5;241m>\u001B[39m Tensor:\n\u001B[1;32m     29\u001B[0m     \u001B[38;5;66;03m# x: Node feature matrix of shape [num_nodes, in_channels]\u001B[39;00m\n\u001B[1;32m     30\u001B[0m     \u001B[38;5;66;03m# edge_index: Graph connectivity matrix of shape [2, num_edges]\u001B[39;00m\n\u001B[0;32m---> 31\u001B[0m     x \u001B[38;5;241m=\u001B[39m \u001B[38;5;28;43mself\u001B[39;49m\u001B[38;5;241;43m.\u001B[39;49m\u001B[43mconv1\u001B[49m\u001B[43m(\u001B[49m\u001B[43mx\u001B[49m\u001B[43m,\u001B[49m\u001B[43m \u001B[49m\u001B[43medge_index\u001B[49m\u001B[43m)\u001B[49m\u001B[38;5;241m.\u001B[39mrelu()\n\u001B[1;32m     32\u001B[0m     \u001B[38;5;66;03m#print(x.shape)\u001B[39;00m\n\u001B[1;32m     33\u001B[0m     x \u001B[38;5;241m=\u001B[39m \u001B[38;5;28mself\u001B[39m\u001B[38;5;241m.\u001B[39mconv2(x, edge_index)\n",
      "File \u001B[0;32m~/opt/miniconda3/envs/spatial_atlas_ssl_env/lib/python3.8/site-packages/torch/nn/modules/module.py:1501\u001B[0m, in \u001B[0;36mModule._call_impl\u001B[0;34m(self, *args, **kwargs)\u001B[0m\n\u001B[1;32m   1496\u001B[0m \u001B[38;5;66;03m# If we don't have any hooks, we want to skip the rest of the logic in\u001B[39;00m\n\u001B[1;32m   1497\u001B[0m \u001B[38;5;66;03m# this function, and just call forward.\u001B[39;00m\n\u001B[1;32m   1498\u001B[0m \u001B[38;5;28;01mif\u001B[39;00m \u001B[38;5;129;01mnot\u001B[39;00m (\u001B[38;5;28mself\u001B[39m\u001B[38;5;241m.\u001B[39m_backward_hooks \u001B[38;5;129;01mor\u001B[39;00m \u001B[38;5;28mself\u001B[39m\u001B[38;5;241m.\u001B[39m_backward_pre_hooks \u001B[38;5;129;01mor\u001B[39;00m \u001B[38;5;28mself\u001B[39m\u001B[38;5;241m.\u001B[39m_forward_hooks \u001B[38;5;129;01mor\u001B[39;00m \u001B[38;5;28mself\u001B[39m\u001B[38;5;241m.\u001B[39m_forward_pre_hooks\n\u001B[1;32m   1499\u001B[0m         \u001B[38;5;129;01mor\u001B[39;00m _global_backward_pre_hooks \u001B[38;5;129;01mor\u001B[39;00m _global_backward_hooks\n\u001B[1;32m   1500\u001B[0m         \u001B[38;5;129;01mor\u001B[39;00m _global_forward_hooks \u001B[38;5;129;01mor\u001B[39;00m _global_forward_pre_hooks):\n\u001B[0;32m-> 1501\u001B[0m     \u001B[38;5;28;01mreturn\u001B[39;00m \u001B[43mforward_call\u001B[49m\u001B[43m(\u001B[49m\u001B[38;5;241;43m*\u001B[39;49m\u001B[43margs\u001B[49m\u001B[43m,\u001B[49m\u001B[43m \u001B[49m\u001B[38;5;241;43m*\u001B[39;49m\u001B[38;5;241;43m*\u001B[39;49m\u001B[43mkwargs\u001B[49m\u001B[43m)\u001B[49m\n\u001B[1;32m   1502\u001B[0m \u001B[38;5;66;03m# Do not call functions when jit is used\u001B[39;00m\n\u001B[1;32m   1503\u001B[0m full_backward_hooks, non_full_backward_hooks \u001B[38;5;241m=\u001B[39m [], []\n",
      "File \u001B[0;32m~/opt/miniconda3/envs/spatial_atlas_ssl_env/lib/python3.8/site-packages/torch_geometric/nn/conv/gcn_conv.py:210\u001B[0m, in \u001B[0;36mGCNConv.forward\u001B[0;34m(self, x, edge_index, edge_weight)\u001B[0m\n\u001B[1;32m    208\u001B[0m cache \u001B[38;5;241m=\u001B[39m \u001B[38;5;28mself\u001B[39m\u001B[38;5;241m.\u001B[39m_cached_edge_index\n\u001B[1;32m    209\u001B[0m \u001B[38;5;28;01mif\u001B[39;00m cache \u001B[38;5;129;01mis\u001B[39;00m \u001B[38;5;28;01mNone\u001B[39;00m:\n\u001B[0;32m--> 210\u001B[0m     edge_index, edge_weight \u001B[38;5;241m=\u001B[39m \u001B[43mgcn_norm\u001B[49m\u001B[43m(\u001B[49m\u001B[43m  \u001B[49m\u001B[38;5;66;43;03m# yapf: disable\u001B[39;49;00m\n\u001B[1;32m    211\u001B[0m \u001B[43m        \u001B[49m\u001B[43medge_index\u001B[49m\u001B[43m,\u001B[49m\u001B[43m \u001B[49m\u001B[43medge_weight\u001B[49m\u001B[43m,\u001B[49m\u001B[43m \u001B[49m\u001B[43mx\u001B[49m\u001B[38;5;241;43m.\u001B[39;49m\u001B[43msize\u001B[49m\u001B[43m(\u001B[49m\u001B[38;5;28;43mself\u001B[39;49m\u001B[38;5;241;43m.\u001B[39;49m\u001B[43mnode_dim\u001B[49m\u001B[43m)\u001B[49m\u001B[43m,\u001B[49m\n\u001B[1;32m    212\u001B[0m \u001B[43m        \u001B[49m\u001B[38;5;28;43mself\u001B[39;49m\u001B[38;5;241;43m.\u001B[39;49m\u001B[43mimproved\u001B[49m\u001B[43m,\u001B[49m\u001B[43m \u001B[49m\u001B[38;5;28;43mself\u001B[39;49m\u001B[38;5;241;43m.\u001B[39;49m\u001B[43madd_self_loops\u001B[49m\u001B[43m,\u001B[49m\u001B[43m \u001B[49m\u001B[38;5;28;43mself\u001B[39;49m\u001B[38;5;241;43m.\u001B[39;49m\u001B[43mflow\u001B[49m\u001B[43m,\u001B[49m\u001B[43m \u001B[49m\u001B[43mx\u001B[49m\u001B[38;5;241;43m.\u001B[39;49m\u001B[43mdtype\u001B[49m\u001B[43m)\u001B[49m\n\u001B[1;32m    213\u001B[0m     \u001B[38;5;28;01mif\u001B[39;00m \u001B[38;5;28mself\u001B[39m\u001B[38;5;241m.\u001B[39mcached:\n\u001B[1;32m    214\u001B[0m         \u001B[38;5;28mself\u001B[39m\u001B[38;5;241m.\u001B[39m_cached_edge_index \u001B[38;5;241m=\u001B[39m (edge_index, edge_weight)\n",
      "File \u001B[0;32m~/opt/miniconda3/envs/spatial_atlas_ssl_env/lib/python3.8/site-packages/torch_geometric/nn/conv/gcn_conv.py:100\u001B[0m, in \u001B[0;36mgcn_norm\u001B[0;34m(edge_index, edge_weight, num_nodes, improved, add_self_loops, flow, dtype)\u001B[0m\n\u001B[1;32m     98\u001B[0m row, col \u001B[38;5;241m=\u001B[39m edge_index[\u001B[38;5;241m0\u001B[39m], edge_index[\u001B[38;5;241m1\u001B[39m]\n\u001B[1;32m     99\u001B[0m idx \u001B[38;5;241m=\u001B[39m col \u001B[38;5;28;01mif\u001B[39;00m flow \u001B[38;5;241m==\u001B[39m \u001B[38;5;124m'\u001B[39m\u001B[38;5;124msource_to_target\u001B[39m\u001B[38;5;124m'\u001B[39m \u001B[38;5;28;01melse\u001B[39;00m row\n\u001B[0;32m--> 100\u001B[0m deg \u001B[38;5;241m=\u001B[39m \u001B[43mscatter\u001B[49m\u001B[43m(\u001B[49m\u001B[43medge_weight\u001B[49m\u001B[43m,\u001B[49m\u001B[43m \u001B[49m\u001B[43midx\u001B[49m\u001B[43m,\u001B[49m\u001B[43m \u001B[49m\u001B[43mdim\u001B[49m\u001B[38;5;241;43m=\u001B[39;49m\u001B[38;5;241;43m0\u001B[39;49m\u001B[43m,\u001B[49m\u001B[43m \u001B[49m\u001B[43mdim_size\u001B[49m\u001B[38;5;241;43m=\u001B[39;49m\u001B[43mnum_nodes\u001B[49m\u001B[43m,\u001B[49m\u001B[43m \u001B[49m\u001B[43mreduce\u001B[49m\u001B[38;5;241;43m=\u001B[39;49m\u001B[38;5;124;43m'\u001B[39;49m\u001B[38;5;124;43msum\u001B[39;49m\u001B[38;5;124;43m'\u001B[39;49m\u001B[43m)\u001B[49m\n\u001B[1;32m    101\u001B[0m deg_inv_sqrt \u001B[38;5;241m=\u001B[39m deg\u001B[38;5;241m.\u001B[39mpow_(\u001B[38;5;241m-\u001B[39m\u001B[38;5;241m0.5\u001B[39m)\n\u001B[1;32m    102\u001B[0m deg_inv_sqrt\u001B[38;5;241m.\u001B[39mmasked_fill_(deg_inv_sqrt \u001B[38;5;241m==\u001B[39m \u001B[38;5;28mfloat\u001B[39m(\u001B[38;5;124m'\u001B[39m\u001B[38;5;124minf\u001B[39m\u001B[38;5;124m'\u001B[39m), \u001B[38;5;241m0\u001B[39m)\n",
      "File \u001B[0;32m~/opt/miniconda3/envs/spatial_atlas_ssl_env/lib/python3.8/site-packages/torch_geometric/utils/scatter.py:74\u001B[0m, in \u001B[0;36mscatter\u001B[0;34m(src, index, dim, dim_size, reduce)\u001B[0m\n\u001B[1;32m     72\u001B[0m \u001B[38;5;28;01mif\u001B[39;00m reduce \u001B[38;5;241m==\u001B[39m \u001B[38;5;124m'\u001B[39m\u001B[38;5;124msum\u001B[39m\u001B[38;5;124m'\u001B[39m \u001B[38;5;129;01mor\u001B[39;00m reduce \u001B[38;5;241m==\u001B[39m \u001B[38;5;124m'\u001B[39m\u001B[38;5;124madd\u001B[39m\u001B[38;5;124m'\u001B[39m:\n\u001B[1;32m     73\u001B[0m     index \u001B[38;5;241m=\u001B[39m broadcast(index, src, dim)\n\u001B[0;32m---> 74\u001B[0m     \u001B[38;5;28;01mreturn\u001B[39;00m \u001B[43msrc\u001B[49m\u001B[38;5;241;43m.\u001B[39;49m\u001B[43mnew_zeros\u001B[49m\u001B[43m(\u001B[49m\u001B[43msize\u001B[49m\u001B[43m)\u001B[49m\u001B[38;5;241;43m.\u001B[39;49m\u001B[43mscatter_add_\u001B[49m\u001B[43m(\u001B[49m\u001B[43mdim\u001B[49m\u001B[43m,\u001B[49m\u001B[43m \u001B[49m\u001B[43mindex\u001B[49m\u001B[43m,\u001B[49m\u001B[43m \u001B[49m\u001B[43msrc\u001B[49m\u001B[43m)\u001B[49m\n\u001B[1;32m     76\u001B[0m \u001B[38;5;28;01mif\u001B[39;00m reduce \u001B[38;5;241m==\u001B[39m \u001B[38;5;124m'\u001B[39m\u001B[38;5;124mmean\u001B[39m\u001B[38;5;124m'\u001B[39m:\n\u001B[1;32m     77\u001B[0m     count \u001B[38;5;241m=\u001B[39m src\u001B[38;5;241m.\u001B[39mnew_zeros(dim_size)\n",
      "\u001B[0;31mRuntimeError\u001B[0m: index 15607 is out of bounds for dimension 0 with size 145"
     ]
    }
   ],
   "source": [
    "# Testing phase\n",
    "model.eval()\n",
    "total_test_loss = 0\n",
    "test_targets_list = []\n",
    "test_outputs_list = []\n",
    "\n",
    "for data in test_loader:\n",
    "    data = data.to(device)\n",
    "    with torch.no_grad():\n",
    "        outputs = model(data.x.float(), data.edge_index.long())\n",
    "        loss = criterion(outputs, data.x.float())\n",
    "    total_test_loss += loss.item() * data.num_graphs\n",
    "    test_targets_list.append(data.x.float())\n",
    "    test_outputs_list.append(outputs)\n",
    "\n",
    "# Measure and print test loss and R2\n",
    "test_loss = total_test_loss / len(test_loader.dataset)\n",
    "test_r2 = r2_score(torch.cat(test_targets_list).cpu().detach().numpy(), torch.cat(test_outputs_list).cpu().detach().numpy())\n",
    "print(f\"Test loss: {test_loss:.4f}, test r2: {test_r2:.4f}\")"
   ]
  },
  {
   "cell_type": "code",
   "execution_count": null,
   "metadata": {
    "collapsed": false,
    "jupyter": {
     "outputs_hidden": false
    }
   },
   "outputs": [],
   "source": [
    "# plot train and validation loss using seaborn, mark best epoch with veritcal line\n",
    "import seaborn as sns\n",
    "import matplotlib.pyplot as plt\n",
    "sns.set_theme(style=\"darkgrid\")\n",
    "plt.figure(figsize=(10, 5))\n",
    "plt.plot(train_losses, label=\"Train Loss\")\n",
    "plt.plot(val_losses, label=\"Validation Loss\")\n",
    "plt.axvline(best_epoch, color=\"red\", label=f\"Best Epoch: {best_epoch}\")\n",
    "plt.xlabel(\"Epoch\")\n",
    "plt.ylabel(\"Loss\")\n",
    "plt.legend()\n",
    "plt.show()"
   ]
  },
  {
   "cell_type": "code",
   "execution_count": 22,
   "metadata": {
    "collapsed": false,
    "jupyter": {
     "outputs_hidden": false
    },
    "ExecuteTime": {
     "end_time": "2023-07-28T08:26:47.551429Z",
     "start_time": "2023-07-28T08:26:02.716971Z"
    }
   },
   "outputs": [
    {
     "name": "stdout",
     "output_type": "stream",
     "text": [
      "DataBatch(x=[169, 550], edge_index=[2, 738], batch=[169], ptr=[33])\n",
      "DataBatch(x=[168, 550], edge_index=[2, 644], batch=[168], ptr=[33])\n",
      "DataBatch(x=[159, 550], edge_index=[2, 550], batch=[159], ptr=[33])\n",
      "DataBatch(x=[169, 550], edge_index=[2, 624], batch=[169], ptr=[33])\n",
      "DataBatch(x=[165, 550], edge_index=[2, 622], batch=[165], ptr=[33])\n",
      "DataBatch(x=[151, 550], edge_index=[2, 532], batch=[151], ptr=[33])\n",
      "DataBatch(x=[160, 550], edge_index=[2, 580], batch=[160], ptr=[33])\n",
      "DataBatch(x=[177, 550], edge_index=[2, 696], batch=[177], ptr=[33])\n",
      "DataBatch(x=[167, 550], edge_index=[2, 572], batch=[167], ptr=[33])\n",
      "DataBatch(x=[164, 550], edge_index=[2, 614], batch=[164], ptr=[33])\n",
      "DataBatch(x=[164, 550], edge_index=[2, 616], batch=[164], ptr=[33])\n",
      "DataBatch(x=[197, 550], edge_index=[2, 876], batch=[197], ptr=[33])\n",
      "DataBatch(x=[199, 550], edge_index=[2, 950], batch=[199], ptr=[33])\n",
      "DataBatch(x=[177, 550], edge_index=[2, 696], batch=[177], ptr=[33])\n",
      "DataBatch(x=[134, 550], edge_index=[2, 398], batch=[134], ptr=[33])\n",
      "DataBatch(x=[170, 550], edge_index=[2, 656], batch=[170], ptr=[33])\n",
      "DataBatch(x=[153, 550], edge_index=[2, 526], batch=[153], ptr=[33])\n",
      "DataBatch(x=[144, 550], edge_index=[2, 502], batch=[144], ptr=[33])\n",
      "DataBatch(x=[138, 550], edge_index=[2, 446], batch=[138], ptr=[33])\n",
      "DataBatch(x=[185, 550], edge_index=[2, 822], batch=[185], ptr=[33])\n",
      "DataBatch(x=[165, 550], edge_index=[2, 640], batch=[165], ptr=[33])\n",
      "DataBatch(x=[168, 550], edge_index=[2, 664], batch=[168], ptr=[33])\n",
      "DataBatch(x=[155, 550], edge_index=[2, 600], batch=[155], ptr=[33])\n",
      "DataBatch(x=[150, 550], edge_index=[2, 520], batch=[150], ptr=[33])\n",
      "DataBatch(x=[152, 550], edge_index=[2, 534], batch=[152], ptr=[33])\n",
      "DataBatch(x=[168, 550], edge_index=[2, 644], batch=[168], ptr=[33])\n",
      "DataBatch(x=[151, 550], edge_index=[2, 550], batch=[151], ptr=[33])\n",
      "DataBatch(x=[154, 550], edge_index=[2, 608], batch=[154], ptr=[33])\n",
      "DataBatch(x=[150, 550], edge_index=[2, 534], batch=[150], ptr=[33])\n",
      "DataBatch(x=[152, 550], edge_index=[2, 528], batch=[152], ptr=[33])\n",
      "DataBatch(x=[150, 550], edge_index=[2, 542], batch=[150], ptr=[33])\n",
      "DataBatch(x=[152, 550], edge_index=[2, 516], batch=[152], ptr=[33])\n",
      "DataBatch(x=[176, 550], edge_index=[2, 742], batch=[176], ptr=[33])\n",
      "DataBatch(x=[123, 550], edge_index=[2, 334], batch=[123], ptr=[33])\n",
      "DataBatch(x=[150, 550], edge_index=[2, 518], batch=[150], ptr=[33])\n",
      "DataBatch(x=[158, 550], edge_index=[2, 532], batch=[158], ptr=[33])\n",
      "DataBatch(x=[177, 550], edge_index=[2, 756], batch=[177], ptr=[33])\n",
      "DataBatch(x=[157, 550], edge_index=[2, 570], batch=[157], ptr=[33])\n",
      "DataBatch(x=[166, 550], edge_index=[2, 662], batch=[166], ptr=[33])\n",
      "DataBatch(x=[166, 550], edge_index=[2, 618], batch=[166], ptr=[33])\n",
      "DataBatch(x=[146, 550], edge_index=[2, 538], batch=[146], ptr=[33])\n",
      "DataBatch(x=[173, 550], edge_index=[2, 666], batch=[173], ptr=[33])\n",
      "DataBatch(x=[163, 550], edge_index=[2, 674], batch=[163], ptr=[33])\n",
      "DataBatch(x=[146, 550], edge_index=[2, 516], batch=[146], ptr=[33])\n",
      "DataBatch(x=[166, 550], edge_index=[2, 654], batch=[166], ptr=[33])\n",
      "DataBatch(x=[153, 550], edge_index=[2, 506], batch=[153], ptr=[33])\n",
      "DataBatch(x=[172, 550], edge_index=[2, 700], batch=[172], ptr=[33])\n",
      "DataBatch(x=[142, 550], edge_index=[2, 484], batch=[142], ptr=[33])\n",
      "DataBatch(x=[177, 550], edge_index=[2, 766], batch=[177], ptr=[33])\n",
      "DataBatch(x=[158, 550], edge_index=[2, 548], batch=[158], ptr=[33])\n",
      "DataBatch(x=[184, 550], edge_index=[2, 746], batch=[184], ptr=[33])\n",
      "DataBatch(x=[166, 550], edge_index=[2, 624], batch=[166], ptr=[33])\n",
      "DataBatch(x=[185, 550], edge_index=[2, 796], batch=[185], ptr=[33])\n",
      "DataBatch(x=[185, 550], edge_index=[2, 744], batch=[185], ptr=[33])\n",
      "DataBatch(x=[148, 550], edge_index=[2, 434], batch=[148], ptr=[33])\n",
      "DataBatch(x=[165, 550], edge_index=[2, 624], batch=[165], ptr=[33])\n",
      "DataBatch(x=[190, 550], edge_index=[2, 786], batch=[190], ptr=[33])\n",
      "DataBatch(x=[151, 550], edge_index=[2, 478], batch=[151], ptr=[33])\n",
      "DataBatch(x=[160, 550], edge_index=[2, 560], batch=[160], ptr=[33])\n",
      "DataBatch(x=[174, 550], edge_index=[2, 624], batch=[174], ptr=[33])\n",
      "DataBatch(x=[167, 550], edge_index=[2, 616], batch=[167], ptr=[33])\n",
      "DataBatch(x=[179, 550], edge_index=[2, 770], batch=[179], ptr=[33])\n",
      "DataBatch(x=[162, 550], edge_index=[2, 606], batch=[162], ptr=[33])\n",
      "DataBatch(x=[155, 550], edge_index=[2, 528], batch=[155], ptr=[33])\n",
      "DataBatch(x=[138, 550], edge_index=[2, 436], batch=[138], ptr=[33])\n",
      "DataBatch(x=[134, 550], edge_index=[2, 398], batch=[134], ptr=[33])\n",
      "DataBatch(x=[165, 550], edge_index=[2, 658], batch=[165], ptr=[33])\n",
      "DataBatch(x=[165, 550], edge_index=[2, 622], batch=[165], ptr=[33])\n",
      "DataBatch(x=[139, 550], edge_index=[2, 478], batch=[139], ptr=[33])\n",
      "DataBatch(x=[173, 550], edge_index=[2, 708], batch=[173], ptr=[33])\n",
      "DataBatch(x=[166, 550], edge_index=[2, 620], batch=[166], ptr=[33])\n",
      "DataBatch(x=[125, 550], edge_index=[2, 370], batch=[125], ptr=[33])\n",
      "DataBatch(x=[146, 550], edge_index=[2, 502], batch=[146], ptr=[33])\n",
      "DataBatch(x=[183, 550], edge_index=[2, 780], batch=[183], ptr=[33])\n",
      "DataBatch(x=[161, 550], edge_index=[2, 608], batch=[161], ptr=[33])\n",
      "DataBatch(x=[164, 550], edge_index=[2, 632], batch=[164], ptr=[33])\n",
      "DataBatch(x=[199, 550], edge_index=[2, 940], batch=[199], ptr=[33])\n",
      "DataBatch(x=[155, 550], edge_index=[2, 478], batch=[155], ptr=[33])\n",
      "DataBatch(x=[127, 550], edge_index=[2, 338], batch=[127], ptr=[33])\n",
      "DataBatch(x=[127, 550], edge_index=[2, 352], batch=[127], ptr=[33])\n",
      "DataBatch(x=[135, 550], edge_index=[2, 410], batch=[135], ptr=[33])\n",
      "DataBatch(x=[138, 550], edge_index=[2, 460], batch=[138], ptr=[33])\n",
      "DataBatch(x=[121, 550], edge_index=[2, 338], batch=[121], ptr=[33])\n",
      "DataBatch(x=[150, 550], edge_index=[2, 564], batch=[150], ptr=[33])\n",
      "DataBatch(x=[126, 550], edge_index=[2, 350], batch=[126], ptr=[33])\n",
      "DataBatch(x=[157, 550], edge_index=[2, 538], batch=[157], ptr=[33])\n",
      "DataBatch(x=[150, 550], edge_index=[2, 532], batch=[150], ptr=[33])\n",
      "DataBatch(x=[165, 550], edge_index=[2, 640], batch=[165], ptr=[33])\n",
      "DataBatch(x=[169, 550], edge_index=[2, 660], batch=[169], ptr=[33])\n",
      "DataBatch(x=[176, 550], edge_index=[2, 750], batch=[176], ptr=[33])\n",
      "DataBatch(x=[168, 550], edge_index=[2, 644], batch=[168], ptr=[33])\n",
      "DataBatch(x=[158, 550], edge_index=[2, 640], batch=[158], ptr=[33])\n",
      "DataBatch(x=[155, 550], edge_index=[2, 526], batch=[155], ptr=[33])\n",
      "DataBatch(x=[140, 550], edge_index=[2, 442], batch=[140], ptr=[33])\n",
      "DataBatch(x=[170, 550], edge_index=[2, 658], batch=[170], ptr=[33])\n",
      "DataBatch(x=[134, 550], edge_index=[2, 400], batch=[134], ptr=[33])\n",
      "DataBatch(x=[140, 550], edge_index=[2, 444], batch=[140], ptr=[33])\n",
      "DataBatch(x=[172, 550], edge_index=[2, 672], batch=[172], ptr=[33])\n",
      "DataBatch(x=[160, 550], edge_index=[2, 618], batch=[160], ptr=[33])\n",
      "DataBatch(x=[136, 550], edge_index=[2, 448], batch=[136], ptr=[33])\n",
      "DataBatch(x=[144, 550], edge_index=[2, 498], batch=[144], ptr=[33])\n",
      "DataBatch(x=[162, 550], edge_index=[2, 608], batch=[162], ptr=[33])\n",
      "DataBatch(x=[167, 550], edge_index=[2, 586], batch=[167], ptr=[33])\n",
      "DataBatch(x=[165, 550], edge_index=[2, 658], batch=[165], ptr=[33])\n",
      "DataBatch(x=[155, 550], edge_index=[2, 536], batch=[155], ptr=[33])\n",
      "DataBatch(x=[153, 550], edge_index=[2, 574], batch=[153], ptr=[33])\n",
      "DataBatch(x=[129, 550], edge_index=[2, 388], batch=[129], ptr=[33])\n",
      "DataBatch(x=[173, 550], edge_index=[2, 630], batch=[173], ptr=[33])\n",
      "DataBatch(x=[165, 550], edge_index=[2, 614], batch=[165], ptr=[33])\n",
      "DataBatch(x=[159, 550], edge_index=[2, 594], batch=[159], ptr=[33])\n",
      "DataBatch(x=[165, 550], edge_index=[2, 640], batch=[165], ptr=[33])\n",
      "DataBatch(x=[149, 550], edge_index=[2, 548], batch=[149], ptr=[33])\n",
      "DataBatch(x=[166, 550], edge_index=[2, 678], batch=[166], ptr=[33])\n",
      "DataBatch(x=[159, 550], edge_index=[2, 642], batch=[159], ptr=[33])\n",
      "DataBatch(x=[197, 550], edge_index=[2, 938], batch=[197], ptr=[33])\n",
      "DataBatch(x=[117, 550], edge_index=[2, 276], batch=[117], ptr=[33])\n",
      "DataBatch(x=[137, 550], edge_index=[2, 400], batch=[137], ptr=[33])\n",
      "DataBatch(x=[129, 550], edge_index=[2, 328], batch=[129], ptr=[33])\n",
      "DataBatch(x=[173, 550], edge_index=[2, 646], batch=[173], ptr=[33])\n",
      "DataBatch(x=[177, 550], edge_index=[2, 646], batch=[177], ptr=[33])\n",
      "DataBatch(x=[178, 550], edge_index=[2, 732], batch=[178], ptr=[33])\n",
      "DataBatch(x=[182, 550], edge_index=[2, 722], batch=[182], ptr=[33])\n",
      "DataBatch(x=[150, 550], edge_index=[2, 484], batch=[150], ptr=[33])\n",
      "DataBatch(x=[143, 550], edge_index=[2, 450], batch=[143], ptr=[33])\n",
      "DataBatch(x=[158, 550], edge_index=[2, 600], batch=[158], ptr=[33])\n",
      "DataBatch(x=[165, 550], edge_index=[2, 604], batch=[165], ptr=[33])\n",
      "DataBatch(x=[175, 550], edge_index=[2, 666], batch=[175], ptr=[33])\n",
      "DataBatch(x=[170, 550], edge_index=[2, 642], batch=[170], ptr=[33])\n",
      "DataBatch(x=[144, 550], edge_index=[2, 424], batch=[144], ptr=[33])\n",
      "DataBatch(x=[164, 550], edge_index=[2, 636], batch=[164], ptr=[33])\n",
      "DataBatch(x=[176, 550], edge_index=[2, 704], batch=[176], ptr=[33])\n",
      "DataBatch(x=[174, 550], edge_index=[2, 686], batch=[174], ptr=[33])\n",
      "DataBatch(x=[165, 550], edge_index=[2, 642], batch=[165], ptr=[33])\n",
      "DataBatch(x=[163, 550], edge_index=[2, 728], batch=[163], ptr=[33])\n",
      "DataBatch(x=[157, 550], edge_index=[2, 594], batch=[157], ptr=[33])\n",
      "DataBatch(x=[130, 550], edge_index=[2, 376], batch=[130], ptr=[33])\n",
      "DataBatch(x=[161, 550], edge_index=[2, 576], batch=[161], ptr=[33])\n",
      "DataBatch(x=[164, 550], edge_index=[2, 576], batch=[164], ptr=[33])\n",
      "DataBatch(x=[162, 550], edge_index=[2, 594], batch=[162], ptr=[33])\n",
      "DataBatch(x=[160, 550], edge_index=[2, 590], batch=[160], ptr=[33])\n",
      "DataBatch(x=[145, 550], edge_index=[2, 484], batch=[145], ptr=[33])\n",
      "DataBatch(x=[149, 550], edge_index=[2, 516], batch=[149], ptr=[33])\n",
      "DataBatch(x=[166, 550], edge_index=[2, 604], batch=[166], ptr=[33])\n",
      "DataBatch(x=[151, 550], edge_index=[2, 494], batch=[151], ptr=[33])\n",
      "DataBatch(x=[151, 550], edge_index=[2, 532], batch=[151], ptr=[33])\n",
      "DataBatch(x=[206, 550], edge_index=[2, 898], batch=[206], ptr=[33])\n",
      "DataBatch(x=[183, 550], edge_index=[2, 798], batch=[183], ptr=[33])\n",
      "DataBatch(x=[167, 550], edge_index=[2, 626], batch=[167], ptr=[33])\n",
      "DataBatch(x=[168, 550], edge_index=[2, 658], batch=[168], ptr=[33])\n",
      "DataBatch(x=[145, 550], edge_index=[2, 428], batch=[145], ptr=[33])\n",
      "DataBatch(x=[145, 550], edge_index=[2, 466], batch=[145], ptr=[33])\n",
      "DataBatch(x=[176, 550], edge_index=[2, 660], batch=[176], ptr=[33])\n",
      "DataBatch(x=[157, 550], edge_index=[2, 498], batch=[157], ptr=[33])\n",
      "DataBatch(x=[152, 550], edge_index=[2, 566], batch=[152], ptr=[33])\n",
      "DataBatch(x=[205, 550], edge_index=[2, 1014], batch=[205], ptr=[33])\n",
      "DataBatch(x=[171, 550], edge_index=[2, 664], batch=[171], ptr=[33])\n",
      "DataBatch(x=[167, 550], edge_index=[2, 626], batch=[167], ptr=[33])\n",
      "DataBatch(x=[170, 550], edge_index=[2, 652], batch=[170], ptr=[33])\n",
      "DataBatch(x=[192, 550], edge_index=[2, 810], batch=[192], ptr=[33])\n",
      "DataBatch(x=[152, 550], edge_index=[2, 504], batch=[152], ptr=[33])\n",
      "DataBatch(x=[173, 550], edge_index=[2, 690], batch=[173], ptr=[33])\n",
      "DataBatch(x=[147, 550], edge_index=[2, 492], batch=[147], ptr=[33])\n",
      "DataBatch(x=[155, 550], edge_index=[2, 590], batch=[155], ptr=[33])\n",
      "DataBatch(x=[192, 550], edge_index=[2, 854], batch=[192], ptr=[33])\n",
      "DataBatch(x=[130, 550], edge_index=[2, 388], batch=[130], ptr=[33])\n",
      "DataBatch(x=[190, 550], edge_index=[2, 754], batch=[190], ptr=[33])\n",
      "DataBatch(x=[137, 550], edge_index=[2, 396], batch=[137], ptr=[33])\n",
      "DataBatch(x=[174, 550], edge_index=[2, 652], batch=[174], ptr=[33])\n",
      "DataBatch(x=[186, 550], edge_index=[2, 784], batch=[186], ptr=[33])\n",
      "DataBatch(x=[156, 550], edge_index=[2, 590], batch=[156], ptr=[33])\n",
      "DataBatch(x=[168, 550], edge_index=[2, 676], batch=[168], ptr=[33])\n",
      "DataBatch(x=[133, 550], edge_index=[2, 402], batch=[133], ptr=[33])\n",
      "DataBatch(x=[160, 550], edge_index=[2, 628], batch=[160], ptr=[33])\n",
      "DataBatch(x=[129, 550], edge_index=[2, 360], batch=[129], ptr=[33])\n",
      "DataBatch(x=[167, 550], edge_index=[2, 644], batch=[167], ptr=[33])\n",
      "DataBatch(x=[129, 550], edge_index=[2, 378], batch=[129], ptr=[33])\n",
      "DataBatch(x=[178, 550], edge_index=[2, 804], batch=[178], ptr=[33])\n",
      "DataBatch(x=[135, 550], edge_index=[2, 380], batch=[135], ptr=[33])\n",
      "DataBatch(x=[180, 550], edge_index=[2, 710], batch=[180], ptr=[33])\n",
      "DataBatch(x=[178, 550], edge_index=[2, 762], batch=[178], ptr=[33])\n",
      "DataBatch(x=[141, 550], edge_index=[2, 456], batch=[141], ptr=[33])\n",
      "DataBatch(x=[135, 550], edge_index=[2, 388], batch=[135], ptr=[33])\n",
      "DataBatch(x=[155, 550], edge_index=[2, 460], batch=[155], ptr=[33])\n",
      "DataBatch(x=[143, 550], edge_index=[2, 450], batch=[143], ptr=[33])\n",
      "DataBatch(x=[132, 550], edge_index=[2, 416], batch=[132], ptr=[33])\n",
      "DataBatch(x=[137, 550], edge_index=[2, 394], batch=[137], ptr=[33])\n",
      "DataBatch(x=[171, 550], edge_index=[2, 698], batch=[171], ptr=[33])\n",
      "DataBatch(x=[148, 550], edge_index=[2, 504], batch=[148], ptr=[33])\n",
      "DataBatch(x=[126, 550], edge_index=[2, 332], batch=[126], ptr=[33])\n",
      "DataBatch(x=[155, 550], edge_index=[2, 490], batch=[155], ptr=[33])\n",
      "DataBatch(x=[137, 550], edge_index=[2, 524], batch=[137], ptr=[33])\n",
      "DataBatch(x=[135, 550], edge_index=[2, 418], batch=[135], ptr=[33])\n",
      "DataBatch(x=[176, 550], edge_index=[2, 726], batch=[176], ptr=[33])\n",
      "DataBatch(x=[123, 550], edge_index=[2, 344], batch=[123], ptr=[33])\n",
      "DataBatch(x=[194, 550], edge_index=[2, 828], batch=[194], ptr=[33])\n",
      "DataBatch(x=[178, 550], edge_index=[2, 738], batch=[178], ptr=[33])\n",
      "DataBatch(x=[186, 550], edge_index=[2, 782], batch=[186], ptr=[33])\n",
      "DataBatch(x=[149, 550], edge_index=[2, 528], batch=[149], ptr=[33])\n",
      "DataBatch(x=[179, 550], edge_index=[2, 744], batch=[179], ptr=[33])\n",
      "DataBatch(x=[144, 550], edge_index=[2, 494], batch=[144], ptr=[33])\n",
      "DataBatch(x=[167, 550], edge_index=[2, 620], batch=[167], ptr=[33])\n",
      "DataBatch(x=[167, 550], edge_index=[2, 666], batch=[167], ptr=[33])\n",
      "DataBatch(x=[153, 550], edge_index=[2, 578], batch=[153], ptr=[33])\n",
      "DataBatch(x=[135, 550], edge_index=[2, 416], batch=[135], ptr=[33])\n",
      "DataBatch(x=[154, 550], edge_index=[2, 534], batch=[154], ptr=[33])\n",
      "DataBatch(x=[170, 550], edge_index=[2, 690], batch=[170], ptr=[33])\n",
      "DataBatch(x=[163, 550], edge_index=[2, 700], batch=[163], ptr=[33])\n",
      "DataBatch(x=[163, 550], edge_index=[2, 632], batch=[163], ptr=[33])\n",
      "DataBatch(x=[179, 550], edge_index=[2, 690], batch=[179], ptr=[33])\n",
      "DataBatch(x=[174, 550], edge_index=[2, 678], batch=[174], ptr=[33])\n",
      "DataBatch(x=[177, 550], edge_index=[2, 760], batch=[177], ptr=[33])\n",
      "DataBatch(x=[153, 550], edge_index=[2, 512], batch=[153], ptr=[33])\n",
      "DataBatch(x=[140, 550], edge_index=[2, 540], batch=[140], ptr=[33])\n",
      "DataBatch(x=[175, 550], edge_index=[2, 726], batch=[175], ptr=[33])\n",
      "DataBatch(x=[158, 550], edge_index=[2, 542], batch=[158], ptr=[33])\n",
      "DataBatch(x=[142, 550], edge_index=[2, 502], batch=[142], ptr=[33])\n",
      "DataBatch(x=[166, 550], edge_index=[2, 678], batch=[166], ptr=[33])\n",
      "DataBatch(x=[135, 550], edge_index=[2, 386], batch=[135], ptr=[33])\n",
      "DataBatch(x=[151, 550], edge_index=[2, 468], batch=[151], ptr=[33])\n",
      "DataBatch(x=[158, 550], edge_index=[2, 580], batch=[158], ptr=[33])\n",
      "DataBatch(x=[168, 550], edge_index=[2, 590], batch=[168], ptr=[33])\n",
      "DataBatch(x=[174, 550], edge_index=[2, 678], batch=[174], ptr=[33])\n",
      "DataBatch(x=[150, 550], edge_index=[2, 528], batch=[150], ptr=[33])\n",
      "DataBatch(x=[160, 550], edge_index=[2, 604], batch=[160], ptr=[33])\n",
      "DataBatch(x=[141, 550], edge_index=[2, 450], batch=[141], ptr=[33])\n",
      "DataBatch(x=[151, 550], edge_index=[2, 510], batch=[151], ptr=[33])\n",
      "DataBatch(x=[142, 550], edge_index=[2, 444], batch=[142], ptr=[33])\n",
      "DataBatch(x=[140, 550], edge_index=[2, 500], batch=[140], ptr=[33])\n",
      "DataBatch(x=[171, 550], edge_index=[2, 664], batch=[171], ptr=[33])\n",
      "DataBatch(x=[170, 550], edge_index=[2, 682], batch=[170], ptr=[33])\n",
      "DataBatch(x=[146, 550], edge_index=[2, 490], batch=[146], ptr=[33])\n",
      "DataBatch(x=[165, 550], edge_index=[2, 584], batch=[165], ptr=[33])\n",
      "DataBatch(x=[153, 550], edge_index=[2, 542], batch=[153], ptr=[33])\n",
      "DataBatch(x=[114, 550], edge_index=[2, 344], batch=[114], ptr=[33])\n",
      "DataBatch(x=[176, 550], edge_index=[2, 698], batch=[176], ptr=[33])\n",
      "DataBatch(x=[187, 550], edge_index=[2, 768], batch=[187], ptr=[33])\n",
      "DataBatch(x=[171, 550], edge_index=[2, 674], batch=[171], ptr=[33])\n",
      "DataBatch(x=[163, 550], edge_index=[2, 642], batch=[163], ptr=[33])\n",
      "DataBatch(x=[148, 550], edge_index=[2, 488], batch=[148], ptr=[33])\n",
      "DataBatch(x=[161, 550], edge_index=[2, 624], batch=[161], ptr=[33])\n",
      "DataBatch(x=[140, 550], edge_index=[2, 442], batch=[140], ptr=[33])\n",
      "DataBatch(x=[139, 550], edge_index=[2, 442], batch=[139], ptr=[33])\n",
      "DataBatch(x=[156, 550], edge_index=[2, 540], batch=[156], ptr=[33])\n",
      "DataBatch(x=[217, 550], edge_index=[2, 1038], batch=[217], ptr=[33])\n",
      "DataBatch(x=[173, 550], edge_index=[2, 734], batch=[173], ptr=[33])\n",
      "DataBatch(x=[149, 550], edge_index=[2, 486], batch=[149], ptr=[33])\n",
      "DataBatch(x=[161, 550], edge_index=[2, 590], batch=[161], ptr=[33])\n",
      "DataBatch(x=[172, 550], edge_index=[2, 734], batch=[172], ptr=[33])\n",
      "DataBatch(x=[122, 550], edge_index=[2, 338], batch=[122], ptr=[33])\n",
      "DataBatch(x=[130, 550], edge_index=[2, 412], batch=[130], ptr=[33])\n",
      "DataBatch(x=[154, 550], edge_index=[2, 456], batch=[154], ptr=[33])\n",
      "DataBatch(x=[184, 550], edge_index=[2, 740], batch=[184], ptr=[33])\n",
      "DataBatch(x=[142, 550], edge_index=[2, 468], batch=[142], ptr=[33])\n",
      "DataBatch(x=[159, 550], edge_index=[2, 568], batch=[159], ptr=[33])\n",
      "DataBatch(x=[137, 550], edge_index=[2, 402], batch=[137], ptr=[33])\n",
      "DataBatch(x=[154, 550], edge_index=[2, 584], batch=[154], ptr=[33])\n",
      "DataBatch(x=[141, 550], edge_index=[2, 406], batch=[141], ptr=[33])\n",
      "DataBatch(x=[182, 550], edge_index=[2, 728], batch=[182], ptr=[33])\n",
      "DataBatch(x=[151, 550], edge_index=[2, 516], batch=[151], ptr=[33])\n",
      "DataBatch(x=[144, 550], edge_index=[2, 484], batch=[144], ptr=[33])\n",
      "DataBatch(x=[164, 550], edge_index=[2, 530], batch=[164], ptr=[33])\n",
      "DataBatch(x=[155, 550], edge_index=[2, 550], batch=[155], ptr=[33])\n",
      "DataBatch(x=[150, 550], edge_index=[2, 486], batch=[150], ptr=[33])\n",
      "DataBatch(x=[175, 550], edge_index=[2, 688], batch=[175], ptr=[33])\n",
      "DataBatch(x=[164, 550], edge_index=[2, 618], batch=[164], ptr=[33])\n",
      "DataBatch(x=[145, 550], edge_index=[2, 512], batch=[145], ptr=[33])\n",
      "DataBatch(x=[132, 550], edge_index=[2, 444], batch=[132], ptr=[33])\n",
      "DataBatch(x=[165, 550], edge_index=[2, 586], batch=[165], ptr=[33])\n",
      "DataBatch(x=[185, 550], edge_index=[2, 858], batch=[185], ptr=[33])\n",
      "DataBatch(x=[144, 550], edge_index=[2, 432], batch=[144], ptr=[33])\n",
      "DataBatch(x=[157, 550], edge_index=[2, 514], batch=[157], ptr=[33])\n",
      "DataBatch(x=[150, 550], edge_index=[2, 510], batch=[150], ptr=[33])\n",
      "DataBatch(x=[162, 550], edge_index=[2, 566], batch=[162], ptr=[33])\n",
      "DataBatch(x=[168, 550], edge_index=[2, 662], batch=[168], ptr=[33])\n",
      "DataBatch(x=[130, 550], edge_index=[2, 402], batch=[130], ptr=[33])\n",
      "DataBatch(x=[155, 550], edge_index=[2, 566], batch=[155], ptr=[33])\n",
      "DataBatch(x=[171, 550], edge_index=[2, 616], batch=[171], ptr=[33])\n",
      "DataBatch(x=[158, 550], edge_index=[2, 660], batch=[158], ptr=[33])\n",
      "DataBatch(x=[128, 550], edge_index=[2, 358], batch=[128], ptr=[33])\n",
      "DataBatch(x=[148, 550], edge_index=[2, 542], batch=[148], ptr=[33])\n",
      "DataBatch(x=[181, 550], edge_index=[2, 746], batch=[181], ptr=[33])\n",
      "DataBatch(x=[145, 550], edge_index=[2, 532], batch=[145], ptr=[33])\n",
      "DataBatch(x=[162, 550], edge_index=[2, 662], batch=[162], ptr=[33])\n",
      "DataBatch(x=[136, 550], edge_index=[2, 404], batch=[136], ptr=[33])\n",
      "DataBatch(x=[156, 550], edge_index=[2, 554], batch=[156], ptr=[33])\n",
      "DataBatch(x=[150, 550], edge_index=[2, 440], batch=[150], ptr=[33])\n",
      "DataBatch(x=[169, 550], edge_index=[2, 638], batch=[169], ptr=[33])\n",
      "DataBatch(x=[136, 550], edge_index=[2, 382], batch=[136], ptr=[33])\n",
      "DataBatch(x=[167, 550], edge_index=[2, 570], batch=[167], ptr=[33])\n",
      "DataBatch(x=[139, 550], edge_index=[2, 470], batch=[139], ptr=[33])\n",
      "DataBatch(x=[151, 550], edge_index=[2, 522], batch=[151], ptr=[33])\n",
      "DataBatch(x=[136, 550], edge_index=[2, 392], batch=[136], ptr=[33])\n",
      "DataBatch(x=[173, 550], edge_index=[2, 706], batch=[173], ptr=[33])\n",
      "DataBatch(x=[157, 550], edge_index=[2, 596], batch=[157], ptr=[33])\n",
      "DataBatch(x=[154, 550], edge_index=[2, 512], batch=[154], ptr=[33])\n",
      "DataBatch(x=[147, 550], edge_index=[2, 590], batch=[147], ptr=[33])\n",
      "DataBatch(x=[185, 550], edge_index=[2, 730], batch=[185], ptr=[33])\n",
      "DataBatch(x=[158, 550], edge_index=[2, 616], batch=[158], ptr=[33])\n",
      "DataBatch(x=[145, 550], edge_index=[2, 458], batch=[145], ptr=[33])\n",
      "DataBatch(x=[173, 550], edge_index=[2, 688], batch=[173], ptr=[33])\n",
      "DataBatch(x=[151, 550], edge_index=[2, 552], batch=[151], ptr=[33])\n",
      "DataBatch(x=[144, 550], edge_index=[2, 508], batch=[144], ptr=[33])\n",
      "DataBatch(x=[182, 550], edge_index=[2, 770], batch=[182], ptr=[33])\n",
      "DataBatch(x=[151, 550], edge_index=[2, 558], batch=[151], ptr=[33])\n",
      "DataBatch(x=[194, 550], edge_index=[2, 820], batch=[194], ptr=[33])\n",
      "DataBatch(x=[144, 550], edge_index=[2, 466], batch=[144], ptr=[33])\n",
      "DataBatch(x=[153, 550], edge_index=[2, 472], batch=[153], ptr=[33])\n",
      "DataBatch(x=[191, 550], edge_index=[2, 836], batch=[191], ptr=[33])\n",
      "DataBatch(x=[148, 550], edge_index=[2, 454], batch=[148], ptr=[33])\n",
      "DataBatch(x=[162, 550], edge_index=[2, 580], batch=[162], ptr=[33])\n",
      "DataBatch(x=[157, 550], edge_index=[2, 628], batch=[157], ptr=[33])\n",
      "DataBatch(x=[166, 550], edge_index=[2, 588], batch=[166], ptr=[33])\n",
      "DataBatch(x=[140, 550], edge_index=[2, 406], batch=[140], ptr=[33])\n",
      "DataBatch(x=[195, 550], edge_index=[2, 840], batch=[195], ptr=[33])\n",
      "DataBatch(x=[122, 550], edge_index=[2, 308], batch=[122], ptr=[33])\n",
      "DataBatch(x=[112, 550], edge_index=[2, 276], batch=[112], ptr=[33])\n",
      "DataBatch(x=[154, 550], edge_index=[2, 538], batch=[154], ptr=[33])\n",
      "DataBatch(x=[148, 550], edge_index=[2, 496], batch=[148], ptr=[33])\n",
      "DataBatch(x=[125, 550], edge_index=[2, 336], batch=[125], ptr=[33])\n",
      "DataBatch(x=[144, 550], edge_index=[2, 458], batch=[144], ptr=[33])\n",
      "DataBatch(x=[148, 550], edge_index=[2, 494], batch=[148], ptr=[33])\n",
      "DataBatch(x=[187, 550], edge_index=[2, 774], batch=[187], ptr=[33])\n",
      "DataBatch(x=[168, 550], edge_index=[2, 682], batch=[168], ptr=[33])\n",
      "DataBatch(x=[156, 550], edge_index=[2, 564], batch=[156], ptr=[33])\n",
      "DataBatch(x=[134, 550], edge_index=[2, 432], batch=[134], ptr=[33])\n",
      "DataBatch(x=[190, 550], edge_index=[2, 802], batch=[190], ptr=[33])\n",
      "DataBatch(x=[157, 550], edge_index=[2, 562], batch=[157], ptr=[33])\n",
      "DataBatch(x=[171, 550], edge_index=[2, 644], batch=[171], ptr=[33])\n",
      "DataBatch(x=[177, 550], edge_index=[2, 728], batch=[177], ptr=[33])\n",
      "DataBatch(x=[150, 550], edge_index=[2, 538], batch=[150], ptr=[33])\n",
      "DataBatch(x=[158, 550], edge_index=[2, 618], batch=[158], ptr=[33])\n",
      "DataBatch(x=[159, 550], edge_index=[2, 596], batch=[159], ptr=[33])\n",
      "DataBatch(x=[169, 550], edge_index=[2, 590], batch=[169], ptr=[33])\n",
      "DataBatch(x=[142, 550], edge_index=[2, 432], batch=[142], ptr=[33])\n",
      "DataBatch(x=[154, 550], edge_index=[2, 506], batch=[154], ptr=[33])\n",
      "DataBatch(x=[159, 550], edge_index=[2, 678], batch=[159], ptr=[33])\n",
      "DataBatch(x=[180, 550], edge_index=[2, 826], batch=[180], ptr=[33])\n",
      "DataBatch(x=[165, 550], edge_index=[2, 666], batch=[165], ptr=[33])\n",
      "DataBatch(x=[171, 550], edge_index=[2, 726], batch=[171], ptr=[33])\n",
      "DataBatch(x=[149, 550], edge_index=[2, 460], batch=[149], ptr=[33])\n",
      "DataBatch(x=[129, 550], edge_index=[2, 388], batch=[129], ptr=[33])\n",
      "DataBatch(x=[137, 550], edge_index=[2, 470], batch=[137], ptr=[33])\n",
      "DataBatch(x=[123, 550], edge_index=[2, 300], batch=[123], ptr=[33])\n",
      "DataBatch(x=[169, 550], edge_index=[2, 594], batch=[169], ptr=[33])\n",
      "DataBatch(x=[150, 550], edge_index=[2, 468], batch=[150], ptr=[33])\n",
      "DataBatch(x=[143, 550], edge_index=[2, 490], batch=[143], ptr=[33])\n",
      "DataBatch(x=[149, 550], edge_index=[2, 536], batch=[149], ptr=[33])\n",
      "DataBatch(x=[171, 550], edge_index=[2, 730], batch=[171], ptr=[33])\n",
      "DataBatch(x=[152, 550], edge_index=[2, 494], batch=[152], ptr=[33])\n",
      "DataBatch(x=[167, 550], edge_index=[2, 608], batch=[167], ptr=[33])\n",
      "DataBatch(x=[140, 550], edge_index=[2, 460], batch=[140], ptr=[33])\n",
      "DataBatch(x=[138, 550], edge_index=[2, 432], batch=[138], ptr=[33])\n",
      "DataBatch(x=[156, 550], edge_index=[2, 578], batch=[156], ptr=[33])\n",
      "DataBatch(x=[131, 550], edge_index=[2, 414], batch=[131], ptr=[33])\n",
      "DataBatch(x=[153, 550], edge_index=[2, 536], batch=[153], ptr=[33])\n",
      "DataBatch(x=[140, 550], edge_index=[2, 450], batch=[140], ptr=[33])\n",
      "DataBatch(x=[161, 550], edge_index=[2, 562], batch=[161], ptr=[33])\n",
      "DataBatch(x=[157, 550], edge_index=[2, 578], batch=[157], ptr=[33])\n",
      "DataBatch(x=[178, 550], edge_index=[2, 712], batch=[178], ptr=[33])\n",
      "DataBatch(x=[168, 550], edge_index=[2, 604], batch=[168], ptr=[33])\n",
      "DataBatch(x=[172, 550], edge_index=[2, 688], batch=[172], ptr=[33])\n",
      "DataBatch(x=[149, 550], edge_index=[2, 480], batch=[149], ptr=[33])\n",
      "DataBatch(x=[149, 550], edge_index=[2, 498], batch=[149], ptr=[33])\n",
      "DataBatch(x=[184, 550], edge_index=[2, 846], batch=[184], ptr=[33])\n",
      "DataBatch(x=[144, 550], edge_index=[2, 486], batch=[144], ptr=[33])\n",
      "DataBatch(x=[210, 550], edge_index=[2, 978], batch=[210], ptr=[33])\n",
      "DataBatch(x=[163, 550], edge_index=[2, 592], batch=[163], ptr=[33])\n",
      "DataBatch(x=[188, 550], edge_index=[2, 736], batch=[188], ptr=[33])\n",
      "DataBatch(x=[183, 550], edge_index=[2, 756], batch=[183], ptr=[33])\n",
      "DataBatch(x=[164, 550], edge_index=[2, 612], batch=[164], ptr=[33])\n",
      "DataBatch(x=[154, 550], edge_index=[2, 552], batch=[154], ptr=[33])\n",
      "DataBatch(x=[144, 550], edge_index=[2, 476], batch=[144], ptr=[33])\n",
      "DataBatch(x=[141, 550], edge_index=[2, 452], batch=[141], ptr=[33])\n",
      "DataBatch(x=[162, 550], edge_index=[2, 642], batch=[162], ptr=[33])\n",
      "DataBatch(x=[155, 550], edge_index=[2, 582], batch=[155], ptr=[33])\n",
      "DataBatch(x=[168, 550], edge_index=[2, 662], batch=[168], ptr=[33])\n",
      "DataBatch(x=[202, 550], edge_index=[2, 866], batch=[202], ptr=[33])\n",
      "DataBatch(x=[179, 550], edge_index=[2, 750], batch=[179], ptr=[33])\n",
      "DataBatch(x=[148, 550], edge_index=[2, 496], batch=[148], ptr=[33])\n",
      "DataBatch(x=[166, 550], edge_index=[2, 598], batch=[166], ptr=[33])\n",
      "DataBatch(x=[140, 550], edge_index=[2, 482], batch=[140], ptr=[33])\n",
      "DataBatch(x=[133, 550], edge_index=[2, 434], batch=[133], ptr=[33])\n",
      "DataBatch(x=[153, 550], edge_index=[2, 514], batch=[153], ptr=[33])\n",
      "DataBatch(x=[146, 550], edge_index=[2, 436], batch=[146], ptr=[33])\n",
      "DataBatch(x=[164, 550], edge_index=[2, 644], batch=[164], ptr=[33])\n",
      "DataBatch(x=[177, 550], edge_index=[2, 660], batch=[177], ptr=[33])\n",
      "DataBatch(x=[157, 550], edge_index=[2, 596], batch=[157], ptr=[33])\n",
      "DataBatch(x=[162, 550], edge_index=[2, 612], batch=[162], ptr=[33])\n",
      "DataBatch(x=[158, 550], edge_index=[2, 574], batch=[158], ptr=[33])\n",
      "DataBatch(x=[139, 550], edge_index=[2, 444], batch=[139], ptr=[33])\n",
      "DataBatch(x=[151, 550], edge_index=[2, 528], batch=[151], ptr=[33])\n",
      "DataBatch(x=[148, 550], edge_index=[2, 524], batch=[148], ptr=[33])\n",
      "DataBatch(x=[158, 550], edge_index=[2, 538], batch=[158], ptr=[33])\n",
      "DataBatch(x=[148, 550], edge_index=[2, 472], batch=[148], ptr=[33])\n",
      "DataBatch(x=[167, 550], edge_index=[2, 664], batch=[167], ptr=[33])\n",
      "DataBatch(x=[149, 550], edge_index=[2, 488], batch=[149], ptr=[33])\n",
      "DataBatch(x=[148, 550], edge_index=[2, 510], batch=[148], ptr=[33])\n",
      "DataBatch(x=[150, 550], edge_index=[2, 546], batch=[150], ptr=[33])\n",
      "DataBatch(x=[138, 550], edge_index=[2, 394], batch=[138], ptr=[33])\n",
      "DataBatch(x=[172, 550], edge_index=[2, 594], batch=[172], ptr=[33])\n",
      "DataBatch(x=[146, 550], edge_index=[2, 438], batch=[146], ptr=[33])\n",
      "DataBatch(x=[181, 550], edge_index=[2, 740], batch=[181], ptr=[33])\n",
      "DataBatch(x=[158, 550], edge_index=[2, 594], batch=[158], ptr=[33])\n",
      "DataBatch(x=[161, 550], edge_index=[2, 578], batch=[161], ptr=[33])\n",
      "DataBatch(x=[173, 550], edge_index=[2, 672], batch=[173], ptr=[33])\n",
      "DataBatch(x=[155, 550], edge_index=[2, 554], batch=[155], ptr=[33])\n",
      "DataBatch(x=[165, 550], edge_index=[2, 626], batch=[165], ptr=[33])\n",
      "DataBatch(x=[150, 550], edge_index=[2, 464], batch=[150], ptr=[33])\n",
      "DataBatch(x=[154, 550], edge_index=[2, 580], batch=[154], ptr=[33])\n",
      "DataBatch(x=[151, 550], edge_index=[2, 510], batch=[151], ptr=[33])\n",
      "DataBatch(x=[130, 550], edge_index=[2, 370], batch=[130], ptr=[33])\n",
      "DataBatch(x=[169, 550], edge_index=[2, 676], batch=[169], ptr=[33])\n",
      "DataBatch(x=[160, 550], edge_index=[2, 662], batch=[160], ptr=[33])\n",
      "DataBatch(x=[148, 550], edge_index=[2, 532], batch=[148], ptr=[33])\n",
      "DataBatch(x=[169, 550], edge_index=[2, 622], batch=[169], ptr=[33])\n",
      "DataBatch(x=[205, 550], edge_index=[2, 900], batch=[205], ptr=[33])\n",
      "DataBatch(x=[135, 550], edge_index=[2, 388], batch=[135], ptr=[33])\n",
      "DataBatch(x=[139, 550], edge_index=[2, 434], batch=[139], ptr=[33])\n",
      "DataBatch(x=[172, 550], edge_index=[2, 642], batch=[172], ptr=[33])\n",
      "DataBatch(x=[155, 550], edge_index=[2, 616], batch=[155], ptr=[33])\n",
      "DataBatch(x=[139, 550], edge_index=[2, 398], batch=[139], ptr=[33])\n",
      "DataBatch(x=[150, 550], edge_index=[2, 484], batch=[150], ptr=[33])\n",
      "DataBatch(x=[135, 550], edge_index=[2, 400], batch=[135], ptr=[33])\n",
      "DataBatch(x=[155, 550], edge_index=[2, 526], batch=[155], ptr=[33])\n",
      "DataBatch(x=[136, 550], edge_index=[2, 380], batch=[136], ptr=[33])\n",
      "DataBatch(x=[168, 550], edge_index=[2, 652], batch=[168], ptr=[33])\n",
      "DataBatch(x=[157, 550], edge_index=[2, 586], batch=[157], ptr=[33])\n",
      "DataBatch(x=[150, 550], edge_index=[2, 468], batch=[150], ptr=[33])\n",
      "DataBatch(x=[167, 550], edge_index=[2, 678], batch=[167], ptr=[33])\n",
      "DataBatch(x=[195, 550], edge_index=[2, 844], batch=[195], ptr=[33])\n",
      "DataBatch(x=[172, 550], edge_index=[2, 690], batch=[172], ptr=[33])\n",
      "DataBatch(x=[140, 550], edge_index=[2, 406], batch=[140], ptr=[33])\n",
      "DataBatch(x=[156, 550], edge_index=[2, 556], batch=[156], ptr=[33])\n",
      "DataBatch(x=[174, 550], edge_index=[2, 624], batch=[174], ptr=[33])\n",
      "DataBatch(x=[210, 550], edge_index=[2, 926], batch=[210], ptr=[33])\n",
      "DataBatch(x=[155, 550], edge_index=[2, 596], batch=[155], ptr=[33])\n",
      "DataBatch(x=[127, 550], edge_index=[2, 350], batch=[127], ptr=[33])\n",
      "DataBatch(x=[143, 550], edge_index=[2, 446], batch=[143], ptr=[33])\n",
      "DataBatch(x=[138, 550], edge_index=[2, 410], batch=[138], ptr=[33])\n",
      "DataBatch(x=[160, 550], edge_index=[2, 534], batch=[160], ptr=[33])\n",
      "DataBatch(x=[169, 550], edge_index=[2, 676], batch=[169], ptr=[33])\n",
      "DataBatch(x=[185, 550], edge_index=[2, 738], batch=[185], ptr=[33])\n",
      "DataBatch(x=[169, 550], edge_index=[2, 580], batch=[169], ptr=[33])\n",
      "DataBatch(x=[172, 550], edge_index=[2, 660], batch=[172], ptr=[33])\n",
      "DataBatch(x=[150, 550], edge_index=[2, 518], batch=[150], ptr=[33])\n",
      "DataBatch(x=[176, 550], edge_index=[2, 692], batch=[176], ptr=[33])\n",
      "DataBatch(x=[174, 550], edge_index=[2, 744], batch=[174], ptr=[33])\n",
      "DataBatch(x=[143, 550], edge_index=[2, 502], batch=[143], ptr=[33])\n",
      "DataBatch(x=[172, 550], edge_index=[2, 644], batch=[172], ptr=[33])\n",
      "DataBatch(x=[154, 550], edge_index=[2, 536], batch=[154], ptr=[33])\n",
      "DataBatch(x=[169, 550], edge_index=[2, 632], batch=[169], ptr=[33])\n",
      "DataBatch(x=[139, 550], edge_index=[2, 488], batch=[139], ptr=[33])\n",
      "DataBatch(x=[154, 550], edge_index=[2, 526], batch=[154], ptr=[33])\n",
      "DataBatch(x=[162, 550], edge_index=[2, 640], batch=[162], ptr=[33])\n",
      "DataBatch(x=[159, 550], edge_index=[2, 572], batch=[159], ptr=[33])\n",
      "DataBatch(x=[166, 550], edge_index=[2, 630], batch=[166], ptr=[33])\n",
      "DataBatch(x=[135, 550], edge_index=[2, 420], batch=[135], ptr=[33])\n",
      "DataBatch(x=[173, 550], edge_index=[2, 700], batch=[173], ptr=[33])\n",
      "DataBatch(x=[165, 550], edge_index=[2, 570], batch=[165], ptr=[33])\n",
      "DataBatch(x=[162, 550], edge_index=[2, 586], batch=[162], ptr=[33])\n",
      "DataBatch(x=[165, 550], edge_index=[2, 642], batch=[165], ptr=[33])\n",
      "DataBatch(x=[160, 550], edge_index=[2, 542], batch=[160], ptr=[33])\n",
      "DataBatch(x=[156, 550], edge_index=[2, 580], batch=[156], ptr=[33])\n",
      "DataBatch(x=[172, 550], edge_index=[2, 658], batch=[172], ptr=[33])\n",
      "DataBatch(x=[171, 550], edge_index=[2, 638], batch=[171], ptr=[33])\n",
      "DataBatch(x=[152, 550], edge_index=[2, 560], batch=[152], ptr=[33])\n",
      "DataBatch(x=[156, 550], edge_index=[2, 598], batch=[156], ptr=[33])\n",
      "DataBatch(x=[165, 550], edge_index=[2, 596], batch=[165], ptr=[33])\n",
      "DataBatch(x=[182, 550], edge_index=[2, 764], batch=[182], ptr=[33])\n",
      "DataBatch(x=[141, 550], edge_index=[2, 474], batch=[141], ptr=[33])\n",
      "DataBatch(x=[160, 550], edge_index=[2, 718], batch=[160], ptr=[33])\n",
      "DataBatch(x=[146, 550], edge_index=[2, 542], batch=[146], ptr=[33])\n",
      "DataBatch(x=[152, 550], edge_index=[2, 524], batch=[152], ptr=[33])\n",
      "DataBatch(x=[160, 550], edge_index=[2, 570], batch=[160], ptr=[33])\n",
      "DataBatch(x=[161, 550], edge_index=[2, 620], batch=[161], ptr=[33])\n",
      "DataBatch(x=[168, 550], edge_index=[2, 632], batch=[168], ptr=[33])\n",
      "DataBatch(x=[149, 550], edge_index=[2, 480], batch=[149], ptr=[33])\n",
      "DataBatch(x=[191, 550], edge_index=[2, 790], batch=[191], ptr=[33])\n",
      "DataBatch(x=[181, 550], edge_index=[2, 754], batch=[181], ptr=[33])\n",
      "DataBatch(x=[164, 550], edge_index=[2, 590], batch=[164], ptr=[33])\n",
      "DataBatch(x=[165, 550], edge_index=[2, 628], batch=[165], ptr=[33])\n",
      "DataBatch(x=[140, 550], edge_index=[2, 434], batch=[140], ptr=[33])\n",
      "DataBatch(x=[179, 550], edge_index=[2, 756], batch=[179], ptr=[33])\n",
      "DataBatch(x=[155, 550], edge_index=[2, 558], batch=[155], ptr=[33])\n",
      "DataBatch(x=[132, 550], edge_index=[2, 420], batch=[132], ptr=[33])\n",
      "DataBatch(x=[157, 550], edge_index=[2, 568], batch=[157], ptr=[33])\n",
      "DataBatch(x=[169, 550], edge_index=[2, 638], batch=[169], ptr=[33])\n",
      "DataBatch(x=[133, 550], edge_index=[2, 406], batch=[133], ptr=[33])\n",
      "DataBatch(x=[139, 550], edge_index=[2, 466], batch=[139], ptr=[33])\n",
      "DataBatch(x=[169, 550], edge_index=[2, 640], batch=[169], ptr=[33])\n",
      "DataBatch(x=[188, 550], edge_index=[2, 850], batch=[188], ptr=[33])\n",
      "DataBatch(x=[156, 550], edge_index=[2, 508], batch=[156], ptr=[33])\n",
      "DataBatch(x=[176, 550], edge_index=[2, 724], batch=[176], ptr=[33])\n",
      "DataBatch(x=[190, 550], edge_index=[2, 818], batch=[190], ptr=[33])\n",
      "DataBatch(x=[161, 550], edge_index=[2, 570], batch=[161], ptr=[33])\n",
      "DataBatch(x=[164, 550], edge_index=[2, 714], batch=[164], ptr=[33])\n",
      "DataBatch(x=[149, 550], edge_index=[2, 460], batch=[149], ptr=[33])\n",
      "DataBatch(x=[159, 550], edge_index=[2, 570], batch=[159], ptr=[33])\n",
      "DataBatch(x=[148, 550], edge_index=[2, 512], batch=[148], ptr=[33])\n",
      "DataBatch(x=[137, 550], edge_index=[2, 452], batch=[137], ptr=[33])\n",
      "DataBatch(x=[154, 550], edge_index=[2, 564], batch=[154], ptr=[33])\n",
      "DataBatch(x=[140, 550], edge_index=[2, 454], batch=[140], ptr=[33])\n",
      "DataBatch(x=[166, 550], edge_index=[2, 646], batch=[166], ptr=[33])\n",
      "DataBatch(x=[146, 550], edge_index=[2, 502], batch=[146], ptr=[33])\n",
      "DataBatch(x=[164, 550], edge_index=[2, 586], batch=[164], ptr=[33])\n",
      "DataBatch(x=[170, 550], edge_index=[2, 684], batch=[170], ptr=[33])\n",
      "DataBatch(x=[165, 550], edge_index=[2, 664], batch=[165], ptr=[33])\n",
      "DataBatch(x=[148, 550], edge_index=[2, 482], batch=[148], ptr=[33])\n",
      "DataBatch(x=[170, 550], edge_index=[2, 674], batch=[170], ptr=[33])\n",
      "DataBatch(x=[164, 550], edge_index=[2, 686], batch=[164], ptr=[33])\n",
      "DataBatch(x=[152, 550], edge_index=[2, 494], batch=[152], ptr=[33])\n",
      "DataBatch(x=[145, 550], edge_index=[2, 486], batch=[145], ptr=[33])\n",
      "DataBatch(x=[149, 550], edge_index=[2, 480], batch=[149], ptr=[33])\n",
      "DataBatch(x=[124, 550], edge_index=[2, 340], batch=[124], ptr=[33])\n",
      "DataBatch(x=[161, 550], edge_index=[2, 586], batch=[161], ptr=[33])\n",
      "DataBatch(x=[131, 550], edge_index=[2, 364], batch=[131], ptr=[33])\n",
      "DataBatch(x=[153, 550], edge_index=[2, 506], batch=[153], ptr=[33])\n",
      "DataBatch(x=[137, 550], edge_index=[2, 430], batch=[137], ptr=[33])\n",
      "DataBatch(x=[144, 550], edge_index=[2, 464], batch=[144], ptr=[33])\n",
      "DataBatch(x=[132, 550], edge_index=[2, 412], batch=[132], ptr=[33])\n",
      "DataBatch(x=[203, 550], edge_index=[2, 972], batch=[203], ptr=[33])\n",
      "DataBatch(x=[147, 550], edge_index=[2, 454], batch=[147], ptr=[33])\n",
      "DataBatch(x=[158, 550], edge_index=[2, 576], batch=[158], ptr=[33])\n",
      "DataBatch(x=[179, 550], edge_index=[2, 728], batch=[179], ptr=[33])\n",
      "DataBatch(x=[175, 550], edge_index=[2, 762], batch=[175], ptr=[33])\n",
      "DataBatch(x=[185, 550], edge_index=[2, 800], batch=[185], ptr=[33])\n",
      "DataBatch(x=[159, 550], edge_index=[2, 584], batch=[159], ptr=[33])\n",
      "DataBatch(x=[155, 550], edge_index=[2, 552], batch=[155], ptr=[33])\n",
      "DataBatch(x=[165, 550], edge_index=[2, 602], batch=[165], ptr=[33])\n",
      "DataBatch(x=[167, 550], edge_index=[2, 668], batch=[167], ptr=[33])\n",
      "DataBatch(x=[163, 550], edge_index=[2, 612], batch=[163], ptr=[33])\n",
      "DataBatch(x=[143, 550], edge_index=[2, 466], batch=[143], ptr=[33])\n",
      "DataBatch(x=[133, 550], edge_index=[2, 448], batch=[133], ptr=[33])\n",
      "DataBatch(x=[151, 550], edge_index=[2, 560], batch=[151], ptr=[33])\n",
      "DataBatch(x=[147, 550], edge_index=[2, 512], batch=[147], ptr=[33])\n",
      "DataBatch(x=[148, 550], edge_index=[2, 500], batch=[148], ptr=[33])\n",
      "DataBatch(x=[155, 550], edge_index=[2, 560], batch=[155], ptr=[33])\n",
      "DataBatch(x=[136, 550], edge_index=[2, 406], batch=[136], ptr=[33])\n",
      "DataBatch(x=[133, 550], edge_index=[2, 408], batch=[133], ptr=[33])\n",
      "DataBatch(x=[167, 550], edge_index=[2, 696], batch=[167], ptr=[33])\n",
      "DataBatch(x=[165, 550], edge_index=[2, 680], batch=[165], ptr=[33])\n",
      "DataBatch(x=[170, 550], edge_index=[2, 712], batch=[170], ptr=[33])\n",
      "DataBatch(x=[168, 550], edge_index=[2, 662], batch=[168], ptr=[33])\n",
      "DataBatch(x=[138, 550], edge_index=[2, 492], batch=[138], ptr=[33])\n",
      "DataBatch(x=[156, 550], edge_index=[2, 580], batch=[156], ptr=[33])\n",
      "DataBatch(x=[179, 550], edge_index=[2, 748], batch=[179], ptr=[33])\n",
      "DataBatch(x=[168, 550], edge_index=[2, 700], batch=[168], ptr=[33])\n",
      "DataBatch(x=[145, 550], edge_index=[2, 458], batch=[145], ptr=[33])\n",
      "DataBatch(x=[138, 550], edge_index=[2, 430], batch=[138], ptr=[33])\n",
      "DataBatch(x=[158, 550], edge_index=[2, 570], batch=[158], ptr=[33])\n",
      "DataBatch(x=[189, 550], edge_index=[2, 850], batch=[189], ptr=[33])\n",
      "DataBatch(x=[156, 550], edge_index=[2, 566], batch=[156], ptr=[33])\n",
      "DataBatch(x=[190, 550], edge_index=[2, 848], batch=[190], ptr=[33])\n",
      "DataBatch(x=[137, 550], edge_index=[2, 452], batch=[137], ptr=[33])\n",
      "DataBatch(x=[178, 550], edge_index=[2, 726], batch=[178], ptr=[33])\n",
      "DataBatch(x=[145, 550], edge_index=[2, 464], batch=[145], ptr=[33])\n",
      "DataBatch(x=[142, 550], edge_index=[2, 538], batch=[142], ptr=[33])\n",
      "DataBatch(x=[158, 550], edge_index=[2, 626], batch=[158], ptr=[33])\n",
      "DataBatch(x=[128, 550], edge_index=[2, 376], batch=[128], ptr=[33])\n",
      "DataBatch(x=[162, 550], edge_index=[2, 566], batch=[162], ptr=[33])\n",
      "DataBatch(x=[152, 550], edge_index=[2, 458], batch=[152], ptr=[33])\n",
      "DataBatch(x=[164, 550], edge_index=[2, 556], batch=[164], ptr=[33])\n",
      "DataBatch(x=[172, 550], edge_index=[2, 682], batch=[172], ptr=[33])\n",
      "DataBatch(x=[134, 550], edge_index=[2, 416], batch=[134], ptr=[33])\n",
      "DataBatch(x=[164, 550], edge_index=[2, 626], batch=[164], ptr=[33])\n",
      "DataBatch(x=[160, 550], edge_index=[2, 586], batch=[160], ptr=[33])\n",
      "DataBatch(x=[138, 550], edge_index=[2, 422], batch=[138], ptr=[33])\n",
      "DataBatch(x=[123, 550], edge_index=[2, 342], batch=[123], ptr=[33])\n",
      "DataBatch(x=[151, 550], edge_index=[2, 518], batch=[151], ptr=[33])\n",
      "DataBatch(x=[137, 550], edge_index=[2, 398], batch=[137], ptr=[33])\n",
      "DataBatch(x=[163, 550], edge_index=[2, 638], batch=[163], ptr=[33])\n",
      "DataBatch(x=[131, 550], edge_index=[2, 350], batch=[131], ptr=[33])\n",
      "DataBatch(x=[146, 550], edge_index=[2, 466], batch=[146], ptr=[33])\n",
      "DataBatch(x=[151, 550], edge_index=[2, 498], batch=[151], ptr=[33])\n",
      "DataBatch(x=[164, 550], edge_index=[2, 612], batch=[164], ptr=[33])\n",
      "DataBatch(x=[152, 550], edge_index=[2, 556], batch=[152], ptr=[33])\n",
      "DataBatch(x=[150, 550], edge_index=[2, 520], batch=[150], ptr=[33])\n",
      "DataBatch(x=[164, 550], edge_index=[2, 636], batch=[164], ptr=[33])\n",
      "DataBatch(x=[146, 550], edge_index=[2, 506], batch=[146], ptr=[33])\n",
      "DataBatch(x=[159, 550], edge_index=[2, 636], batch=[159], ptr=[33])\n",
      "DataBatch(x=[154, 550], edge_index=[2, 524], batch=[154], ptr=[33])\n",
      "DataBatch(x=[160, 550], edge_index=[2, 638], batch=[160], ptr=[33])\n",
      "DataBatch(x=[115, 550], edge_index=[2, 284], batch=[115], ptr=[33])\n",
      "DataBatch(x=[149, 550], edge_index=[2, 556], batch=[149], ptr=[33])\n",
      "DataBatch(x=[163, 550], edge_index=[2, 656], batch=[163], ptr=[33])\n",
      "DataBatch(x=[165, 550], edge_index=[2, 626], batch=[165], ptr=[33])\n",
      "DataBatch(x=[168, 550], edge_index=[2, 650], batch=[168], ptr=[33])\n",
      "DataBatch(x=[140, 550], edge_index=[2, 526], batch=[140], ptr=[33])\n",
      "DataBatch(x=[176, 550], edge_index=[2, 726], batch=[176], ptr=[33])\n",
      "DataBatch(x=[153, 550], edge_index=[2, 496], batch=[153], ptr=[33])\n",
      "DataBatch(x=[150, 550], edge_index=[2, 506], batch=[150], ptr=[33])\n",
      "DataBatch(x=[173, 550], edge_index=[2, 686], batch=[173], ptr=[33])\n",
      "DataBatch(x=[154, 550], edge_index=[2, 514], batch=[154], ptr=[33])\n",
      "DataBatch(x=[167, 550], edge_index=[2, 598], batch=[167], ptr=[33])\n",
      "DataBatch(x=[171, 550], edge_index=[2, 716], batch=[171], ptr=[33])\n",
      "DataBatch(x=[151, 550], edge_index=[2, 486], batch=[151], ptr=[33])\n",
      "DataBatch(x=[164, 550], edge_index=[2, 680], batch=[164], ptr=[33])\n",
      "DataBatch(x=[168, 550], edge_index=[2, 672], batch=[168], ptr=[33])\n",
      "DataBatch(x=[157, 550], edge_index=[2, 546], batch=[157], ptr=[33])\n",
      "DataBatch(x=[196, 550], edge_index=[2, 876], batch=[196], ptr=[33])\n",
      "DataBatch(x=[149, 550], edge_index=[2, 482], batch=[149], ptr=[33])\n",
      "DataBatch(x=[184, 550], edge_index=[2, 764], batch=[184], ptr=[33])\n",
      "DataBatch(x=[140, 550], edge_index=[2, 414], batch=[140], ptr=[33])\n",
      "DataBatch(x=[172, 550], edge_index=[2, 706], batch=[172], ptr=[33])\n",
      "DataBatch(x=[185, 550], edge_index=[2, 744], batch=[185], ptr=[33])\n",
      "DataBatch(x=[130, 550], edge_index=[2, 380], batch=[130], ptr=[33])\n",
      "DataBatch(x=[174, 550], edge_index=[2, 696], batch=[174], ptr=[33])\n",
      "DataBatch(x=[148, 550], edge_index=[2, 548], batch=[148], ptr=[33])\n",
      "DataBatch(x=[153, 550], edge_index=[2, 544], batch=[153], ptr=[33])\n",
      "DataBatch(x=[154, 550], edge_index=[2, 570], batch=[154], ptr=[33])\n",
      "DataBatch(x=[170, 550], edge_index=[2, 650], batch=[170], ptr=[33])\n",
      "DataBatch(x=[170, 550], edge_index=[2, 672], batch=[170], ptr=[33])\n",
      "DataBatch(x=[167, 550], edge_index=[2, 628], batch=[167], ptr=[33])\n",
      "DataBatch(x=[131, 550], edge_index=[2, 380], batch=[131], ptr=[33])\n",
      "DataBatch(x=[152, 550], edge_index=[2, 508], batch=[152], ptr=[33])\n",
      "DataBatch(x=[146, 550], edge_index=[2, 520], batch=[146], ptr=[33])\n",
      "DataBatch(x=[128, 550], edge_index=[2, 338], batch=[128], ptr=[33])\n",
      "DataBatch(x=[160, 550], edge_index=[2, 604], batch=[160], ptr=[33])\n",
      "DataBatch(x=[138, 550], edge_index=[2, 432], batch=[138], ptr=[33])\n",
      "DataBatch(x=[161, 550], edge_index=[2, 614], batch=[161], ptr=[33])\n",
      "DataBatch(x=[168, 550], edge_index=[2, 692], batch=[168], ptr=[33])\n",
      "DataBatch(x=[157, 550], edge_index=[2, 606], batch=[157], ptr=[33])\n",
      "DataBatch(x=[140, 550], edge_index=[2, 446], batch=[140], ptr=[33])\n",
      "DataBatch(x=[159, 550], edge_index=[2, 532], batch=[159], ptr=[33])\n",
      "DataBatch(x=[156, 550], edge_index=[2, 590], batch=[156], ptr=[33])\n",
      "DataBatch(x=[152, 550], edge_index=[2, 572], batch=[152], ptr=[33])\n",
      "DataBatch(x=[138, 550], edge_index=[2, 452], batch=[138], ptr=[33])\n",
      "DataBatch(x=[144, 550], edge_index=[2, 450], batch=[144], ptr=[33])\n",
      "DataBatch(x=[160, 550], edge_index=[2, 580], batch=[160], ptr=[33])\n",
      "DataBatch(x=[162, 550], edge_index=[2, 636], batch=[162], ptr=[33])\n",
      "DataBatch(x=[128, 550], edge_index=[2, 366], batch=[128], ptr=[33])\n",
      "DataBatch(x=[162, 550], edge_index=[2, 612], batch=[162], ptr=[33])\n",
      "DataBatch(x=[152, 550], edge_index=[2, 574], batch=[152], ptr=[33])\n",
      "DataBatch(x=[175, 550], edge_index=[2, 732], batch=[175], ptr=[33])\n",
      "DataBatch(x=[168, 550], edge_index=[2, 694], batch=[168], ptr=[33])\n",
      "DataBatch(x=[156, 550], edge_index=[2, 516], batch=[156], ptr=[33])\n",
      "DataBatch(x=[172, 550], edge_index=[2, 732], batch=[172], ptr=[33])\n",
      "DataBatch(x=[152, 550], edge_index=[2, 536], batch=[152], ptr=[33])\n",
      "DataBatch(x=[164, 550], edge_index=[2, 598], batch=[164], ptr=[33])\n",
      "DataBatch(x=[128, 550], edge_index=[2, 370], batch=[128], ptr=[33])\n",
      "DataBatch(x=[187, 550], edge_index=[2, 790], batch=[187], ptr=[33])\n",
      "DataBatch(x=[149, 550], edge_index=[2, 556], batch=[149], ptr=[33])\n",
      "DataBatch(x=[166, 550], edge_index=[2, 716], batch=[166], ptr=[33])\n",
      "DataBatch(x=[151, 550], edge_index=[2, 576], batch=[151], ptr=[33])\n",
      "DataBatch(x=[197, 550], edge_index=[2, 856], batch=[197], ptr=[33])\n",
      "DataBatch(x=[162, 550], edge_index=[2, 554], batch=[162], ptr=[33])\n",
      "DataBatch(x=[154, 550], edge_index=[2, 556], batch=[154], ptr=[33])\n",
      "DataBatch(x=[179, 550], edge_index=[2, 750], batch=[179], ptr=[33])\n",
      "DataBatch(x=[164, 550], edge_index=[2, 690], batch=[164], ptr=[33])\n",
      "DataBatch(x=[154, 550], edge_index=[2, 548], batch=[154], ptr=[33])\n",
      "DataBatch(x=[150, 550], edge_index=[2, 494], batch=[150], ptr=[33])\n",
      "DataBatch(x=[174, 550], edge_index=[2, 750], batch=[174], ptr=[33])\n",
      "DataBatch(x=[165, 550], edge_index=[2, 640], batch=[165], ptr=[33])\n",
      "DataBatch(x=[185, 550], edge_index=[2, 684], batch=[185], ptr=[33])\n",
      "DataBatch(x=[153, 550], edge_index=[2, 536], batch=[153], ptr=[33])\n",
      "DataBatch(x=[121, 550], edge_index=[2, 454], batch=[121], ptr=[25])\n"
     ]
    }
   ],
   "source": [
    "for data in train_loader:\n",
    "    print(data)"
   ]
  },
  {
   "cell_type": "code",
   "execution_count": null,
   "outputs": [],
   "source": [],
   "metadata": {
    "collapsed": false
   }
  }
 ],
 "metadata": {
  "kernelspec": {
   "name": "python3",
   "language": "python",
   "display_name": "Python 3 (ipykernel)"
  },
  "language_info": {
   "codemirror_mode": {
    "name": "ipython",
    "version": 3
   },
   "file_extension": ".py",
   "mimetype": "text/x-python",
   "name": "python",
   "nbconvert_exporter": "python",
   "pygments_lexer": "ipython3",
   "version": "3.11.4"
  }
 },
 "nbformat": 4,
 "nbformat_minor": 4
}
