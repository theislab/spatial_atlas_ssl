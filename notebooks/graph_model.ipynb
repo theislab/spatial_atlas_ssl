{
 "cells": [
  {
   "cell_type": "code",
   "execution_count": 1,
   "metadata": {
    "collapsed": true,
    "ExecuteTime": {
     "end_time": "2023-07-25T11:02:09.256250Z",
     "start_time": "2023-07-25T11:02:01.430958Z"
    }
   },
   "outputs": [],
   "source": [
    "import networkx as nx\n",
    "import numpy as np\n",
    "import scanpy as sc\n",
    "import squidpy as sq\n",
    "import torch\n",
    "from sklearn.metrics import r2_score\n",
    "from torch import Tensor\n",
    "from torch_geometric.loader import DataLoader\n",
    "from torch_geometric.nn import GCNConv, conv\n",
    "from torch_geometric.utils import from_networkx\n",
    "from torch_geometric.utils.convert import from_scipy_sparse_matrix\n",
    "from torch import nn, optim\n",
    "from tqdm.auto import tqdm"
   ]
  },
  {
   "cell_type": "code",
   "execution_count": 2,
   "outputs": [],
   "source": [
    "adata = sc.read(\"../example_files/img_1199670929.h5ad\")"
   ],
   "metadata": {
    "collapsed": false,
    "ExecuteTime": {
     "end_time": "2023-07-25T11:02:09.741790Z",
     "start_time": "2023-07-25T11:02:09.261093Z"
    }
   }
  },
  {
   "cell_type": "code",
   "execution_count": 24,
   "outputs": [
    {
     "name": "stdout",
     "output_type": "stream",
     "text": [
      "mean node degree: 8.9\n"
     ]
    }
   ],
   "source": [
    "sq.gr.spatial_neighbors(adata=adata, radius=30, key_added=\"adjacency_matrix\", coord_type=\"generic\")\n",
    "edge_index, edge_weight = from_scipy_sparse_matrix(adata.obsp[\"adjacency_matrix_connectivities\"])\n",
    "x = torch.tensor(adata.X.toarray(), dtype=torch.double)\n",
    "print(f\"mean node degree: {edge_index.shape[1]/len(adata):.1f}\")"
   ],
   "metadata": {
    "collapsed": false,
    "ExecuteTime": {
     "end_time": "2023-07-25T11:21:20.167900Z",
     "start_time": "2023-07-25T11:21:17.620624Z"
    }
   }
  },
  {
   "cell_type": "code",
   "execution_count": 4,
   "outputs": [],
   "source": [
    "# Create a large graph\n",
    "G = nx.Graph()\n",
    "\n",
    "# Add nodes with features to the graph\n",
    "for i, features in enumerate(adata.X.toarray()):\n",
    "    G.add_node(i, features=features)\n",
    "\n",
    "# Add edges to the graph\n",
    "G.add_edges_from(edge_index.t().tolist())"
   ],
   "metadata": {
    "collapsed": false,
    "ExecuteTime": {
     "end_time": "2023-07-25T11:02:36.363257Z",
     "start_time": "2023-07-25T11:02:35.846167Z"
    }
   }
  },
  {
   "cell_type": "code",
   "execution_count": 5,
   "outputs": [
    {
     "data": {
      "text/plain": "  0%|          | 0/26230 [00:00<?, ?it/s]",
      "application/vnd.jupyter.widget-view+json": {
       "version_major": 2,
       "version_minor": 0,
       "model_id": "0f995bfe94e3406ab220e0ae38e0394d"
      }
     },
     "metadata": {},
     "output_type": "display_data"
    }
   ],
   "source": [
    "# create subgraphs from each node of G using networkx\n",
    "subgraphs = []\n",
    "for node in tqdm(G.nodes()):\n",
    "    subgraphs.append(nx.ego_graph(G, node, radius = 1))"
   ],
   "metadata": {
    "collapsed": false,
    "ExecuteTime": {
     "end_time": "2023-07-25T11:02:42.773976Z",
     "start_time": "2023-07-25T11:02:38.904782Z"
    }
   }
  },
  {
   "cell_type": "code",
   "execution_count": 25,
   "outputs": [
    {
     "name": "stdout",
     "output_type": "stream",
     "text": [
      "Mean number of nodes per subgraph 4.92\n"
     ]
    }
   ],
   "source": [
    "# mean number of nodes per subgraph\n",
    "print(f\"Mean number of nodes per subgraph {np.mean([graph.number_of_nodes() for graph in subgraphs]):.2f}\")"
   ],
   "metadata": {
    "collapsed": false,
    "ExecuteTime": {
     "end_time": "2023-07-25T11:23:46.449663Z",
     "start_time": "2023-07-25T11:23:46.232318Z"
    }
   }
  },
  {
   "cell_type": "code",
   "execution_count": 10,
   "outputs": [
    {
     "data": {
      "text/plain": "  0%|          | 0/26230 [00:00<?, ?it/s]",
      "application/vnd.jupyter.widget-view+json": {
       "version_major": 2,
       "version_minor": 0,
       "model_id": "17cca7a14ed646bd9bcb01f055f68718"
      }
     },
     "metadata": {},
     "output_type": "display_data"
    },
    {
     "name": "stderr",
     "output_type": "stream",
     "text": [
      "/Users/leopoldendres/opt/miniconda3/envs/spatial_atlas_ssl_env/lib/python3.8/site-packages/torch_geometric/utils/convert.py:249: UserWarning: Creating a tensor from a list of numpy.ndarrays is extremely slow. Please consider converting the list to a single numpy.ndarray with numpy.array() before converting to a tensor. (Triggered internally at /Users/runner/work/_temp/anaconda/conda-bld/pytorch_1682343680142/work/torch/csrc/utils/tensor_new.cpp:248.)\n",
      "  data[key] = torch.tensor(value)\n"
     ]
    }
   ],
   "source": [
    "loader = DataLoader([from_networkx(graph, group_node_attrs=['features']) for graph in tqdm(subgraphs)], batch_size=64, shuffle=True)"
   ],
   "metadata": {
    "collapsed": false,
    "ExecuteTime": {
     "end_time": "2023-07-25T11:03:47.724397Z",
     "start_time": "2023-07-25T11:03:27.882905Z"
    }
   }
  },
  {
   "cell_type": "code",
   "execution_count": 21,
   "outputs": [],
   "source": [
    "class GCN(torch.nn.Module):\n",
    "    def __init__(self, in_channels, hidden_channels, out_channels):\n",
    "        super().__init__()\n",
    "        self.conv1 = GCNConv(in_channels, hidden_channels)\n",
    "        #self.conv2 = GCNConv(hidden_channels, out_channels)\n",
    "        self.linear = nn.Linear(hidden_channels, 550)\n",
    "\n",
    "\n",
    "    def forward(self, x: Tensor, edge_index: Tensor) -> Tensor:\n",
    "        # x: Node feature matrix of shape [num_nodes, in_channels]\n",
    "        # edge_index: Graph connectivity matrix of shape [2, num_edges]\n",
    "        x = self.conv1(x, edge_index).relu()\n",
    "        #print(x.shape)\n",
    "        #x = self.conv2(x, edge_index).relu()\n",
    "        #print(x.shape)\n",
    "        x = self.linear(x)\n",
    "        #print(x.shape)\n",
    "        return x"
   ],
   "metadata": {
    "collapsed": false,
    "ExecuteTime": {
     "end_time": "2023-07-25T11:08:07.385797Z",
     "start_time": "2023-07-25T11:08:07.380531Z"
    }
   }
  },
  {
   "cell_type": "code",
   "execution_count": 23,
   "outputs": [
    {
     "data": {
      "text/plain": "GCN(\n  (conv1): GCNConv(550, 64)\n  (linear): Linear(in_features=64, out_features=550, bias=True)\n)"
     },
     "metadata": {},
     "output_type": "display_data"
    },
    {
     "name": "stdout",
     "output_type": "stream",
     "text": [
      "Epoch 1/1000, train loss: 1.0145, train r2: -0.2945\n",
      "Epoch 2/1000, train loss: 0.8425, train r2: -0.1283\n",
      "Epoch 3/1000, train loss: 0.7749, train r2: -0.0625\n",
      "Epoch 4/1000, train loss: 0.7092, train r2: -0.0072\n",
      "Epoch 5/1000, train loss: 0.6498, train r2: 0.0351\n",
      "Epoch 6/1000, train loss: 0.6150, train r2: 0.0569\n",
      "Epoch 7/1000, train loss: 0.6016, train r2: 0.0664\n",
      "Epoch 8/1000, train loss: 0.5931, train r2: 0.0739\n",
      "Epoch 9/1000, train loss: 0.5904, train r2: 0.0779\n",
      "Epoch 10/1000, train loss: 0.5869, train r2: 0.0816\n",
      "Epoch 11/1000, train loss: 0.5847, train r2: 0.0850\n",
      "Epoch 12/1000, train loss: 0.5822, train r2: 0.0875\n",
      "Epoch 13/1000, train loss: 0.5805, train r2: 0.0903\n",
      "Epoch 14/1000, train loss: 0.5803, train r2: 0.0913\n",
      "Epoch 15/1000, train loss: 0.5777, train r2: 0.0936\n",
      "Epoch 16/1000, train loss: 0.5766, train r2: 0.0952\n",
      "Epoch 17/1000, train loss: 0.5751, train r2: 0.0968\n",
      "Epoch 18/1000, train loss: 0.5742, train r2: 0.0980\n",
      "Epoch 19/1000, train loss: 0.5730, train r2: 0.0994\n",
      "Epoch 20/1000, train loss: 0.5716, train r2: 0.1008\n",
      "Epoch 21/1000, train loss: 0.5699, train r2: 0.1026\n",
      "Epoch 22/1000, train loss: 0.5692, train r2: 0.1028\n",
      "Epoch 23/1000, train loss: 0.5677, train r2: 0.1045\n",
      "Epoch 24/1000, train loss: 0.5668, train r2: 0.1052\n",
      "Epoch 25/1000, train loss: 0.5654, train r2: 0.1062\n",
      "Epoch 26/1000, train loss: 0.5641, train r2: 0.1077\n",
      "Epoch 27/1000, train loss: 0.5633, train r2: 0.1084\n",
      "Epoch 28/1000, train loss: 0.5630, train r2: 0.1086\n",
      "Epoch 29/1000, train loss: 0.5619, train r2: 0.1095\n",
      "Epoch 30/1000, train loss: 0.5614, train r2: 0.1103\n",
      "Epoch 31/1000, train loss: 0.5623, train r2: 0.1098\n",
      "Epoch 32/1000, train loss: 0.5609, train r2: 0.1108\n",
      "Epoch 33/1000, train loss: 0.5599, train r2: 0.1112\n",
      "Epoch 34/1000, train loss: 0.5596, train r2: 0.1118\n",
      "Epoch 35/1000, train loss: 0.5584, train r2: 0.1123\n",
      "Epoch 36/1000, train loss: 0.5591, train r2: 0.1123\n",
      "Epoch 37/1000, train loss: 0.5565, train r2: 0.1145\n",
      "Epoch 38/1000, train loss: 0.5575, train r2: 0.1135\n",
      "Epoch 39/1000, train loss: 0.5576, train r2: 0.1138\n",
      "Epoch 40/1000, train loss: 0.5566, train r2: 0.1143\n",
      "Epoch 41/1000, train loss: 0.5562, train r2: 0.1148\n",
      "Epoch 42/1000, train loss: 0.5557, train r2: 0.1157\n",
      "Epoch 43/1000, train loss: 0.5554, train r2: 0.1157\n",
      "Epoch 44/1000, train loss: 0.5557, train r2: 0.1155\n",
      "Epoch 45/1000, train loss: 0.5561, train r2: 0.1152\n",
      "Epoch 46/1000, train loss: 0.5555, train r2: 0.1157\n",
      "Epoch 47/1000, train loss: 0.5551, train r2: 0.1158\n",
      "Epoch 48/1000, train loss: 0.5546, train r2: 0.1165\n",
      "Epoch 49/1000, train loss: 0.5548, train r2: 0.1161\n",
      "Epoch 50/1000, train loss: 0.5544, train r2: 0.1166\n",
      "Epoch 51/1000, train loss: 0.5545, train r2: 0.1167\n",
      "Epoch 52/1000, train loss: 0.5544, train r2: 0.1167\n",
      "Epoch 53/1000, train loss: 0.5540, train r2: 0.1168\n",
      "Epoch 54/1000, train loss: 0.5539, train r2: 0.1174\n",
      "Epoch 55/1000, train loss: 0.5531, train r2: 0.1180\n",
      "Epoch 56/1000, train loss: 0.5530, train r2: 0.1180\n",
      "Epoch 57/1000, train loss: 0.5521, train r2: 0.1186\n",
      "Epoch 58/1000, train loss: 0.5522, train r2: 0.1191\n",
      "Epoch 59/1000, train loss: 0.5523, train r2: 0.1181\n",
      "Epoch 60/1000, train loss: 0.5523, train r2: 0.1184\n",
      "Epoch 61/1000, train loss: 0.5527, train r2: 0.1179\n",
      "Epoch 62/1000, train loss: 0.5519, train r2: 0.1192\n",
      "Epoch 63/1000, train loss: 0.5526, train r2: 0.1185\n",
      "Epoch 64/1000, train loss: 0.5523, train r2: 0.1186\n",
      "Epoch 65/1000, train loss: 0.5526, train r2: 0.1184\n",
      "Epoch 66/1000, train loss: 0.5510, train r2: 0.1199\n",
      "Epoch 67/1000, train loss: 0.5510, train r2: 0.1197\n",
      "Epoch 68/1000, train loss: 0.5511, train r2: 0.1198\n",
      "Epoch 69/1000, train loss: 0.5511, train r2: 0.1199\n",
      "Epoch 70/1000, train loss: 0.5508, train r2: 0.1203\n",
      "Epoch 71/1000, train loss: 0.5502, train r2: 0.1204\n",
      "Epoch 72/1000, train loss: 0.5507, train r2: 0.1202\n",
      "Epoch 73/1000, train loss: 0.5504, train r2: 0.1203\n",
      "Epoch 74/1000, train loss: 0.5511, train r2: 0.1196\n",
      "Epoch 75/1000, train loss: 0.5515, train r2: 0.1197\n",
      "Epoch 76/1000, train loss: 0.5512, train r2: 0.1194\n",
      "Epoch 77/1000, train loss: 0.5507, train r2: 0.1205\n",
      "Epoch 78/1000, train loss: 0.5505, train r2: 0.1202\n",
      "Epoch 79/1000, train loss: 0.5497, train r2: 0.1209\n",
      "Epoch 80/1000, train loss: 0.5503, train r2: 0.1205\n",
      "Epoch 81/1000, train loss: 0.5500, train r2: 0.1209\n",
      "Epoch 82/1000, train loss: 0.5499, train r2: 0.1208\n",
      "Epoch 83/1000, train loss: 0.5501, train r2: 0.1206\n",
      "Epoch 84/1000, train loss: 0.5498, train r2: 0.1208\n",
      "Epoch 85/1000, train loss: 0.5494, train r2: 0.1212\n",
      "Epoch 86/1000, train loss: 0.5495, train r2: 0.1210\n",
      "Epoch 87/1000, train loss: 0.5502, train r2: 0.1207\n",
      "Epoch 88/1000, train loss: 0.5506, train r2: 0.1203\n",
      "Epoch 89/1000, train loss: 0.5496, train r2: 0.1211\n",
      "Epoch 90/1000, train loss: 0.5493, train r2: 0.1212\n",
      "Epoch 91/1000, train loss: 0.5493, train r2: 0.1213\n",
      "Epoch 92/1000, train loss: 0.5493, train r2: 0.1213\n",
      "Epoch 93/1000, train loss: 0.5490, train r2: 0.1211\n",
      "Epoch 94/1000, train loss: 0.5481, train r2: 0.1224\n",
      "Epoch 95/1000, train loss: 0.5492, train r2: 0.1207\n",
      "Epoch 96/1000, train loss: 0.5497, train r2: 0.1211\n",
      "Epoch 97/1000, train loss: 0.5483, train r2: 0.1219\n",
      "Epoch 98/1000, train loss: 0.5493, train r2: 0.1213\n",
      "Epoch 99/1000, train loss: 0.5487, train r2: 0.1214\n",
      "Epoch 100/1000, train loss: 0.5483, train r2: 0.1220\n",
      "Epoch 101/1000, train loss: 0.5488, train r2: 0.1221\n",
      "Epoch 102/1000, train loss: 0.5488, train r2: 0.1217\n",
      "Epoch 103/1000, train loss: 0.5495, train r2: 0.1210\n",
      "Epoch 104/1000, train loss: 0.5484, train r2: 0.1221\n",
      "Epoch 105/1000, train loss: 0.5494, train r2: 0.1213\n",
      "Epoch 106/1000, train loss: 0.5492, train r2: 0.1216\n",
      "Epoch 107/1000, train loss: 0.5489, train r2: 0.1215\n",
      "Epoch 108/1000, train loss: 0.5486, train r2: 0.1219\n",
      "Epoch 109/1000, train loss: 0.5481, train r2: 0.1221\n",
      "Epoch 110/1000, train loss: 0.5482, train r2: 0.1222\n",
      "Epoch 111/1000, train loss: 0.5480, train r2: 0.1225\n",
      "Epoch 112/1000, train loss: 0.5481, train r2: 0.1225\n",
      "Epoch 113/1000, train loss: 0.5474, train r2: 0.1230\n",
      "Epoch 114/1000, train loss: 0.5485, train r2: 0.1219\n",
      "Epoch 115/1000, train loss: 0.5485, train r2: 0.1218\n",
      "Epoch 116/1000, train loss: 0.5478, train r2: 0.1223\n",
      "Epoch 117/1000, train loss: 0.5474, train r2: 0.1232\n",
      "Epoch 118/1000, train loss: 0.5481, train r2: 0.1224\n",
      "Epoch 119/1000, train loss: 0.5480, train r2: 0.1224\n",
      "Epoch 120/1000, train loss: 0.5467, train r2: 0.1233\n",
      "Epoch 121/1000, train loss: 0.5469, train r2: 0.1236\n",
      "Epoch 122/1000, train loss: 0.5476, train r2: 0.1227\n",
      "Epoch 123/1000, train loss: 0.5473, train r2: 0.1231\n",
      "Epoch 124/1000, train loss: 0.5477, train r2: 0.1226\n",
      "Epoch 125/1000, train loss: 0.5477, train r2: 0.1226\n",
      "Epoch 126/1000, train loss: 0.5479, train r2: 0.1225\n"
     ]
    },
    {
     "ename": "KeyboardInterrupt",
     "evalue": "",
     "output_type": "error",
     "traceback": [
      "\u001B[0;31m---------------------------------------------------------------------------\u001B[0m",
      "\u001B[0;31mKeyboardInterrupt\u001B[0m                         Traceback (most recent call last)",
      "Cell \u001B[0;32mIn[23], line 75\u001B[0m\n\u001B[1;32m     73\u001B[0m train_loss \u001B[38;5;241m=\u001B[39m total_loss \u001B[38;5;241m/\u001B[39m \u001B[38;5;28mlen\u001B[39m(loader\u001B[38;5;241m.\u001B[39mdataset)\n\u001B[1;32m     74\u001B[0m train_losses\u001B[38;5;241m.\u001B[39mappend(train_loss)\n\u001B[0;32m---> 75\u001B[0m train_r2 \u001B[38;5;241m=\u001B[39m r2_score(torch\u001B[38;5;241m.\u001B[39mcat(targets_list)\u001B[38;5;241m.\u001B[39mcpu()\u001B[38;5;241m.\u001B[39mdetach()\u001B[38;5;241m.\u001B[39mnumpy(), \u001B[43mtorch\u001B[49m\u001B[38;5;241;43m.\u001B[39;49m\u001B[43mcat\u001B[49m\u001B[43m(\u001B[49m\u001B[43moutputs_list\u001B[49m\u001B[43m)\u001B[49m\u001B[38;5;241m.\u001B[39mcpu()\u001B[38;5;241m.\u001B[39mdetach()\u001B[38;5;241m.\u001B[39mnumpy())\n\u001B[1;32m     76\u001B[0m train_r2_scores\u001B[38;5;241m.\u001B[39mappend(train_r2)\n\u001B[1;32m     77\u001B[0m \u001B[38;5;28mprint\u001B[39m(\u001B[38;5;124mf\u001B[39m\u001B[38;5;124m\"\u001B[39m\u001B[38;5;124mEpoch \u001B[39m\u001B[38;5;132;01m{\u001B[39;00mepoch\u001B[38;5;241m+\u001B[39m\u001B[38;5;241m1\u001B[39m\u001B[38;5;132;01m}\u001B[39;00m\u001B[38;5;124m/\u001B[39m\u001B[38;5;132;01m{\u001B[39;00mnum_epochs\u001B[38;5;132;01m}\u001B[39;00m\u001B[38;5;124m, train loss: \u001B[39m\u001B[38;5;132;01m{\u001B[39;00mtrain_loss\u001B[38;5;132;01m:\u001B[39;00m\u001B[38;5;124m.4f\u001B[39m\u001B[38;5;132;01m}\u001B[39;00m\u001B[38;5;124m, train r2: \u001B[39m\u001B[38;5;132;01m{\u001B[39;00mtrain_r2\u001B[38;5;132;01m:\u001B[39;00m\u001B[38;5;124m.4f\u001B[39m\u001B[38;5;132;01m}\u001B[39;00m\u001B[38;5;124m\"\u001B[39m)\n",
      "\u001B[0;31mKeyboardInterrupt\u001B[0m: "
     ]
    }
   ],
   "source": [
    "import random\n",
    "# Set device for training, macbook\n",
    "device = torch.device('cuda' if torch.cuda.is_available() else 'cpu')\n",
    "\n",
    "# Create an instance of the model and move it to the device\n",
    "output_dim = 550\n",
    "\n",
    "# Create the model\n",
    "model = GCN(550, 64, output_dim).to(device)\n",
    "\n",
    "display(model)\n",
    "\n",
    "\n",
    "#GCNClassifier(hidden_dim=100, hidden_dim1=100, output_dim=550).to(device)\n",
    "\n",
    "# Define loss function and optimizer\n",
    "criterion = nn.MSELoss()\n",
    "optimizer = optim.Adam(model.parameters(), lr=0.0001)\n",
    "\n",
    "# Training loop\n",
    "num_epochs = 1000\n",
    "\n",
    "# store losses\n",
    "train_losses = []\n",
    "val_losses = []\n",
    "\n",
    "# store r2 scores\n",
    "train_r2_scores = []\n",
    "val_r2_scores = []\n",
    "\n",
    "best_val_loss = float('inf') # Set initial best validation loss to infinity\n",
    "patience = 5                 # Number of epochs to wait for improvement in validation loss\n",
    "epochs_no_improve = 0        # Number of epochs with no improvement in validation loss\n",
    "best_epoch = 0               # Epoch at which we get the best validation loss\n",
    "\n",
    "# epoch training times\n",
    "epoch_times = []\n",
    "\n",
    "for epoch in range(num_epochs):\n",
    "\n",
    "    model.train()  # Set the model to training mode\n",
    "    total_loss = 0\n",
    "    targets_list = []\n",
    "    outputs_list = []\n",
    "\n",
    "    for data in loader:\n",
    "\n",
    "        data = data.to(device)\n",
    "\n",
    "        # Mask 20% of node features\n",
    "        num_nodes = data.x.shape[0]\n",
    "        num_nodes_to_mask = int(0.2 * num_nodes)\n",
    "        nodes_to_mask = random.sample(range(num_nodes), num_nodes_to_mask)\n",
    "        mask = torch.zeros(num_nodes, dtype=torch.bool)\n",
    "        mask[nodes_to_mask] = True\n",
    "        masked_node_features = data.x.float() * mask.unsqueeze(-1).float()\n",
    "\n",
    "\n",
    "        outputs = model(masked_node_features, data.edge_index.long())\n",
    "        loss = criterion(outputs, data.x.float())\n",
    "\n",
    "        # Backward and optimize\n",
    "        optimizer.zero_grad()\n",
    "        loss.backward()\n",
    "        optimizer.step()\n",
    "\n",
    "        # Measure train loss and r2 score\n",
    "        total_loss += loss.item() * data.num_graphs\n",
    "        targets_list.append(data.x.float())\n",
    "        outputs_list.append(outputs)\n",
    "\n",
    "    #measure and print r2 and train loss\n",
    "    train_loss = total_loss / len(loader.dataset)\n",
    "    train_losses.append(train_loss)\n",
    "    train_r2 = r2_score(torch.cat(targets_list).cpu().detach().numpy(), torch.cat(outputs_list).cpu().detach().numpy())\n",
    "    train_r2_scores.append(train_r2)\n",
    "    print(f\"Epoch {epoch+1}/{num_epochs}, train loss: {train_loss:.4f}, train r2: {train_r2:.4f}\")"
   ],
   "metadata": {
    "collapsed": false,
    "ExecuteTime": {
     "end_time": "2023-07-25T11:17:21.131620Z",
     "start_time": "2023-07-25T11:09:33.973863Z"
    }
   }
  },
  {
   "cell_type": "code",
   "execution_count": null,
   "outputs": [],
   "source": [],
   "metadata": {
    "collapsed": false
   }
  }
 ],
 "metadata": {
  "kernelspec": {
   "display_name": "Python 3",
   "language": "python",
   "name": "python3"
  },
  "language_info": {
   "codemirror_mode": {
    "name": "ipython",
    "version": 2
   },
   "file_extension": ".py",
   "mimetype": "text/x-python",
   "name": "python",
   "nbconvert_exporter": "python",
   "pygments_lexer": "ipython2",
   "version": "2.7.6"
  }
 },
 "nbformat": 4,
 "nbformat_minor": 0
}
