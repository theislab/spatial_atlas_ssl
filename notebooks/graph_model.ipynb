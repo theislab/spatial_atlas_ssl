{
 "cells": [
  {
   "cell_type": "code",
   "execution_count": 1,
   "metadata": {
    "tags": [],
    "ExecuteTime": {
     "end_time": "2023-07-28T17:19:09.421112Z",
     "start_time": "2023-07-28T17:18:59.098322Z"
    }
   },
   "outputs": [],
   "source": [
    "import scanpy as sc\n",
    "import squidpy as sq\n",
    "import torch\n",
    "from sklearn.metrics import r2_score\n",
    "from torch_geometric.data import Data\n",
    "from torch_geometric.data import Dataset\n",
    "from torch_geometric.loader import DataLoader\n",
    "from torch_geometric.nn import GCNConv\n",
    "from torch_geometric.utils.convert import from_scipy_sparse_matrix"
   ]
  },
  {
   "cell_type": "code",
   "execution_count": 2,
   "metadata": {
    "collapsed": false,
    "jupyter": {
     "outputs_hidden": false
    },
    "tags": [],
    "ExecuteTime": {
     "end_time": "2023-07-28T17:19:14.865214Z",
     "start_time": "2023-07-28T17:19:14.107007Z"
    }
   },
   "outputs": [],
   "source": [
    "adata = sc.read(\"../example_files/img_1199670929.h5ad\")"
   ]
  },
  {
   "cell_type": "code",
   "execution_count": 3,
   "outputs": [
    {
     "data": {
      "text/plain": "class_label\nCB Glut       19.332825\nOligo         18.692337\nAstro-Epen    16.511628\nVascular      16.473504\nMY Glut        9.500572\nCB GABA        9.245139\nMY GABA        8.086161\nImmune         1.463973\nP GABA         0.362181\nP Glut         0.167747\nOEG            0.099123\nLQ             0.049562\nMB-HB Sero     0.007625\nHY GABA        0.003812\nHY Glut        0.003812\nName: proportion, dtype: float64"
     },
     "execution_count": 3,
     "metadata": {},
     "output_type": "execute_result"
    }
   ],
   "source": [
    "adata.obs.class_label.value_counts(normalize=True)*100"
   ],
   "metadata": {
    "collapsed": false,
    "ExecuteTime": {
     "end_time": "2023-07-28T17:19:15.801127Z",
     "start_time": "2023-07-28T17:19:15.787829Z"
    }
   }
  },
  {
   "cell_type": "code",
   "execution_count": 4,
   "outputs": [],
   "source": [
    "class CustomDataset(Dataset):\n",
    "    def __init__(self, data, celltypes):\n",
    "        super(CustomDataset, self).__init__()\n",
    "        self.graph = data\n",
    "        self.celltypes = celltypes\n",
    "\n",
    "    def len(self):\n",
    "        # Return the number of nodes in the dataset.\n",
    "        return self.graph.x.shape[0]\n",
    "\n",
    "    def get(self, idx):\n",
    "        # Get the data object at index idx.\n",
    "\n",
    "        # calculate the subgraph\n",
    "        subset, edge_index, mapping, edge_mask =  k_hop_subgraph(node_idx=[idx], edge_index=self.graph.edge_index, num_hops=1, relabel_nodes=True)\n",
    "\n",
    "        # subset features\n",
    "        subgraph_data = self.graph.x[subset].clone()\n",
    "\n",
    "        # calculate new index of center node\n",
    "        new_index = torch.nonzero(subset == idx).squeeze()\n",
    "\n",
    "        # set center node feature to 0\n",
    "        subgraph_data[new_index] = 0\n",
    "\n",
    "        # create mask for the center node, to calculate the loss only on the center node\n",
    "        mask = torch.ones(subgraph_data.shape[0], dtype=torch.bool)\n",
    "        mask[new_index] = False\n",
    "\n",
    "        return Data(x=subgraph_data, edge_index=edge_index, y=self.graph.x[idx].view(1, 550), mask=mask, celltype=self.celltypes[idx])"
   ],
   "metadata": {
    "collapsed": false,
    "ExecuteTime": {
     "end_time": "2023-07-28T17:19:18.727560Z",
     "start_time": "2023-07-28T17:19:18.714456Z"
    }
   }
  },
  {
   "cell_type": "code",
   "execution_count": 5,
   "metadata": {
    "tags": [],
    "ExecuteTime": {
     "end_time": "2023-07-28T17:19:20.021906Z",
     "start_time": "2023-07-28T17:19:20.013529Z"
    }
   },
   "outputs": [
    {
     "data": {
      "text/plain": "1015221640100570419     MY GABA\n1015221640100590598     MY GABA\n1015221640100820600     MY GABA\n1015221640100580476     MY GABA\n1015221640100580189     MY GABA\n                         ...   \n1015221640200380165    Vascular\n1015221640100580428    Vascular\n1015221640100670290    Vascular\n1015221640200280189    Vascular\n1015221640101020209    Vascular\nName: class_label, Length: 26230, dtype: category\nCategories (15, object): ['Astro-Epen', 'CB GABA', 'CB Glut', 'HY GABA', ..., 'Oligo', 'P GABA', 'P Glut', 'Vascular']"
     },
     "execution_count": 5,
     "metadata": {},
     "output_type": "execute_result"
    }
   ],
   "source": [
    "adata.obs.class_label"
   ]
  },
  {
   "cell_type": "code",
   "execution_count": 6,
   "metadata": {
    "collapsed": false,
    "jupyter": {
     "outputs_hidden": false
    },
    "tags": [],
    "ExecuteTime": {
     "end_time": "2023-07-28T17:19:21.723674Z",
     "start_time": "2023-07-28T17:19:20.218729Z"
    }
   },
   "outputs": [
    {
     "name": "stdout",
     "output_type": "stream",
     "text": [
      "mean node degree: 3.9\n"
     ]
    }
   ],
   "source": [
    "sq.gr.spatial_neighbors(adata=adata, radius=20, key_added=\"adjacency_matrix\", coord_type=\"generic\")\n",
    "edge_index, edge_weight = from_scipy_sparse_matrix(adata.obsp[\"adjacency_matrix_connectivities\"])\n",
    "x = torch.tensor(adata.X.toarray(), dtype=torch.double)\n",
    "data = Data(x=x, edge_index=edge_index)\n",
    "print(f\"mean node degree: {edge_index.shape[1]/len(adata):.1f}\")"
   ]
  },
  {
   "cell_type": "code",
   "execution_count": 7,
   "outputs": [],
   "source": [
    "#data.num_nodes"
   ],
   "metadata": {
    "collapsed": false,
    "ExecuteTime": {
     "end_time": "2023-07-28T17:19:21.732752Z",
     "start_time": "2023-07-28T17:19:21.724454Z"
    }
   }
  },
  {
   "cell_type": "code",
   "execution_count": 8,
   "outputs": [],
   "source": [
    "#transform = T.Compose([T.RootedEgoNets(1)])"
   ],
   "metadata": {
    "collapsed": false,
    "ExecuteTime": {
     "end_time": "2023-07-28T17:19:25.959810Z",
     "start_time": "2023-07-28T17:19:25.956849Z"
    }
   }
  },
  {
   "cell_type": "code",
   "execution_count": 9,
   "metadata": {
    "collapsed": false,
    "jupyter": {
     "outputs_hidden": false
    },
    "tags": [],
    "ExecuteTime": {
     "end_time": "2023-07-28T17:19:27.618111Z",
     "start_time": "2023-07-28T17:19:27.606948Z"
    }
   },
   "outputs": [],
   "source": [
    "\n",
    "#data.x.shape[0]\n",
    "dataset = CustomDataset(data=data, celltypes=adata.obs.class_label)\n",
    "loader = DataLoader(dataset, batch_size=32, shuffle=True)\n",
    "#data\n",
    "#edge_index\n"
   ]
  },
  {
   "cell_type": "code",
   "execution_count": 10,
   "outputs": [
    {
     "name": "stdout",
     "output_type": "stream",
     "text": [
      "DataBatch(x=[132, 550], edge_index=[2, 372], y=[32, 550], mask=[132], celltype=[32], batch=[132], ptr=[33])\n"
     ]
    }
   ],
   "source": [
    "from torch_geometric.utils import k_hop_subgraph\n",
    "\n",
    "for datasa in loader:\n",
    "    print(datasa)\n",
    "    break\n",
    "\n",
    "\n",
    "#k_hop_subgraph(node_idx=[14097], edge_index=data#.edge_index, num_hops=1)#, 1, data.x.shape[0], relabel_nodes=True)\n",
    "\n",
    "#RootedSubgraphDataBatch"
   ],
   "metadata": {
    "collapsed": false,
    "ExecuteTime": {
     "end_time": "2023-07-28T17:19:27.867967Z",
     "start_time": "2023-07-28T17:19:27.802553Z"
    }
   }
  },
  {
   "cell_type": "code",
   "execution_count": 11,
   "outputs": [],
   "source": [
    "#loader = DataLoader([data], batch_size=32, shuffle=True, transform=transform)"
   ],
   "metadata": {
    "collapsed": false,
    "ExecuteTime": {
     "end_time": "2023-07-28T17:19:31.089329Z",
     "start_time": "2023-07-28T17:19:31.075315Z"
    }
   }
  },
  {
   "cell_type": "code",
   "execution_count": 12,
   "metadata": {
    "collapsed": false,
    "jupyter": {
     "outputs_hidden": false
    },
    "tags": [],
    "ExecuteTime": {
     "end_time": "2023-07-28T17:19:31.332199Z",
     "start_time": "2023-07-28T17:19:31.317862Z"
    }
   },
   "outputs": [
    {
     "data": {
      "text/plain": "CustomDataset(26230)"
     },
     "execution_count": 12,
     "metadata": {},
     "output_type": "execute_result"
    }
   ],
   "source": [
    "loader.dataset"
   ]
  },
  {
   "cell_type": "code",
   "execution_count": 13,
   "metadata": {
    "collapsed": false,
    "jupyter": {
     "outputs_hidden": false
    },
    "tags": [],
    "ExecuteTime": {
     "end_time": "2023-07-28T17:19:31.523393Z",
     "start_time": "2023-07-28T17:19:31.516025Z"
    }
   },
   "outputs": [],
   "source": [
    "# we want to create small subgraph using each node as the center"
   ]
  },
  {
   "cell_type": "code",
   "execution_count": 14,
   "metadata": {
    "collapsed": false,
    "jupyter": {
     "outputs_hidden": false
    },
    "ExecuteTime": {
     "end_time": "2023-07-28T17:19:31.852041Z",
     "start_time": "2023-07-28T17:19:31.849279Z"
    }
   },
   "outputs": [],
   "source": [
    "#torch.tensor(list(subgraphs[0].edges)).t()"
   ]
  },
  {
   "cell_type": "code",
   "execution_count": 15,
   "metadata": {
    "collapsed": false,
    "jupyter": {
     "outputs_hidden": false
    },
    "tags": [],
    "ExecuteTime": {
     "end_time": "2023-07-28T17:19:32.237761Z",
     "start_time": "2023-07-28T17:19:32.220647Z"
    }
   },
   "outputs": [],
   "source": [
    "# create pytorch geometric dataset from subgraphs\n",
    "#datasss = [Data(x=torch.tensor(graph.nodes(data=\"features\"), dtype=torch.double), edge_index=torch.tensor(list(graph.edges)).t()) for graph in tqdm(subgraphs)]\n",
    "\n",
    "#list(subgraphs[0].features)\n",
    "#daata = [from_networkx(graph, group_node_attrs=['features']) for graph in tqdm(subgraphs)]\n",
    "#loader = DataLoader(daata, batch_size=32, shuffle=True)\n",
    "#for daat in daata:\n",
    "#loader = DataLoader([from_networkx(graph, group_node_attrs=['features'], dtype=torch.double) for graph in tqdm(subgraphs)], batch_size=32, shuffle=True)\n",
    "\n",
    "\n",
    "#loader = DataLoader([Data(x=x, edge_index=torch.tensor(list(subgraphs[0].edges)).t()) for graph in subgraphs], batch_size=32)"
   ]
  },
  {
   "cell_type": "code",
   "execution_count": 15,
   "outputs": [],
   "source": [],
   "metadata": {
    "collapsed": false,
    "ExecuteTime": {
     "end_time": "2023-07-28T17:19:32.586705Z",
     "start_time": "2023-07-28T17:19:32.583002Z"
    }
   }
  },
  {
   "cell_type": "code",
   "execution_count": 16,
   "metadata": {
    "tags": [],
    "ExecuteTime": {
     "end_time": "2023-07-28T17:19:36.563362Z",
     "start_time": "2023-07-28T17:19:36.554505Z"
    }
   },
   "outputs": [],
   "source": [
    "from torch.utils.data import random_split\n",
    "\n",
    "# Split the data into training, validation, and test sets\n",
    "train_size = int(0.8 * len(loader.dataset))  # 80% of the data for training\n",
    "val_size = int(0.1 * len(loader.dataset))  # 10% of the data for validation\n",
    "test_size = len(loader.dataset) - train_size - val_size  # The rest for testing\n",
    "\n",
    "train_data, val_data, test_data = random_split(loader.dataset, [train_size, val_size, test_size])\n",
    "\n",
    "# Create data loaders for each set\n",
    "train_loader = DataLoader(train_data, batch_size=32, shuffle=True)\n",
    "val_loader = DataLoader(val_data, batch_size=32, shuffle=False)\n",
    "test_loader = DataLoader(test_data, batch_size=32, shuffle=False)\n"
   ]
  },
  {
   "cell_type": "code",
   "execution_count": 17,
   "metadata": {
    "collapsed": false,
    "jupyter": {
     "outputs_hidden": false
    },
    "tags": [],
    "ExecuteTime": {
     "end_time": "2023-07-28T17:19:43.707153Z",
     "start_time": "2023-07-28T17:19:43.702883Z"
    }
   },
   "outputs": [],
   "source": []
  },
  {
   "cell_type": "code",
   "execution_count": 18,
   "metadata": {
    "collapsed": false,
    "jupyter": {
     "outputs_hidden": false
    },
    "tags": [],
    "ExecuteTime": {
     "end_time": "2023-07-28T17:19:44.641632Z",
     "start_time": "2023-07-28T17:19:44.627321Z"
    }
   },
   "outputs": [],
   "source": [
    "import torch\n",
    "\n",
    "#model = GCN(-1, 64, num_layers=2, out_channels=550)\n",
    "#x = torch.randn(100, 128)\n",
    "#edge_index = torch.randint(100, size=(2, 20))\n",
    "\n",
    "#print(summary(model, data.x, data.edge_index))"
   ]
  },
  {
   "cell_type": "code",
   "execution_count": 19,
   "metadata": {
    "collapsed": false,
    "jupyter": {
     "outputs_hidden": false
    },
    "tags": [],
    "ExecuteTime": {
     "end_time": "2023-07-28T17:19:46.029935Z",
     "start_time": "2023-07-28T17:19:46.020543Z"
    }
   },
   "outputs": [],
   "source": [
    "\n",
    "from torch import nn, optim, Tensor\n",
    "\n",
    "\n",
    "class GCN(torch.nn.Module):\n",
    "    def __init__(self, in_channels, hidden_channels, out_channels):\n",
    "        super().__init__()\n",
    "        self.conv1 = GCNConv(in_channels, hidden_channels)\n",
    "        #self.conv2 = GCNConv(hidden_channels, out_channels)\n",
    "        self.linear = nn.Linear(hidden_channels, out_channels)\n",
    "\n",
    "\n",
    "    def forward(self, x: Tensor, edge_index: Tensor) -> Tensor:\n",
    "        # x: Node feature matrix of shape [num_nodes, in_channels]\n",
    "        # edge_index: Graph connectivity matrix of shape [2, num_edges]\n",
    "        x = self.conv1(x, edge_index).relu()\n",
    "        #print(x.shape)\n",
    "        #x = self.conv2(x, edge_index).relu()\n",
    "        #print(x.shape)\n",
    "        x = self.linear(x)\n",
    "        #print(x.shape)\n",
    "        return x"
   ]
  },
  {
   "cell_type": "code",
   "execution_count": 20,
   "metadata": {
    "tags": [],
    "ExecuteTime": {
     "end_time": "2023-07-28T17:49:11.458779Z",
     "start_time": "2023-07-28T17:19:46.604329Z"
    }
   },
   "outputs": [
    {
     "name": "stdout",
     "output_type": "stream",
     "text": [
      "Epoch 1/50, train loss: 0.5123, train r2: 0.0982,  val loss: 0.4843, val r2: 0.1429\n",
      "Epoch 2/50, train loss: 0.4861, train r2: 0.1428,  val loss: 0.4722, val r2: 0.1584\n",
      "Epoch 3/50, train loss: 0.4787, train r2: 0.1517,  val loss: 0.4683, val r2: 0.1626\n",
      "Epoch 4/50, train loss: 0.4746, train r2: 0.1564,  val loss: 0.4641, val r2: 0.1687\n",
      "Epoch 5/50, train loss: 0.4706, train r2: 0.1605,  val loss: 0.4599, val r2: 0.1737\n",
      "Epoch 6/50, train loss: 0.4677, train r2: 0.1639,  val loss: 0.4582, val r2: 0.1749\n",
      "Epoch 7/50, train loss: 0.4641, train r2: 0.1673,  val loss: 0.4571, val r2: 0.1780\n",
      "Epoch 8/50, train loss: 0.4609, train r2: 0.1711,  val loss: 0.4523, val r2: 0.1804\n",
      "Epoch 9/50, train loss: 0.4585, train r2: 0.1735,  val loss: 0.4494, val r2: 0.1858\n",
      "Epoch 10/50, train loss: 0.4552, train r2: 0.1768,  val loss: 0.4444, val r2: 0.1902\n",
      "Epoch 11/50, train loss: 0.4522, train r2: 0.1801,  val loss: 0.4443, val r2: 0.1901\n",
      "Epoch 12/50, train loss: 0.4502, train r2: 0.1820,  val loss: 0.4394, val r2: 0.1955\n",
      "Epoch 13/50, train loss: 0.4478, train r2: 0.1847,  val loss: 0.4396, val r2: 0.1952\n",
      "Epoch 14/50, train loss: 0.4452, train r2: 0.1874,  val loss: 0.4355, val r2: 0.2005\n",
      "Epoch 15/50, train loss: 0.4427, train r2: 0.1898,  val loss: 0.4314, val r2: 0.2029\n",
      "Epoch 16/50, train loss: 0.4414, train r2: 0.1910,  val loss: 0.4288, val r2: 0.2077\n",
      "Epoch 17/50, train loss: 0.4390, train r2: 0.1933,  val loss: 0.4284, val r2: 0.2085\n",
      "Epoch 18/50, train loss: 0.4375, train r2: 0.1953,  val loss: 0.4237, val r2: 0.2115\n",
      "Epoch 19/50, train loss: 0.4348, train r2: 0.1975,  val loss: 0.4295, val r2: 0.2077\n",
      "Epoch 20/50, train loss: 0.4339, train r2: 0.1985,  val loss: 0.4237, val r2: 0.2120\n",
      "Epoch 21/50, train loss: 0.4321, train r2: 0.2003,  val loss: 0.4251, val r2: 0.2074\n",
      "Epoch 22/50, train loss: 0.4301, train r2: 0.2025,  val loss: 0.4188, val r2: 0.2182\n",
      "Epoch 23/50, train loss: 0.4289, train r2: 0.2039,  val loss: 0.4201, val r2: 0.2152\n",
      "Epoch 24/50, train loss: 0.4267, train r2: 0.2058,  val loss: 0.4200, val r2: 0.2156\n",
      "Epoch 25/50, train loss: 0.4256, train r2: 0.2070,  val loss: 0.4154, val r2: 0.2195\n",
      "Epoch 26/50, train loss: 0.4243, train r2: 0.2084,  val loss: 0.4133, val r2: 0.2218\n",
      "Epoch 27/50, train loss: 0.4225, train r2: 0.2102,  val loss: 0.4141, val r2: 0.2215\n",
      "Epoch 28/50, train loss: 0.4215, train r2: 0.2113,  val loss: 0.4139, val r2: 0.2215\n",
      "Epoch 29/50, train loss: 0.4203, train r2: 0.2125,  val loss: 0.4074, val r2: 0.2304\n",
      "Epoch 30/50, train loss: 0.4195, train r2: 0.2135,  val loss: 0.4098, val r2: 0.2286\n",
      "Epoch 31/50, train loss: 0.4180, train r2: 0.2147,  val loss: 0.4058, val r2: 0.2278\n",
      "Epoch 32/50, train loss: 0.4182, train r2: 0.2144,  val loss: 0.4087, val r2: 0.2285\n",
      "Epoch 33/50, train loss: 0.4156, train r2: 0.2172,  val loss: 0.4076, val r2: 0.2300\n",
      "Epoch 34/50, train loss: 0.4153, train r2: 0.2177,  val loss: 0.4107, val r2: 0.2241\n",
      "Epoch 35/50, train loss: 0.4146, train r2: 0.2183,  val loss: 0.4019, val r2: 0.2356\n",
      "Epoch 36/50, train loss: 0.4134, train r2: 0.2195,  val loss: 0.4063, val r2: 0.2310\n",
      "Epoch 37/50, train loss: 0.4134, train r2: 0.2196,  val loss: 0.4053, val r2: 0.2310\n",
      "Epoch 38/50, train loss: 0.4128, train r2: 0.2197,  val loss: 0.4020, val r2: 0.2339\n",
      "Epoch 39/50, train loss: 0.4124, train r2: 0.2202,  val loss: 0.4075, val r2: 0.2299\n",
      "Early stopping! Epoch: 39, Best Epoch: 34, Train Loss: 0.4126, Val Loss: 0.4053\n"
     ]
    }
   ],
   "source": [
    "\n",
    "# Set device for training, macbook\n",
    "device = torch.device('cuda' if torch.cuda.is_available() else 'cpu')\n",
    "\n",
    "# Create an instance of the model and move it to the device\n",
    "\n",
    "output_dim = 550\n",
    "\n",
    "# Create the model\n",
    "model = GCN(-1, 550, output_dim).to(device)\n",
    "\n",
    "#GCNClassifier(hidden_dim=100, hidden_dim1=100, output_dim=550).to(device)\n",
    "\n",
    "# Define loss function and optimizer\n",
    "criterion = nn.MSELoss()\n",
    "optimizer = optim.Adam(model.parameters(), lr=0.002)\n",
    "\n",
    "# Training loop\n",
    "num_epochs = 50\n",
    "\n",
    "# store losses\n",
    "train_losses = []\n",
    "val_losses = []\n",
    "\n",
    "# store r2 scores\n",
    "train_r2_scores = []\n",
    "val_r2_scores = []\n",
    "\n",
    "best_val_loss = float('inf') # Set initial best validation loss to infinity\n",
    "patience = 5                # Number of epochs to wait for improvement in validation loss\n",
    "epochs_no_improve = 0        # Number of epochs with no improvement in validation loss\n",
    "best_epoch = 0               # Epoch at which we get the best validation loss\n",
    "\n",
    "# epoch training times\n",
    "epoch_times = []\n",
    "#start_time = time.time()\n",
    "\n",
    "for epoch in range(num_epochs):\n",
    "    \n",
    "    # Training phase\n",
    "    model.train()\n",
    "    total_train_loss = 0\n",
    "    train_targets_list = []\n",
    "    train_outputs_list = []\n",
    "    model.train()  # Set the model to training mode\n",
    "    total_loss = 0\n",
    "    targets_list = []\n",
    "    outputs_list = []\n",
    "\n",
    "    for data in loader:\n",
    "        data = data.to(device)\n",
    "\n",
    "        outputs = model(data.x.float(), data.edge_index.long())\n",
    "        loss = criterion(outputs[~data.mask], data.y.float())\n",
    "\n",
    "        # Backward and optimize\n",
    "        optimizer.zero_grad()\n",
    "        loss.backward()\n",
    "        optimizer.step()\n",
    "\n",
    "        # Measure train loss and r2 score\n",
    "        total_loss += loss.item() * data.num_graphs\n",
    "        targets_list.append(data.y.float())\n",
    "        outputs_list.append(outputs[~data.mask])\n",
    "\n",
    "    #measure and print r2 and train loss\n",
    "    train_loss = total_loss / len(loader.dataset)\n",
    "    train_losses.append(train_loss)\n",
    "    train_r2 = r2_score(torch.cat(targets_list).cpu().detach().numpy(), torch.cat(outputs_list).cpu().detach().numpy())\n",
    "    train_r2_scores.append(train_r2)\n",
    "\n",
    "        # Validation phase\n",
    "    model.eval()  # Set the model to evaluation mode\n",
    "    total_val_loss = 0\n",
    "    val_targets_list = []\n",
    "    val_outputs_list = []\n",
    "\n",
    "    for data in val_loader:\n",
    "        data = data.to(device)\n",
    "\n",
    "        with torch.no_grad():\n",
    "            outputs = model(data.x.float(), data.edge_index.long())\n",
    "            loss = criterion(outputs[~data.mask], data.y.float())\n",
    "\n",
    "        total_val_loss += loss.item() * data.num_graphs\n",
    "        val_targets_list.append(data.y.float())\n",
    "        val_outputs_list.append(outputs[~data.mask])\n",
    "\n",
    "    # Measure and print validation loss and R2\n",
    "    val_loss = total_val_loss / len(val_loader.dataset)\n",
    "    val_losses.append(val_loss)\n",
    "    val_r2 = r2_score(torch.cat(val_targets_list).cpu().detach().numpy(), torch.cat(val_outputs_list).cpu().detach().numpy())\n",
    "    val_r2_scores.append(val_r2)\n",
    "\n",
    "\n",
    "    # Early stopping and saving best parameters\n",
    "    if val_loss < best_val_loss:\n",
    "        best_val_loss = val_loss\n",
    "        best_epoch = epoch\n",
    "        epochs_no_improve = 0\n",
    "        torch.save(model.state_dict(), '../models/best_model.pt')\n",
    "    else:\n",
    "        epochs_no_improve += 1\n",
    "        # Check early stopping condition\n",
    "        if epochs_no_improve == patience:\n",
    "            print(f'Early stopping! Epoch: {epoch}, Best Epoch: {best_epoch}, Train Loss: {train_loss:.4f}, Val Loss: {val_loss:.4f}')\n",
    "            break\n",
    "\n",
    "    print(f\"Epoch {epoch+1}/{num_epochs}, train loss: {train_loss:.4f}, train r2: {train_r2:.4f},  val loss: {val_loss:.4f}, val r2: {val_r2:.4f}\")"
   ]
  },
  {
   "cell_type": "code",
   "execution_count": 23,
   "metadata": {
    "collapsed": false,
    "jupyter": {
     "outputs_hidden": false
    },
    "tags": [],
    "ExecuteTime": {
     "end_time": "2023-07-28T17:52:20.636840Z",
     "start_time": "2023-07-28T17:52:14.196200Z"
    }
   },
   "outputs": [
    {
     "data": {
      "text/plain": "  0%|          | 0/82 [00:00<?, ?it/s]",
      "application/vnd.jupyter.widget-view+json": {
       "version_major": 2,
       "version_minor": 0,
       "model_id": "ce0fb4bc5dbc407cb73a7769debe32d3"
      }
     },
     "metadata": {},
     "output_type": "display_data"
    },
    {
     "name": "stdout",
     "output_type": "stream",
     "text": [
      "Test loss: 0.4066, test r2: 0.2291\n"
     ]
    }
   ],
   "source": [
    "from tqdm.auto import tqdm\n",
    "\n",
    "# Testing phase\n",
    "model.eval()\n",
    "total_test_loss = 0\n",
    "test_targets_list = []\n",
    "test_outputs_list = []\n",
    "test_celltypes_list = []\n",
    "\n",
    "per_celltype = {}\n",
    "\n",
    "for data in tqdm(test_loader):\n",
    "    data = data.to(device)\n",
    "    #print(data)\n",
    "    with torch.no_grad():\n",
    "        outputs = model(data.x.float(), data.edge_index.long())\n",
    "        loss = criterion(outputs[~data.mask], data.y.float())\n",
    "    total_test_loss += loss.item() * data.num_graphs\n",
    "    test_celltypes_list.append(data.celltype)\n",
    "    test_targets_list.append(data.y.float())\n",
    "    test_outputs_list.append(outputs[~data.mask])\n",
    "\n",
    "# Measure and print test loss and R2\n",
    "test_loss = total_test_loss / len(test_loader.dataset)\n",
    "test_r2 = r2_score(torch.cat(test_targets_list).cpu().detach().numpy(), torch.cat(test_outputs_list).cpu().detach().numpy())\n",
    "print(f\"Test loss: {test_loss:.4f}, test r2: {test_r2:.4f}\")"
   ]
  },
  {
   "cell_type": "code",
   "execution_count": 36,
   "outputs": [
    {
     "data": {
      "text/plain": "array([0.55950013, 0.67037803, 0.74084814, ..., 0.5563256 , 0.56977586,\n       0.57179655])"
     },
     "execution_count": 36,
     "metadata": {},
     "output_type": "execute_result"
    }
   ],
   "source": [
    "import numpy as np\n",
    "\n",
    "np.concatenate(test_celltypes_list)#.flatten()\n",
    "#torch.cat(test_targets_list).cpu().detach().numpy()\n",
    "#torch.cat(test_outputs_list).cpu().detach().numpy()\n",
    "r2_score(np.transpose(torch.cat(test_targets_list).cpu().detach().numpy()), np.transpose(torch.cat(test_outputs_list).cpu().detach().numpy()), multioutput='raw_values')"
   ],
   "metadata": {
    "collapsed": false,
    "ExecuteTime": {
     "end_time": "2023-07-28T18:01:36.260274Z",
     "start_time": "2023-07-28T18:01:36.226625Z"
    }
   }
  },
  {
   "cell_type": "code",
   "execution_count": 60,
   "outputs": [],
   "source": [
    "import pandas as pd\n",
    "\n",
    "preds_test_per_cell = pd.DataFrame({'celltype': np.concatenate(test_celltypes_list).flatten(), 'r2_score': r2_score(np.transpose(torch.cat(test_targets_list).cpu().detach().numpy()), np.transpose(torch.cat(test_outputs_list).cpu().detach().numpy()), multioutput='raw_values')})\n",
    "\n",
    "preds_test_per_gene = pd.DataFrame({'gene': adata.var_names, 'r2_score': r2_score(torch.cat(test_targets_list).cpu().detach().numpy(), torch.cat(test_outputs_list).cpu().detach().numpy(), multioutput='raw_values')})\n",
    "\n"
   ],
   "metadata": {
    "collapsed": false,
    "ExecuteTime": {
     "end_time": "2023-07-28T18:12:57.739068Z",
     "start_time": "2023-07-28T18:12:57.698732Z"
    }
   }
  },
  {
   "cell_type": "code",
   "execution_count": 78,
   "outputs": [
    {
     "data": {
      "text/plain": "         gene  r2_score\n214   Slc17a7  0.816842\n118      Igf2  0.766867\n396     Cbln1  0.738838\n208      Zic1  0.734616\n113       Dcn  0.725672\n..        ...       ...\n548  Blank-23 -0.088455\n403   Edaradd -0.092234\n358     Gata3 -0.098882\n547  Blank-45 -0.104730\n549  Blank-48 -0.109262\n\n[550 rows x 2 columns]",
      "text/html": "<div>\n<style scoped>\n    .dataframe tbody tr th:only-of-type {\n        vertical-align: middle;\n    }\n\n    .dataframe tbody tr th {\n        vertical-align: top;\n    }\n\n    .dataframe thead th {\n        text-align: right;\n    }\n</style>\n<table border=\"1\" class=\"dataframe\">\n  <thead>\n    <tr style=\"text-align: right;\">\n      <th></th>\n      <th>gene</th>\n      <th>r2_score</th>\n    </tr>\n  </thead>\n  <tbody>\n    <tr>\n      <th>214</th>\n      <td>Slc17a7</td>\n      <td>0.816842</td>\n    </tr>\n    <tr>\n      <th>118</th>\n      <td>Igf2</td>\n      <td>0.766867</td>\n    </tr>\n    <tr>\n      <th>396</th>\n      <td>Cbln1</td>\n      <td>0.738838</td>\n    </tr>\n    <tr>\n      <th>208</th>\n      <td>Zic1</td>\n      <td>0.734616</td>\n    </tr>\n    <tr>\n      <th>113</th>\n      <td>Dcn</td>\n      <td>0.725672</td>\n    </tr>\n    <tr>\n      <th>...</th>\n      <td>...</td>\n      <td>...</td>\n    </tr>\n    <tr>\n      <th>548</th>\n      <td>Blank-23</td>\n      <td>-0.088455</td>\n    </tr>\n    <tr>\n      <th>403</th>\n      <td>Edaradd</td>\n      <td>-0.092234</td>\n    </tr>\n    <tr>\n      <th>358</th>\n      <td>Gata3</td>\n      <td>-0.098882</td>\n    </tr>\n    <tr>\n      <th>547</th>\n      <td>Blank-45</td>\n      <td>-0.104730</td>\n    </tr>\n    <tr>\n      <th>549</th>\n      <td>Blank-48</td>\n      <td>-0.109262</td>\n    </tr>\n  </tbody>\n</table>\n<p>550 rows × 2 columns</p>\n</div>"
     },
     "execution_count": 78,
     "metadata": {},
     "output_type": "execute_result"
    },
    {
     "data": {
      "text/plain": "<Figure size 640x480 with 1 Axes>",
      "image/png": "[encoded data removed]"
     },
     "metadata": {},
     "output_type": "display_data"
    }
   ],
   "source": [
    "preds_test_per_gene\n",
    "\n",
    "# plot r2 score distribution per gene, histogram\n",
    "# density plot\n",
    "preds_test_per_gene.r2_score.plot.kde()\n",
    "#preds_test_per_gene.r2_score.plot.hist(bins=20, alpha=0.8)\n",
    "\n",
    "# plot r2 score distribution per celltype, histogram\n",
    "#preds_test_per_cell.r2_score.plot.hist(bins=10, alpha=0.8)\n",
    "\n",
    "# sort by r2 score\n",
    "preds_test_per_gene.sort_values(by='r2_score', ascending=False, inplace=True)\n",
    "preds_test_per_gene"
   ],
   "metadata": {
    "collapsed": false,
    "ExecuteTime": {
     "end_time": "2023-07-28T18:21:19.879922Z",
     "start_time": "2023-07-28T18:21:19.433080Z"
    }
   }
  },
  {
   "cell_type": "code",
   "execution_count": 88,
   "outputs": [
    {
     "data": {
      "text/plain": "<Figure size 1800x800 with 1 Axes>",
      "image/png": "[encoded data removed]"
     },
     "metadata": {},
     "output_type": "display_data"
    }
   ],
   "source": [
    "import seaborn as sns\n",
    "import matplotlib.pyplot as plt\n",
    "\n",
    "# set style\n",
    "sns.set_palette(\"colorblind\")\n",
    "sns.set_context(\"paper\", font_scale=1.5)\n",
    "\n",
    "# make plot larger\n",
    "plt.figure(figsize=(18,8))\n",
    "\n",
    "# rotate x-axis labels\n",
    "plt.xticks(rotation=45)\n",
    "\n",
    "# create plot of mean R2 score per celltype\n",
    "# order bars by mean R2 score\n",
    "\n",
    "# add avlue counts from adata.obs.class_label.value_counts()\n",
    "ax = sns.barplot(x=\"celltype\", y=\"r2_score\", data=preds_test_per_cell, order=preds_test_per_cell.groupby('celltype').mean().sort_values(by='r2_score', ascending=True).index)"
   ],
   "metadata": {
    "collapsed": false,
    "ExecuteTime": {
     "end_time": "2023-07-28T18:41:15.989953Z",
     "start_time": "2023-07-28T18:41:14.807899Z"
    }
   }
  },
  {
   "cell_type": "code",
   "execution_count": 89,
   "outputs": [
    {
     "data": {
      "text/plain": "class_label\nCB Glut       5071\nOligo         4903\nAstro-Epen    4331\nVascular      4321\nMY Glut       2492\nCB GABA       2425\nMY GABA       2121\nImmune         384\nP GABA          95\nP Glut          44\nOEG             26\nLQ              13\nMB-HB Sero       2\nHY GABA          1\nHY Glut          1\nName: count, dtype: int64"
     },
     "execution_count": 89,
     "metadata": {},
     "output_type": "execute_result"
    }
   ],
   "source": [
    "adata.obs.class_label.value_counts()"
   ],
   "metadata": {
    "collapsed": false,
    "ExecuteTime": {
     "end_time": "2023-07-28T18:43:16.934165Z",
     "start_time": "2023-07-28T18:43:16.926292Z"
    }
   }
  },
  {
   "cell_type": "code",
   "execution_count": 34,
   "outputs": [
    {
     "name": "stdout",
     "output_type": "stream",
     "text": [
      "R-squared scores for each feature: [0.989 0.981 0.995]\n"
     ]
    }
   ],
   "source": [
    "# Example 2D arrays with 5 samples and 3 features\n",
    "y_true = np.array([[2, 4, 6],\n",
    "                   [3, 5, 7],\n",
    "                   [1, 3, 5],\n",
    "                   [4, 6, 8],\n",
    "                   [5, 7, 9]])\n",
    "\n",
    "y_pred = np.array([[1.8, 3.9, 5.9],\n",
    "                   [2.9, 4.9, 6.9],\n",
    "                   [1.1, 2.8, 5.1],\n",
    "                   [3.9, 5.8, 7.9],\n",
    "                   [4.8, 6.7, 8.9]])\n",
    "\n",
    "# Calculate the R-squared score for each feature\n",
    "r2_scores = r2_score(y_true, y_pred, multioutput='raw_values')\n",
    "\n",
    "print(\"R-squared scores for each feature:\", r2_scores)"
   ],
   "metadata": {
    "collapsed": false,
    "ExecuteTime": {
     "end_time": "2023-07-28T17:59:38.621611Z",
     "start_time": "2023-07-28T17:59:38.515223Z"
    }
   }
  },
  {
   "cell_type": "code",
   "execution_count": 64,
   "metadata": {
    "collapsed": false,
    "jupyter": {
     "outputs_hidden": false
    },
    "ExecuteTime": {
     "end_time": "2023-07-28T17:11:58.803659Z",
     "start_time": "2023-07-28T17:11:58.112176Z"
    }
   },
   "outputs": [
    {
     "data": {
      "text/plain": "<Figure size 1000x500 with 1 Axes>",
      "image/png": "[encoded data removed]"
     },
     "metadata": {},
     "output_type": "display_data"
    }
   ],
   "source": [
    "# plot train and validation loss using seaborn, mark best epoch with veritcal line\n",
    "import seaborn as sns\n",
    "import matplotlib.pyplot as plt\n",
    "sns.set_theme(style=\"darkgrid\")\n",
    "plt.figure(figsize=(10, 5))\n",
    "plt.plot(train_losses, label=\"Train Loss\")\n",
    "plt.plot(val_losses, label=\"Validation Loss\")\n",
    "plt.axvline(best_epoch, color=\"red\", label=f\"Best Epoch: {best_epoch}\")\n",
    "plt.xlabel(\"Epoch\")\n",
    "plt.ylabel(\"Loss\")\n",
    "plt.legend()\n",
    "plt.show()"
   ]
  },
  {
   "cell_type": "code",
   "execution_count": 49,
   "metadata": {
    "collapsed": false,
    "jupyter": {
     "outputs_hidden": false
    },
    "ExecuteTime": {
     "end_time": "2023-07-28T16:40:01.394397Z",
     "start_time": "2023-07-28T16:40:01.327854Z"
    }
   },
   "outputs": [
    {
     "name": "stdout",
     "output_type": "stream",
     "text": [
      "DataBatch(x=[167, 550], edge_index=[2, 636], y=[32, 550], mask=[167], batch=[167], ptr=[33])\n"
     ]
    }
   ],
   "source": [
    "for batch in train_loader:\n",
    "    print(batch)\n",
    "    break"
   ]
  },
  {
   "cell_type": "code",
   "execution_count": null,
   "outputs": [],
   "source": [
    "sns.scatter(, data.y)"
   ],
   "metadata": {
    "collapsed": false
   }
  }
 ],
 "metadata": {
  "kernelspec": {
   "name": "python3",
   "language": "python",
   "display_name": "Python 3 (ipykernel)"
  },
  "language_info": {
   "codemirror_mode": {
    "name": "ipython",
    "version": 3
   },
   "file_extension": ".py",
   "mimetype": "text/x-python",
   "name": "python",
   "nbconvert_exporter": "python",
   "pygments_lexer": "ipython3",
   "version": "3.11.4"
  }
 },
 "nbformat": 4,
 "nbformat_minor": 4
}
