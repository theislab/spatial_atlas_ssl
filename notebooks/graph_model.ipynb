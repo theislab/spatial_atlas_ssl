{
 "cells": [
  {
   "cell_type": "code",
   "execution_count": 1,
   "metadata": {
    "tags": [],
    "ExecuteTime": {
     "end_time": "2023-07-28T11:50:33.311986Z",
     "start_time": "2023-07-28T11:50:21.190147Z"
    }
   },
   "outputs": [],
   "source": [
    "import networkx as nx\n",
    "import numpy as np\n",
    "import scanpy as sc\n",
    "import squidpy as sq\n",
    "from sklearn.metrics import r2_score\n",
    "from torch_geometric.nn import GCNConv, Sequential\n",
    "from torch_geometric.data import Data   # Create data containers\n",
    "from torch_geometric.utils import from_networkx\n",
    "\n",
    "import torch\n",
    "from torch.utils.data import Dataset\n",
    "from torch_geometric.data import Data\n",
    "from torch_geometric.utils import subgraph\n",
    "from torch_geometric.loader import DataLoader\n",
    "from torch_geometric.utils.convert import from_scipy_sparse_matrix\n",
    "from tqdm.auto import tqdm\n",
    "\n",
    "from torch_geometric.data import Dataset\n",
    "import torch_geometric.transforms as T"
   ]
  },
  {
   "cell_type": "code",
   "execution_count": 2,
   "metadata": {
    "collapsed": false,
    "jupyter": {
     "outputs_hidden": false
    },
    "tags": [],
    "ExecuteTime": {
     "end_time": "2023-07-28T11:50:37.974700Z",
     "start_time": "2023-07-28T11:50:37.140168Z"
    }
   },
   "outputs": [],
   "source": [
    "adata = sc.read(\"../example_files/img_1199670929.h5ad\")"
   ]
  },
  {
   "cell_type": "code",
   "execution_count": 29,
   "outputs": [
    {
     "data": {
      "text/plain": "class_label\nCB Glut       19.332825\nOligo         18.692337\nAstro-Epen    16.511628\nVascular      16.473504\nMY Glut        9.500572\nCB GABA        9.245139\nMY GABA        8.086161\nImmune         1.463973\nP GABA         0.362181\nP Glut         0.167747\nOEG            0.099123\nLQ             0.049562\nMB-HB Sero     0.007625\nHY GABA        0.003812\nHY Glut        0.003812\nName: proportion, dtype: float64"
     },
     "execution_count": 29,
     "metadata": {},
     "output_type": "execute_result"
    }
   ],
   "source": [
    "adata.obs.class_label.value_counts(normalize=True)*100\n"
   ],
   "metadata": {
    "collapsed": false,
    "ExecuteTime": {
     "end_time": "2023-07-28T16:10:19.746898Z",
     "start_time": "2023-07-28T16:10:19.732603Z"
    }
   }
  },
  {
   "cell_type": "code",
   "execution_count": 55,
   "outputs": [],
   "source": [
    "class CustomDataset(Dataset):\n",
    "    def __init__(self, data, celltypes):\n",
    "        super(CustomDataset, self).__init__()\n",
    "        self.graph = data\n",
    "        self.celltypes = celltypes\n",
    "\n",
    "    def len(self):\n",
    "        # Return the number of nodes in the dataset.\n",
    "        return self.graph.x.shape[0]\n",
    "\n",
    "    def get(self, idx):\n",
    "        # Get the data object at index idx.\n",
    "\n",
    "        # calculate the subgraph\n",
    "        subset, edge_index, mapping, edge_mask =  k_hop_subgraph(node_idx=[idx], edge_index=self.graph.edge_index, num_hops=1, relabel_nodes=True)\n",
    "\n",
    "        # subset features\n",
    "        subgraph_data = self.graph.x[subset].clone()\n",
    "\n",
    "        # calculate new index of center node\n",
    "        new_index = torch.nonzero(subset == idx).squeeze()\n",
    "\n",
    "        # set center node feature to 0\n",
    "        subgraph_data[new_index] = 0\n",
    "\n",
    "        # create mask for the center node, to calculate the loss only on the center node\n",
    "        mask = torch.ones(subgraph_data.shape[0], dtype=torch.bool)\n",
    "        mask[new_index] = False\n",
    "\n",
    "        return Data(x=subgraph_data, edge_index=edge_index, y=self.graph.x[idx].view(1, 550), mask=mask, celltype=self.celltypes[idx])"
   ],
   "metadata": {
    "collapsed": false,
    "ExecuteTime": {
     "end_time": "2023-07-28T17:09:06.493569Z",
     "start_time": "2023-07-28T17:09:06.476307Z"
    }
   }
  },
  {
   "cell_type": "code",
   "execution_count": 56,
   "metadata": {
    "tags": [],
    "ExecuteTime": {
     "end_time": "2023-07-28T17:09:12.883308Z",
     "start_time": "2023-07-28T17:09:12.835324Z"
    }
   },
   "outputs": [
    {
     "data": {
      "text/plain": "1015221640100570419     MY GABA\n1015221640100590598     MY GABA\n1015221640100820600     MY GABA\n1015221640100580476     MY GABA\n1015221640100580189     MY GABA\n                         ...   \n1015221640200380165    Vascular\n1015221640100580428    Vascular\n1015221640100670290    Vascular\n1015221640200280189    Vascular\n1015221640101020209    Vascular\nName: class_label, Length: 26230, dtype: category\nCategories (15, object): ['Astro-Epen', 'CB GABA', 'CB Glut', 'HY GABA', ..., 'Oligo', 'P GABA', 'P Glut', 'Vascular']"
     },
     "execution_count": 56,
     "metadata": {},
     "output_type": "execute_result"
    }
   ],
   "source": [
    "adata.obs.class_label"
   ]
  },
  {
   "cell_type": "code",
   "execution_count": 37,
   "metadata": {
    "collapsed": false,
    "jupyter": {
     "outputs_hidden": false
    },
    "tags": [],
    "ExecuteTime": {
     "end_time": "2023-07-28T16:13:32.144997Z",
     "start_time": "2023-07-28T16:13:30.805516Z"
    }
   },
   "outputs": [
    {
     "name": "stdout",
     "output_type": "stream",
     "text": [
      "mean node degree: 3.9\n"
     ]
    }
   ],
   "source": [
    "sq.gr.spatial_neighbors(adata=adata, radius=20, key_added=\"adjacency_matrix\", coord_type=\"generic\")\n",
    "edge_index, edge_weight = from_scipy_sparse_matrix(adata.obsp[\"adjacency_matrix_connectivities\"])\n",
    "x = torch.tensor(adata.X.toarray(), dtype=torch.double)\n",
    "data = Data(x=x, edge_index=edge_index)\n",
    "print(f\"mean node degree: {edge_index.shape[1]/len(adata):.1f}\")"
   ]
  },
  {
   "cell_type": "code",
   "execution_count": 38,
   "outputs": [],
   "source": [
    "#data.num_nodes"
   ],
   "metadata": {
    "collapsed": false,
    "ExecuteTime": {
     "end_time": "2023-07-28T16:13:32.151706Z",
     "start_time": "2023-07-28T16:13:32.144261Z"
    }
   }
  },
  {
   "cell_type": "code",
   "execution_count": 39,
   "outputs": [],
   "source": [
    "#transform = T.Compose([T.RootedEgoNets(1)])"
   ],
   "metadata": {
    "collapsed": false,
    "ExecuteTime": {
     "end_time": "2023-07-28T16:13:32.156577Z",
     "start_time": "2023-07-28T16:13:32.149596Z"
    }
   }
  },
  {
   "cell_type": "code",
   "execution_count": 57,
   "metadata": {
    "collapsed": false,
    "jupyter": {
     "outputs_hidden": false
    },
    "tags": [],
    "ExecuteTime": {
     "end_time": "2023-07-28T17:09:18.056792Z",
     "start_time": "2023-07-28T17:09:18.026626Z"
    }
   },
   "outputs": [],
   "source": [
    "\n",
    "#data.x.shape[0]\n",
    "dataset = CustomDataset(data=data, celltypes=adata.obs.class_label)\n",
    "loader = DataLoader(dataset, batch_size=32, shuffle=True)\n",
    "#data\n",
    "#edge_index\n"
   ]
  },
  {
   "cell_type": "code",
   "execution_count": 58,
   "outputs": [
    {
     "name": "stdout",
     "output_type": "stream",
     "text": [
      "DataBatch(x=[141, 550], edge_index=[2, 534], y=[32, 550], mask=[141], celltype=[32], batch=[141], ptr=[33])\n"
     ]
    }
   ],
   "source": [
    "from torch_geometric.utils import k_hop_subgraph\n",
    "\n",
    "for datasa in loader:\n",
    "    print(datasa)\n",
    "    break\n",
    "\n",
    "\n",
    "#k_hop_subgraph(node_idx=[14097], edge_index=data#.edge_index, num_hops=1)#, 1, data.x.shape[0], relabel_nodes=True)\n",
    "\n",
    "#RootedSubgraphDataBatch"
   ],
   "metadata": {
    "collapsed": false,
    "ExecuteTime": {
     "end_time": "2023-07-28T17:09:19.427264Z",
     "start_time": "2023-07-28T17:09:19.374855Z"
    }
   }
  },
  {
   "cell_type": "code",
   "execution_count": 21,
   "outputs": [],
   "source": [
    "#loader = DataLoader([data], batch_size=32, shuffle=True, transform=transform)"
   ],
   "metadata": {
    "collapsed": false,
    "ExecuteTime": {
     "end_time": "2023-07-28T11:20:51.996986Z",
     "start_time": "2023-07-28T11:20:51.918171Z"
    }
   }
  },
  {
   "cell_type": "code",
   "execution_count": 21,
   "metadata": {
    "collapsed": false,
    "jupyter": {
     "outputs_hidden": false
    },
    "tags": [],
    "ExecuteTime": {
     "end_time": "2023-07-28T11:20:51.997141Z",
     "start_time": "2023-07-28T11:20:51.931913Z"
    }
   },
   "outputs": [],
   "source": []
  },
  {
   "cell_type": "code",
   "execution_count": 7,
   "metadata": {
    "ExecuteTime": {
     "end_time": "2023-07-25T09:05:32.105376Z",
     "start_time": "2023-07-25T09:05:32.051276Z"
    },
    "collapsed": false,
    "jupyter": {
     "outputs_hidden": false
    },
    "tags": []
   },
   "outputs": [],
   "source": [
    "# we want to create small subgraph using each node as the center"
   ]
  },
  {
   "cell_type": "code",
   "execution_count": 44,
   "metadata": {
    "ExecuteTime": {
     "end_time": "2023-07-25T09:18:00.693056Z",
     "start_time": "2023-07-25T09:18:00.665083Z"
    },
    "collapsed": false,
    "jupyter": {
     "outputs_hidden": false
    }
   },
   "outputs": [],
   "source": [
    "#torch.tensor(list(subgraphs[0].edges)).t()"
   ]
  },
  {
   "cell_type": "code",
   "execution_count": 22,
   "metadata": {
    "collapsed": false,
    "jupyter": {
     "outputs_hidden": false
    },
    "tags": [],
    "ExecuteTime": {
     "end_time": "2023-07-28T11:20:56.020846Z",
     "start_time": "2023-07-28T11:20:55.940919Z"
    }
   },
   "outputs": [
    {
     "ename": "NameError",
     "evalue": "name 'subgraphs' is not defined",
     "output_type": "error",
     "traceback": [
      "\u001B[0;31m---------------------------------------------------------------------------\u001B[0m",
      "\u001B[0;31mNameError\u001B[0m                                 Traceback (most recent call last)",
      "Cell \u001B[0;32mIn[22], line 5\u001B[0m\n\u001B[1;32m      1\u001B[0m \u001B[38;5;66;03m# create pytorch geometric dataset from subgraphs\u001B[39;00m\n\u001B[1;32m      2\u001B[0m \u001B[38;5;66;03m#datasss = [Data(x=torch.tensor(graph.nodes(data=\"features\"), dtype=torch.double), edge_index=torch.tensor(list(graph.edges)).t()) for graph in tqdm(subgraphs)]\u001B[39;00m\n\u001B[1;32m      3\u001B[0m \n\u001B[1;32m      4\u001B[0m \u001B[38;5;66;03m#list(subgraphs[0].features)\u001B[39;00m\n\u001B[0;32m----> 5\u001B[0m daata \u001B[38;5;241m=\u001B[39m [from_networkx(graph, group_node_attrs\u001B[38;5;241m=\u001B[39m[\u001B[38;5;124m'\u001B[39m\u001B[38;5;124mfeatures\u001B[39m\u001B[38;5;124m'\u001B[39m]) \u001B[38;5;28;01mfor\u001B[39;00m graph \u001B[38;5;129;01min\u001B[39;00m tqdm(\u001B[43msubgraphs\u001B[49m)]\n\u001B[1;32m      6\u001B[0m loader \u001B[38;5;241m=\u001B[39m DataLoader(daata, batch_size\u001B[38;5;241m=\u001B[39m\u001B[38;5;241m32\u001B[39m, shuffle\u001B[38;5;241m=\u001B[39m\u001B[38;5;28;01mTrue\u001B[39;00m)\n\u001B[1;32m      7\u001B[0m \u001B[38;5;66;03m#for daat in daata:\u001B[39;00m\n\u001B[1;32m      8\u001B[0m \u001B[38;5;66;03m#loader = DataLoader([from_networkx(graph, group_node_attrs=['features'], dtype=torch.double) for graph in tqdm(subgraphs)], batch_size=32, shuffle=True)\u001B[39;00m\n\u001B[1;32m      9\u001B[0m \n\u001B[1;32m     10\u001B[0m \n\u001B[1;32m     11\u001B[0m \u001B[38;5;66;03m#loader = DataLoader([Data(x=x, edge_index=torch.tensor(list(subgraphs[0].edges)).t()) for graph in subgraphs], batch_size=32)\u001B[39;00m\n",
      "\u001B[0;31mNameError\u001B[0m: name 'subgraphs' is not defined"
     ]
    }
   ],
   "source": [
    "# create pytorch geometric dataset from subgraphs\n",
    "#datasss = [Data(x=torch.tensor(graph.nodes(data=\"features\"), dtype=torch.double), edge_index=torch.tensor(list(graph.edges)).t()) for graph in tqdm(subgraphs)]\n",
    "\n",
    "#list(subgraphs[0].features)\n",
    "#daata = [from_networkx(graph, group_node_attrs=['features']) for graph in tqdm(subgraphs)]\n",
    "#loader = DataLoader(daata, batch_size=32, shuffle=True)\n",
    "#for daat in daata:\n",
    "#loader = DataLoader([from_networkx(graph, group_node_attrs=['features'], dtype=torch.double) for graph in tqdm(subgraphs)], batch_size=32, shuffle=True)\n",
    "\n",
    "\n",
    "#loader = DataLoader([Data(x=x, edge_index=torch.tensor(list(subgraphs[0].edges)).t()) for graph in subgraphs], batch_size=32)"
   ]
  },
  {
   "cell_type": "code",
   "execution_count": 15,
   "outputs": [
    {
     "data": {
      "text/plain": "tensor([[     0,      1,      2,  ..., 129171, 129171, 129171],\n        [     1,      0,      3,  ..., 129168, 129169, 129170]])"
     },
     "execution_count": 15,
     "metadata": {},
     "output_type": "execute_result"
    }
   ],
   "source": [
    "loader.dataset[0].sub_edge_index"
   ],
   "metadata": {
    "collapsed": false,
    "ExecuteTime": {
     "end_time": "2023-07-27T18:02:13.270967Z",
     "start_time": "2023-07-27T18:01:50.899867Z"
    }
   }
  },
  {
   "cell_type": "code",
   "execution_count": 59,
   "metadata": {
    "tags": [],
    "ExecuteTime": {
     "end_time": "2023-07-28T17:09:24.726629Z",
     "start_time": "2023-07-28T17:09:24.695703Z"
    }
   },
   "outputs": [],
   "source": [
    "from torch.utils.data import random_split\n",
    "\n",
    "# Split the data into training, validation, and test sets\n",
    "train_size = int(0.8 * len(loader.dataset))  # 80% of the data for training\n",
    "val_size = int(0.1 * len(loader.dataset))  # 10% of the data for validation\n",
    "test_size = len(loader.dataset) - train_size - val_size  # The rest for testing\n",
    "\n",
    "train_data, val_data, test_data = random_split(loader.dataset, [train_size, val_size, test_size])\n",
    "\n",
    "# Create data loaders for each set\n",
    "train_loader = DataLoader(train_data, batch_size=32, shuffle=True)\n",
    "val_loader = DataLoader(val_data, batch_size=32, shuffle=False)\n",
    "test_loader = DataLoader(test_data, batch_size=32, shuffle=False)\n"
   ]
  },
  {
   "cell_type": "code",
   "execution_count": 60,
   "metadata": {
    "collapsed": false,
    "jupyter": {
     "outputs_hidden": false
    },
    "tags": [],
    "ExecuteTime": {
     "end_time": "2023-07-28T17:09:26.872614Z",
     "start_time": "2023-07-28T17:09:26.836711Z"
    }
   },
   "outputs": [
    {
     "name": "stdout",
     "output_type": "stream",
     "text": [
      "DataBatch(x=[156, 550], edge_index=[2, 654], y=[32, 550], mask=[156], celltype=[32], batch=[156], ptr=[33])\n"
     ]
    }
   ],
   "source": [
    "for data in loader:\n",
    "    print(data)\n",
    "    break\n"
   ]
  },
  {
   "cell_type": "code",
   "execution_count": 126,
   "metadata": {
    "collapsed": false,
    "jupyter": {
     "outputs_hidden": false
    },
    "tags": [],
    "ExecuteTime": {
     "end_time": "2023-07-28T09:20:15.625421Z",
     "start_time": "2023-07-28T09:20:15.612755Z"
    }
   },
   "outputs": [],
   "source": [
    "import torch\n",
    "from torch_geometric.nn import GCN, summary\n",
    "\n",
    "#model = GCN(-1, 64, num_layers=2, out_channels=550)\n",
    "#x = torch.randn(100, 128)\n",
    "#edge_index = torch.randint(100, size=(2, 20))\n",
    "\n",
    "#print(summary(model, data.x, data.edge_index))"
   ]
  },
  {
   "cell_type": "code",
   "execution_count": 19,
   "metadata": {
    "collapsed": false,
    "jupyter": {
     "outputs_hidden": false
    },
    "tags": [],
    "ExecuteTime": {
     "end_time": "2023-07-28T12:19:47.526555Z",
     "start_time": "2023-07-28T12:19:47.516089Z"
    }
   },
   "outputs": [],
   "source": [
    "\n",
    "from torch import nn, optim, Tensor\n",
    "from torch_geometric.nn import conv\n",
    "\n",
    "\n",
    "\n",
    "class GCN(torch.nn.Module):\n",
    "    def __init__(self, in_channels, hidden_channels, out_channels):\n",
    "        super().__init__()\n",
    "        self.conv1 = GCNConv(in_channels, hidden_channels)\n",
    "        #self.conv2 = GCNConv(hidden_channels, out_channels)\n",
    "        self.linear = nn.Linear(hidden_channels, out_channels)\n",
    "\n",
    "\n",
    "    def forward(self, x: Tensor, edge_index: Tensor) -> Tensor:\n",
    "        # x: Node feature matrix of shape [num_nodes, in_channels]\n",
    "        # edge_index: Graph connectivity matrix of shape [2, num_edges]\n",
    "        x = self.conv1(x, edge_index).relu()\n",
    "        #print(x.shape)\n",
    "        #x = self.conv2(x, edge_index).relu()\n",
    "        #print(x.shape)\n",
    "        x = self.linear(x)\n",
    "        #print(x.shape)\n",
    "        return x"
   ]
  },
  {
   "cell_type": "code",
   "execution_count": 61,
   "metadata": {
    "tags": [],
    "ExecuteTime": {
     "end_time": "2023-07-28T17:09:46.351355Z",
     "start_time": "2023-07-28T17:09:35.018848Z"
    }
   },
   "outputs": [
    {
     "name": "stdout",
     "output_type": "stream",
     "text": [
      "Epoch 1/50, train loss: 0.9053, train r2: -0.5520,  val loss: 0.7852, val r2: -0.3236\n",
      "Epoch 2/50, train loss: 0.7451, train r2: -0.2608,  val loss: 0.6681, val r2: -0.0966\n",
      "Epoch 3/50, train loss: 0.6853, train r2: -0.1211,  val loss: 0.6650, val r2: -0.1016\n",
      "Epoch 4/50, train loss: 0.6516, train r2: -0.0379,  val loss: 0.6384, val r2: -0.0770\n",
      "Epoch 5/50, train loss: 0.6273, train r2: 0.0233,  val loss: 0.6358, val r2: -0.0712\n",
      "Epoch 6/50, train loss: 0.6088, train r2: 0.0484,  val loss: 0.6164, val r2: -0.0490\n",
      "Epoch 7/50, train loss: 0.5696, train r2: 0.1010,  val loss: 0.6003, val r2: -0.0206\n",
      "Epoch 8/50, train loss: 0.5519, train r2: 0.1251,  val loss: 0.6102, val r2: -0.0628\n",
      "Epoch 9/50, train loss: 0.5387, train r2: 0.1410,  val loss: 0.5647, val r2: -0.0041\n",
      "Epoch 10/50, train loss: 0.5207, train r2: 0.1781,  val loss: 0.5255, val r2: 0.0475\n",
      "Epoch 11/50, train loss: 0.4703, train r2: 0.2349,  val loss: 0.5758, val r2: -0.0074\n",
      "Epoch 12/50, train loss: 0.4677, train r2: 0.2445,  val loss: 0.5039, val r2: 0.0753\n",
      "Epoch 13/50, train loss: 0.4397, train r2: 0.2797,  val loss: 0.4790, val r2: 0.1002\n",
      "Epoch 14/50, train loss: 0.4268, train r2: 0.2990,  val loss: 0.4771, val r2: 0.1064\n",
      "Epoch 15/50, train loss: 0.4169, train r2: 0.3142,  val loss: 0.4407, val r2: 0.1460\n",
      "Epoch 16/50, train loss: 0.4035, train r2: 0.3254,  val loss: 0.4343, val r2: 0.1599\n",
      "Epoch 17/50, train loss: 0.4112, train r2: 0.3214,  val loss: 0.4424, val r2: 0.1661\n",
      "Epoch 18/50, train loss: 0.3896, train r2: 0.3417,  val loss: 0.4053, val r2: 0.1918\n",
      "Epoch 19/50, train loss: 0.3716, train r2: 0.3668,  val loss: 0.3639, val r2: 0.2486\n",
      "Epoch 20/50, train loss: 0.3595, train r2: 0.3862,  val loss: 0.3634, val r2: 0.2447\n",
      "Epoch 21/50, train loss: 0.3551, train r2: 0.4028,  val loss: 0.3586, val r2: 0.2507\n",
      "Epoch 22/50, train loss: 0.3509, train r2: 0.4127,  val loss: 0.3548, val r2: 0.2648\n",
      "Epoch 23/50, train loss: 0.3374, train r2: 0.4246,  val loss: 0.3290, val r2: 0.2935\n",
      "Epoch 24/50, train loss: 0.3347, train r2: 0.4305,  val loss: 0.3045, val r2: 0.3209\n",
      "Epoch 25/50, train loss: 0.3335, train r2: 0.4379,  val loss: 0.3064, val r2: 0.3328\n",
      "Epoch 26/50, train loss: 0.3166, train r2: 0.4629,  val loss: 0.2897, val r2: 0.3597\n",
      "Epoch 27/50, train loss: 0.3247, train r2: 0.4565,  val loss: 0.2788, val r2: 0.3755\n",
      "Epoch 28/50, train loss: 0.3184, train r2: 0.4667,  val loss: 0.2548, val r2: 0.3893\n",
      "Epoch 29/50, train loss: 0.3153, train r2: 0.4704,  val loss: 0.2509, val r2: 0.3967\n",
      "Epoch 30/50, train loss: 0.3049, train r2: 0.4834,  val loss: 0.2271, val r2: 0.4267\n",
      "Epoch 31/50, train loss: 0.3000, train r2: 0.4936,  val loss: 0.2256, val r2: 0.4265\n",
      "Epoch 32/50, train loss: 0.2958, train r2: 0.4973,  val loss: 0.2163, val r2: 0.4327\n",
      "Epoch 33/50, train loss: 0.2888, train r2: 0.5060,  val loss: 0.2082, val r2: 0.4349\n",
      "Epoch 34/50, train loss: 0.2858, train r2: 0.5168,  val loss: 0.2029, val r2: 0.4615\n",
      "Epoch 35/50, train loss: 0.2802, train r2: 0.5244,  val loss: 0.1823, val r2: 0.4849\n",
      "Epoch 36/50, train loss: 0.2735, train r2: 0.5337,  val loss: 0.1868, val r2: 0.4778\n",
      "Epoch 37/50, train loss: 0.2719, train r2: 0.5414,  val loss: 0.1675, val r2: 0.4980\n",
      "Epoch 38/50, train loss: 0.2685, train r2: 0.5479,  val loss: 0.1629, val r2: 0.4969\n",
      "Epoch 39/50, train loss: 0.2655, train r2: 0.5495,  val loss: 0.1641, val r2: 0.4992\n",
      "Epoch 40/50, train loss: 0.2648, train r2: 0.5531,  val loss: 0.1545, val r2: 0.5038\n",
      "Epoch 41/50, train loss: 0.2663, train r2: 0.5571,  val loss: 0.1552, val r2: 0.4966\n",
      "Epoch 42/50, train loss: 0.2706, train r2: 0.5538,  val loss: 0.1523, val r2: 0.5051\n",
      "Epoch 43/50, train loss: 0.2956, train r2: 0.5355,  val loss: 0.2096, val r2: 0.4679\n",
      "Epoch 44/50, train loss: 0.2800, train r2: 0.5256,  val loss: 0.2433, val r2: 0.4231\n",
      "Epoch 45/50, train loss: 0.2752, train r2: 0.5358,  val loss: 0.1672, val r2: 0.4927\n",
      "Epoch 46/50, train loss: 0.2572, train r2: 0.5590,  val loss: 0.1561, val r2: 0.4997\n",
      "Early stopping! Epoch: 46, Best Epoch: 41, Train Loss: 0.2505, Val Loss: 0.1604\n"
     ]
    }
   ],
   "source": [
    "import random\n",
    "# Set device for training, macbook\n",
    "device = torch.device('cuda' if torch.cuda.is_available() else 'cpu')\n",
    "\n",
    "# Create an instance of the model and move it to the device\n",
    "\n",
    "output_dim = 550\n",
    "\n",
    "# Create the model\n",
    "model = GCN(-1, 550, output_dim).to(device)\n",
    "\n",
    "#GCNClassifier(hidden_dim=100, hidden_dim1=100, output_dim=550).to(device)\n",
    "\n",
    "# Define loss function and optimizer\n",
    "criterion = nn.MSELoss()\n",
    "optimizer = optim.Adam(model.parameters(), lr=0.002)\n",
    "\n",
    "# Training loop\n",
    "num_epochs = 50\n",
    "\n",
    "# store losses\n",
    "train_losses = []\n",
    "val_losses = []\n",
    "\n",
    "# store r2 scores\n",
    "train_r2_scores = []\n",
    "val_r2_scores = []\n",
    "\n",
    "best_val_loss = float('inf') # Set initial best validation loss to infinity\n",
    "patience = 5                # Number of epochs to wait for improvement in validation loss\n",
    "epochs_no_improve = 0        # Number of epochs with no improvement in validation loss\n",
    "best_epoch = 0               # Epoch at which we get the best validation loss\n",
    "\n",
    "# epoch training times\n",
    "epoch_times = []\n",
    "#start_time = time.time()\n",
    "\n",
    "for epoch in range(num_epochs):\n",
    "    \n",
    "    # Training phase\n",
    "    model.train()\n",
    "    total_train_loss = 0\n",
    "    train_targets_list = []\n",
    "    train_outputs_list = []\n",
    "    model.train()  # Set the model to training mode\n",
    "    total_loss = 0\n",
    "    targets_list = []\n",
    "    outputs_list = []\n",
    "\n",
    "    for data in loader:\n",
    "        data = data.to(device)\n",
    "        #num_nodes = data.x.shape[0]\n",
    "        #num_nodes_to_mask = int(0.2 * num_nodes)\n",
    "        #nodes_to_mask = random.sample(range(num_nodes), num_nodes_to_mask)\n",
    "        #mask = torch.zeros(num_nodes, dtype=torch.bool)\n",
    "        #mask[nodes_to_mask] = True\n",
    "        #masked_node_features = data.x.float() * mask.unsqueeze(-1).float().to(device)\n",
    "        #outputs = model(masked_node_features, data.edge_index.long())\n",
    "        #loss = criterion(outputs, data.y.float())\n",
    "\n",
    "\n",
    "\n",
    "        outputs = model(data.x.float(), data.edge_index.long())\n",
    "        loss = criterion(outputs[~data.mask], data.y.float())\n",
    "\n",
    "        # Backward and optimize\n",
    "        optimizer.zero_grad()\n",
    "        loss.backward()\n",
    "        optimizer.step()\n",
    "\n",
    "        # Measure train loss and r2 score\n",
    "        total_loss += loss.item() * data.num_graphs\n",
    "        targets_list.append(data.y.float())\n",
    "        outputs_list.append(outputs[~data.mask])\n",
    "\n",
    "    #measure and print r2 and train loss\n",
    "    train_loss = total_loss / len(loader.dataset)\n",
    "    train_losses.append(train_loss)\n",
    "    train_r2 = r2_score(torch.cat(targets_list).cpu().detach().numpy(), torch.cat(outputs_list).cpu().detach().numpy())\n",
    "    train_r2_scores.append(train_r2)\n",
    "\n",
    "        # Validation phase\n",
    "    model.eval()  # Set the model to evaluation mode\n",
    "    total_val_loss = 0\n",
    "    val_targets_list = []\n",
    "    val_outputs_list = []\n",
    "\n",
    "    for data in val_loader:\n",
    "        data = data.to(device)\n",
    "\n",
    "        with torch.no_grad():\n",
    "            outputs = model(data.x.float(), data.edge_index.long())\n",
    "            loss = criterion(outputs[~data.mask], data.y.float())\n",
    "\n",
    "        total_val_loss += loss.item() * data.num_graphs\n",
    "        val_targets_list.append(data.y.float())\n",
    "        val_outputs_list.append(outputs[~data.mask])\n",
    "\n",
    "    # Measure and print validation loss and R2\n",
    "    val_loss = total_val_loss / len(val_loader.dataset)\n",
    "    val_losses.append(val_loss)\n",
    "    val_r2 = r2_score(torch.cat(val_targets_list).cpu().detach().numpy(), torch.cat(val_outputs_list).cpu().detach().numpy())\n",
    "    val_r2_scores.append(val_r2)\n",
    "\n",
    "\n",
    "    # Early stopping and saving best parameters\n",
    "    if val_loss < best_val_loss:\n",
    "        best_val_loss = val_loss\n",
    "        best_epoch = epoch\n",
    "        epochs_no_improve = 0\n",
    "        torch.save(model.state_dict(), '../models/best_model.pt')\n",
    "    else:\n",
    "        epochs_no_improve += 1\n",
    "        # Check early stopping condition\n",
    "        if epochs_no_improve == patience:\n",
    "            print(f'Early stopping! Epoch: {epoch}, Best Epoch: {best_epoch}, Train Loss: {train_loss:.4f}, Val Loss: {val_loss:.4f}')\n",
    "            break\n",
    "\n",
    "    print(f\"Epoch {epoch+1}/{num_epochs}, train loss: {train_loss:.4f}, train r2: {train_r2:.4f},  val loss: {val_loss:.4f}, val r2: {val_r2:.4f}\")"
   ]
  },
  {
   "cell_type": "code",
   "execution_count": 54,
   "metadata": {
    "collapsed": false,
    "jupyter": {
     "outputs_hidden": false
    },
    "tags": [],
    "ExecuteTime": {
     "end_time": "2023-07-28T17:08:50.066057Z",
     "start_time": "2023-07-28T17:08:49.836731Z"
    }
   },
   "outputs": [
    {
     "name": "stdout",
     "output_type": "stream",
     "text": [
      "DataBatch(x=[138, 550], edge_index=[2, 486], y=[32, 550], mask=[138], batch=[138], ptr=[33])\n"
     ]
    },
    {
     "ename": "AttributeError",
     "evalue": "'GlobalStorage' object has no attribute 'celltype'",
     "output_type": "error",
     "traceback": [
      "\u001B[0;31m---------------------------------------------------------------------------\u001B[0m",
      "\u001B[0;31mKeyError\u001B[0m                                  Traceback (most recent call last)",
      "File \u001B[0;32m~/opt/miniconda3/envs/spatial_atlas_ssl_env/lib/python3.8/site-packages/torch_geometric/data/storage.py:78\u001B[0m, in \u001B[0;36mBaseStorage.__getattr__\u001B[0;34m(self, key)\u001B[0m\n\u001B[1;32m     77\u001B[0m \u001B[38;5;28;01mtry\u001B[39;00m:\n\u001B[0;32m---> 78\u001B[0m     \u001B[38;5;28;01mreturn\u001B[39;00m \u001B[38;5;28;43mself\u001B[39;49m\u001B[43m[\u001B[49m\u001B[43mkey\u001B[49m\u001B[43m]\u001B[49m\n\u001B[1;32m     79\u001B[0m \u001B[38;5;28;01mexcept\u001B[39;00m \u001B[38;5;167;01mKeyError\u001B[39;00m:\n",
      "File \u001B[0;32m~/opt/miniconda3/envs/spatial_atlas_ssl_env/lib/python3.8/site-packages/torch_geometric/data/storage.py:103\u001B[0m, in \u001B[0;36mBaseStorage.__getitem__\u001B[0;34m(self, key)\u001B[0m\n\u001B[1;32m    102\u001B[0m \u001B[38;5;28;01mdef\u001B[39;00m \u001B[38;5;21m__getitem__\u001B[39m(\u001B[38;5;28mself\u001B[39m, key: \u001B[38;5;28mstr\u001B[39m) \u001B[38;5;241m-\u001B[39m\u001B[38;5;241m>\u001B[39m Any:\n\u001B[0;32m--> 103\u001B[0m     \u001B[38;5;28;01mreturn\u001B[39;00m \u001B[38;5;28;43mself\u001B[39;49m\u001B[38;5;241;43m.\u001B[39;49m\u001B[43m_mapping\u001B[49m\u001B[43m[\u001B[49m\u001B[43mkey\u001B[49m\u001B[43m]\u001B[49m\n",
      "\u001B[0;31mKeyError\u001B[0m: 'celltype'",
      "\nDuring handling of the above exception, another exception occurred:\n",
      "\u001B[0;31mAttributeError\u001B[0m                            Traceback (most recent call last)",
      "Cell \u001B[0;32mIn[54], line 17\u001B[0m\n\u001B[1;32m     15\u001B[0m     loss \u001B[38;5;241m=\u001B[39m criterion(outputs[\u001B[38;5;241m~\u001B[39mdata\u001B[38;5;241m.\u001B[39mmask], data\u001B[38;5;241m.\u001B[39my\u001B[38;5;241m.\u001B[39mfloat())\n\u001B[1;32m     16\u001B[0m total_test_loss \u001B[38;5;241m+\u001B[39m\u001B[38;5;241m=\u001B[39m loss\u001B[38;5;241m.\u001B[39mitem() \u001B[38;5;241m*\u001B[39m data\u001B[38;5;241m.\u001B[39mnum_graphs\n\u001B[0;32m---> 17\u001B[0m test_celltypes_list\u001B[38;5;241m.\u001B[39mappend(\u001B[43mdata\u001B[49m\u001B[38;5;241;43m.\u001B[39;49m\u001B[43mcelltype\u001B[49m)\n\u001B[1;32m     18\u001B[0m test_targets_list\u001B[38;5;241m.\u001B[39mappend(data\u001B[38;5;241m.\u001B[39my\u001B[38;5;241m.\u001B[39mfloat())\n\u001B[1;32m     19\u001B[0m test_outputs_list\u001B[38;5;241m.\u001B[39mappend(outputs[\u001B[38;5;241m~\u001B[39mdata\u001B[38;5;241m.\u001B[39mmask])\n",
      "File \u001B[0;32m~/opt/miniconda3/envs/spatial_atlas_ssl_env/lib/python3.8/site-packages/torch_geometric/data/data.py:441\u001B[0m, in \u001B[0;36mData.__getattr__\u001B[0;34m(self, key)\u001B[0m\n\u001B[1;32m    435\u001B[0m \u001B[38;5;28;01mif\u001B[39;00m \u001B[38;5;124m'\u001B[39m\u001B[38;5;124m_store\u001B[39m\u001B[38;5;124m'\u001B[39m \u001B[38;5;129;01mnot\u001B[39;00m \u001B[38;5;129;01min\u001B[39;00m \u001B[38;5;28mself\u001B[39m\u001B[38;5;241m.\u001B[39m\u001B[38;5;18m__dict__\u001B[39m:\n\u001B[1;32m    436\u001B[0m     \u001B[38;5;28;01mraise\u001B[39;00m \u001B[38;5;167;01mRuntimeError\u001B[39;00m(\n\u001B[1;32m    437\u001B[0m         \u001B[38;5;124m\"\u001B[39m\u001B[38;5;124mThe \u001B[39m\u001B[38;5;124m'\u001B[39m\u001B[38;5;124mdata\u001B[39m\u001B[38;5;124m'\u001B[39m\u001B[38;5;124m object was created by an older version of PyG. \u001B[39m\u001B[38;5;124m\"\u001B[39m\n\u001B[1;32m    438\u001B[0m         \u001B[38;5;124m\"\u001B[39m\u001B[38;5;124mIf this error occurred while loading an already existing \u001B[39m\u001B[38;5;124m\"\u001B[39m\n\u001B[1;32m    439\u001B[0m         \u001B[38;5;124m\"\u001B[39m\u001B[38;5;124mdataset, remove the \u001B[39m\u001B[38;5;124m'\u001B[39m\u001B[38;5;124mprocessed/\u001B[39m\u001B[38;5;124m'\u001B[39m\u001B[38;5;124m directory in the dataset\u001B[39m\u001B[38;5;124m'\u001B[39m\u001B[38;5;124ms \u001B[39m\u001B[38;5;124m\"\u001B[39m\n\u001B[1;32m    440\u001B[0m         \u001B[38;5;124m\"\u001B[39m\u001B[38;5;124mroot folder and try again.\u001B[39m\u001B[38;5;124m\"\u001B[39m)\n\u001B[0;32m--> 441\u001B[0m \u001B[38;5;28;01mreturn\u001B[39;00m \u001B[38;5;28;43mgetattr\u001B[39;49m\u001B[43m(\u001B[49m\u001B[38;5;28;43mself\u001B[39;49m\u001B[38;5;241;43m.\u001B[39;49m\u001B[43m_store\u001B[49m\u001B[43m,\u001B[49m\u001B[43m \u001B[49m\u001B[43mkey\u001B[49m\u001B[43m)\u001B[49m\n",
      "File \u001B[0;32m~/opt/miniconda3/envs/spatial_atlas_ssl_env/lib/python3.8/site-packages/torch_geometric/data/storage.py:80\u001B[0m, in \u001B[0;36mBaseStorage.__getattr__\u001B[0;34m(self, key)\u001B[0m\n\u001B[1;32m     78\u001B[0m     \u001B[38;5;28;01mreturn\u001B[39;00m \u001B[38;5;28mself\u001B[39m[key]\n\u001B[1;32m     79\u001B[0m \u001B[38;5;28;01mexcept\u001B[39;00m \u001B[38;5;167;01mKeyError\u001B[39;00m:\n\u001B[0;32m---> 80\u001B[0m     \u001B[38;5;28;01mraise\u001B[39;00m \u001B[38;5;167;01mAttributeError\u001B[39;00m(\n\u001B[1;32m     81\u001B[0m         \u001B[38;5;124mf\u001B[39m\u001B[38;5;124m\"\u001B[39m\u001B[38;5;124m'\u001B[39m\u001B[38;5;132;01m{\u001B[39;00m\u001B[38;5;28mself\u001B[39m\u001B[38;5;241m.\u001B[39m\u001B[38;5;18m__class__\u001B[39m\u001B[38;5;241m.\u001B[39m\u001B[38;5;18m__name__\u001B[39m\u001B[38;5;132;01m}\u001B[39;00m\u001B[38;5;124m'\u001B[39m\u001B[38;5;124m object has no attribute \u001B[39m\u001B[38;5;124m'\u001B[39m\u001B[38;5;132;01m{\u001B[39;00mkey\u001B[38;5;132;01m}\u001B[39;00m\u001B[38;5;124m'\u001B[39m\u001B[38;5;124m\"\u001B[39m)\n",
      "\u001B[0;31mAttributeError\u001B[0m: 'GlobalStorage' object has no attribute 'celltype'"
     ]
    }
   ],
   "source": [
    "# Testing phase\n",
    "model.eval()\n",
    "total_test_loss = 0\n",
    "test_targets_list = []\n",
    "test_outputs_list = []\n",
    "test_celltypes_list = []\n",
    "\n",
    "per_celltype = {}\n",
    "\n",
    "for data in test_loader:\n",
    "    data = data.to(device)\n",
    "    print(data)\n",
    "    with torch.no_grad():\n",
    "        outputs = model(data.x.float(), data.edge_index.long())\n",
    "        loss = criterion(outputs[~data.mask], data.y.float())\n",
    "    total_test_loss += loss.item() * data.num_graphs\n",
    "    test_celltypes_list.append(data.celltype)\n",
    "    test_targets_list.append(data.y.float())\n",
    "    test_outputs_list.append(outputs[~data.mask])\n",
    "\n",
    "# Measure and print test loss and R2\n",
    "test_loss = total_test_loss / len(test_loader.dataset)\n",
    "test_r2 = r2_score(torch.cat(test_targets_list).cpu().detach().numpy(), torch.cat(test_outputs_list).cpu().detach().numpy())\n",
    "print(f\"Test loss: {test_loss:.4f}, test r2: {test_r2:.4f}\")"
   ]
  },
  {
   "cell_type": "code",
   "execution_count": 48,
   "metadata": {
    "collapsed": false,
    "jupyter": {
     "outputs_hidden": false
    },
    "ExecuteTime": {
     "end_time": "2023-07-28T16:39:56.301794Z",
     "start_time": "2023-07-28T16:39:55.894458Z"
    }
   },
   "outputs": [
    {
     "data": {
      "text/plain": "<Figure size 1000x500 with 1 Axes>",
      "image/png": "[encoded data removed]"
     },
     "metadata": {},
     "output_type": "display_data"
    }
   ],
   "source": [
    "# plot train and validation loss using seaborn, mark best epoch with veritcal line\n",
    "import seaborn as sns\n",
    "import matplotlib.pyplot as plt\n",
    "sns.set_theme(style=\"darkgrid\")\n",
    "plt.figure(figsize=(10, 5))\n",
    "plt.plot(train_losses, label=\"Train Loss\")\n",
    "plt.plot(val_losses, label=\"Validation Loss\")\n",
    "plt.axvline(best_epoch, color=\"red\", label=f\"Best Epoch: {best_epoch}\")\n",
    "plt.xlabel(\"Epoch\")\n",
    "plt.ylabel(\"Loss\")\n",
    "plt.legend()\n",
    "plt.show()"
   ]
  },
  {
   "cell_type": "code",
   "execution_count": 49,
   "metadata": {
    "collapsed": false,
    "jupyter": {
     "outputs_hidden": false
    },
    "ExecuteTime": {
     "end_time": "2023-07-28T16:40:01.394397Z",
     "start_time": "2023-07-28T16:40:01.327854Z"
    }
   },
   "outputs": [
    {
     "name": "stdout",
     "output_type": "stream",
     "text": [
      "DataBatch(x=[167, 550], edge_index=[2, 636], y=[32, 550], mask=[167], batch=[167], ptr=[33])\n"
     ]
    }
   ],
   "source": [
    "for batch in train_loader:\n",
    "    print(batch)\n",
    "    break"
   ]
  },
  {
   "cell_type": "code",
   "execution_count": null,
   "outputs": [],
   "source": [
    "sns.scatter(, data.y)"
   ],
   "metadata": {
    "collapsed": false
   }
  }
 ],
 "metadata": {
  "kernelspec": {
   "name": "python3",
   "language": "python",
   "display_name": "Python 3 (ipykernel)"
  },
  "language_info": {
   "codemirror_mode": {
    "name": "ipython",
    "version": 3
   },
   "file_extension": ".py",
   "mimetype": "text/x-python",
   "name": "python",
   "nbconvert_exporter": "python",
   "pygments_lexer": "ipython3",
   "version": "3.11.4"
  }
 },
 "nbformat": 4,
 "nbformat_minor": 4
}
