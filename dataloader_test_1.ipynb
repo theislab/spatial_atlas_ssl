{
 "cells": [
  {
   "cell_type": "code",
   "execution_count": 1,
   "id": "3aaf2ecb-abbc-4cf7-9523-dcdce803c413",
   "metadata": {
    "tags": []
   },
   "outputs": [
    {
     "name": "stderr",
     "output_type": "stream",
     "text": [
      "/data/ouga/home/ag_gagneur/liaoc/.conda/envs/ml_genetic/lib/python3.11/site-packages/geopandas/_compat.py:124: UserWarning: The Shapely GEOS version (3.11.1-CAPI-1.17.1) is incompatible with the GEOS version PyGEOS was compiled with (3.10.4-CAPI-1.16.2). Conversions between both will be slow.\n",
      "  warnings.warn(\n",
      "/data/ouga/home/ag_gagneur/liaoc/.conda/envs/ml_genetic/lib/python3.11/site-packages/spatialdata/__init__.py:9: UserWarning: Geopandas was set to use PyGEOS, changing to shapely 2.0 with:\n",
      "\n",
      "\tgeopandas.options.use_pygeos = True\n",
      "\n",
      "If you intended to use PyGEOS, set the option to False.\n",
      "  _check_geopandas_using_shapely()\n"
     ]
    },
    {
     "ename": "ImportError",
     "evalue": "cannot import name 'split_dataloader' from 'spatialSSL.Utils' (/data/nasif12/home_if12/liaoc/spatial_atlas_ssl/spatialSSL/Utils.py)",
     "output_type": "error",
     "traceback": [
      "\u001b[0;31m---------------------------------------------------------------------------\u001b[0m",
      "\u001b[0;31mImportError\u001b[0m                               Traceback (most recent call last)",
      "Cell \u001b[0;32mIn[1], line 2\u001b[0m\n\u001b[1;32m      1\u001b[0m \u001b[38;5;28;01mfrom\u001b[39;00m \u001b[38;5;21;01mspatialSSL\u001b[39;00m\u001b[38;5;21;01m.\u001b[39;00m\u001b[38;5;21;01mDataloader\u001b[39;00m \u001b[38;5;28;01mimport\u001b[39;00m EgoNetDataloader, FullImageConstracter\n\u001b[0;32m----> 2\u001b[0m \u001b[38;5;28;01mfrom\u001b[39;00m \u001b[38;5;21;01mspatialSSL\u001b[39;00m\u001b[38;5;21;01m.\u001b[39;00m\u001b[38;5;21;01mUtils\u001b[39;00m \u001b[38;5;28;01mimport\u001b[39;00m split_dataloader\n",
      "\u001b[0;31mImportError\u001b[0m: cannot import name 'split_dataloader' from 'spatialSSL.Utils' (/data/nasif12/home_if12/liaoc/spatial_atlas_ssl/spatialSSL/Utils.py)"
     ]
    }
   ],
   "source": [
    "from spatialSSL.Dataloader import EgoNetDataloader, FullImageConstracter\n",
    "from spatialSSL.Utils import split_dataloader\n"
   ]
  },
  {
   "cell_type": "code",
   "execution_count": null,
   "id": "4f7ab155-ba58-47ab-a8dd-6772c239ce2c",
   "metadata": {
    "tags": []
   },
   "outputs": [],
   "source": [
    "# Create an instance of Ego_net_dataloader\n",
    "\n",
    "#file_path = \"../data/img_119670929.h5ad\"\n",
    "file_path = \"./data/img_119670929_1199650932.h5ad\"\n",
    "dataloader = EgoNetDataloader(file_path=file_path, image_col=\"section\", label_col=\"class_id_label\", include_label=False, radius=20,node_level = 1, batch_size=32)\n"
   ]
  },
  {
   "cell_type": "code",
   "execution_count": 5,
   "id": "4ca65a0f-8d4d-45c3-9c08-0d51c96c6b92",
   "metadata": {
    "tags": []
   },
   "outputs": [],
   "source": [
    "\n",
    "# Load the data\n",
    "adata = dataloader.load_data()"
   ]
  },
  {
   "cell_type": "code",
   "execution_count": 6,
   "id": "17108e94-2a43-4308-a659-7dcef9033bc5",
   "metadata": {
    "tags": []
   },
   "outputs": [
    {
     "data": {
      "application/vnd.jupyter.widget-view+json": {
       "model_id": "f16fa22a294a4de9b64aa6d0fed138ad",
       "version_major": 2,
       "version_minor": 0
      },
      "text/plain": [
       "Processing 2 Images:   0%|          | 0/2 [00:00<?, ?it/s]"
      ]
     },
     "metadata": {},
     "output_type": "display_data"
    }
   ],
   "source": [
    "# Construct the graph\n",
    "loader = dataloader.construct_graph()"
   ]
  },
  {
   "cell_type": "code",
   "execution_count": 13,
   "id": "eaa290c0-4376-435e-bb59-d9ddcc3e15ee",
   "metadata": {
    "tags": []
   },
   "outputs": [],
   "source": [
    "train_loader, test_loader, val_loader = split_dataloader(loader)"
   ]
  },
  {
   "cell_type": "code",
   "execution_count": 14,
   "id": "4c9f79d9-ca29-4933-a08c-60319a12ccc2",
   "metadata": {
    "tags": []
   },
   "outputs": [
    {
     "name": "stdout",
     "output_type": "stream",
     "text": [
      "Train size: 44424\n",
      "Validation size: 5553\n",
      "Test size: 5553\n"
     ]
    }
   ],
   "source": [
    "# Print out the size of each set to verify\n",
    "print(f\"Train size: {len(train_loader.dataset)}\")\n",
    "print(f\"Validation size: {len(val_loader.dataset)}\")\n",
    "print(f\"Test size: {len(test_loader.dataset)}\")"
   ]
  },
  {
   "cell_type": "code",
   "execution_count": 4,
   "id": "a1c811d1-f35a-4973-aa27-347d3ecaa590",
   "metadata": {
    "tags": []
   },
   "outputs": [],
   "source": [
    "# Create an instance of Full_image_dataloader\n",
    "\n",
    "file_path = \"./data/img_119670929.h5ad\"\n",
    "#file_path = \"./data/subset_6img_atlas_brain.h5ad\"\n",
    "data_constracter = FullImageConstracter(file_path=file_path, image_col=\"section\", label_col=\"class_id_label\", include_label=False, radius=20,node_level = 1, batch_size=32)\n",
    "\n"
   ]
  },
  {
   "cell_type": "code",
   "execution_count": 5,
   "id": "c2f2e201-b042-4295-b0c6-4c0e6c38ab3a",
   "metadata": {
    "tags": []
   },
   "outputs": [
    {
     "data": {
      "application/vnd.jupyter.widget-view+json": {
       "model_id": "cb5abc7fc8fb4d498d3320a7fd116a0c",
       "version_major": 2,
       "version_minor": 0
      },
      "text/plain": [
       "Constructing Graphs:   0%|          | 0/1 [00:00<?, ?it/s]"
      ]
     },
     "metadata": {},
     "output_type": "display_data"
    },
    {
     "name": "stdout",
     "output_type": "stream",
     "text": [
      "(26230, 550)\n"
     ]
    }
   ],
   "source": [
    "# Load the data\n",
    "data_constracter.load_data()\n",
    "\n",
    "# Construct the graph\n",
    "graph_list = data_constracter.construct_graph()"
   ]
  },
  {
   "cell_type": "code",
   "execution_count": 6,
   "id": "6bc9fb89-15b0-4848-9e25-c5951d620381",
   "metadata": {
    "tags": []
   },
   "outputs": [
    {
     "name": "stderr",
     "output_type": "stream",
     "text": [
      "C:\\Users\\lg\\anaconda3\\envs\\spatial_atlas_ssl\\lib\\site-packages\\torch\\utils\\data\\dataset.py:348: UserWarning: Length of split at index 1 is 0. This might result in an empty dataset.\n",
      "  warnings.warn(f\"Length of split at index {i} is 0. \"\n",
      "C:\\Users\\lg\\anaconda3\\envs\\spatial_atlas_ssl\\lib\\site-packages\\torch\\utils\\data\\dataset.py:348: UserWarning: Length of split at index 2 is 0. This might result in an empty dataset.\n",
      "  warnings.warn(f\"Length of split at index {i} is 0. \"\n"
     ]
    }
   ],
   "source": [
    "train_loader, test_loader, val_loader = split_dataloader(graph_list,split_percent=(0.6, 0.2, 0.2))"
   ]
  },
  {
   "cell_type": "code",
   "execution_count": 7,
   "id": "e4b68930-e672-4431-b644-260ba01cf96a",
   "metadata": {
    "tags": []
   },
   "outputs": [
    {
     "name": "stdout",
     "output_type": "stream",
     "text": [
      "Train size: 1\n",
      "Validation size: 0\n",
      "Test size: 0\n"
     ]
    }
   ],
   "source": [
    "# Print out the size of each set to verify\n",
    "print(f\"Train size: {len(train_loader.dataset)}\")\n",
    "print(f\"Validation size: {len(val_loader.dataset)}\")\n",
    "print(f\"Test size: {len(test_loader.dataset)}\")"
   ]
  },
  {
   "cell_type": "code",
   "execution_count": 12,
   "id": "0f993993-d4f3-4017-91bd-bc12236230f1",
   "metadata": {},
   "outputs": [
    {
     "name": "stdout",
     "output_type": "stream",
     "text": [
      "(1, 26230, 550)\n"
     ]
    }
   ],
   "source": [
    "import numpy as np\n",
    "for x in train_loader:\n",
    "    print(np.shape(x.x))\n",
    "    break\n"
   ]
  },
  {
   "cell_type": "code",
   "execution_count": null,
   "id": "c68f1e37-2720-4744-84d4-5ea09e311626",
   "metadata": {},
   "outputs": [],
   "source": []
  }
 ],
 "metadata": {
  "kernelspec": {
   "display_name": "Python 3 (ipykernel)",
   "language": "python",
   "name": "python3"
  },
  "language_info": {
   "codemirror_mode": {
    "name": "ipython",
    "version": 3
   },
   "file_extension": ".py",
   "mimetype": "text/x-python",
   "name": "python",
   "nbconvert_exporter": "python",
   "pygments_lexer": "ipython3",
   "version": "3.11.4"
  }
 },
 "nbformat": 4,
 "nbformat_minor": 5
}
